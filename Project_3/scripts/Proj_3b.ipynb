{
 "cells": [
  {
   "cell_type": "markdown",
   "metadata": {},
   "source": [
    "# COSC 522 project 3\n",
    "# Yangsong Gu\n",
    "### Oct 08, 2021"
   ]
  },
  {
   "cell_type": "code",
   "execution_count": 1,
   "metadata": {},
   "outputs": [],
   "source": [
    "import pandas as pd\n",
    "import numpy as np\n",
    "import matplotlib.pyplot as plt\n",
    "import time\n",
    "\n",
    "from sympy import lambdify\n",
    "from sympy import Symbol, symbols, simplify\n",
    "import sympy"
   ]
  },
  {
   "cell_type": "code",
   "execution_count": 2,
   "metadata": {},
   "outputs": [],
   "source": [
    "def load_data(f):\n",
    "    '''\n",
    "    read data, note that the last column is label. Note this function only separately load the data, not includes normailization\n",
    "    args:  f --> the path or website of data\n",
    "\n",
    "    return: X --> features\n",
    "            y --> label\n",
    "    '''\n",
    "    data = pd.read_csv(f, delim_whitespace = True, header = 0)\n",
    "\n",
    "    if 'pima' in f:\n",
    "        data = data.replace({'No': 1, 'Yes':0})\n",
    "    else:\n",
    "        data = data\n",
    "        \n",
    "    X = data.iloc[:,:-1]\n",
    "    y = data.iloc[:,-1].astype(int)\n",
    "\n",
    "\n",
    "    return X, y"
   ]
  },
  {
   "cell_type": "code",
   "execution_count": 3,
   "metadata": {},
   "outputs": [],
   "source": [
    "# read and relabel the class\n",
    "\n",
    "pi_tr_pth = 'http://www.stats.ox.ac.uk/pub/PRNN/pima.tr'\n",
    "pi_te_pth = 'http://www.stats.ox.ac.uk/pub/PRNN/pima.te'\n",
    "Xtrain_pi, ytrain_pi = load_data(pi_tr_pth)\n",
    "Xtest_pi, ytest_pi = load_data(pi_te_pth) \n"
   ]
  },
  {
   "cell_type": "code",
   "execution_count": 4,
   "metadata": {},
   "outputs": [
    {
     "name": "stdout",
     "output_type": "stream",
     "text": [
      "200 7\n",
      "Training sample size (200, 7), test sample size (332, 7)\n"
     ]
    }
   ],
   "source": [
    "# standardize the data to make the features comparable or with the same scale\n",
    "f_mean = Xtrain_pi.mean(axis = 0)\n",
    "f_std  = Xtrain_pi.std(axis = 0)\n",
    "Xtrain_pi = (Xtrain_pi - f_mean)/f_std\n",
    "# standard normalization for training set\n",
    "Xtest_pi= (Xtest_pi - f_mean)/f_std\n",
    "ntrain = Xtrain_pi.shape[0]; ntest = Xtest_pi.shape[0]\n",
    "nfe = Xtrain_pi.shape[1]\n",
    "print(ntrain, nfe)\n",
    "print(\"Training sample size {}, test sample size {}\".format(Xtrain_pi.shape, Xtest_pi.shape))\n",
    "nXtr = Xtrain_pi.to_numpy()\n",
    "nXte = Xtest_pi.to_numpy()"
   ]
  },
  {
   "cell_type": "code",
   "execution_count": 7,
   "metadata": {},
   "outputs": [],
   "source": [
    "def FLD(X, y):\n",
    "    \n",
    "    \"\"\"\n",
    "    input arg: X: feature data\n",
    "               y: label \n",
    "    return     fX: projection of FLD\n",
    "    \"\"\"\n",
    "    \n",
    "    # coerce nunpy array\n",
    "    if isinstance(X, np.ndarray):\n",
    "        pass\n",
    "    else: \n",
    "        X = X.to_numpy()\n",
    "    # create dictionaries for mean dn covariance of different classes\n",
    "    \n",
    "    nrows = X.shape[0]\n",
    "    nfte  = X.shape[1]\n",
    "    \n",
    "    mean = {}\n",
    "    cov  = {}\n",
    "    \n",
    "    cat = np.unique(y) # number of unique categories\n",
    "    Sw_mtx = np.zeros((nfte, nfte))\n",
    "    \n",
    "    for c in cat:\n",
    "        \n",
    "        arr = X[y==c]\n",
    "        mean[c] = arr.mean(axis = 0)\n",
    "        cov[c]  = np.cov(arr.T)\n",
    "#         print(np.cov(arr.T).shape)\n",
    "        Sw_mtx += (arr.shape[0] - 1) * cov[c]\n",
    "    \n",
    "    w = np.linalg.inv(Sw_mtx) @ (mean[0] - mean[1])\n",
    "    fX =(X @ w).reshape((nrows,1))\n",
    "    \n",
    "    return w, fX, Sw_mtx"
   ]
  },
  {
   "cell_type": "code",
   "execution_count": 8,
   "metadata": {},
   "outputs": [],
   "source": [
    "w, fXtr, Sw_mtx = FLD(nXtr, ytrain_pi)\n",
    "fXte = nXte @ w            # use the projector from training set to project test set"
   ]
  },
  {
   "cell_type": "code",
   "execution_count": 9,
   "metadata": {},
   "outputs": [],
   "source": [
    "def PCA(X, error, ncp):\n",
    "    \n",
    "    '''\n",
    "    pca:\n",
    "    input:  X     : standardized data\n",
    "            error : error rate\n",
    "            ncp   : number of component required to leave, e.g, num = 1, default is None\n",
    "    return: pX    : remaining compoenent \n",
    "            P     : project vector or matrix\n",
    "    '''\n",
    "     # coerce nunpy array\n",
    "    if isinstance(X, np.ndarray):\n",
    "        pass\n",
    "    else: \n",
    "        X = X.to_numpy()\n",
    "    \n",
    "    nfe = X.shape[1]  # number of features\n",
    "    \n",
    "    covX = np.cov(X.T)\n",
    "    \n",
    "    eigvalue, eigvector = np.linalg.eig(covX) # descending order\n",
    "#     idx = np.argsort(-eigvalue)   \n",
    "    idx = eigvalue.argsort()[::-1]   \n",
    "    \n",
    "    sorted_eigval = eigvalue[idx]\n",
    "    sorted_eigvet = eigvector[:, idx]\n",
    "    \n",
    "    if ncp is not None:\n",
    "        \n",
    "        maj_eigvalue = sorted_eigval[:ncp]\n",
    "        maj_eigvector = sorted_eigvet[:,:ncp]  \n",
    "        pX = X @ maj_eigvector\n",
    "        min_cp = ncp\n",
    "        err_rate = 1 - sorted_eigval[0]/(sum(sorted_eigval))\n",
    "        print(\"when keeping {} component, the error rate is {}, the eigenvalue is {}\".format(ncp, err_rate, maj_eigvalue))\n",
    "        \n",
    "    else:\n",
    "        err_rate = [1- (sorted_eigval[:x].sum()/(sorted_eigval.sum())) for x in range(1, nfe+1)]  # minimum cp is 1\n",
    "        # find the index that can satisfy the maximum error rate \n",
    "        min_cp = np.where(np.array(err_rate) <= error)[0][0] + 1  # plus 1 because the index 0 is keeping 1 component.\n",
    "#         print(np.where(np.array(err_rate) <= error)[0][0])\n",
    "        print(\"# of components remain: \", min_cp,\"to keep at-most {:.2%}, the eigenvalue is {}\".format(error, sorted_eigval[:min_cp]))\n",
    "        \n",
    "        maj_eigvector = sorted_eigvet[:,:min_cp]\n",
    "        pX = X @ maj_eigvector\n",
    "\n",
    "    return pX, min_cp, maj_eigvector\n",
    "    "
   ]
  },
  {
   "cell_type": "code",
   "execution_count": 10,
   "metadata": {},
   "outputs": [
    {
     "name": "stdout",
     "output_type": "stream",
     "text": [
      "when keeping 1 component, the error rate is 0.6558198327549878, the eigenvalue is [2.40926117]\n"
     ]
    },
    {
     "data": {
      "text/plain": [
       "array([[-0.36549332],\n",
       "       [-0.36600186],\n",
       "       [-0.41257275],\n",
       "       [-0.43153727],\n",
       "       [-0.39121306],\n",
       "       [-0.02913468],\n",
       "       [-0.47129619]])"
      ]
     },
     "metadata": {},
     "output_type": "display_data"
    },
    {
     "name": "stdout",
     "output_type": "stream",
     "text": [
      "# of components remain:  5 to keep at-most 15.00%, the eigenvalue is [2.40926117 1.49644743 0.91186762 0.79997115 0.6901352 ]\n"
     ]
    }
   ],
   "source": [
    "pX1tr, num_cp, maj_vet = PCA(nXtr, None, 1)  # for one component, choose the largest eigenvalue\n",
    "pX1te = nXte @ maj_vet\n",
    "display(maj_vet)\n",
    "pXtr, num_cp_tr, maj_vet = PCA(nXtr, 0.15, None) # for at-most 15% error rate\n",
    "pXte = nXte @ maj_vet\n"
   ]
  },
  {
   "cell_type": "code",
   "execution_count": 11,
   "metadata": {},
   "outputs": [],
   "source": [
    "def histnX(fX, pX):\n",
    "    \n",
    "    '''\n",
    "    compare the histogram of compressed data\n",
    "    args  fX: output from FLD\n",
    "          pX: output from PCA\n",
    "    return fig , default 1 * 2 subplots\n",
    "    '''\n",
    "    \n",
    "    hist, axs = plt.subplots(1, 2,sharey=True)\n",
    "    \n",
    "#     bins = int(fX.shape[0]/30)\n",
    "    bins = 20\n",
    "    axs[0].hist(fX,bins = bins)\n",
    "    axs[0].set_xlabel('fX from FLD')\n",
    "    axs[0].axvline(x= 0, color = 'red', linestyle = ':')\n",
    "    axs[1].hist(pX, bins = bins)\n",
    "    axs[1].set_xlabel('pX1 from PCA')\n",
    "    axs[1].axvline(x=0, color = 'red', linestyle = ':')\n",
    "    \n",
    "#     plt.close(hist)\n",
    "    \n",
    "    return hist"
   ]
  },
  {
   "cell_type": "code",
   "execution_count": 12,
   "metadata": {},
   "outputs": [
    {
     "data": {
      "image/png": "[encoded data removed]",
      "text/plain": [
       "<Figure size 640x480 with 2 Axes>"
      ]
     },
     "execution_count": 12,
     "metadata": {},
     "output_type": "execute_result"
    }
   ],
   "source": [
    "%matplotlib qt\n",
    "hist = histnX(fXtr, pX1tr)\n",
    "hist"
   ]
  },
  {
   "cell_type": "markdown",
   "metadata": {},
   "source": [
    "### Case 3 on nX, fX, pX1, pX"
   ]
  },
  {
   "cell_type": "code",
   "execution_count": 13,
   "metadata": {},
   "outputs": [],
   "source": [
    "import sys\n",
    "sys.path.append(r'C:\\2021-2022-Fall-semester\\EECS522\\Project')"
   ]
  },
  {
   "cell_type": "code",
   "execution_count": 14,
   "metadata": {},
   "outputs": [],
   "source": [
    "from mlclass import mpp, knn, unsupervised_learning \n",
    "from mlclass import performance\n",
    "%load_ext autoreload\n",
    "%autoreload 2\n"
   ]
  },
  {
   "cell_type": "code",
   "execution_count": 15,
   "metadata": {},
   "outputs": [],
   "source": [
    "pw = [1/4, 3/4]   # prior probability"
   ]
  },
  {
   "cell_type": "code",
   "execution_count": 16,
   "metadata": {},
   "outputs": [
    {
     "name": "stdout",
     "output_type": "stream",
     "text": [
      "Case 3 on nX ...\n",
      "Overall accuracy: 76.81% \n",
      " Classwise accuracy of class 0: 54.13% \n",
      " Classwise accuracy of class 1: 87.89% \n",
      "\n",
      "run time: 0.0651 seconds\n"
     ]
    }
   ],
   "source": [
    "print('Case 3 on nX ...')\n",
    "MPP = mpp(nXtr, ytrain_pi, nXte, ytest_pi)\n",
    "ynx, tt = MPP.case3(pw)\n",
    "acc_overall, acc0, acc1 = MPP.model_evaluation(ynx)\n",
    "print('run time: {:.4f} seconds'.format(tt))"
   ]
  },
  {
   "cell_type": "code",
   "execution_count": 17,
   "metadata": {},
   "outputs": [
    {
     "name": "stdout",
     "output_type": "stream",
     "text": [
      "Case 3 on fX ...\n",
      "Overall accuracy: 80.42% \n",
      " Classwise accuracy of class 0: 54.13% \n",
      " Classwise accuracy of class 1: 93.27% \n",
      "\n",
      "run time: 0.0070 seconds\n"
     ]
    }
   ],
   "source": [
    "print('Case 3 on fX ...')\n",
    "MPP = mpp(fXtr, ytrain_pi, fXte, ytest_pi)\n",
    "yfx, tt = MPP.case3(pw)\n",
    "acc_overall, acc0, acc1 = MPP.model_evaluation(yfx)\n",
    "print('run time: {:.4f} seconds'.format(tt))"
   ]
  },
  {
   "cell_type": "code",
   "execution_count": 18,
   "metadata": {},
   "outputs": [
    {
     "name": "stdout",
     "output_type": "stream",
     "text": [
      "Case 3 on pX1 ...\n",
      "Overall accuracy: 73.19% \n",
      " Classwise accuracy of class 0: 34.86% \n",
      " Classwise accuracy of class 1: 91.93% \n",
      "\n",
      "run time: 0.0080 seconds\n"
     ]
    }
   ],
   "source": [
    "print('Case 3 on pX1 ...')\n",
    "MPP = mpp(pX1tr, ytrain_pi, pX1te, ytest_pi)\n",
    "ypx1, tt = MPP.case3(pw)\n",
    "acc_overall, acc0, acc1 = MPP.model_evaluation(ypx1)\n",
    "print('run time: {:.4f} seconds'.format(tt))"
   ]
  },
  {
   "cell_type": "code",
   "execution_count": 20,
   "metadata": {},
   "outputs": [
    {
     "name": "stdout",
     "output_type": "stream",
     "text": [
      "Case 3 on pX ...\n",
      "Overall accuracy: 77.41% \n",
      " Classwise accuracy of class 0: 57.80% \n",
      " Classwise accuracy of class 1: 87.00% \n",
      "\n",
      "run time: 0.0459 seconds\n"
     ]
    }
   ],
   "source": [
    "print('Case 3 on pX ...')\n",
    "MPP = mpp(pXtr, ytrain_pi, pXte, ytest_pi)\n",
    "ypx, tt = MPP.case3(pw)\n",
    "acc_overall, acc0, acc1 = MPP.model_evaluation(ypx)\n",
    "print('run time: {:.4f} seconds'.format(tt))"
   ]
  },
  {
   "cell_type": "markdown",
   "metadata": {},
   "source": [
    "### Confusion matrix of Case 3"
   ]
  },
  {
   "cell_type": "code",
   "execution_count": 21,
   "metadata": {},
   "outputs": [
    {
     "name": "stdout",
     "output_type": "stream",
     "text": [
      "nX:\n",
      "     0    1\n",
      "0  59   50\n",
      "1  27  196\n",
      "nX:\n",
      "     0    1\n",
      "0  59   50\n",
      "1  15  208\n",
      "nX:\n",
      "     0    1\n",
      "0  38   71\n",
      "1  18  205\n",
      "nX:\n",
      "     0    1\n",
      "0  63   46\n",
      "1  29  194\n"
     ]
    }
   ],
   "source": [
    "Eva = performance(ynx, ytest_pi)\n",
    "con_nx, roc_nx = Eva.confusion_matrix()\n",
    "print('nX:\\n', con_nx)\n",
    "Eva = performance(yfx, ytest_pi)\n",
    "con_fx, roc_fx = Eva.confusion_matrix()\n",
    "print('nX:\\n', con_fx)\n",
    "Eva = performance(ypx1, ytest_pi)\n",
    "con_px1, roc_px1 = Eva.confusion_matrix()\n",
    "print('nX:\\n', con_px1)\n",
    "Eva = performance(ypx, ytest_pi)\n",
    "con_px, roc_px = Eva.confusion_matrix()\n",
    "print('nX:\\n', con_px)"
   ]
  },
  {
   "cell_type": "markdown",
   "metadata": {},
   "source": [
    "### KNN on nX, fX, pX1, pX"
   ]
  },
  {
   "cell_type": "code",
   "execution_count": 22,
   "metadata": {},
   "outputs": [
    {
     "name": "stdout",
     "output_type": "stream",
     "text": [
      "pima\n"
     ]
    }
   ],
   "source": [
    "KNN = knn('pima',0, 30)  #kmin = 0, kmax = 30, dataname = 'pima'  just initialization\n",
    "k = 12 \n",
    "\n",
    "# convert the training set and test set to dataframe\n",
    "df_nXtr = pd.DataFrame(nXtr, columns = ['D{}'.format(x) for x in range(nXtr.shape[1])])\n",
    "df_nXte = pd.DataFrame(nXte, columns = ['D{}'.format(x) for x in range(nXte.shape[1])])\n",
    "\n",
    "df_fXte = pd.DataFrame(fXte, columns = ['D1'])  # convert test sample projection to dataframe\n",
    "df_fXtr = pd.DataFrame(fXtr, columns = ['D1'])  # convert training sample projection to dataframe\n",
    "\n",
    "df_pX1te = pd.DataFrame(pX1te, columns =['D1'] )\n",
    "df_pX1tr = pd.DataFrame(pX1tr, columns=['D1'])\n",
    "\n",
    "df_pXte = pd.DataFrame(pXte, columns = ['D{}'.format(x) for x in range(pXte.shape[1])])\n",
    "df_pXtr = pd.DataFrame(pXtr, columns = ['D{}'.format(x) for x in range(pXtr.shape[1])])"
   ]
  },
  {
   "cell_type": "code",
   "execution_count": 23,
   "metadata": {},
   "outputs": [
    {
     "name": "stdout",
     "output_type": "stream",
     "text": [
      "Knn applied on nX:\n",
      " 0.7801204819277109    category  cate_size  class_acc\n",
      "0         0        109   0.577982\n",
      "1         1        223   0.878924 run time: 1.0324196815490723\n",
      "Knn applied on fX:\n",
      " 0.7801204819277109    category  cate_size  class_acc\n",
      "0         0        109   0.642202\n",
      "1         1        223   0.847534 run time: 0.6568083763122559\n",
      "Knn applied on pX1:\n",
      " 0.7018072289156626    category  cate_size  class_acc\n",
      "0         0        109   0.495413\n",
      "1         1        223   0.802691 run time: 0.6024725437164307\n",
      "Knn applied on pX:\n",
      " 0.7650602409638554    category  cate_size  class_acc\n",
      "0         0        109   0.568807\n",
      "1         1        223   0.860987 run time: 0.854680061340332\n"
     ]
    }
   ],
   "source": [
    "#=========================== nX ===================================================\n",
    "y_nx, tt_nx, acc_all_nx, acc_class_nx = KNN.predict(k, df_nXte, ytest_pi, df_nXtr, ytrain_pi)\n",
    "print('Knn applied on nX:\\n',acc_all_nx, acc_class_nx, 'run time:',tt_nx)\n",
    "#=========================== fX ===================================================\n",
    "y_fx, tt_fx, acc_all_fx, acc_class_fx = KNN.predict(k, df_fXte, ytest_pi, df_fXtr, ytrain_pi)\n",
    "print('Knn applied on fX:\\n', acc_all_fx, acc_class_fx, 'run time:',tt_fx)\n",
    "#=========================== pX1 ===================================================\n",
    "y_px1, tt_px1, acc_all_px1, acc_class_px1 = KNN.predict(k, df_pX1te, ytest_pi, df_pX1tr, ytrain_pi)\n",
    "print('Knn applied on pX1:\\n',acc_all_px1, acc_class_px1,'run time:',tt_px1)\n",
    "#=========================== pX ===================================================\n",
    "y_px, tt_px, acc_all_px, acc_class_px = KNN.predict(k, df_pXte, ytest_pi, df_pXtr, ytrain_pi)\n",
    "print('Knn applied on pX:\\n', acc_all_px, acc_class_px,'run time:',tt_px)"
   ]
  },
  {
   "cell_type": "markdown",
   "metadata": {},
   "source": [
    "### Confusion matrix of Knn"
   ]
  },
  {
   "cell_type": "code",
   "execution_count": 24,
   "metadata": {},
   "outputs": [
    {
     "name": "stdout",
     "output_type": "stream",
     "text": [
      "nX:\n",
      "     0    1\n",
      "0  63   46\n",
      "1  27  196\n",
      "nX:\n",
      "     0    1\n",
      "0  70   39\n",
      "1  34  189\n",
      "nX:\n",
      "     0    1\n",
      "0  54   55\n",
      "1  44  179\n",
      "nX:\n",
      "     0    1\n",
      "0  62   47\n",
      "1  31  192\n"
     ]
    }
   ],
   "source": [
    "Eva = performance(y_nx, ytest_pi)\n",
    "con_nx, roc_nx = Eva.confusion_matrix()\n",
    "print('nX:\\n', con_nx)\n",
    "Eva = performance(y_fx, ytest_pi)\n",
    "con_fx, roc_fx = Eva.confusion_matrix()\n",
    "print('nX:\\n', con_fx)\n",
    "Eva = performance(y_px1, ytest_pi)\n",
    "con_px1, roc_px1 = Eva.confusion_matrix()\n",
    "print('nX:\\n', con_px1)\n",
    "Eva = performance(y_px, ytest_pi)\n",
    "con_px, roc_px = Eva.confusion_matrix()\n",
    "print('nX:\\n', con_px)"
   ]
  },
  {
   "cell_type": "markdown",
   "metadata": {},
   "source": [
    "### plot ROC curve for case 3"
   ]
  },
  {
   "cell_type": "code",
   "execution_count": 25,
   "metadata": {},
   "outputs": [],
   "source": [
    "tp = []\n",
    "tn = []\n",
    "fp = []\n",
    "fn = []\n",
    "\n",
    "for p0 in np.arange(0.0,1.01,0.05):\n",
    "    \n",
    "    pw = [p0, 1- p0]\n",
    "    MPP = mpp(nXtr, ytrain_pi, nXte, ytest_pi)\n",
    "    ypx_, tt_px_ = MPP.case3(pw)\n",
    "\n",
    "    Eva = performance(ypx_, ytest_pi)\n",
    "    con_px_, roc_px_ = Eva.confusion_matrix()\n",
    "    \n",
    "#     roc_px_: TN, FP, TP, FN\n",
    "\n",
    "    fp.append(roc_px_[1])\n",
    "    \n",
    "    tp.append(roc_px_[2])\n",
    "    \n",
    "    tn.append(roc_px_[0])\n",
    "    fn.append(roc_px_[3])\n",
    "    \n",
    "#     print(roc_px_[3] + roc_px_[2\n"
   ]
  },
  {
   "cell_type": "code",
   "execution_count": 26,
   "metadata": {},
   "outputs": [],
   "source": [
    "def plot_roc(fp, tp):\n",
    "\n",
    "    fig, ax = plt.subplots()\n",
    "    ax.plot(fp, tp,marker = 'o',label = 'Case 3')\n",
    "    ax.set_xlim([0,1])\n",
    "    ax.set_ylim([0,1])\n",
    "    ax.set_xlabel('False positive rate')\n",
    "    ax.set_ylabel('True positive rate')\n",
    "    ax.set_title('ROC curve')\n",
    "    \n",
    "    return fig"
   ]
  },
  {
   "cell_type": "code",
   "execution_count": 27,
   "metadata": {},
   "outputs": [
    {
     "data": {
      "image/png": "[encoded data removed]",
      "text/plain": [
       "<Figure size 640x480 with 1 Axes>"
      ]
     },
     "execution_count": 27,
     "metadata": {},
     "output_type": "execute_result"
    }
   ],
   "source": [
    "roc = plot_roc(fp, tp)\n",
    "roc"
   ]
  },
  {
   "cell_type": "code",
   "execution_count": null,
   "metadata": {},
   "outputs": [],
   "source": []
  },
  {
   "cell_type": "markdown",
   "metadata": {},
   "source": [
    "## Task 2 Image processing"
   ]
  },
  {
   "cell_type": "code",
   "execution_count": 431,
   "metadata": {},
   "outputs": [],
   "source": [
    "def new_image(rows, cols, labels, centroids):\n",
    "    \n",
    "    '''\n",
    "    convert 2D array to RGB 3D array\n",
    "    input: rows, number of rows of original image size\n",
    "           cols, number of rows of original image size\n",
    "           labels, class label\n",
    "           centroids, class center\n",
    "    '''\n",
    "    newImage = np.zeros((rows * cols, 3), dtype = np.uint8)\n",
    "    \n",
    "    for idx, label in enumerate(labels):\n",
    "\n",
    "        newImage[idx,:] = centroids[label,:]\n",
    "    \n",
    "    img_new = np.reshape(newImage, (rows, cols, 3))\n",
    "        \n",
    "    return img_new"
   ]
  },
  {
   "cell_type": "code",
   "execution_count": 432,
   "metadata": {},
   "outputs": [],
   "source": [
    "def image_RMSE(raw_img, new_img, rows, cols):\n",
    "    \n",
    "    # compute the RMSE\n",
    "    \n",
    "    res = np.sum((raw_img - new_img)**2) / (rows * cols)\n",
    "    RMSE = np.sqrt(res)\n",
    "    \n",
    "    return RMSE"
   ]
  },
  {
   "cell_type": "code",
   "execution_count": 428,
   "metadata": {},
   "outputs": [
    {
     "name": "stdout",
     "output_type": "stream",
     "text": [
      "Dimension of the input image is: (120, 120, 3)\n",
      "Dimension of dataset X is: (14400, 3)\n"
     ]
    }
   ],
   "source": [
    "pic_pth = r'../flowersm.ppm'\n",
    "\n",
    "img = plt.imread(pic_pth)\n",
    "m, n, k = img.shape\n",
    "print(f'Dimension of the input image is: {img.shape}')\n",
    "# change the dimension to 120x120 rows and 3 columns\n",
    "X = np.reshape(img, (m * n, k))\n",
    "print(f'Dimension of dataset X is: {X.shape}')"
   ]
  },
  {
   "cell_type": "code",
   "execution_count": 497,
   "metadata": {},
   "outputs": [
    {
     "data": {
      "text/plain": [
       "Text(0.5, 0, 'Raw picture')"
      ]
     },
     "execution_count": 497,
     "metadata": {},
     "output_type": "execute_result"
    }
   ],
   "source": [
    "plt.imshow(img)\n",
    "plt.xticks([])\n",
    "plt.yticks([])\n",
    "plt.xlabel('Raw picture',fontsize = 12)"
   ]
  },
  {
   "cell_type": "markdown",
   "metadata": {},
   "source": [
    "### KMEANS"
   ]
  },
  {
   "cell_type": "code",
   "execution_count": 434,
   "metadata": {},
   "outputs": [
    {
     "name": "stdout",
     "output_type": "stream",
     "text": [
      "Number of samples : 14400 256\n",
      "(256, 3)\n",
      "1\n",
      "Run time is 28.86802649497986 seconds\n",
      "Finished 256 error is 13.071316137082583\n",
      "Number of samples : 14400 128\n",
      "(128, 3)\n",
      "1\n",
      "Run time is 15.849251508712769 seconds\n",
      "Finished 128 error is 13.164327323828168\n",
      "Number of samples : 14400 64\n",
      "(64, 3)\n",
      "1\n",
      "Run time is 8.793615818023682 seconds\n",
      "Finished 64 error is 13.19574057961297\n",
      "Number of samples : 14400 32\n",
      "(32, 3)\n",
      "1\n",
      "Run time is 5.403280019760132 seconds\n",
      "Finished 32 error is 13.417370581948363\n"
     ]
    }
   ],
   "source": [
    "kset = [256, 128, 64, 32]\n",
    "\n",
    "new_img_kmeans = []\n",
    "rmse_kmeans = []\n",
    "\n",
    "for kk in kset:\n",
    "    \n",
    "    unsup = unsupervised_learning(X, kk)\n",
    "    metrics, labels, centroids = unsup.Kmeans()\n",
    "    \n",
    "    com_image = new_image(m, n, labels, centroids)\n",
    "   \n",
    "    rmse = image_RMSE(img, com_image, m, n)\n",
    "    new_img_kmeans.append(com_image)\n",
    "    rmse_kmeans.append(rmse)\n",
    "\n",
    "    print('Finished {}'.format(kk),'error is {}'.format(rmse))"
   ]
  },
  {
   "cell_type": "markdown",
   "metadata": {},
   "source": [
    "### WTA"
   ]
  },
  {
   "cell_type": "code",
   "execution_count": 435,
   "metadata": {},
   "outputs": [
    {
     "name": "stdout",
     "output_type": "stream",
     "text": [
      "Number of samples : 14400 256\n",
      "++++++ (256, 3)\n",
      "winner take all clustering, run time is 413.6393 seconds\n",
      "Finished 256 error is 6.518504642767218\n",
      "Number of samples : 14400 128\n",
      "++++++ (128, 3)\n",
      "winner take all clustering, run time is 172.4917 seconds\n",
      "Finished 128 error is 7.344858367895493\n",
      "Number of samples : 14400 64\n",
      "++++++ (64, 3)\n",
      "winner take all clustering, run time is 81.8505 seconds\n",
      "Finished 64 error is 8.460291234808516\n",
      "Number of samples : 14400 32\n",
      "++++++ (32, 3)\n",
      "winner take all clustering, run time is 30.9529 seconds\n",
      "Finished 32 error is 11.290741044472384\n"
     ]
    }
   ],
   "source": [
    "learning_rate = 0.02\n",
    "error_tolerance = 0.02\n",
    "new_img_wta = []\n",
    "rmse_wta = []\n",
    "kset = [256, 128, 64, 32]\n",
    "# kset = [256]\n",
    "\n",
    "for kk in kset:\n",
    "    \n",
    "    unsup = unsupervised_learning(X, kk)\n",
    "    _,labels, centroids = unsup.wta(learning_rate,error_tolerance)\n",
    "    \n",
    "    com_image = new_image(m, n, labels, centroids)\n",
    "    \n",
    "    rmse = image_RMSE(img, com_image, m, n)\n",
    "    \n",
    "    new_img_wta.append(com_image)\n",
    "    rmse_wta.append(rmse)\n",
    "    \n",
    "    print('Finished {}'.format(kk),'error is {}'.format(rmse))"
   ]
  },
  {
   "cell_type": "markdown",
   "metadata": {},
   "source": [
    "### plot subplots for kmeans and wta"
   ]
  },
  {
   "cell_type": "code",
   "execution_count": 459,
   "metadata": {},
   "outputs": [],
   "source": [
    "agg_img = new_img_kmeans + new_img_wta\n",
    "agg_rmse = rmse_kmeans + rmse_wta\n",
    "agg_k = kset + kset\n",
    "agg_name = ['Kmeans'] * 4 + ['WTA'] * 4\n",
    "\n",
    "fig, axs = plt.subplots(4,2,figsize = (19.2,10.8))\n",
    "plt.subplots_adjust(top=0.984,\n",
    "bottom=0.042,\n",
    "left=0.008,\n",
    "right=0.992,\n",
    "hspace=0.207,\n",
    "wspace=0.0)\n",
    "axs = axs.flatten()\n",
    "for ix, ax in enumerate(axs):\n",
    "\n",
    "    ax.imshow(agg_img[ix])\n",
    "    ax.tick_params(length = 0, axis = 'both')\n",
    "    ax.set_xticklabels([])\n",
    "    ax.set_yticklabels([])\n",
    "    ax.set_xlabel('{}, K = {}, RMSE = {:.4f}'.format(agg_name[ix], agg_k[ix], agg_rmse[ix]), fontsize = 12)\n",
    "#     ax.set_xlabel('dadada')"
   ]
  },
  {
   "cell_type": "code",
   "execution_count": null,
   "metadata": {},
   "outputs": [],
   "source": []
  }
 ],
 "metadata": {
  "kernelspec": {
   "display_name": "Python 3",
   "language": "python",
   "name": "python3"
  },
  "language_info": {
   "codemirror_mode": {
    "name": "ipython",
    "version": 3
   },
   "file_extension": ".py",
   "mimetype": "text/x-python",
   "name": "python",
   "nbconvert_exporter": "python",
   "pygments_lexer": "ipython3",
   "version": "3.8.2"
  }
 },
 "nbformat": 4,
 "nbformat_minor": 4
}
