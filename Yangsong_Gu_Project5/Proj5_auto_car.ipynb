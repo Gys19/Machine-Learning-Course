{
 "cells": [
  {
   "cell_type": "code",
   "execution_count": 3,
   "metadata": {},
   "outputs": [],
   "source": [
    "# Author: Yangsong Gu \n",
    "# for COSC 522 project 5\n",
    "# 11/23/2021"
   ]
  },
  {
   "cell_type": "code",
   "execution_count": 4,
   "metadata": {},
   "outputs": [],
   "source": [
    "from steering_control import *\n",
    "import numpy as np \n",
    "import pandas as pd\n",
    "import time\n",
    "import os\n",
    "import sys\n",
    "import pickle"
   ]
  },
  {
   "cell_type": "code",
   "execution_count": 5,
   "metadata": {},
   "outputs": [],
   "source": [
    "import numpy as np\n",
    "from world import World\n",
    "from agents import Car, RingBuilding, CircleBuilding, Painting, Pedestrian\n",
    "from geometry import Point\n",
    "import time\n",
    "from tkinter import *\n",
    "from steering_control import *"
   ]
  },
  {
   "cell_type": "markdown",
   "metadata": {},
   "source": [
    "### Initialization"
   ]
  },
  {
   "cell_type": "code",
   "execution_count": 3,
   "metadata": {},
   "outputs": [],
   "source": [
    "\n",
    "\n",
    "# dt = 0.1 # time steps in terms of seconds. In other words, 1/dt is the FPS.\n",
    "# world_width = 120 # in meters\n",
    "# world_height = 120\n",
    "# inner_building_radius = 30\n",
    "# num_lanes = 2\n",
    "# lane_marker_width = 0.5\n",
    "# num_of_lane_markers = 50\n",
    "# lane_width = 3.5"
   ]
  },
  {
   "cell_type": "markdown",
   "metadata": {},
   "source": [
    "## instantiate the object"
   ]
  },
  {
   "cell_type": "code",
   "execution_count": 73,
   "metadata": {},
   "outputs": [],
   "source": [
    "# w = World(dt, width = world_width, height = world_height, ppm = 6) # The world is 120 meters by 120 meters. ppm is the pixels per meter."
   ]
  },
  {
   "cell_type": "code",
   "execution_count": 74,
   "metadata": {},
   "outputs": [],
   "source": [
    "# # To create a circular road, we will add a CircleBuilding and then a RingBuilding around it\n",
    "# cb = CircleBuilding(Point(world_width/2, world_height/2), inner_building_radius, 'gray80')\n",
    "# w.add(cb)\n",
    "# rb = RingBuilding(Point(world_width/2, world_height/2), inner_building_radius + num_lanes * lane_width + (num_lanes - 1) * lane_marker_width, 1+np.sqrt((world_width/2)**2 + (world_height/2)**2), 'gray80')\n",
    "# w.add(rb)\n",
    "# # w.render()"
   ]
  },
  {
   "cell_type": "code",
   "execution_count": 75,
   "metadata": {},
   "outputs": [],
   "source": [
    "# Let's also add some lane markers on the ground. This is just decorative. Because, why not.\n",
    "# for lane_no in range(num_lanes - 1):\n",
    "#     lane_markers_radius = inner_building_radius + (lane_no + 1) * lane_width + (lane_no + 0.5) * lane_marker_width\n",
    "#     lane_marker_height = np.sqrt(2*(lane_markers_radius**2)*(1-np.cos((2*np.pi)/(2*num_of_lane_markers)))) # approximate the circle with a polygon and then use cosine theorem\n",
    "#     for theta in np.arange(0, 2*np.pi, 2*np.pi / num_of_lane_markers):\n",
    "#         dx = lane_markers_radius * np.cos(theta)\n",
    "#         dy = lane_markers_radius * np.sin(theta)\n",
    "#         w.add(Painting(Point(world_width/2 + dx, world_height/2 + dy), Point(lane_marker_width, lane_marker_height), 'white', heading = theta))"
   ]
  },
  {
   "cell_type": "markdown",
   "metadata": {},
   "source": [
    "## Add cars to the roundabout"
   ]
  },
  {
   "cell_type": "code",
   "execution_count": 76,
   "metadata": {},
   "outputs": [],
   "source": [
    "# A Car object is a dynamic object -- it can move. We construct it using its center location and heading angle.\n",
    "# c1 = Car(Point(91.75,60), np.pi/2)  # center of car.\n",
    "# c1.max_speed = 30.0 # let's say the maximum is 30 m/s (108 km/h)\n",
    "# c1.velocity = Point(0, 3.0)  # this is xp, yp\n",
    "# w.add(c1)\n",
    "\n",
    "# w.render() # This visualizes the world we just constructed."
   ]
  },
  {
   "cell_type": "code",
   "execution_count": 6,
   "metadata": {},
   "outputs": [],
   "source": [
    "def set_up():\n",
    "    \n",
    "    # set up a world and add elements to it. \n",
    "    # first layer is road, the last layer is car1. c1. \n",
    "    \n",
    "    dt = 0.1 # time steps in terms of seconds. In other words, 1/dt is the FPS.\n",
    "    world_width = 120 # in meters\n",
    "    world_height = 120\n",
    "    inner_building_radius = 30\n",
    "    num_lanes = 2\n",
    "    lane_marker_width = 0.5\n",
    "    num_of_lane_markers = 50\n",
    "    lane_width = 3.5\n",
    "    \n",
    "    w = World(dt, width = world_width, height = world_height, ppm = 6) # The world is 120 meters by 120 meters. ppm is the pixels per meter.\n",
    "    \n",
    "    # To create a circular road, we will add a CircleBuilding and then a RingBuilding around it\n",
    "    cb = CircleBuilding(Point(world_width/2, world_height/2), inner_building_radius, 'gray80')\n",
    "    w.add(cb)\n",
    "    rb = RingBuilding(Point(world_width/2, world_height/2), inner_building_radius + num_lanes * lane_width + (num_lanes - 1) * lane_marker_width, 1+np.sqrt((world_width/2)**2 + (world_height/2)**2), 'gray80')\n",
    "    w.add(rb)\n",
    "    # w.render()\n",
    "    # Let's also add some lane markers on the ground. This is just decorative. Because, why not.\n",
    "    for lane_no in range(num_lanes - 1):\n",
    "        lane_markers_radius = inner_building_radius + (lane_no + 1) * lane_width + (lane_no + 0.5) * lane_marker_width\n",
    "        lane_marker_height = np.sqrt(2*(lane_markers_radius**2)*(1-np.cos((2*np.pi)/(2*num_of_lane_markers)))) # approximate the circle with a polygon and then use cosine theorem\n",
    "        for theta in np.arange(0, 2*np.pi, 2*np.pi / num_of_lane_markers):\n",
    "            dx = lane_markers_radius * np.cos(theta)\n",
    "            dy = lane_markers_radius * np.sin(theta)\n",
    "            w.add(Painting(Point(world_width/2 + dx, world_height/2 + dy), Point(lane_marker_width, lane_marker_height), 'white', heading = theta))\n",
    "    \n",
    "    # A Car object is a dynamic object -- it can move. We construct it using its center location and heading angle.\n",
    "    c1 = Car(Point(91.75,60), np.pi/2)  # center of car.\n",
    "    c1.max_speed = 30.0 # let's say the maximum is 30 m/s (108 km/h)\n",
    "    c1.velocity = Point(0, 3.0)  # this is xp, yp\n",
    "    w.add(c1)\n",
    "\n",
    "    w.render() # This visualizes the world we just constructed.\n",
    "    \n",
    "    print(\"the elements of the simulated world: \\n\", w.agents)\n",
    "    \n",
    "    return w"
   ]
  },
  {
   "cell_type": "code",
   "execution_count": 13,
   "metadata": {},
   "outputs": [],
   "source": [
    "# w.close()"
   ]
  },
  {
   "cell_type": "code",
   "execution_count": 7,
   "metadata": {},
   "outputs": [],
   "source": [
    "def save_rl_policy(var_rl, name):\n",
    "\twith open(name, 'wb') as f:\n",
    "\t\tpickle.dump(var_rl, f)\n",
    "\tf.close()\n",
    "\n",
    "\n",
    "def read_rl_policy(name):\n",
    "\twith open(name, 'rb') as f:\n",
    "\t\tvar_rl = pickle.load(f)\n",
    "\tf.close()\n",
    "\treturn var_rl"
   ]
  },
  {
   "cell_type": "code",
   "execution_count": 86,
   "metadata": {},
   "outputs": [],
   "source": [
    "def run_simualtion(w, learning_approach):\n",
    "    \n",
    "    '''\n",
    "    :args\n",
    "        w -> the object of world\n",
    "        learning_approach --> either human_controll, pid_controll, or rl_controll\n",
    "    '''\n",
    "    c1 = w.agents[-1]\n",
    "    cb = w.agents[0]\n",
    "    rb =  w.agents[1]\n",
    "    \n",
    "    dt = 0.1  # time steps in terms of seconds. In other words, 1/dt is the FPS.\n",
    "    world_width = 120 # in meters\n",
    "    world_height = 120\n",
    "    inner_building_radius = 30\n",
    "    num_lanes = 2\n",
    "    lane_marker_width = 0.5\n",
    "    num_of_lane_markers = 50\n",
    "    lane_width = 3.5\n",
    "    smart_error = [] # record error\n",
    "    \n",
    "    if learning_approach == 'default_auto':\n",
    "        \n",
    "        desired_lane = 1\n",
    "       \n",
    "        for k in range(600):\n",
    "            lp = 0.\n",
    "            if c1.distanceTo(cb) < desired_lane*(lane_width + lane_marker_width) + 0.2:\n",
    "                lp += 0.\n",
    "            elif c1.distanceTo(rb) < (num_lanes - desired_lane - 1)*(lane_width + lane_marker_width) + 0.3:\n",
    "                lp += 1.\n",
    "\n",
    "            v = c1.center - cb.center\n",
    "            v = np.mod(np.arctan2(v.y, v.x) + np.pi/2, 2*np.pi)\n",
    "            \n",
    "            err = v - c1.heading\n",
    "            smart_error.append([k*dt, err])\n",
    "            \n",
    "            if c1.heading < v:\n",
    "                lp += 0.7\n",
    "            else:\n",
    "                lp += 0.\n",
    "\n",
    "            if np.random.rand() < lp: c1.set_control(0.2, 0.1)\n",
    "            else: c1.set_control(-0.1, 0.1)\n",
    "\n",
    "            w.tick() # This ticks the world for one time step (dt second)\n",
    "            w.render()\n",
    "            time.sleep(dt/4) # Let's watch it 4x\n",
    "\n",
    "            if w.collision_exists(): # We can check if there is any collision at all.\n",
    "                print('Collision exists somewhere...', end = '\\r')\n",
    "                \n",
    "        smart_error = pd.DataFrame(smart_error, columns = ['t','default_auto_error'])\n",
    "        smart_error.to_csv('../errors/default_auto-{:.0f}.csv'.format(time.time()))\n",
    "    \n",
    "    \n",
    "    if learning_approach == 'human_controll':\n",
    "        \n",
    "        from interactive_controllers import KeyboardController\n",
    "        c1.set_control(0., 0.) # Initially, the car will have 0 steering and 0 throttle.\n",
    "        controller = KeyboardController(w)\n",
    "\n",
    "        for k in range(2000):\n",
    "\n",
    "             # record error at time k*dt\n",
    "            v = c1.center - cb.center\n",
    "            v = np.mod(np.arctan2(v.y, v.x) + np.pi/2, 2*np.pi)  # turn to heading \n",
    "            err2 = v - c1.heading\n",
    "            smart_error.append([k*dt, err2])\n",
    "\n",
    "\n",
    "            c1.set_control(controller.steering, controller.throttle)\n",
    "\n",
    "\n",
    "            w.tick() # This ticks the world for one time step (dt second)\n",
    "            w.render()\n",
    "            time.sleep(dt/4) # Let's watch it 4x\n",
    "            if w.collision_exists():\n",
    "                # import sys\n",
    "                # sys.exit(0)\n",
    "                print('collision happens',end='\\r')\n",
    "            # if ord('q'):\n",
    "            #     break\n",
    "        smart_error = pd.DataFrame(smart_error, columns = ['t','human_error'])\n",
    "        smart_error.to_csv('../errors/human-{:.0f}.csv'.format(time.time()))\n",
    "        \n",
    "    if learning_approach == 'pid_controll':\n",
    "        \n",
    "        desired_lane = 1\n",
    "        pid_controller1 = PIDSteering(2.0, 0.001, 0.01, dt)\n",
    "        \n",
    "        for k in range(1200):\n",
    "            lp = 0.\n",
    "            if c1.distanceTo(cb) < desired_lane*(lane_width + lane_marker_width) + 0.2:\n",
    "                lp += 0.\n",
    "            elif c1.distanceTo(rb) < (num_lanes - desired_lane - 1)*(lane_width + lane_marker_width) + 0.3:\n",
    "                lp += 1.\n",
    "\n",
    "            v = c1.center - cb.center\n",
    "            v = np.mod(np.arctan2(v.y, v.x) + np.pi/2, 2*np.pi) # np.pi/2 is original heading, which is 90 degree, upwards.\n",
    "\n",
    "            ##\n",
    "            err1 = v - c1.heading\n",
    "            smart_error.append([k*dt, err1])\n",
    "            heading_new1 = pid_controller1.correct(err1)\n",
    "            c1.set_control(heading_new1, 0.06)\n",
    "\n",
    "            w.tick() # This ticks the world for one time step (dt second)\n",
    "            w.render()\n",
    "            time.sleep(dt/4) # Let's watch it 4x\n",
    "\n",
    "            if w.collision_exists(): # We can check if there is any collision at all.\n",
    "                print('Collision exists somewhere...')\n",
    "        smart_error = pd.DataFrame(smart_error, columns = ['t','smart_error'])\n",
    "        smart_error.to_csv('../errors/smart-pid-{:.0f}.csv'.format(time.time()))\n",
    "        \n",
    "        \n",
    "    if learning_approach == 'rl_controll':\n",
    "        \n",
    "        smart_error = [] # record error\n",
    "        \n",
    "        if not os.path.exists('car1_rl.pkl'):\n",
    "            \n",
    "            # if there is no trained policy.\n",
    "            print('we are training the policy...please wait...')\n",
    "            w.add(c1)\n",
    "            c1_rl = RLSteering(c1, w, episode=episode_num)\n",
    "            c1_rl.q_learning()\n",
    "            c1_rl.delete_vars()\n",
    "            save_rl_policy(c1_rl, 'car1_rl.pkl')\n",
    "\n",
    "            # reset world\n",
    "            w.reset()\n",
    "        else:\n",
    "            print('we can use the trained policy...')\n",
    "            for k in range(1200):\n",
    "\n",
    "#                 w.add(c1)\n",
    "                c1_rl = RLSteering(c1, w)\n",
    "                saved_rl_obj = read_rl_policy('car1_rl.pkl')\n",
    "                c1_rl.overwrite(saved_rl_obj)\n",
    "                w.render()  # This visualizes the world we just constructed.\n",
    "\n",
    "                ''' Reinforcement Learning '''\n",
    "                v = c1.center - cb.center\n",
    "                v = np.mod(np.arctan2(v.y, v.x) + np.pi/2, 2*np.pi) # np.pi/2 is original heading, which is 90 degree, upwards.\n",
    "\n",
    "                err1 = v - c1.heading\n",
    "                smart_error.append([k*dt, err1])\n",
    "                \n",
    "                heading_new = c1.heading + c1_rl.get_rl_action(c1.center.x, c1.center.y)\n",
    "                c1.set_control(heading_new, 0.06)  # no acceleration\n",
    "                \n",
    "                \n",
    "                w.tick()  # This ticks the world for one time step (dt second)\n",
    "                w.render()\n",
    "                time.sleep(dt / 4)  # Let's watch it 4x\n",
    "                \n",
    "                if w.collision_exists():  # We can check if there is any collision at all.\n",
    "                    print('Collision exists somewhere...', end = '\\r')\n",
    "                    \n",
    "            smart_error = pd.DataFrame(smart_error, columns = ['t','smart_error'])\n",
    "            smart_error.to_csv('../errors/smart-rl-{:.0f}.csv'.format(time.time()))\n",
    "            \n",
    "    return smart_error"
   ]
  },
  {
   "cell_type": "markdown",
   "metadata": {},
   "source": [
    "# 0. default auto control"
   ]
  },
  {
   "cell_type": "code",
   "execution_count": 64,
   "metadata": {},
   "outputs": [
    {
     "name": "stdout",
     "output_type": "stream",
     "text": [
      "the elements of the simulated world: \n",
      " [<agents.CircleBuilding object at 0x1C10FCE8>, <agents.RingBuilding object at 0x1C10F2F8>, <agents.Painting object at 0x1C10FE38>, <agents.Painting object at 0x1C10F430>, <agents.Painting object at 0x1C10FFD0>, <agents.Painting object at 0x1C10FF40>, <agents.Painting object at 0x1E5DCE20>, <agents.Painting object at 0x1C11CBF8>, <agents.Painting object at 0x1C11CEC8>, <agents.Painting object at 0x1C11C0B8>, <agents.Painting object at 0x1C11C400>, <agents.Painting object at 0x1C11C580>, <agents.Painting object at 0x1C11C658>, <agents.Painting object at 0x1C11C628>, <agents.Painting object at 0x1C11A970>, <agents.Painting object at 0x1C11ACD0>, <agents.Painting object at 0x1C11A988>, <agents.Painting object at 0x1C11A310>, <agents.Painting object at 0x1C11A2E0>, <agents.Painting object at 0x1C11A688>, <agents.Painting object at 0x1C11A508>, <agents.Painting object at 0x1C11AB38>, <agents.Painting object at 0x1C11A178>, <agents.Painting object at 0x1C11A4D8>, <agents.Painting object at 0x1C11A490>, <agents.Painting object at 0x1C12C418>, <agents.Painting object at 0x1C12CA78>, <agents.Painting object at 0x1C12CBB0>, <agents.Painting object at 0x1C12CB68>, <agents.Painting object at 0x1E5F0340>, <agents.Painting object at 0x1E5F02E0>, <agents.Painting object at 0x1C129028>, <agents.Painting object at 0x1C129190>, <agents.Painting object at 0x1C1292F8>, <agents.Painting object at 0x1C129460>, <agents.Painting object at 0x1C1295C8>, <agents.Painting object at 0x1C129730>, <agents.Painting object at 0x1C129898>, <agents.Painting object at 0x1C129A00>, <agents.Painting object at 0x1C129B68>, <agents.Painting object at 0x1C129CD0>, <agents.Painting object at 0x1C129E38>, <agents.Painting object at 0x1C129FA0>, <agents.Painting object at 0x1D6AB130>, <agents.Painting object at 0x1D6AB298>, <agents.Painting object at 0x1D6AB400>, <agents.Painting object at 0x1D6AB568>, <agents.Painting object at 0x1D6AB6D0>, <agents.Painting object at 0x1D6AB838>, <agents.Painting object at 0x1D6AB9A0>, <agents.Painting object at 0x1D6ABB08>, <agents.Painting object at 0x1D6ABC70>, <agents.Car object at 0x1D6ABCB8>]\n"
     ]
    }
   ],
   "source": [
    "w = set_up()\n",
    "de_error = run_simualtion(w, 'default_auto')\n",
    "w.close()"
   ]
  },
  {
   "cell_type": "markdown",
   "metadata": {},
   "source": [
    "# 1. reinforcement learning based."
   ]
  },
  {
   "cell_type": "code",
   "execution_count": 87,
   "metadata": {},
   "outputs": [
    {
     "name": "stdout",
     "output_type": "stream",
     "text": [
      "the elements of the simulated world: \n",
      " [<agents.CircleBuilding object at 0x20CE2640>, <agents.RingBuilding object at 0x20CE29B8>, <agents.Painting object at 0x20CE2988>, <agents.Painting object at 0x20CE2F58>, <agents.Painting object at 0x20CE2148>, <agents.Painting object at 0x20CE2E98>, <agents.Painting object at 0x20CE2BB0>, <agents.Painting object at 0x20CE28E0>, <agents.Painting object at 0x20CE22B0>, <agents.Painting object at 0x20CEC478>, <agents.Painting object at 0x20CECEF8>, <agents.Painting object at 0x20CECFA0>, <agents.Painting object at 0x20CECB20>, <agents.Painting object at 0x20CECBE0>, <agents.Painting object at 0x20CECDF0>, <agents.Painting object at 0x20CD96D0>, <agents.Painting object at 0x20CD94D8>, <agents.Painting object at 0x20CD9B50>, <agents.Painting object at 0x20CD9DA8>, <agents.Painting object at 0x1F52A1F0>, <agents.Painting object at 0x1F569598>, <agents.Painting object at 0x1F569D18>, <agents.Painting object at 0x1F569820>, <agents.Painting object at 0x20CFD040>, <agents.Painting object at 0x20CFD1A8>, <agents.Painting object at 0x20CFD310>, <agents.Painting object at 0x20CFD478>, <agents.Painting object at 0x20CFD5E0>, <agents.Painting object at 0x20CFD748>, <agents.Painting object at 0x20CFD8B0>, <agents.Painting object at 0x20CFDA18>, <agents.Painting object at 0x20CFDB80>, <agents.Painting object at 0x20CFDCE8>, <agents.Painting object at 0x20CFDE50>, <agents.Painting object at 0x20CFDFB8>, <agents.Painting object at 0x20CF7148>, <agents.Painting object at 0x20CF72B0>, <agents.Painting object at 0x20CF7418>, <agents.Painting object at 0x20CF7580>, <agents.Painting object at 0x20CF76E8>, <agents.Painting object at 0x20CF7850>, <agents.Painting object at 0x20CF79B8>, <agents.Painting object at 0x20CF7B20>, <agents.Painting object at 0x20CF7C88>, <agents.Painting object at 0x20CF7DF0>, <agents.Painting object at 0x20CF7F58>, <agents.Painting object at 0x20CFC0E8>, <agents.Painting object at 0x20CFC250>, <agents.Painting object at 0x20CFC3B8>, <agents.Painting object at 0x20CFC520>, <agents.Painting object at 0x20CFC688>, <agents.Painting object at 0x20CFC7F0>, <agents.Car object at 0x20CFC838>]\n",
      "we can use the trained policy...\n",
      "Collision exists somewhere...\r"
     ]
    }
   ],
   "source": [
    "w = set_up()\n",
    "rl_error = run_simualtion(w, 'rl_controll')\n",
    "w.close()"
   ]
  },
  {
   "cell_type": "markdown",
   "metadata": {},
   "source": [
    "# 2. PID control based "
   ]
  },
  {
   "cell_type": "code",
   "execution_count": 10,
   "metadata": {},
   "outputs": [
    {
     "name": "stdout",
     "output_type": "stream",
     "text": [
      "the elements of the simulated world: \n",
      " [<agents.CircleBuilding object at 0x042D7FD0>, <agents.RingBuilding object at 0x150FD8B0>, <agents.Painting object at 0x04301DF0>, <agents.Painting object at 0x04301BB0>, <agents.Painting object at 0x043015F8>, <agents.Painting object at 0x04301088>, <agents.Painting object at 0x04301328>, <agents.Painting object at 0x043012F8>, <agents.Painting object at 0x04322778>, <agents.Painting object at 0x04322E98>, <agents.Painting object at 0x04322328>, <agents.Painting object at 0x04322A60>, <agents.Painting object at 0x05FCB1D8>, <agents.Painting object at 0x05FCB778>, <agents.Painting object at 0x043206D0>, <agents.Painting object at 0x04320CE8>, <agents.Painting object at 0x04320928>, <agents.Painting object at 0x04320550>, <agents.Painting object at 0x04320FD0>, <agents.Painting object at 0x04320E38>, <agents.Painting object at 0x04320CD0>, <agents.Painting object at 0x04320D48>, <agents.Painting object at 0x0433BA30>, <agents.Painting object at 0x0433B8F8>, <agents.Painting object at 0x0433BC58>, <agents.Painting object at 0x0433BD30>, <agents.Painting object at 0x0433B850>, <agents.Painting object at 0x0433B2B0>, <agents.Painting object at 0x0433BA48>, <agents.Painting object at 0x0433B478>, <agents.Painting object at 0x0433B7A8>, <agents.Painting object at 0x156AC2C8>, <agents.Painting object at 0x156AC088>, <agents.Painting object at 0x156AC220>, <agents.Painting object at 0x156AC778>, <agents.Painting object at 0x156AC8E0>, <agents.Painting object at 0x156ACA48>, <agents.Painting object at 0x156ACBB0>, <agents.Painting object at 0x156ACD18>, <agents.Painting object at 0x156ACE80>, <agents.Painting object at 0x156ACFE8>, <agents.Painting object at 0x04308178>, <agents.Painting object at 0x043082E0>, <agents.Painting object at 0x04308328>, <agents.Painting object at 0x043084F0>, <agents.Painting object at 0x04308658>, <agents.Painting object at 0x043087C0>, <agents.Painting object at 0x04308928>, <agents.Painting object at 0x04308A90>, <agents.Painting object at 0x04308BF8>, <agents.Painting object at 0x04308D60>, <agents.Painting object at 0x04308EC8>, <agents.Car object at 0x04308F10>]\n"
     ]
    }
   ],
   "source": [
    "w = set_up()\n",
    "pid_error = run_simualtion(w, 'pid_controll')\n",
    "w.close()"
   ]
  },
  {
   "cell_type": "markdown",
   "metadata": {},
   "source": [
    "# 3. Human control based."
   ]
  },
  {
   "cell_type": "code",
   "execution_count": 17,
   "metadata": {},
   "outputs": [
    {
     "name": "stdout",
     "output_type": "stream",
     "text": [
      "the elements of the simulated world: \n",
      " [<agents.CircleBuilding object at 0x017327C0>, <agents.RingBuilding object at 0x01732D18>, <agents.Painting object at 0x04336160>, <agents.Painting object at 0x043360B8>, <agents.Painting object at 0x04336E50>, <agents.Painting object at 0x04336B20>, <agents.Painting object at 0x043368B0>, <agents.Painting object at 0x04336A60>, <agents.Painting object at 0x0433B658>, <agents.Painting object at 0x0433BB20>, <agents.Painting object at 0x0433B5F8>, <agents.Painting object at 0x0433B748>, <agents.Painting object at 0x0430B520>, <agents.Painting object at 0x05FD01F0>, <agents.Painting object at 0x04322808>, <agents.Painting object at 0x04322BC8>, <agents.Painting object at 0x04322EF8>, <agents.Painting object at 0x04322B38>, <agents.Painting object at 0x009A87A8>, <agents.Painting object at 0x0174E4C0>, <agents.Painting object at 0x0174E1F0>, <agents.Painting object at 0x0174E910>, <agents.Painting object at 0x0174E598>, <agents.Painting object at 0x05FCB610>, <agents.Painting object at 0x05FCBEE0>, <agents.Painting object at 0x156AC5C8>, <agents.Painting object at 0x156AC598>, <agents.Painting object at 0x156AC658>, <agents.Painting object at 0x156AC3E8>, <agents.Painting object at 0x156AC730>, <agents.Painting object at 0x156AC910>, <agents.Painting object at 0x156ACF70>, <agents.Painting object at 0x156ACF58>, <agents.Painting object at 0x156ACCA0>, <agents.Painting object at 0x156ACD30>, <agents.Painting object at 0x04339DC0>, <agents.Painting object at 0x04339430>, <agents.Painting object at 0x04339850>, <agents.Painting object at 0x043208C8>, <agents.Painting object at 0x04320B68>, <agents.Painting object at 0x04320610>, <agents.Painting object at 0x04320F10>, <agents.Painting object at 0x04320448>, <agents.Painting object at 0x04320640>, <agents.Painting object at 0x04320F28>, <agents.Painting object at 0x04320268>, <agents.Painting object at 0x00F487C0>, <agents.Painting object at 0x00F48B50>, <agents.Painting object at 0x00F48838>, <agents.Painting object at 0x00F48FE8>, <agents.Painting object at 0x00F486B8>, <agents.Painting object at 0x00F486E8>, <agents.Car object at 0x00F482E0>]\n"
     ]
    }
   ],
   "source": [
    "w = set_up()\n",
    "human_error = run_simualtion(w, 'human_controll')\n",
    "w.close()"
   ]
  },
  {
   "cell_type": "code",
   "execution_count": 69,
   "metadata": {},
   "outputs": [
    {
     "data": {
      "text/plain": [
       "Text(0, 0.5, 'error')"
      ]
     },
     "execution_count": 69,
     "metadata": {},
     "output_type": "execute_result"
    },
    {
     "data": {
      "image/png": "[encoded data removed]",
      "text/plain": [
       "<Figure size 720x360 with 1 Axes>"
      ]
     },
     "metadata": {
      "needs_background": "light"
     },
     "output_type": "display_data"
    }
   ],
   "source": [
    "%matplotlib inline\n",
    "fig, ax = plt.subplots(figsize = (10,5))\n",
    "ax.plot(human_error.t, human_error.human_error, label = 'human control', color = 'blue')\n",
    "ax.legend()\n",
    "ax.set_xlim([0,200])\n",
    "ax.set_ylim([-7,7])\n",
    "ax.axvline(x = 130, linestyle = '--', color = 'blue',linewidth = 1)\n",
    "ax.annotate('one circle of human control', (130,-2), (130+15,-2),'data',arrowprops=dict(arrowstyle=\"->\",\n",
    "                            connectionstyle=\"arc3\"), color = 'black',fontweight= 'bold')\n",
    "ax.set_xlabel('seconds', fontsize = 14)\n",
    "ax.set_ylabel('error', fontsize = 14)"
   ]
  },
  {
   "cell_type": "code",
   "execution_count": 77,
   "metadata": {},
   "outputs": [
    {
     "data": {
      "text/plain": [
       "Text(0, 0.5, 'error')"
      ]
     },
     "execution_count": 77,
     "metadata": {},
     "output_type": "execute_result"
    },
    {
     "data": {
      "image/png": "[encoded data removed]",
      "text/plain": [
       "<Figure size 720x360 with 1 Axes>"
      ]
     },
     "metadata": {
      "needs_background": "light"
     },
     "output_type": "display_data"
    }
   ],
   "source": [
    "%matplotlib inline\n",
    "fig, ax = plt.subplots(figsize = (10,5))\n",
    "ax.plot(de_error.t, de_error.default_auto_error, label = 'default auto control', color = 'magenta')\n",
    "ax.legend()\n",
    "ax.set_xlim([0,200])\n",
    "ax.set_ylim([-7,7])\n",
    "ax.axvline(x = 42, linestyle = '--', color = 'magenta',linewidth = 1)\n",
    "ax.annotate('one circle of default auto control', (42,-4), (42+15,-4),'data',arrowprops=dict(arrowstyle=\"->\",\n",
    "                            connectionstyle=\"arc3\"), color = 'black',fontweight= 'bold')\n",
    "ax.set_xlabel('seconds', fontsize = 14)\n",
    "ax.set_ylabel('error', fontsize = 14)\n"
   ]
  },
  {
   "cell_type": "code",
   "execution_count": 85,
   "metadata": {},
   "outputs": [
    {
     "data": {
      "text/plain": [
       "<matplotlib.lines.Line2D at 0x1f5896e8>"
      ]
     },
     "execution_count": 85,
     "metadata": {},
     "output_type": "execute_result"
    },
    {
     "data": {
      "image/png": "[encoded data removed]",
      "text/plain": [
       "<Figure size 720x360 with 1 Axes>"
      ]
     },
     "metadata": {
      "needs_background": "light"
     },
     "output_type": "display_data"
    }
   ],
   "source": [
    "%matplotlib inline\n",
    "\n",
    "fig, ax = plt.subplots(figsize = (10,5))\n",
    "ax.plot(pid_error.t, pid_error.smart_error, label = 'PID control', color = 'green')\n",
    "ax.legend()\n",
    "ax.set_xlim([0,200])\n",
    "ax.set_ylim([-7,7])\n",
    "ax.axvline(x = 50, linestyle = '--', color = 'green',linewidth = 1)\n",
    "ax.annotate('one circle of PID control', (50,-4), (50+15,-4),'data',arrowprops=dict(arrowstyle=\"->\",\n",
    "                            connectionstyle=\"arc3\"), color = 'black',fontweight= 'bold')\n",
    "ax.set_xlabel('seconds', fontsize = 14)\n",
    "ax.set_ylabel('error', fontsize = 14)\n",
    "ax.axvline(x = 116, linestyle = '--', color = 'green',linewidth = 1)"
   ]
  },
  {
   "cell_type": "code",
   "execution_count": 102,
   "metadata": {},
   "outputs": [
    {
     "data": {
      "text/plain": [
       "Text(0, 0.5, 'error')"
      ]
     },
     "execution_count": 102,
     "metadata": {},
     "output_type": "execute_result"
    },
    {
     "data": {
      "image/png": "[encoded data removed]",
      "text/plain": [
       "<Figure size 720x360 with 1 Axes>"
      ]
     },
     "metadata": {
      "needs_background": "light"
     },
     "output_type": "display_data"
    }
   ],
   "source": [
    "%matplotlib inline\n",
    "\n",
    "fig, ax = plt.subplots(figsize = (10,5))\n",
    "ax.plot(rl_error.t, rl_error.smart_error, label = 'Reinforcement learning control', color = 'red')\n",
    "ax.legend()\n",
    "ax.set_xlim([0,200])\n",
    "ax.set_ylim([-7,7])\n",
    "ax.axvline(x = 61, linestyle = '--', color = 'red',linewidth = 1)\n",
    "ax.annotate('one circle of RL control', (61,-4), (61+15,-4),'data',arrowprops=dict(arrowstyle=\"->\",\n",
    "                            connectionstyle=\"arc3\"), color = 'black',fontweight= 'bold')\n",
    "ax.set_xlabel('seconds', fontsize = 14)\n",
    "ax.set_ylabel('error', fontsize = 14)\n",
    "\n"
   ]
  },
  {
   "cell_type": "markdown",
   "metadata": {},
   "source": [
    "# plot all scenarios"
   ]
  },
  {
   "cell_type": "code",
   "execution_count": 113,
   "metadata": {},
   "outputs": [
    {
     "data": {
      "text/plain": [
       "Text(57, -2, 'one circle of default auto control')"
      ]
     },
     "execution_count": 113,
     "metadata": {},
     "output_type": "execute_result"
    }
   ],
   "source": [
    "%matplotlib qt\n",
    "import matplotlib.pyplot as plt\n",
    "\n",
    "fig, ax = plt.subplots(figsize = (10,5))\n",
    "ax.plot(rl_error.t, rl_error.smart_error,label = 'reinforcement learning', color = 'red')\n",
    "ax.plot(pid_error.t, pid_error.smart_error,label = 'PID control', color = 'green')\n",
    "ax.plot(human_error.t, human_error.human_error,label = 'human control',color = 'blue')\n",
    "ax.plot(de_error.t, de_error.default_auto_error, label = 'default auto control', color = 'magenta')\n",
    "\n",
    "ax.legend()\n",
    "ax.set_xlim([0,200])\n",
    "ax.set_ylim([-7,7])\n",
    "ax.set_xlabel('seconds', fontsize = 14)\n",
    "ax.set_ylabel('error', fontsize = 14)\n",
    "ax.axvline(x = 61, linestyle = '--', color  = 'red',linewidth = 1)\n",
    "ax.annotate('one circle of RL control', (61,3), (61+15,3),'data',arrowprops=dict(arrowstyle=\"->\",\n",
    "                            connectionstyle=\"arc3\"), color = 'black',fontweight= 'bold')\n",
    "\n",
    "ax.axvline(x = 50,linestyle = '--', color = 'green',linewidth = 1)\n",
    "ax.annotate('one circle of PID control', (50,2), (50+15, 2),'data',arrowprops=dict(arrowstyle=\"->\",\n",
    "                            connectionstyle=\"arc3\"), color = 'black',fontweight= 'bold')\n",
    "\n",
    "ax.axvline(x = 116, linestyle = '--', color = 'green',linewidth = 1)\n",
    "ax.axvline(x = 129, linestyle = '--', color = 'blue',linewidth = 1)\n",
    "ax.annotate('one circle of human control', (129,-2), (129+15,-2),'data',arrowprops=dict(arrowstyle=\"->\",\n",
    "                            connectionstyle=\"arc3\"), color = 'black',fontweight= 'bold')\n",
    "\n",
    "ax.axvline(x = 42, linestyle = '--', color = 'magenta',linewidth = 1)\n",
    "\n",
    "ax.annotate('one circle of default auto control', (42,-2), (42+15,-2),'data',arrowprops=dict(arrowstyle=\"->\",\n",
    "                            connectionstyle=\"arc3\"), color = 'black',fontweight= 'bold')"
   ]
  },
  {
   "cell_type": "code",
   "execution_count": null,
   "metadata": {},
   "outputs": [],
   "source": []
  },
  {
   "cell_type": "markdown",
   "metadata": {},
   "source": [
    "# bonus questions."
   ]
  },
  {
   "cell_type": "code",
   "execution_count": 191,
   "metadata": {},
   "outputs": [],
   "source": [
    "def set_up_2():\n",
    "    \n",
    "    # set up a world and add elements to it. \n",
    "    # first layer is road, the last layer is car1. c1. \n",
    "    # for setting up 2 vehicles.\n",
    "    \n",
    "    dt = 0.1 # time steps in terms of seconds. In other words, 1/dt is the FPS.\n",
    "    world_width = 120 # in meters\n",
    "    world_height = 120\n",
    "    inner_building_radius = 30\n",
    "    num_lanes = 2\n",
    "    lane_marker_width = 0.5\n",
    "    num_of_lane_markers = 50\n",
    "    lane_width = 3.5\n",
    "    \n",
    "    w = World(dt, width = world_width, height = world_height, ppm = 6) # The world is 120 meters by 120 meters. ppm is the pixels per meter.\n",
    "    \n",
    "    # To create a circular road, we will add a CircleBuilding and then a RingBuilding around it\n",
    "    cb = CircleBuilding(Point(world_width/2, world_height/2), inner_building_radius, 'yellow')\n",
    "    w.add(cb)\n",
    "    rb = RingBuilding(Point(world_width/2, world_height/2), inner_building_radius + num_lanes * lane_width + (num_lanes - 1) * lane_marker_width, 1+np.sqrt((world_width/2)**2 + (world_height/2)**2), 'blue')\n",
    "    w.add(rb)\n",
    "    # w.render()\n",
    "    # Let's also add some lane markers on the ground. This is just decorative. Because, why not.\n",
    "    for lane_no in range(num_lanes - 1):\n",
    "        lane_markers_radius = inner_building_radius + (lane_no + 1) * lane_width + (lane_no + 0.5) * lane_marker_width\n",
    "        lane_marker_height = np.sqrt(2*(lane_markers_radius**2)*(1-np.cos((2*np.pi)/(2*num_of_lane_markers)))) # approximate the circle with a polygon and then use cosine theorem\n",
    "        for theta in np.arange(0, 2*np.pi, 2*np.pi / num_of_lane_markers):\n",
    "            dx = lane_markers_radius * np.cos(theta)\n",
    "            dy = lane_markers_radius * np.sin(theta)\n",
    "            w.add(Painting(Point(world_width/2 + dx, world_height/2 + dy), Point(lane_marker_width, lane_marker_height), 'white', heading = theta))\n",
    "    \n",
    "    # A Car object is a dynamic object -- it can move. We construct it using its center location and heading angle.\n",
    "    c1 = Car(Point(91.75,60), np.pi/2)  # center of car.\n",
    "    c1.max_speed = 30.0 # let's say the maximum is 30 m/s (108 km/h)\n",
    "    c1.velocity = Point(0, 3.0)  # this is xp, yp\n",
    "    w.add(c1)\n",
    "    \n",
    "    c2 = Car(Point(91.75 + lane_width, 60), np.pi/2,'orange')\n",
    "    c2.max_speed = 30.0\n",
    "    c2.velocity = Point(0,3.0)\n",
    "    w.add(c2)\n",
    "    \n",
    "    w.render() # This visualizes the world we just constructed.\n",
    "    \n",
    "    print(\"the elements of the simulated world: \\n\", w.agents)\n",
    "    \n",
    "    return w"
   ]
  },
  {
   "cell_type": "code",
   "execution_count": 192,
   "metadata": {},
   "outputs": [],
   "source": [
    "def lane_change(car, rb, desired_lane):\n",
    "    \n",
    "    '''\n",
    "    used to formulate the lane change behavior\n",
    "    rb: ringbuilding object\n",
    "    car: car object\n",
    "    '''\n",
    "    lp = 0\n",
    "    \n",
    "    if car.distanceTo(cb) < desired_lane * (lane_width + lane_marker_width) + 0.2:\n",
    "        lp += 0. # closet to circle\n",
    "    elif car.distanceTo(rb) < (num_lanes - desired_lane - 1) * (lane_width + lane_marker_width) + 0.3:\n",
    "        lp += 1. # leave to bounrdary\n",
    "             \n",
    "    #  update heading \n",
    "    v = car.center - cb.center\n",
    "    v = np.mod(np.arctan2(v.y, v.x) + np.pi/2, 2*np.pi)\n",
    "    err1 = v - car.heading\n",
    "    \n",
    "    \n",
    "    if car.heading < v:\n",
    "        lp += 0.7\n",
    "    else:\n",
    "        lp += 0.\n",
    "\n",
    "    if np.random.rand() < lp: car.set_control(0.2, 0.1)\n",
    "        \n",
    "    else: car.set_control(-0.1, 0.1)\n",
    "    \n",
    "    return None\n",
    "    "
   ]
  },
  {
   "cell_type": "code",
   "execution_count": 236,
   "metadata": {},
   "outputs": [],
   "source": [
    "def run_simualtion_2(w, learning_approach):\n",
    "\n",
    "    \n",
    "    ''' for two vehicles.\n",
    "    :args\n",
    "        w -> the object of world\n",
    "        learning_approach --> either human_controll, pid_controll, or rl_controll\n",
    "    '''\n",
    "    c1 = w.agents[-2]\n",
    "    c2 = w.agents[-1]\n",
    "    cb = w.agents[0]\n",
    "    rb =  w.agents[1]\n",
    "    \n",
    "    dt = 0.1  # time steps in terms of seconds. In other words, 1/dt is the FPS.\n",
    "    world_width = 120 # in meters\n",
    "    world_height = 120\n",
    "    inner_building_radius = 30\n",
    "    num_lanes = 2\n",
    "    lane_marker_width = 0.5\n",
    "    num_of_lane_markers = 50\n",
    "    lane_width = 3.5\n",
    "    smart_error = [] # record error\n",
    "    \n",
    "    if learning_approach == 'default_auto':\n",
    "        \n",
    "        desired_lane = 1\n",
    "       \n",
    "        for k in range(1200):\n",
    "            \n",
    "            \n",
    "            lane_change( car = c1, rb= rb, desired_lane = D1)\n",
    "            lane_change( car = c2, rb= rb, desired_lane = D2)  # lane is from outer to inner.\n",
    "\n",
    "            w.tick() # This ticks the world for one time step (dt second)\n",
    "            w.render()\n",
    "            time.sleep(dt/4) # Let's watch it 4x\n",
    "\n",
    "            if w.collision_exists(): # We can check if there is any collision at all.\n",
    "                print('Collision exists somewhere...', end = '\\r')\n",
    "                \n",
    "#         smart_error = pd.DataFrame(smart_error, columns = ['t','default_auto_error'])\n",
    "#         smart_error.to_csv('../errors/default_auto-{:.0f}.csv'.format(time.time()))"
   ]
  },
  {
   "cell_type": "code",
   "execution_count": 238,
   "metadata": {},
   "outputs": [
    {
     "name": "stdout",
     "output_type": "stream",
     "text": [
      "the elements of the simulated world: \n",
      " [<agents.CircleBuilding object at 0x26730538>, <agents.RingBuilding object at 0x26730700>, <agents.Painting object at 0x29C442E0>, <agents.Painting object at 0x29C44E80>, <agents.Painting object at 0x29C44268>, <agents.Painting object at 0x29C44B38>, <agents.Painting object at 0x29C44EB0>, <agents.Painting object at 0x29BACF88>, <agents.Painting object at 0x2BC89760>, <agents.Painting object at 0x29C1B0E8>, <agents.Painting object at 0x29C1B388>, <agents.Painting object at 0x29C1B550>, <agents.Painting object at 0x29C1B778>, <agents.Painting object at 0x29C1B940>, <agents.Painting object at 0x29C1BA90>, <agents.Painting object at 0x29C1BC58>, <agents.Painting object at 0x29C1BD00>, <agents.Painting object at 0x29C1BDD8>, <agents.Painting object at 0x29C1BDC0>, <agents.Painting object at 0x29C5CB68>, <agents.Painting object at 0x29C5CE80>, <agents.Painting object at 0x29C5C508>, <agents.Painting object at 0x29C5C0B8>, <agents.Painting object at 0x29C5C790>, <agents.Painting object at 0x29C4E928>, <agents.Painting object at 0x29C4EB08>, <agents.Painting object at 0x29C4E340>, <agents.Painting object at 0x1D2E9F88>, <agents.Painting object at 0x1D511E38>, <agents.Painting object at 0x1D511CE8>, <agents.Painting object at 0x29C35280>, <agents.Painting object at 0x29C35598>, <agents.Painting object at 0x29C35880>, <agents.Painting object at 0x29C35670>, <agents.Painting object at 0x29C353B8>, <agents.Painting object at 0x29C35CB8>, <agents.Painting object at 0x29C35520>, <agents.Painting object at 0x29C35688>, <agents.Painting object at 0x29904760>, <agents.Painting object at 0x29B80A60>, <agents.Painting object at 0x29DCFCA0>, <agents.Painting object at 0x1B1A3898>, <agents.Painting object at 0x26733718>, <agents.Painting object at 0x299047D8>, <agents.Painting object at 0x29904F58>, <agents.Painting object at 0x29904BB0>, <agents.Painting object at 0x29904BC8>, <agents.Painting object at 0x267337C0>, <agents.Painting object at 0x26733598>, <agents.Painting object at 0x267332C8>, <agents.Painting object at 0x26733088>, <agents.Painting object at 0x29C639E8>, <agents.Car object at 0x29C63328>, <agents.Car object at 0x29C63FB8>]\n"
     ]
    }
   ],
   "source": [
    "w = set_up_2()"
   ]
  },
  {
   "cell_type": "code",
   "execution_count": 239,
   "metadata": {},
   "outputs": [
    {
     "name": "stdout",
     "output_type": "stream",
     "text": [
      "Collision exists somewhere...\r"
     ]
    }
   ],
   "source": [
    "run_simualtion_2(w, 'default_auto')\n",
    "w.close()"
   ]
  },
  {
   "cell_type": "code",
   "execution_count": 241,
   "metadata": {},
   "outputs": [],
   "source": [
    "w.close()"
   ]
  },
  {
   "cell_type": "code",
   "execution_count": 164,
   "metadata": {},
   "outputs": [
    {
     "data": {
      "text/plain": [
       "<agents.Car at 0x267306e8>"
      ]
     },
     "execution_count": 164,
     "metadata": {},
     "output_type": "execute_result"
    }
   ],
   "source": [
    "w.agents[-2]"
   ]
  },
  {
   "cell_type": "code",
   "execution_count": null,
   "metadata": {},
   "outputs": [],
   "source": []
  }
 ],
 "metadata": {
  "kernelspec": {
   "display_name": "Python 3",
   "language": "python",
   "name": "python3"
  },
  "language_info": {
   "codemirror_mode": {
    "name": "ipython",
    "version": 3
   },
   "file_extension": ".py",
   "mimetype": "text/x-python",
   "name": "python",
   "nbconvert_exporter": "python",
   "pygments_lexer": "ipython3",
   "version": "3.8.2"
  }
 },
 "nbformat": 4,
 "nbformat_minor": 4
}
