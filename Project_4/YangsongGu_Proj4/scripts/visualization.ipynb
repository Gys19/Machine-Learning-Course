{
 "cells": [
  {
   "cell_type": "code",
   "execution_count": 33,
   "metadata": {},
   "outputs": [],
   "source": [
    "import pandas as pd\n",
    "import os\n",
    "import numpy as np\n",
    "import matplotlib.pyplot as plt\n",
    "from matplotlib.ticker import (MultipleLocator, FormatStrFormatter,\n",
    "                               AutoMinorLocator,PercentFormatter,FuncFormatter)\n",
    "import matplotlib as mpl\n",
    "plt.rcParams[\"font.family\"] = \"Times New Roman\""
   ]
  },
  {
   "cell_type": "code",
   "execution_count": 34,
   "metadata": {},
   "outputs": [],
   "source": [
    "\n",
    "mpl.rcParams['axes.labelsize'] = 12\n",
    "mpl.rcParams['ytick.labelsize'] =12\n",
    "mpl.rcParams['xtick.labelsize'] =12\n",
    "# mpl.rcParams['axes.titlesize'] = 72\n",
    "# mpl.rcParams['axes.titlepad'] = 55\n",
    "# mpl.rcParams['axes.edgecolor'] = 'lightgrey'\n",
    "# mpl.rcParams['legend.borderaxespad'] = 0.3\n",
    "# mpl.rcParams['ytick.major.pad'] = 6\n",
    "# mpl.rcParams['axes.titlepad'] = 85\n",
    "# mpl.rcParams['legend.handlelength'] = 3.4"
   ]
  },
  {
   "cell_type": "code",
   "execution_count": 8,
   "metadata": {},
   "outputs": [],
   "source": [
    "digit_pth = r'C:\\Users\\guyan\\Dropbox\\Yangsong_Fifth_smester\\EECS522\\project4\\DigitResults.xlsx'\n",
    "Xor_pth = r'C:\\Users\\guyan\\Dropbox\\Yangsong_Fifth_smester\\EECS522\\project4\\XORresults.xlsx'"
   ]
  },
  {
   "cell_type": "code",
   "execution_count": 152,
   "metadata": {},
   "outputs": [],
   "source": [
    "digit_sheets = pd.ExcelFile(digit_pth)\n",
    "digit_sheets.sheet_names\n",
    "digit_structure_sheets = ['Baseline', 'NN5Raw','NN4Raw','NN3Raw','NN2Raw','NN1Raw','NN0Raw']\n",
    "digit_batch_sheets = ['NN5Raw', 'NNMIBA20','NNMIBA25','NNMIBA60','NNMIBA75', 'NNMIBA100']\n",
    "digit_eta_sheets = ['NNMIBA20','NNLR0.1','NNLR0.01','NNLR0.001','NNLR3','NNLR10','NNLR100']\n",
    "digit_momentum_sheets = ['NNLR3','NNMomBest']\n",
    "digit_str_sheets_map = { 'Baseline':'Neilson Baseline',\n",
    "                        'NN5Raw':'net = [784,256,128,64,10]',\n",
    "                       'NN4Raw':'net = [784,60,60,10]',\n",
    "                       'NN3Raw':'net = [784,60,60,60,10]',\n",
    "                        'NN2Raw':'net = [784,30,30,10]',\n",
    "                        'NN1Raw':'net = [784,64,128,256,10]',\n",
    "                        'NN0Raw':'net = [784,30,30,30,10]' \n",
    "                         }\n",
    "digit_bat_sheets_map = {\n",
    "                        'NN5Raw':'mini-batch = 15',\n",
    "                        'NNMIBA20':'mini-batch = 20',\n",
    "                        'NNMIBA25':'mini-batch = 25',\n",
    "                        'NNMIBA60':'mini-batch = 60',\n",
    "                        'NNMIBA75': 'mini-batch = 75',\n",
    "                        'NNMIBA100':'mini-batch = 100'\n",
    "                        }\n",
    "digit_eta_sheets_map = {\n",
    "                        'NNMIBA20':'eta = 1',\n",
    "                        'NNLR0.1': 'eta = 0.1' ,\n",
    "                        'NNLR0.01':'eta = 0.01',\n",
    "                        'NNLR0.001': 'eta = 0.001',\n",
    "                        'NNLR3': 'eta = 3',\n",
    "                        'NNLR10': 'eta = 10',\n",
    "                        'NNLR100': 'eta = 100',\n",
    "                        }\n",
    "digit_momentum_map = {'NNLR3': 'Normal Graident descent',\n",
    "                    'NNMomBest':'Momentum-based Gradient descent'\n",
    "                    }"
   ]
  },
  {
   "cell_type": "code",
   "execution_count": 143,
   "metadata": {},
   "outputs": [
    {
     "name": "stdout",
     "output_type": "stream",
     "text": [
      "Baseline\n",
      "sheet Baseline epoch:  25 maximum accuracy:  0.95\n",
      "NN5Raw\n",
      "sheet NN5Raw epoch:  77 maximum accuracy:  0.9805\n",
      "NN4Raw\n",
      "sheet NN4Raw epoch:  42 maximum accuracy:  0.9752\n",
      "NN3Raw\n",
      "sheet NN3Raw epoch:  28 maximum accuracy:  0.9712\n",
      "NN2Raw\n",
      "sheet NN2Raw epoch:  87 maximum accuracy:  0.9462\n",
      "NN1Raw\n",
      "sheet NN1Raw epoch:  62 maximum accuracy:  0.9575\n",
      "NN0Raw\n",
      "sheet NN0Raw epoch:  39 maximum accuracy:  0.949\n"
     ]
    }
   ],
   "source": [
    "# plot epoch vs accuracy for different network structure\n",
    "fig, ax = plt.subplots()\n",
    "ax.set_xlim([0,100])\n",
    "ax.set_ylim([0.75,1])\n",
    "ax.xaxis.set_major_locator(MultipleLocator(10))  \n",
    "ax.yaxis.set_major_locator(MultipleLocator(0.02))  \n",
    "ax.set_xlabel('epoch',fontsize = 16)\n",
    "ax.set_ylabel('accuracy', fontsize = 16)\n",
    "ax.grid(axis = 'y',linewidth = 0.5, linestyle = ':',color = 'grey')\n",
    "for shit in digit_structure_sheets:\n",
    "    \n",
    "    print(shit)\n",
    "    dig_df = pd.read_excel(digit_pth, sheet_name=shit, skiprows=1)  # skip the first raw which is the model informaiton\n",
    "    dig_df.columns = dig_df.columns.str.replace(' ', '')\n",
    "    print('sheet', shit, \"epoch: \", dig_df.acc_te.idxmax(), 'maximum accuracy: ', dig_df.acc_te.max())\n",
    "    ax.plot(dig_df.epoch, dig_df.acc_te,label = digit_str_sheets_map[shit])\n",
    "ax.legend(loc = 'lower right',fontsize = 14)\n",
    "plt.subplots_adjust(top=0.984,\n",
    "                    bottom=0.071,\n",
    "                    left=0.041,\n",
    "                    right=0.992,\n",
    "                    hspace=0.2,\n",
    "                    wspace=0.2)\n"
   ]
  },
  {
   "cell_type": "code",
   "execution_count": 147,
   "metadata": {},
   "outputs": [
    {
     "name": "stdout",
     "output_type": "stream",
     "text": [
      "NN5Raw\n",
      "sheet: NN5Raw epoch:  77 maximum accuracy:  0.9805\n",
      "NNMIBA20\n",
      "sheet: NNMIBA20 epoch:  51 maximum accuracy:  0.981\n",
      "NNMIBA25\n",
      "sheet: NNMIBA25 epoch:  93 maximum accuracy:  0.9797\n",
      "NNMIBA60\n",
      "sheet: NNMIBA60 epoch:  95 maximum accuracy:  0.9788\n",
      "NNMIBA75\n",
      "sheet: NNMIBA75 epoch:  87 maximum accuracy:  0.9783\n",
      "NNMIBA100\n",
      "sheet: NNMIBA100 epoch:  89 maximum accuracy:  0.9771\n"
     ]
    }
   ],
   "source": [
    "# plot epoch vs. accuracy for different batch size using the best model[784, 256,128,64,10]\n",
    "%matplotlib qt\n",
    "fig, ax = plt.subplots()\n",
    "ax.set_xlim([0,100])\n",
    "ax.set_ylim([0.95,1])\n",
    "ax.xaxis.set_major_locator(MultipleLocator(10))  \n",
    "ax.yaxis.set_major_locator(MultipleLocator(0.02))  \n",
    "ax.set_xlabel('epoch',fontsize = 16)\n",
    "ax.set_ylabel('accuracy', fontsize = 16)\n",
    "ax.grid(axis = 'y',linewidth = 0.5, linestyle = ':',color = 'grey')\n",
    "for shit in digit_batch_sheets:\n",
    "    \n",
    "    print(shit)\n",
    "    dig_df = pd.read_excel(digit_pth, sheet_name=shit, skiprows=1)  # skip the first raw which is the model informaiton\n",
    "    dig_df.columns = dig_df.columns.str.replace(' ', '')\n",
    "    print('sheet:', shit, \"epoch: \", dig_df.acc_te.idxmax(), 'maximum accuracy: ', dig_df.acc_te.max())\n",
    "    ax.plot(dig_df.epoch, dig_df.acc_te,label = digit_bat_sheets_map[shit])\n",
    "ax.legend(loc = 'lower right',fontsize = 14)\n",
    "plt.subplots_adjust(top=0.984,\n",
    "                    bottom=0.071,\n",
    "                    left=0.041,\n",
    "                    right=0.992,\n",
    "                    hspace=0.2,\n",
    "                    wspace=0.2)"
   ]
  },
  {
   "cell_type": "code",
   "execution_count": 157,
   "metadata": {},
   "outputs": [
    {
     "name": "stdout",
     "output_type": "stream",
     "text": [
      "NNMIBA20\n",
      "epoch:  51 maximum accuracy:  0.981\n",
      "NNLR0.1\n",
      "epoch:  49 maximum accuracy:  0.961\n",
      "NNLR0.01\n",
      "epoch:  49 maximum accuracy:  0.2105\n",
      "NNLR0.001\n",
      "epoch:  2 maximum accuracy:  0.1135\n",
      "NNLR3\n",
      "epoch:  49 maximum accuracy:  0.9818\n",
      "NNLR10\n",
      "epoch:  39 maximum accuracy:  0.9805\n",
      "NNLR100\n",
      "epoch:  0 maximum accuracy:  0.098\n"
     ]
    }
   ],
   "source": [
    "# plot epoch vs. accuracy for different batch size using the best model[784, 256,128,64,10] and batchsize = 20\n",
    "%matplotlib qt\n",
    "fig, ax = plt.subplots()\n",
    "ax.set_xlim([0,50])\n",
    "ax.set_ylim([0.,1])\n",
    "ax.xaxis.set_major_locator(MultipleLocator(10))  \n",
    "ax.yaxis.set_major_locator(MultipleLocator(0.02))  \n",
    "ax.set_xlabel('epoch',fontsize = 16)\n",
    "ax.set_ylabel('accuracy', fontsize = 16)\n",
    "ax.grid(axis = 'y',linewidth = 0.5, linestyle = ':',color = 'grey')\n",
    "for shit in digit_eta_sheets:\n",
    "    \n",
    "    print(shit)\n",
    "    dig_df = pd.read_excel(digit_pth, sheet_name=shit, skiprows=1)  # skip the first raw which is the model informaiton\n",
    "    dig_df.columns = dig_df.columns.str.replace(' ', '')\n",
    "    print(\"epoch: \", dig_df.acc_te.idxmax(), 'maximum accuracy: ', dig_df.acc_te.max())\n",
    "    ax.plot(dig_df.epoch, dig_df.acc_te,label = digit_eta_sheets_map[shit])\n",
    "ax.legend(loc = 'lower right',fontsize = 14)\n",
    "plt.subplots_adjust(top=0.984,\n",
    "                    bottom=0.071,\n",
    "                    left=0.041,\n",
    "                    right=0.992,\n",
    "                    hspace=0.2,\n",
    "                    wspace=0.2)"
   ]
  },
  {
   "cell_type": "code",
   "execution_count": 209,
   "metadata": {},
   "outputs": [
    {
     "name": "stdout",
     "output_type": "stream",
     "text": [
      "NNLR3\n",
      "NNMomBest\n"
     ]
    }
   ],
   "source": [
    "# apply momentum to best model\n",
    "\n",
    "%matplotlib qt\n",
    "fig, ax = plt.subplots()\n",
    "ax.set_xlim([0,50])\n",
    "ax.set_ylim([0.9,1])\n",
    "ax.xaxis.set_major_locator(MultipleLocator(10))  \n",
    "ax.yaxis.set_major_locator(MultipleLocator(0.02))  \n",
    "ax.set_xlabel('epoch',fontsize = 16)\n",
    "ax.set_ylabel('accuracy', fontsize = 16)\n",
    "ax.grid(axis = 'y',linewidth = 0.5, linestyle = ':',color = 'grey')\n",
    "for shit in digit_momentum_sheets:\n",
    "    \n",
    "    print(shit)\n",
    "    dig_df = pd.read_excel(digit_pth, sheet_name=shit, skiprows=1)  # skip the first raw which is the model informaiton\n",
    "    dig_df.columns = dig_df.columns.str.replace(' ', '')\n",
    "    ax.plot(dig_df.epoch, dig_df.acc_te,label = digit_momentum_map[shit])\n",
    "ax.legend(loc = 'lower right',fontsize = 14)\n",
    "plt.subplots_adjust(top=0.984,\n",
    "                    bottom=0.071,\n",
    "                    left=0.041,\n",
    "                    right=0.992,\n",
    "                    hspace=0.2,\n",
    "                    wspace=0.2)\n"
   ]
  },
  {
   "cell_type": "markdown",
   "metadata": {},
   "source": [
    "### XOR gate"
   ]
  },
  {
   "cell_type": "code",
   "execution_count": 165,
   "metadata": {},
   "outputs": [
    {
     "data": {
      "text/plain": [
       "['N1',\n",
       " 'N2',\n",
       " 'N3',\n",
       " 'N4',\n",
       " 'N5',\n",
       " 'N6',\n",
       " 'N7',\n",
       " 'N8',\n",
       " 'N9',\n",
       " 'N10',\n",
       " 'N11',\n",
       " 'N12',\n",
       " 'N13',\n",
       " 'N14',\n",
       " 'N15']"
      ]
     },
     "execution_count": 165,
     "metadata": {},
     "output_type": "execute_result"
    }
   ],
   "source": [
    "newxor_pth  =  r'C:\\Users\\guyan\\Dropbox\\Yangsong_Fifth_smester\\EECS522\\project4\\newxor\\newxor\\XORresultsNew.xlsx'\n",
    "xor_sheets = pd.ExcelFile(newxor_pth)\n",
    "xor_sheets.sheet_names  # N1- N5 bad, N6-N15 Good"
   ]
  },
  {
   "cell_type": "code",
   "execution_count": 210,
   "metadata": {},
   "outputs": [],
   "source": [
    "badcases = ['N2','N3','N4','N5']\n",
    "# goodcases = ['N6','N7','N8','N9','N10','N11','N12','N13','N14',\"N15\"]\n",
    "goodcases = ['N6','N7','N9','N11','N13',\"N15\"]\n",
    "\n",
    "lrcases = ['N16','N17','N18',\"N15\",\"N20\",\"N21\",\"N22\"]\n",
    "\n",
    "posneg = ['N15','N23','N24',\"N25\"]\n",
    "\n",
    "momcases = ['N15','N26']\n",
    "\n",
    "badnetwork = {'N2':'[2, 8, 16, 2]',\n",
    "              'N3': '[2, 8, 16,32 2]',\n",
    "              'N4': '[2, 8, 16,32, 64, 2]',\n",
    "              'N5': '[2, 8, 16, 32, 64, 2]'}\n",
    "\n",
    "goodnetwork  = {'N6':'[2, 16, 8, 2]',\n",
    "                'N7': '[2, 32, 16, 8, 2]',\n",
    "                'N9': '[2, 64, 32, 16, 8, 4, 2]',\n",
    "                'N11': '[2, 128, 64, 32, 16, 8, 4, 2]',\n",
    "                'N13':'[2, 256, 128, 64, 32, 16, 8, 4, 2]',\n",
    "                'N15':'[2, 512, 256, 128, 64, 32, 16, 8, 4, 2]'}\n",
    "\n",
    "lrnetwork = {\n",
    "            'N16':'0.001',\n",
    "            'N17':'0.01',\n",
    "            'N18': '0.1',\n",
    "            'N15':'1',\n",
    "            'N20': '3',\n",
    "            'N21':'10',\n",
    "            'N22' : '100'\n",
    "}\n",
    "\n",
    "posnegnetwork = {\n",
    "            'N15': 'symmetric gaussian',\n",
    "            'N23': 'symmetric uniform',\n",
    "            'N24': 'positive  weights and bias (uniform)',\n",
    "            'N25': 'negative weights and bias (uniform)'\n",
    "}\n",
    "\n",
    "\n",
    "momnetwork = {'N15':'standard gradient descent',\n",
    "                'N26':'momentum based gradient descent'}\n",
    "\n",
    "color = ['black','green','blue','red','purple','orange','cyan','darkgreen']\n",
    "marker = ['v','*','+','d','h', '1','2']"
   ]
  },
  {
   "cell_type": "code",
   "execution_count": 182,
   "metadata": {},
   "outputs": [
    {
     "name": "stdout",
     "output_type": "stream",
     "text": [
      "N6\n",
      "structure: [2, 16, 8, 2]\n",
      "epoch:  76 maximum accuracy:  1.0\n",
      "number of 100% epochs 24\n",
      "N7\n",
      "structure: [2, 32, 16, 8, 2]\n",
      "epoch:  12 maximum accuracy:  0.75\n",
      "number of 100% epochs 0\n",
      "N9\n",
      "structure: [2, 64, 32, 16, 8, 4, 2]\n",
      "epoch:  6 maximum accuracy:  1.0\n",
      "number of 100% epochs 71\n",
      "N11\n",
      "structure: [2, 128, 64, 32, 16, 8, 4, 2]\n",
      "epoch:  58 maximum accuracy:  1.0\n",
      "number of 100% epochs 11\n",
      "N13\n",
      "structure: [2, 256, 128, 64, 32, 16, 8, 4, 2]\n",
      "epoch:  62 maximum accuracy:  1.0\n",
      "number of 100% epochs 25\n",
      "N15\n",
      "structure: [2, 512, 256, 128, 64, 32, 16, 8, 4, 2]\n",
      "epoch:  4 maximum accuracy:  1.0\n",
      "number of 100% epochs 92\n"
     ]
    }
   ],
   "source": [
    "%matplotlib qt\n",
    "fig, ax = plt.subplots()\n",
    "ax.set_xlim([0,100])\n",
    "ax.set_ylim([0,1.25])\n",
    "ax.xaxis.set_major_locator(MultipleLocator(10))  \n",
    "ax.yaxis.set_major_locator(MultipleLocator(0.25))  \n",
    "ax.set_xlabel('epoch',fontsize = 16)\n",
    "ax.set_ylabel('accuracy', fontsize = 16)\n",
    "ax.grid(axis = 'y',linewidth = 0.5, linestyle = ':',color = 'grey')\n",
    "for idx, shit in enumerate(goodcases):\n",
    "    \n",
    "    print(shit)\n",
    "    xor_df = pd.read_excel(newxor_pth, sheet_name=shit, skiprows=1)  # skip the first raw which is the model informaiton\n",
    "    xor_df.columns = xor_df.columns.str.replace(' ', '')\n",
    "    print('structure:', goodnetwork[shit])\n",
    "    print(\"epoch: \", xor_df.acc_te.idxmax(), 'maximum accuracy: ', xor_df.acc_te.max())\n",
    "    print(\"number of 100% epochs\", (xor_df.acc_te==1).sum())\n",
    "    ax.plot(xor_df.epoch, xor_df.acc_te,label = goodnetwork[shit], marker= marker[idx], color = color[idx])\n",
    "ax.legend(loc = 'lower right',fontsize = 14)\n",
    "plt.subplots_adjust(top=0.984,\n",
    "                    bottom=0.071,\n",
    "                    left=0.041,\n",
    "                    right=0.992,\n",
    "                    hspace=0.2,\n",
    "                    wspace=0.2)"
   ]
  },
  {
   "cell_type": "code",
   "execution_count": 193,
   "metadata": {},
   "outputs": [
    {
     "name": "stdout",
     "output_type": "stream",
     "text": [
      "N16\n",
      "structure: 0.001\n",
      "epoch:  0 maximum accuracy:  0.5\n",
      "number of 100% epochs 0\n",
      "N17\n",
      "structure: 0.01\n",
      "epoch:  0 maximum accuracy:  0.5\n",
      "number of 100% epochs 0\n",
      "N18\n",
      "structure: 0.1\n",
      "epoch:  61 maximum accuracy:  1.0\n",
      "number of 100% epochs 39\n",
      "N15\n",
      "structure: 1\n",
      "epoch:  4 maximum accuracy:  1.0\n",
      "number of 100% epochs 92\n",
      "N20\n",
      "structure: 3\n",
      "epoch:  24 maximum accuracy:  1.0\n",
      "number of 100% epochs 75\n",
      "N21\n",
      "structure: 10\n",
      "epoch:  0 maximum accuracy:  0.5\n",
      "number of 100% epochs 0\n",
      "N22\n",
      "structure: 100\n",
      "epoch:  0 maximum accuracy:  0.5\n",
      "number of 100% epochs 0\n"
     ]
    }
   ],
   "source": [
    "# plot for learning rate of XOR\n",
    "%matplotlib qt\n",
    "fig, ax = plt.subplots()\n",
    "ax.set_xlim([0,100])\n",
    "ax.set_ylim([0,1.25])\n",
    "ax.xaxis.set_major_locator(MultipleLocator(10))  \n",
    "ax.yaxis.set_major_locator(MultipleLocator(0.25))  \n",
    "ax.set_xlabel('epoch',fontsize = 16)\n",
    "ax.set_ylabel('accuracy', fontsize = 16)\n",
    "ax.grid(axis = 'y',linewidth = 0.5, linestyle = ':',color = 'grey')\n",
    "acc_set = []\n",
    "for idx, shit in enumerate(lrcases):\n",
    "    \n",
    "    print(shit)\n",
    "    xor_df = pd.read_excel(newxor_pth, sheet_name=shit, skiprows=1)  # skip the first raw which is the model informaiton\n",
    "    xor_df.columns = xor_df.columns.str.replace(' ', '')\n",
    "    print('structure:', lrnetwork[shit])\n",
    "    print(\"epoch: \", xor_df.acc_te.idxmax(), 'maximum accuracy: ', xor_df.acc_te.max())\n",
    "    print(\"number of 100% epochs\", (xor_df.acc_te==1).sum())\n",
    "    acc_set.append((xor_df.acc_te==1).sum()/100)\n",
    "    ax.plot(xor_df.epoch, xor_df.acc_te,label = lrnetwork[shit], marker= marker[idx], color = color[idx])\n",
    "ax.legend(loc = 'lower right',fontsize = 14)\n",
    "plt.subplots_adjust(top=0.984,\n",
    "                    bottom=0.071,\n",
    "                    left=0.041,\n",
    "                    right=0.992,\n",
    "                    hspace=0.2,\n",
    "                    wspace=0.2)"
   ]
  },
  {
   "cell_type": "code",
   "execution_count": 202,
   "metadata": {},
   "outputs": [
    {
     "data": {
      "text/plain": [
       "Text(0, 0.5, 'Number of 100% classification cases')"
      ]
     },
     "execution_count": 202,
     "metadata": {},
     "output_type": "execute_result"
    }
   ],
   "source": [
    "fig, ax = plt.subplots()\n",
    "ax.plot([0,1,2,3,4,5,6],acc_set,marker = 'o')\n",
    "ax.set_xticks(np.arange(7))\n",
    "ax.set_xticklabels([0.001,0.01,0.1,1,3,10,100])\n",
    "ax.set_xlabel('learning rate',fontsize = 14)\n",
    "ax.set_ylabel('Number of 100% classification cases',fontsize = 14)"
   ]
  },
  {
   "cell_type": "code",
   "execution_count": 204,
   "metadata": {},
   "outputs": [
    {
     "name": "stdout",
     "output_type": "stream",
     "text": [
      "N15\n",
      "structure: symmetric gaussian\n",
      "epoch:  4 maximum accuracy:  1.0\n",
      "number of 100% epochs 92\n",
      "N23\n",
      "structure: symmetric uniform\n",
      "epoch:  0 maximum accuracy:  0.5\n",
      "number of 100% epochs 0\n",
      "N24\n",
      "structure: positive  weights and bias (uniform)\n",
      "epoch:  0 maximum accuracy:  0.5\n",
      "number of 100% epochs 0\n",
      "N25\n",
      "structure: negative weights and bias (uniform)\n",
      "epoch:  0 maximum accuracy:  0.5\n",
      "number of 100% epochs 0\n"
     ]
    }
   ],
   "source": [
    "# plot for learning rate of XOR\n",
    "%matplotlib qt\n",
    "fig, ax = plt.subplots()\n",
    "ax.set_xlim([0,100])\n",
    "ax.set_ylim([0,1.25])\n",
    "ax.xaxis.set_major_locator(MultipleLocator(10))  \n",
    "ax.yaxis.set_major_locator(MultipleLocator(0.25))  \n",
    "ax.set_xlabel('epoch',fontsize = 16)\n",
    "ax.set_ylabel('accuracy', fontsize = 16)\n",
    "ax.grid(axis = 'y',linewidth = 0.5, linestyle = ':',color = 'grey')\n",
    "acc_set = []\n",
    "for idx, shit in enumerate(posneg):\n",
    "    \n",
    "    print(shit)\n",
    "    xor_df = pd.read_excel(newxor_pth, sheet_name=shit, skiprows=1)  # skip the first raw which is the model informaiton\n",
    "    xor_df.columns = xor_df.columns.str.replace(' ', '')\n",
    "    print('structure:', posnegnetwork[shit])\n",
    "    print(\"epoch: \", xor_df.acc_te.idxmax(), 'maximum accuracy: ', xor_df.acc_te.max())\n",
    "    print(\"number of 100% epochs\", (xor_df.acc_te==1).sum())\n",
    "    acc_set.append((xor_df.acc_te==1).sum()/100)\n",
    "    ax.plot(xor_df.epoch, xor_df.acc_te,label = posnegnetwork[shit], marker= marker[idx], color = color[idx])\n",
    "ax.legend(loc = 'lower right',fontsize = 14)\n",
    "plt.subplots_adjust(top=0.984,\n",
    "                    bottom=0.071,\n",
    "                    left=0.041,\n",
    "                    right=0.992,\n",
    "                    hspace=0.2,\n",
    "                    wspace=0.2)"
   ]
  },
  {
   "cell_type": "code",
   "execution_count": 206,
   "metadata": {},
   "outputs": [
    {
     "name": "stdout",
     "output_type": "stream",
     "text": [
      "N2\n",
      "structure: [2, 8, 16, 2]\n",
      "epoch:  93 maximum accuracy:  1.0\n",
      "number of 100% epochs 2\n",
      "N3\n",
      "structure: [2, 8, 16,32 2]\n",
      "epoch:  66 maximum accuracy:  1.0\n",
      "number of 100% epochs 14\n",
      "N4\n",
      "structure: [2, 8, 16,32, 64, 2]\n",
      "epoch:  31 maximum accuracy:  0.75\n",
      "number of 100% epochs 0\n",
      "N5\n",
      "structure: [2, 8, 16, 32, 64, 2]\n",
      "epoch:  0 maximum accuracy:  0.5\n",
      "number of 100% epochs 0\n"
     ]
    }
   ],
   "source": [
    "#plot for learning rate of XOR\n",
    "%matplotlib qt\n",
    "fig, ax = plt.subplots()\n",
    "ax.set_xlim([0,100])\n",
    "ax.set_ylim([0,1.25])\n",
    "ax.xaxis.set_major_locator(MultipleLocator(10))  \n",
    "ax.yaxis.set_major_locator(MultipleLocator(0.25))  \n",
    "ax.set_xlabel('epoch',fontsize = 16)\n",
    "ax.set_ylabel('accuracy', fontsize = 16)\n",
    "ax.grid(axis = 'y',linewidth = 0.5, linestyle = ':',color = 'grey')\n",
    "acc_set = []\n",
    "for idx, shit in enumerate(badcases):\n",
    "    \n",
    "    print(shit)\n",
    "    xor_df = pd.read_excel(newxor_pth, sheet_name=shit, skiprows=1)  # skip the first raw which is the model informaiton\n",
    "    xor_df.columns = xor_df.columns.str.replace(' ', '')\n",
    "    print('structure:', badnetwork[shit])\n",
    "    print(\"epoch: \", xor_df.acc_te.idxmax(), 'maximum accuracy: ', xor_df.acc_te.max())\n",
    "    print(\"number of 100% epochs\", (xor_df.acc_te==1).sum())\n",
    "    acc_set.append((xor_df.acc_te==1).sum()/100)\n",
    "    ax.plot(xor_df.epoch, xor_df.acc_te,label = badnetwork[shit], marker= marker[idx], color = color[idx])\n",
    "ax.legend(loc = 'lower right',fontsize = 14)\n",
    "plt.subplots_adjust(top=0.984,\n",
    "                    bottom=0.071,\n",
    "                    left=0.041,\n",
    "                    right=0.992,\n",
    "                    hspace=0.2,\n",
    "                    wspace=0.2)"
   ]
  },
  {
   "cell_type": "code",
   "execution_count": 211,
   "metadata": {},
   "outputs": [
    {
     "name": "stdout",
     "output_type": "stream",
     "text": [
      "N15\n",
      "structure: standard gradient descent\n",
      "epoch:  4 maximum accuracy:  1.0\n",
      "number of 100% epochs 92\n",
      "N26\n",
      "structure: momentum based gradient descent\n",
      "epoch:  3 maximum accuracy:  1.0\n",
      "number of 100% epochs 95\n"
     ]
    }
   ],
   "source": [
    "#plot for learning rate of XOR\n",
    "%matplotlib qt\n",
    "fig, ax = plt.subplots()\n",
    "ax.set_xlim([0,100])\n",
    "ax.set_ylim([0,1.25])\n",
    "ax.xaxis.set_major_locator(MultipleLocator(10))  \n",
    "ax.yaxis.set_major_locator(MultipleLocator(0.25))  \n",
    "ax.set_xlabel('epoch',fontsize = 16)\n",
    "ax.set_ylabel('accuracy', fontsize = 16)\n",
    "ax.grid(axis = 'y',linewidth = 0.5, linestyle = ':',color = 'grey')\n",
    "acc_set = []\n",
    "for idx, shit in enumerate(momcases):\n",
    "    \n",
    "    print(shit)\n",
    "    xor_df = pd.read_excel(newxor_pth, sheet_name=shit, skiprows=1)  # skip the first raw which is the model informaiton\n",
    "    xor_df.columns = xor_df.columns.str.replace(' ', '')\n",
    "    print('structure:', momnetwork[shit])\n",
    "    print(\"epoch: \", xor_df.acc_te.idxmax(), 'maximum accuracy: ', xor_df.acc_te.max())\n",
    "    print(\"number of 100% epochs\", (xor_df.acc_te==1).sum())\n",
    "    acc_set.append((xor_df.acc_te==1).sum()/100)\n",
    "    ax.plot(xor_df.epoch, xor_df.acc_te,label = momnetwork[shit], marker= marker[idx], color = color[idx])\n",
    "ax.legend(loc = 'lower right',fontsize = 14)\n",
    "plt.subplots_adjust(top=0.984,\n",
    "                    bottom=0.071,\n",
    "                    left=0.041,\n",
    "                    right=0.992,\n",
    "                    hspace=0.2,\n",
    "                    wspace=0.2)"
   ]
  },
  {
   "cell_type": "code",
   "execution_count": null,
   "metadata": {},
   "outputs": [],
   "source": []
  },
  {
   "cell_type": "code",
   "execution_count": null,
   "metadata": {},
   "outputs": [],
   "source": []
  },
  {
   "cell_type": "code",
   "execution_count": null,
   "metadata": {},
   "outputs": [],
   "source": []
  },
  {
   "cell_type": "code",
   "execution_count": null,
   "metadata": {},
   "outputs": [],
   "source": []
  },
  {
   "cell_type": "code",
   "execution_count": null,
   "metadata": {},
   "outputs": [],
   "source": []
  },
  {
   "cell_type": "code",
   "execution_count": null,
   "metadata": {},
   "outputs": [],
   "source": []
  },
  {
   "cell_type": "code",
   "execution_count": 68,
   "metadata": {},
   "outputs": [
    {
     "data": {
      "text/plain": [
       "['N1',\n",
       " 'N2',\n",
       " 'N3(best)',\n",
       " 'N4',\n",
       " 'N5',\n",
       " 'N3LR0.5',\n",
       " 'N3LR0.1',\n",
       " 'N3LR0.001',\n",
       " 'N3LR3',\n",
       " 'N3Norm1']"
      ]
     },
     "execution_count": 68,
     "metadata": {},
     "output_type": "execute_result"
    }
   ],
   "source": [
    "xor_sheets = pd.ExcelFile(Xor_pth)\n",
    "xor_sheets.sheet_names"
   ]
  },
  {
   "cell_type": "code",
   "execution_count": 160,
   "metadata": {},
   "outputs": [],
   "source": [
    "xor_structure_sheets = ['N1', 'N2' , 'N3(best)', 'N4', 'N5']\n",
    "xor_eta_sheets = ['N3(best)','N3LR3', 'N3LR0.5','N3LR0.1','N3LR0.001']\n",
    "xor_weights_sheets = ['N3(best)', 'N3uni1','N3unineg','N3unipos']\n",
    "xor_mom_sheets = ['N3(best)', 'NMomBest']\n",
    "xor_str_sheets_map = {'N1':'net = [2,4,2]',\n",
    "                       'N2':'net = [2,8,2]',\n",
    "                       'N3(best)':'net = [2,12,6,2]',\n",
    "                        'N4':'net = [2,24,12,2]',\n",
    "                        'N5':'net = [2,32,16,2]',\n",
    "                         }\n",
    "xor_eta_sheets_map = {'N3(best)':'eta = 1',\n",
    "                       'N3LR3':'eta = 3',\n",
    "                       'N3LR0.5':'eta = 0.5',\n",
    "                        'N3LR0.1':'eta = 0.1',\n",
    "                        'N3LR0.001':'eta = 0.001',\n",
    "                         }\n",
    "xor_weights_map = {\n",
    "                            'N3(best)':'standardized normal (0, 1/sqrt(x))',\n",
    "                            'N3uni1':'uniform[-1/sqrt(x), 1/sqrt(x)]',\n",
    "                            'N3unineg':'uniform[-1/sqrt(x), 0]',\n",
    "                            'N3unipos':'uniform[0, 1/sqrt(x)]',\n",
    "                            } \n",
    "xor_momentum_map = {'N3(best)': 'Normal Graident descent',\n",
    "                    'NMomBest':'Momentum-based Gradient descent'\n",
    "                    }"
   ]
  },
  {
   "cell_type": "code",
   "execution_count": 83,
   "metadata": {},
   "outputs": [
    {
     "name": "stdout",
     "output_type": "stream",
     "text": [
      "N1\n",
      "N2\n",
      "N3(best)\n",
      "N4\n",
      "N5\n"
     ]
    }
   ],
   "source": [
    "# plot epoch vs. accuracy for different network\n",
    "fig, ax = plt.subplots()\n",
    "ax.set_xlim([0,100])\n",
    "ax.set_ylim([0.,1.25])\n",
    "ax.xaxis.set_major_locator(MultipleLocator(10))  \n",
    "ax.yaxis.set_major_locator(MultipleLocator(0.25))  \n",
    "ax.set_xlabel('epoch',fontsize = 16)\n",
    "ax.set_ylabel('accuracy', fontsize = 16)\n",
    "ax.grid(axis = 'y',linewidth = 0.5, linestyle = ':',color = 'grey')\n",
    "for shit in xor_structure_sheets:\n",
    "    \n",
    "    print(shit)\n",
    "    xor_df = pd.read_excel(Xor_pth, sheet_name=shit, skiprows=1)  # skip the first raw which is the model informaiton\n",
    "    xor_df.columns = xor_df.columns.str.replace(' ', '')\n",
    "#     print(xor_df)\n",
    "    ax.plot(xor_df.epoch, xor_df.acc_te,label = xor_str_sheets_map[shit])\n",
    "ax.legend(loc = 'lower right',fontsize = 14)\n",
    "plt.subplots_adjust(top=0.984,\n",
    "                    bottom=0.071,\n",
    "                    left=0.041,\n",
    "                    right=0.992,\n",
    "                    hspace=0.2,\n",
    "                    wspace=0.2)"
   ]
  },
  {
   "cell_type": "code",
   "execution_count": 162,
   "metadata": {},
   "outputs": [
    {
     "name": "stdout",
     "output_type": "stream",
     "text": [
      "N3(best)\n",
      "N3uni1\n",
      "N3unineg\n",
      "N3unipos\n"
     ]
    }
   ],
   "source": [
    "# plot epoch vs. accuracy for different learning rate \n",
    "fig, ax = plt.subplots()\n",
    "ax.set_xlim([0,100])\n",
    "ax.set_ylim([0.,1.25])\n",
    "ax.xaxis.set_major_locator(MultipleLocator(10))  \n",
    "ax.yaxis.set_major_locator(MultipleLocator(0.25))  \n",
    "ax.set_xlabel('epoch',fontsize = 16)\n",
    "ax.set_ylabel('accuracy', fontsize = 16)\n",
    "ax.grid(axis = 'y',linewidth = 0.5, linestyle = ':',color = 'grey')\n",
    "for shit in xor_weights_sheets:\n",
    "    \n",
    "    print(shit)\n",
    "    xor_df = pd.read_excel(Xor_pth, sheet_name=shit, skiprows=1)  # skip the first raw which is the model informaiton\n",
    "    xor_df.columns = xor_df.columns.str.replace(' ', '')\n",
    "#     print(xor_df)\n",
    "    ax.plot(xor_df.epoch, xor_df.acc_te,label = xor_weights_map[shit])\n",
    "ax.legend(loc = 'lower right',fontsize = 14)\n",
    "plt.subplots_adjust(top=0.984,\n",
    "                    bottom=0.071,\n",
    "                    left=0.041,\n",
    "                    right=0.992,\n",
    "                    hspace=0.2,\n",
    "                    wspace=0.2)"
   ]
  },
  {
   "cell_type": "markdown",
   "metadata": {},
   "source": [
    "$\\sqrt2$"
   ]
  },
  {
   "cell_type": "code",
   "execution_count": 114,
   "metadata": {},
   "outputs": [
    {
     "name": "stdout",
     "output_type": "stream",
     "text": [
      "N3(best)\n",
      "NMomBest\n"
     ]
    }
   ],
   "source": [
    "# consider momentum\n",
    "fig, ax = plt.subplots()\n",
    "ax.set_xlim([0,100])\n",
    "ax.set_ylim([0.,1.25])\n",
    "ax.xaxis.set_major_locator(MultipleLocator(10))  \n",
    "ax.yaxis.set_major_locator(MultipleLocator(0.25))  \n",
    "ax.set_xlabel('epoch',fontsize = 16)\n",
    "ax.set_ylabel('accuracy', fontsize = 16)\n",
    "ax.grid(axis = 'y',linewidth = 0.5, linestyle = ':',color = 'grey')\n",
    "for shit in xor_mom_sheets:\n",
    "    \n",
    "    print(shit)\n",
    "    xor_df = pd.read_excel(Xor_pth, sheet_name=shit, skiprows=1)  # skip the first raw which is the model informaiton\n",
    "    xor_df.columns = xor_df.columns.str.replace(' ', '')\n",
    "#     print(xor_df)\n",
    "    ax.plot(xor_df.epoch, xor_df.acc_te,label = xor_momentum_map[shit])\n",
    "ax.legend(loc = 'lower right',fontsize = 14)\n",
    "plt.subplots_adjust(top=0.984,\n",
    "                    bottom=0.071,\n",
    "                    left=0.041,\n",
    "                    right=0.992,\n",
    "                    hspace=0.2,\n",
    "                    wspace=0.2)"
   ]
  },
  {
   "cell_type": "code",
   "execution_count": 134,
   "metadata": {},
   "outputs": [],
   "source": [
    "# plot for task 2.1\n",
    "%matplotlib qt\n",
    "df = pd.read_excel(digit_pth, sheet_name='Baseline',skiprows=1)\n",
    "df.columns = df.columns.str.replace(' ', '')\n",
    "\n",
    "fig, axs = plt.subplots(1,2, sharey=False)\n",
    "\n",
    "# plot accuracy for test set\n",
    "axs[0].plot(df.epoch, df.acc_te, 'r-', marker = '^')\n",
    "axs[0].set_ylim([0.8,1])\n",
    "\n",
    "axs[0].set_xlabel('Epoch',fontsize = 18)\n",
    "# axs[0].set_title('Accuracy')\n",
    "axs[0].set_ylabel('Accuracy',fontsize = 18)\n",
    "\n",
    "# plot loss for test set\n",
    "axs[1].plot(df.epoch, df.loss_te, 'b-', marker = '^')\n",
    "axs[1].set_xlabel('Epoch',fontsize = 18)\n",
    "# axs[1].set_title('Loss')\n",
    "axs[1].set_ylabel('Loss',fontsize = 18)\n",
    "axs[1].set_ylim([400,1400])\n",
    "fig.suptitle('Model {}, learning_rate = {}, epochs = {}'.format([78430,10], 3, 100), x= 0.5, y = 1,fontsize = 20)\n",
    "plt.tight_layout()"
   ]
  },
  {
   "cell_type": "code",
   "execution_count": 124,
   "metadata": {},
   "outputs": [
    {
     "data": {
      "text/html": [
       "<div>\n",
       "<style scoped>\n",
       "    .dataframe tbody tr th:only-of-type {\n",
       "        vertical-align: middle;\n",
       "    }\n",
       "\n",
       "    .dataframe tbody tr th {\n",
       "        vertical-align: top;\n",
       "    }\n",
       "\n",
       "    .dataframe thead th {\n",
       "        text-align: right;\n",
       "    }\n",
       "</style>\n",
       "<table border=\"1\" class=\"dataframe\">\n",
       "  <thead>\n",
       "    <tr style=\"text-align: right;\">\n",
       "      <th></th>\n",
       "      <th>epoch</th>\n",
       "      <th>loss_tr</th>\n",
       "      <th>loss_te</th>\n",
       "      <th>acc_tr</th>\n",
       "      <th>acc_te</th>\n",
       "    </tr>\n",
       "  </thead>\n",
       "  <tbody>\n",
       "    <tr>\n",
       "      <th>0</th>\n",
       "      <td>0</td>\n",
       "      <td>6462.321981</td>\n",
       "      <td>1227.072208</td>\n",
       "      <td>0.84344</td>\n",
       "      <td>0.8540</td>\n",
       "    </tr>\n",
       "    <tr>\n",
       "      <th>1</th>\n",
       "      <td>1</td>\n",
       "      <td>4709.723178</td>\n",
       "      <td>906.913455</td>\n",
       "      <td>0.88534</td>\n",
       "      <td>0.8914</td>\n",
       "    </tr>\n",
       "    <tr>\n",
       "      <th>2</th>\n",
       "      <td>2</td>\n",
       "      <td>3950.418842</td>\n",
       "      <td>786.252467</td>\n",
       "      <td>0.90392</td>\n",
       "      <td>0.9038</td>\n",
       "    </tr>\n",
       "    <tr>\n",
       "      <th>3</th>\n",
       "      <td>3</td>\n",
       "      <td>3572.765743</td>\n",
       "      <td>730.964397</td>\n",
       "      <td>0.91244</td>\n",
       "      <td>0.9104</td>\n",
       "    </tr>\n",
       "    <tr>\n",
       "      <th>4</th>\n",
       "      <td>4</td>\n",
       "      <td>3281.393078</td>\n",
       "      <td>675.236846</td>\n",
       "      <td>0.92094</td>\n",
       "      <td>0.9170</td>\n",
       "    </tr>\n",
       "    <tr>\n",
       "      <th>...</th>\n",
       "      <td>...</td>\n",
       "      <td>...</td>\n",
       "      <td>...</td>\n",
       "      <td>...</td>\n",
       "      <td>...</td>\n",
       "    </tr>\n",
       "    <tr>\n",
       "      <th>95</th>\n",
       "      <td>95</td>\n",
       "      <td>995.756717</td>\n",
       "      <td>449.956001</td>\n",
       "      <td>0.97526</td>\n",
       "      <td>0.9472</td>\n",
       "    </tr>\n",
       "    <tr>\n",
       "      <th>96</th>\n",
       "      <td>96</td>\n",
       "      <td>999.981249</td>\n",
       "      <td>447.896735</td>\n",
       "      <td>0.97490</td>\n",
       "      <td>0.9476</td>\n",
       "    </tr>\n",
       "    <tr>\n",
       "      <th>97</th>\n",
       "      <td>97</td>\n",
       "      <td>984.365240</td>\n",
       "      <td>446.323196</td>\n",
       "      <td>0.97530</td>\n",
       "      <td>0.9485</td>\n",
       "    </tr>\n",
       "    <tr>\n",
       "      <th>98</th>\n",
       "      <td>98</td>\n",
       "      <td>974.447871</td>\n",
       "      <td>449.491685</td>\n",
       "      <td>0.97550</td>\n",
       "      <td>0.9485</td>\n",
       "    </tr>\n",
       "    <tr>\n",
       "      <th>99</th>\n",
       "      <td>99</td>\n",
       "      <td>973.735160</td>\n",
       "      <td>445.051131</td>\n",
       "      <td>0.97566</td>\n",
       "      <td>0.9481</td>\n",
       "    </tr>\n",
       "  </tbody>\n",
       "</table>\n",
       "<p>100 rows × 5 columns</p>\n",
       "</div>"
      ],
      "text/plain": [
       "    epoch      loss_tr      loss_te   acc_tr   acc_te \n",
       "0       0  6462.321981  1227.072208  0.84344    0.8540\n",
       "1       1  4709.723178   906.913455  0.88534    0.8914\n",
       "2       2  3950.418842   786.252467  0.90392    0.9038\n",
       "3       3  3572.765743   730.964397  0.91244    0.9104\n",
       "4       4  3281.393078   675.236846  0.92094    0.9170\n",
       "..    ...          ...          ...      ...       ...\n",
       "95     95   995.756717   449.956001  0.97526    0.9472\n",
       "96     96   999.981249   447.896735  0.97490    0.9476\n",
       "97     97   984.365240   446.323196  0.97530    0.9485\n",
       "98     98   974.447871   449.491685  0.97550    0.9485\n",
       "99     99   973.735160   445.051131  0.97566    0.9481\n",
       "\n",
       "[100 rows x 5 columns]"
      ]
     },
     "execution_count": 124,
     "metadata": {},
     "output_type": "execute_result"
    }
   ],
   "source": [
    "df"
   ]
  },
  {
   "cell_type": "code",
   "execution_count": null,
   "metadata": {},
   "outputs": [],
   "source": []
  }
 ],
 "metadata": {
  "kernelspec": {
   "display_name": "Python 3",
   "language": "python",
   "name": "python3"
  },
  "language_info": {
   "codemirror_mode": {
    "name": "ipython",
    "version": 3
   },
   "file_extension": ".py",
   "mimetype": "text/x-python",
   "name": "python",
   "nbconvert_exporter": "python",
   "pygments_lexer": "ipython3",
   "version": "3.8.2"
  }
 },
 "nbformat": 4,
 "nbformat_minor": 4
}
