{
 "cells": [
  {
   "cell_type": "code",
   "execution_count": null,
   "metadata": {
    "id": "hpwqJP7EQt30"
   },
   "outputs": [],
   "source": [
    "# create for run task 2.3 XOR Gate"
   ]
  },
  {
   "cell_type": "code",
   "execution_count": 3,
   "metadata": {
    "executionInfo": {
     "elapsed": 232,
     "status": "ok",
     "timestamp": 1635730036888,
     "user": {
      "displayName": "G Ys",
      "photoUrl": "https://lh3.googleusercontent.com/a/default-user=s64",
      "userId": "09572610401048599814"
     },
     "user_tz": 240
    },
    "id": "DmWjsn68RUvj"
   },
   "outputs": [],
   "source": [
    "import numpy as np\n",
    "import matplotlib.pyplot as plt\n",
    "import pickle\n",
    "import gzip\n",
    "import random\n",
    "import time\n",
    "import os\n",
    "import random"
   ]
  },
  {
   "cell_type": "code",
   "execution_count": 4,
   "metadata": {
    "colab": {
     "base_uri": "https://localhost:8080/"
    },
    "executionInfo": {
     "elapsed": 19287,
     "status": "ok",
     "timestamp": 1635730057663,
     "user": {
      "displayName": "G Ys",
      "photoUrl": "https://lh3.googleusercontent.com/a/default-user=s64",
      "userId": "09572610401048599814"
     },
     "user_tz": 240
    },
    "id": "O-vIqDd8RWe8",
    "outputId": "e42f8688-0986-43d3-c511-76e14d86b4cb"
   },
   "outputs": [
    {
     "name": "stdout",
     "output_type": "stream",
     "text": [
      "Mounted at /content/drive\n"
     ]
    }
   ],
   "source": [
    "from google.colab import drive\n",
    "drive.mount('/content/drive')"
   ]
  },
  {
   "cell_type": "code",
   "execution_count": 5,
   "metadata": {
    "executionInfo": {
     "elapsed": 3,
     "status": "ok",
     "timestamp": 1635730058349,
     "user": {
      "displayName": "G Ys",
      "photoUrl": "https://lh3.googleusercontent.com/a/default-user=s64",
      "userId": "09572610401048599814"
     },
     "user_tz": 240
    },
    "id": "INCFpXF9RZCr"
   },
   "outputs": [],
   "source": [
    "f = 'drive/MyDrive/EECS522/mnist.pkl.gz'"
   ]
  },
  {
   "cell_type": "code",
   "execution_count": 6,
   "metadata": {
    "executionInfo": {
     "elapsed": 3,
     "status": "ok",
     "timestamp": 1635730059269,
     "user": {
      "displayName": "G Ys",
      "photoUrl": "https://lh3.googleusercontent.com/a/default-user=s64",
      "userId": "09572610401048599814"
     },
     "user_tz": 240
    },
    "id": "w5Kk3wS2ReCc"
   },
   "outputs": [],
   "source": [
    "\n",
    "def load_data(f):\n",
    "    \n",
    "    '''\n",
    "    load the MNIST data as a tuple contraining the training dta, evaluation data, and the test data.\n",
    "    Training data has two entries, one is actual training images, which is a numpy ndarray with 50,000 entries, each entry is a numpy ndarray with 784 (28*28) pixels in a single MNIST image\n",
    "                                  the other is numpy ndarray containing 50,000 entries. Those entries are just the digit values (0...9) for the corresponding images contained in the first entry of the tuple. \n",
    "    The ``validation_data`` and ``test_data`` are similar, except each contains only 10,000 images.\n",
    "    \n",
    "     This is a nice data format, but for use in neural networks it's helpful to modify the format of the ``training_data`` a little. That's done in the wrapper function ``load_data_wrapper()``, see\n",
    "below.\n",
    "    '''\n",
    "    \n",
    "    f = gzip.open(f, 'rb')\n",
    "    training_data, validation_data, test_data = pickle.load(f, encoding=\"latin1\")\n",
    "    f.close()\n",
    "    \n",
    "    return (training_data, validation_data, test_data)\n",
    "\n",
    "def load_data_wrapper(f):\n",
    "    \"\"\"Return a tuple containing ``(training_data, validation_data,\n",
    "    test_data)``. Based on ``load_data``, but the format is more\n",
    "    convenient for use in our implementation of neural networks.\n",
    "    In particular, ``training_data`` is a list containing 50,000\n",
    "    2-tuples ``(x, y)``.  ``x`` is a 784-dimensional numpy.ndarray\n",
    "    containing the input image.  ``y`` is a 10-dimensional\n",
    "    numpy.ndarray representing the unit vector corresponding to the\n",
    "    correct digit for ``x``.\n",
    "    ``validation_data`` and ``test_data`` are lists containing 10,000\n",
    "    2-tuples ``(x, y)``.  In each case, ``x`` is a 784-dimensional\n",
    "    numpy.ndarry containing the input image, and ``y`` is the\n",
    "    corresponding classification, i.e., the digit values (integers)\n",
    "    corresponding to ``x``.\n",
    "    Obviously, this means we're using slightly different formats for\n",
    "    the training data and the validation / test data.  These formats\n",
    "    turn out to be the most convenient for use in our neural network\n",
    "    code.\"\"\"\n",
    "    tr_d, va_d, te_d = load_data(f)\n",
    "    training_inputs = [np.reshape(x, (784, 1)) for x in tr_d[0]]\n",
    "    training_results = [vectorized_result(y,10) for y in tr_d[1]]\n",
    "    training_data = list(zip(training_inputs, training_results))\n",
    "    validation_inputs = [np.reshape(x, (784, 1)) for x in va_d[0]]\n",
    "    validation_data = list(zip(validation_inputs, va_d[1]))\n",
    "    test_inputs = [np.reshape(x, (784, 1)) for x in te_d[0]]\n",
    "    test_data = list(zip(test_inputs, te_d[1]))\n",
    "    \n",
    "    return (training_data, validation_data, test_data)\n",
    "\n",
    "\n",
    "def vectorized_result(j,n):\n",
    "    \"\"\"Return a 10-dimensional unit vector with a 1.0 in the jth\n",
    "    position and zeroes elsewhere.  This is used to convert a digit\n",
    "    (0...9) into a corresponding desired output from the neural\n",
    "    network.\"\"\"\n",
    "    e = np.zeros((n, 1))\n",
    "    e[j] = 1.0\n",
    "    return e"
   ]
  },
  {
   "cell_type": "code",
   "execution_count": 24,
   "metadata": {
    "colab": {
     "base_uri": "https://localhost:8080/"
    },
    "executionInfo": {
     "elapsed": 169,
     "status": "ok",
     "timestamp": 1635707289166,
     "user": {
      "displayName": "G Ys",
      "photoUrl": "https://lh3.googleusercontent.com/a/default-user=s64",
      "userId": "09572610401048599814"
     },
     "user_tz": 240
    },
    "id": "duixBtOHwBBk",
    "outputId": "05d5e296-2aec-4644-9e3c-7ec06b505778"
   },
   "outputs": [
    {
     "data": {
      "text/plain": [
       "False"
      ]
     },
     "execution_count": 24,
     "metadata": {},
     "output_type": "execute_result"
    }
   ],
   "source": []
  },
  {
   "cell_type": "code",
   "execution_count": 109,
   "metadata": {
    "executionInfo": {
     "elapsed": 1088,
     "status": "ok",
     "timestamp": 1635737870526,
     "user": {
      "displayName": "G Ys",
      "photoUrl": "https://lh3.googleusercontent.com/a/default-user=s64",
      "userId": "09572610401048599814"
     },
     "user_tz": 240
    },
    "id": "hRABaDR4Rmot"
   },
   "outputs": [],
   "source": [
    "class Network(object):\n",
    "    \n",
    "    def __init__(self, sizes, weightype,seed):\n",
    "        \n",
    "        \n",
    "        \"\"\"The list ``sizes`` contains the number of neurons in the\n",
    "        respective layers of the network.  For example, if the list\n",
    "        was [2, 3, 1] then it would be a three-layer network, with the\n",
    "        first layer containing 2 neurons, the second layer 3 neurons,\n",
    "        and the third layer 1 neuron.  The biases and weights for the\n",
    "        network are initialized randomly, using a Gaussian\n",
    "        distribution with mean 0, and variance 1.  Note that the first\n",
    "        layer is assumed to be an input layer, and by convention we\n",
    "        won't set any biases for those neurons, since biases are only\n",
    "        ever used in computing the outputs from later layers.\"\"\"\n",
    "        \n",
    "        self.num_layers = len(sizes)\n",
    "        self.sizes = sizes\n",
    "        self.seed  = seed\n",
    "        # initialize weights and biases\n",
    "        # by different scenairos\n",
    "        # yangsong gu 10/30/2021, 5:36PM\n",
    "\n",
    "        # if self.sizes[0] > 100:\n",
    "        if 'norm' in weightype:\n",
    "            print('norm')\n",
    "            self.large_weight_initialization()\n",
    "        elif 'uni' in weightype:\n",
    "            print('uni')\n",
    "            self.sym_uniform_weight_initialization()\n",
    "        elif 'neg' in weightype:\n",
    "            print('neg_uni')\n",
    "            self.neg_uniform_weight_initialization()\n",
    "        elif  'pos' in weightype:\n",
    "            print('pos_uni')\n",
    "            self.pos_uniform_weight_initialization()\n",
    "        elif 'stdnorm' in weightype:\n",
    "            print('stdnorm')\n",
    "            self.small_weight_initialization()  \n",
    "        # for momentum based gradient descent\n",
    "        self.weights_vel = [np.zeros((y, x))\n",
    "                        for x, y in zip(self.sizes[:-1], self.sizes[1:])]\n",
    "        self.biases_vel = [np.zeros((y, 1)) for y in self.sizes[1:]]\n",
    "        \n",
    "  \n",
    "    def large_weight_initialization(self):\n",
    "\n",
    "        # from nielson book, which is basic initilization approach, \n",
    "        # the weights is not standardized. \n",
    "        random.seed(self.seed)\n",
    "        self.biases = [np.random.randn(y, 1) for y in self.sizes[1:]]\n",
    "        random.seed(self.seed)\n",
    "        self.weights = [np.random.randn(y, x)\n",
    "                        for x, y in zip(self.sizes[:-1], self.sizes[1:])]\n",
    "\n",
    "    def small_weight_initialization(self):\n",
    "\n",
    "        # standardized the weights, using sqrt(number of inputs)\n",
    "        random.seed(self.seed)\n",
    "        self.biases = [np.random.randn(y, 1) for y in self.sizes[1:]]\n",
    "        random.seed(self.seed)\n",
    "        self.weights = [np.random.randn(y, x)/np.sqrt(x)\n",
    "                        for x, y in zip(self.sizes[:-1], self.sizes[1:])]\n",
    "    def pos_uniform_weight_initialization(self):\n",
    "\n",
    "        # uniform distribution of weights      \n",
    "        random.seed(self.seed)\n",
    "        self.biases = [np.random.randn(y, 1)/np.sqrt(y) for y in self.sizes[1:]]\n",
    "        random.seed(self.seed)\n",
    "        self.weights = [np.random.uniform(low=0, high=1/np.sqrt(x), size=(y,x)) \n",
    "                        for x, y in zip(self.sizes[:-1], self.sizes[1:])]\n",
    "    def neg_uniform_weight_initialization(self):\n",
    "\n",
    "        # uniform distribution of weights      \n",
    "        random.seed(self.seed)\n",
    "        self.biases = [np.random.randn(y, 1)/np.sqrt(y) for y in self.sizes[1:]]\n",
    "        random.seed(self.seed)\n",
    "        self.weights = [np.random.uniform(low=-1/np.sqrt(x), high=0, size=(y,x)) \n",
    "                        for x, y in zip(self.sizes[:-1], self.sizes[1:])]\n",
    "    def sym_uniform_weight_initialization(self):\n",
    "\n",
    "        # uniform distribution of weights      \n",
    "        random.seed(self.seed)\n",
    "        self.biases = [np.random.randn(y, 1)/np.sqrt(y) for y in self.sizes[1:]]\n",
    "        random.seed(self.seed)\n",
    "        self.weights = [np.random.uniform(low=-1/np.sqrt(x), high=1/np.sqrt(x), size=(y,x)) \n",
    "                        for x, y in zip(self.sizes[:-1], self.sizes[1:])]\n",
    "\n",
    "    def feedforward(self, a):\n",
    "            \n",
    "        \"\"\"Return the output of the network if ``a`` is input.\"\"\"\n",
    "        for b, w in zip(self.biases, self.weights):\n",
    "\n",
    "            a = self.sigmoid(np.dot(w, a)+b)\n",
    "\n",
    "        return a\n",
    "        \n",
    "    def SGD(self, training_data, epochs, mini_batch_size, eta, subtype, test_data=None):\n",
    "        \"\"\"Train the neural network using mini-batch stochastic\n",
    "        gradient descent.  The ``training_data`` is a list of tuples\n",
    "        ``(x, y)`` representing the training inputs and the desired\n",
    "        outputs.  The other non-optional parameters are\n",
    "        self-explanatory.  If ``test_data`` is provided then the\n",
    "        network will be evaluated against the test data after each\n",
    "        epoch, and partial progress printed out.  This is useful for\n",
    "        tracking progress, but slows things down substantially.\"\"\"\n",
    "\n",
    "        training_data = list(training_data)\n",
    "        n_train = len(training_data)\n",
    "\n",
    "\n",
    "        loss_Tr = [] # loss of training set  use upper case T to denote a set of samples\n",
    "        loss_Te = [] # loss of test set\n",
    "        acc_Tr  = [] # accuracy of training set\n",
    "        acc_Te  = [] # accuracy of test set\n",
    "    \n",
    "        f = open('drive/MyDrive/EECS522/newvision/newxor/{}_model_{}ep{}_mb{}_eta{}_sed{}.txt'.format(subtype,self.sizes, epochs,mini_batch_size, eta,self.seed), 'w')\n",
    "\n",
    "        f.write('Layers {} learning rate: {}, min_batch: {}, epochs:{} \\n'.format(self.sizes, \n",
    "                eta, mini_batch_size,epochs))\n",
    "      \n",
    "\n",
    "        f.write('epoch, loss_tr,loss_te, acc_tr, acc_te \\n')\n",
    "        \n",
    "        if test_data:\n",
    "\n",
    "            test_data = list(test_data)\n",
    "            n_test = len(test_data)\n",
    "\n",
    "        for j in range(epochs):\n",
    "            random.shuffle(training_data)\n",
    "            mini_batches = [\n",
    "                training_data[k:k+mini_batch_size]\n",
    "                for k in range(0, n_train, mini_batch_size)]\n",
    "            \n",
    "            \n",
    "            for mini_batch in mini_batches:\n",
    "                self.update_mini_batch(mini_batch, eta)\n",
    "                \n",
    "            if test_data and (j % 20)==0:\n",
    "                print(\"Epoch {}: {} / {}\".format(j, self.evaluate(test_data), n_test))\n",
    "                          \n",
    "            else:\n",
    "                # print(\"Epoch {} complete\".format(j))\n",
    "                print(end = '\\r')\n",
    "            \n",
    "            # compute the loss for training data set\n",
    "            loss_tr = [0.5 * np.sum((self.feedforward(x) - y)**2) for (x, y) in training_data]\n",
    "\n",
    "            loss_Tr.append(sum(loss_tr))\n",
    "            \n",
    "            \n",
    "        \n",
    "            # write the accuracy to \n",
    "            # compute the loss for test data set\n",
    "            if test_data:\n",
    "                loss_te = [0.5 * np.sum((self.feedforward(x) - vectorized_result(y,self.sizes[-1]))**2) for (x, y ) in test_data]\n",
    "                loss_Te.append(sum(loss_te))\n",
    "            # compute the accuracy for training data\n",
    "\n",
    "            res_tr = [(np.argmax(self.feedforward(x)), np.argmax(y)) for (x,y) in training_data]\n",
    "            # acc_tr = self.evaluate(training_data) / n_train\n",
    "            acc_tr = sum(int(x == y) for (x, y) in res_tr) / n_train\n",
    "\n",
    "            acc_Tr.append(acc_tr)\n",
    "            \n",
    "            # accuracy of test set, y is not vectorized \n",
    "            if test_data:\n",
    "\n",
    "                acc_te = self.evaluate(test_data) /n_test\n",
    "                acc_Te.append(acc_te)\n",
    "            \n",
    "            f.write(\"{}, {:10}, {:10}, {:.5}, {:.5}\\n\".format(j, sum(loss_tr), sum(loss_te),acc_tr, acc_te))\n",
    "            \n",
    "        f.close()\n",
    "        return loss_Tr, loss_Te, acc_Tr, acc_Te\n",
    "    \n",
    "    def update_mini_batch(self, mini_batch, eta):\n",
    "        \"\"\"Update the network's weights and biases by applying\n",
    "        gradient descent using backpropagation to a single mini batch.\n",
    "        The ``mini_batch`` is a list of tuples ``(x, y)``, and ``eta``\n",
    "        is the learning rate.\"\"\"\n",
    "        nabla_b = [np.zeros(b.shape) for b in self.biases]\n",
    "        nabla_w = [np.zeros(w.shape) for w in self.weights]\n",
    "        for x, y in mini_batch:\n",
    "            delta_nabla_b, delta_nabla_w = self.backprop(x, y)\n",
    "            nabla_b = [nb+dnb for nb, dnb in zip(nabla_b, delta_nabla_b)]\n",
    "            nabla_w = [nw+dnw for nw, dnw in zip(nabla_w, delta_nabla_w)]\n",
    "        self.weights = [w-(eta/len(mini_batch))*nw\n",
    "                        for w, nw in zip(self.weights, nabla_w)]\n",
    "        self.biases = [b-(eta/len(mini_batch))*nb\n",
    "                       for b, nb in zip(self.biases, nabla_b)]\n",
    "\n",
    "    def update_mini_batch_momentum(self, mini_batch,eta):\n",
    "\n",
    "      # apply momentum to update weights and biases\n",
    "      # ys g 6:20PM 10/30/2021\n",
    "      nabla_b = [np.zeros(b.shape) for b in self.biases]\n",
    "      nabla_w = [np.zeros(w.shape) for w in self.weights]\n",
    "      for x, y in mini_batch:\n",
    "          delta_nabla_b, delta_nabla_w = self.backprop(x, y)\n",
    "          nabla_b = [nb+dnb for nb, dnb in zip(nabla_b, delta_nabla_b)]\n",
    "          nabla_w = [nw+dnw for nw, dnw in zip(nabla_w, delta_nabla_w)]\n",
    "      mu = 0.9 # momentum\n",
    "      self.weights_vel = [mu * v - (eta/len(mini_batch)) * nw for v, nw in zip(self.weights_vel, nabla_w)]\n",
    "      self.biases_vel = [mu * v - (eta/len(mini_batch)) * nw for v, nw in zip(self.biases_vel, nabla_b)]\n",
    "\n",
    "      self.weights  = [w  + v for w, v in zip(self.weights, self.weights_vel)]\n",
    "      self.biases = [b + v for b, v in zip(self.biases, self.biases_vel)]\n",
    "\n",
    "    \n",
    "    def backprop(self, x, y):\n",
    "        \"\"\"Return a tuple ``(nabla_b, nabla_w)`` representing the\n",
    "        gradient for the cost function C_x.  ``nabla_b`` and\n",
    "        ``nabla_w`` are layer-by-layer lists of numpy arrays, similar\n",
    "        to ``self.biases`` and ``self.weights``.\"\"\"\n",
    "        nabla_b = [np.zeros(b.shape) for b in self.biases]\n",
    "        nabla_w = [np.zeros(w.shape) for w in self.weights]\n",
    "        # feedforward\n",
    "        activation = x\n",
    "        activations = [x] # list to store all the activations, layer by layer\n",
    "        zs = [] # list to store all the z vectors, layer by layer\n",
    "        for b, w in zip(self.biases, self.weights):\n",
    "            z = np.dot(w, activation)+b\n",
    "            zs.append(z)\n",
    "            activation = self.sigmoid(z)\n",
    "            activations.append(activation)\n",
    "        # backward pass\n",
    "        delta = self.cost_derivative(activations[-1], y) * \\\n",
    "            self.sigmoid_prime(zs[-1])\n",
    "        nabla_b[-1] = delta\n",
    "        nabla_w[-1] = np.dot(delta, activations[-2].transpose())\n",
    "        # Note that the variable l in the loop below is used a little\n",
    "        # differently to the notation in Chapter 2 of the book.  Here,\n",
    "        # l = 1 means the last layer of neurons, l = 2 is the\n",
    "        # second-last layer, and so on.  It's a renumbering of the\n",
    "        # scheme in the book, used here to take advantage of the fact\n",
    "        # that Python can use negative indices in lists.\n",
    "        for l in range(2, self.num_layers):\n",
    "            z = zs[-l]\n",
    "            sp = self.sigmoid_prime(z)\n",
    "            delta = np.dot(self.weights[-l+1].transpose(), delta) * sp\n",
    "            nabla_b[-l] = delta\n",
    "            nabla_w[-l] = np.dot(delta, activations[-l-1].transpose())\n",
    "        return (nabla_b, nabla_w)\n",
    "\n",
    "    \n",
    "    def evaluate(self, test_data):\n",
    "        \"\"\"Return the number of test inputs for which the neural\n",
    "        network outputs the correct result. Note that the neural\n",
    "        network's output is assumed to be the index of whichever\n",
    "        neuron in the final layer has the highest activation.\"\"\"\n",
    "\n",
    "        # modeified by Yangsong \n",
    "        # y --> np.argmax(y) if there are multiple maximum\n",
    "        test_results = [(np.argmax(self.feedforward(x)), y)\n",
    "                        for (x, y) in test_data]\n",
    "        \n",
    "        return sum(int(x == y) for (x, y) in test_results)\n",
    "    \n",
    "    \n",
    "    \n",
    "    def cost_derivative(self, output_activations, y):\n",
    "        \"\"\"Return the vector of partial derivatives \\partial C_x /\n",
    "        \\partial a for the output activations.\"\"\"\n",
    "        return (output_activations-y)\n",
    "    \n",
    "    def sigmoid(self, z):\n",
    "        '''simoid function'''\n",
    "        return 1/(1+np.exp(-z))\n",
    "\n",
    "    def sigmoid_prime(self, z):\n",
    "        '''\n",
    "        derivative of sigmoid function'''\n",
    "\n",
    "        return self.sigmoid(z) * (1- self.sigmoid(z))"
   ]
  },
  {
   "cell_type": "code",
   "execution_count": null,
   "metadata": {
    "id": "QcjxMRFMSwn0"
   },
   "outputs": [],
   "source": [
    "## TASK 2.2"
   ]
  },
  {
   "cell_type": "code",
   "execution_count": 55,
   "metadata": {
    "executionInfo": {
     "elapsed": 207,
     "status": "ok",
     "timestamp": 1635732773208,
     "user": {
      "displayName": "G Ys",
      "photoUrl": "https://lh3.googleusercontent.com/a/default-user=s64",
      "userId": "09572610401048599814"
     },
     "user_tz": 240
    },
    "id": "hOPjjVrqS3Ul"
   },
   "outputs": [],
   "source": [
    "# XOR gate\n",
    "\n",
    "def vectorized_y(j):\n",
    "    \"\"\"Return a 2-dimensional unit vector with a 1.0 in the jth\n",
    "    position and zeroes elsewhere. This is used to convert a digit\n",
    "    (0, 1) into a corresponding desired output from the neural\n",
    "    network.\"\"\"\n",
    "    e = np.zeros((2, 1))\n",
    "    e[j] = 1.0\n",
    "\n",
    "    return e\n",
    "\n",
    "def XOR_data():\n",
    "    \n",
    "    tr_x = np.array([[0,0],[1,0],[0,1], [1,1]])\n",
    "    te_y = np.array([0,1,1,0])                 # dont vectorize y for test labels\n",
    "    tr_input = [np.reshape(x, (2,1)) for x in tr_x]\n",
    "    tr_y = [vectorized_y(i) for i in te_y]     # vectorize y for training labels\n",
    "\n",
    "    train_data = list(zip(tr_input, tr_y))\n",
    "    \n",
    "    test_data = list(zip(tr_input, te_y))\n",
    "\n",
    "    return train_data, test_data \n"
   ]
  },
  {
   "cell_type": "markdown",
   "metadata": {
    "id": "dTKnxFn9RbyB"
   },
   "source": [
    "# network structure new"
   ]
  },
  {
   "cell_type": "code",
   "execution_count": 59,
   "metadata": {
    "colab": {
     "base_uri": "https://localhost:8080/",
     "height": 366
    },
    "executionInfo": {
     "elapsed": 763,
     "status": "ok",
     "timestamp": 1635732840300,
     "user": {
      "displayName": "G Ys",
      "photoUrl": "https://lh3.googleusercontent.com/a/default-user=s64",
      "userId": "09572610401048599814"
     },
     "user_tz": 240
    },
    "id": "5_w6Q3sxRZY_",
    "outputId": "ad43131f-a4d4-42c0-dbd1-265a87dc9c02"
   },
   "outputs": [
    {
     "name": "stdout",
     "output_type": "stream",
     "text": [
      "Epoch 0: 2 / 4\n",
      "Epoch 20: 2 / 4\n",
      "Epoch 40: 3 / 4\n",
      "Epoch 60: 3 / 4\n",
      "Epoch 80: 3 / 4\n",
      "0.3976719379425049\n"
     ]
    },
    {
     "data": {
      "image/png": "[encoded data removed]",
      "text/plain": [
       "<Figure size 432x288 with 1 Axes>"
      ]
     },
     "metadata": {
      "needs_background": "light"
     },
     "output_type": "display_data"
    }
   ],
   "source": [
    "# adjust network structure 0\n",
    "model = {'min_batch':1, 'epoches':100, 'learningrate':1, 'comment': 'XOR_raw_stdnorm'}\n",
    "t1 = time.time()\n",
    "training_data, test_data = XOR_data()\n",
    "seed = 522\n",
    "net = Network([2, 8, 4, 2], weightype = 'stdnorm', seed = seed)\n",
    "loss_Tr, loss_Te, acc_tr, acc_Te = net.SGD(training_data, model['epoches'] , model['min_batch'], model['learningrate'], model['comment'], test_data = test_data)\n",
    "plt.plot(acc_Te)\n",
    "print(time.time() - t1)"
   ]
  },
  {
   "cell_type": "code",
   "execution_count": 60,
   "metadata": {
    "colab": {
     "base_uri": "https://localhost:8080/",
     "height": 366
    },
    "executionInfo": {
     "elapsed": 540,
     "status": "ok",
     "timestamp": 1635732855810,
     "user": {
      "displayName": "G Ys",
      "photoUrl": "https://lh3.googleusercontent.com/a/default-user=s64",
      "userId": "09572610401048599814"
     },
     "user_tz": 240
    },
    "id": "8O3brlbORZDc",
    "outputId": "0ce27de4-4d55-4eed-f9e9-bfe6a3905af3"
   },
   "outputs": [
    {
     "name": "stdout",
     "output_type": "stream",
     "text": [
      "Epoch 0: 2 / 4\n",
      "Epoch 20: 3 / 4\n",
      "Epoch 40: 3 / 4\n",
      "Epoch 60: 3 / 4\n",
      "Epoch 80: 4 / 4\n",
      "0.12956619262695312\n"
     ]
    },
    {
     "data": {
      "image/png": "[encoded data removed]",
      "text/plain": [
       "<Figure size 432x288 with 1 Axes>"
      ]
     },
     "metadata": {
      "needs_background": "light"
     },
     "output_type": "display_data"
    }
   ],
   "source": [
    "# adjust network structure 0\n",
    "model = {'min_batch':1, 'epoches':100, 'learningrate':1, 'comment': 'XOR_raw_stdnorm'}\n",
    "t1 = time.time()\n",
    "training_data, test_data = XOR_data()\n",
    "seed = 522\n",
    "net = Network([2,16, 8, 2], weightype = 'stdnorm', seed = seed)\n",
    "loss_Tr, loss_Te, acc_tr, acc_Te = net.SGD(training_data, model['epoches'] , model['min_batch'], model['learningrate'], model['comment'], test_data = test_data)\n",
    "plt.plot(acc_Te)\n",
    "print(time.time() - t1)"
   ]
  },
  {
   "cell_type": "code",
   "execution_count": 61,
   "metadata": {
    "colab": {
     "base_uri": "https://localhost:8080/",
     "height": 366
    },
    "executionInfo": {
     "elapsed": 616,
     "status": "ok",
     "timestamp": 1635732865110,
     "user": {
      "displayName": "G Ys",
      "photoUrl": "https://lh3.googleusercontent.com/a/default-user=s64",
      "userId": "09572610401048599814"
     },
     "user_tz": 240
    },
    "id": "r89nSo5fRX5p",
    "outputId": "e03c43e2-f5fa-48ed-972c-25431807fa46"
   },
   "outputs": [
    {
     "name": "stdout",
     "output_type": "stream",
     "text": [
      "Epoch 0: 2 / 4\n",
      "Epoch 20: 1 / 4\n",
      "Epoch 40: 3 / 4\n",
      "Epoch 60: 3 / 4\n",
      "Epoch 80: 3 / 4\n",
      "0.2051098346710205\n"
     ]
    },
    {
     "data": {
      "image/png": "[encoded data removed]",
      "text/plain": [
       "<Figure size 432x288 with 1 Axes>"
      ]
     },
     "metadata": {
      "needs_background": "light"
     },
     "output_type": "display_data"
    }
   ],
   "source": [
    "# adjust network structure 0\n",
    "model = {'min_batch':1, 'epoches':100, 'learningrate':1, 'comment': 'XOR_raw_stdnorm'}\n",
    "t1 = time.time()\n",
    "training_data, test_data = XOR_data()\n",
    "seed = 522\n",
    "net = Network([2,32, 16, 8, 2], weightype = 'stdnorm', seed = seed)\n",
    "loss_Tr, loss_Te, acc_tr, acc_Te = net.SGD(training_data, model['epoches'] , model['min_batch'], model['learningrate'], model['comment'], test_data = test_data)\n",
    "plt.plot(acc_Te)\n",
    "print(time.time() - t1)"
   ]
  },
  {
   "cell_type": "code",
   "execution_count": 91,
   "metadata": {
    "colab": {
     "base_uri": "https://localhost:8080/",
     "height": 366
    },
    "executionInfo": {
     "elapsed": 498,
     "status": "ok",
     "timestamp": 1635734589224,
     "user": {
      "displayName": "G Ys",
      "photoUrl": "https://lh3.googleusercontent.com/a/default-user=s64",
      "userId": "09572610401048599814"
     },
     "user_tz": 240
    },
    "id": "EB0jn584RXsS",
    "outputId": "38c76d06-6276-471c-f416-49ddeb4d17a1"
   },
   "outputs": [
    {
     "name": "stdout",
     "output_type": "stream",
     "text": [
      "Epoch 0: 2 / 4\n",
      "Epoch 20: 3 / 4\n",
      "Epoch 40: 3 / 4\n",
      "Epoch 60: 3 / 4\n",
      "Epoch 80: 4 / 4\n",
      "0.26201295852661133\n"
     ]
    },
    {
     "data": {
      "image/png": "[encoded data removed]",
      "text/plain": [
       "<Figure size 432x288 with 1 Axes>"
      ]
     },
     "metadata": {
      "needs_background": "light"
     },
     "output_type": "display_data"
    }
   ],
   "source": [
    "# adjust network structure 0\n",
    "model = {'min_batch':1, 'epoches':100, 'learningrate':1, 'comment': 'XOR_raw_stdnorm'}\n",
    "t1 = time.time()\n",
    "training_data, test_data = XOR_data()\n",
    "seed = 522\n",
    "net = Network([2,64, 32, 16, 8, 2], weightype = 'stdnorm', seed = seed)\n",
    "loss_Tr, loss_Te, acc_tr, acc_Te = net.SGD(training_data, model['epoches'] , model['min_batch'], model['learningrate'], model['comment'], test_data = test_data)\n",
    "plt.plot(acc_Te)\n",
    "print(time.time() - t1)"
   ]
  },
  {
   "cell_type": "code",
   "execution_count": 89,
   "metadata": {
    "colab": {
     "base_uri": "https://localhost:8080/",
     "height": 366
    },
    "executionInfo": {
     "elapsed": 531,
     "status": "ok",
     "timestamp": 1635734574031,
     "user": {
      "displayName": "G Ys",
      "photoUrl": "https://lh3.googleusercontent.com/a/default-user=s64",
      "userId": "09572610401048599814"
     },
     "user_tz": 240
    },
    "id": "TvCei1xGRWli",
    "outputId": "97721a29-830c-4965-b970-e6a4f9b9612b"
   },
   "outputs": [
    {
     "name": "stdout",
     "output_type": "stream",
     "text": [
      "Epoch 0: 2 / 4\n",
      "Epoch 20: 3 / 4\n",
      "Epoch 40: 4 / 4\n",
      "Epoch 60: 4 / 4\n",
      "Epoch 80: 4 / 4\n",
      "0.2916734218597412\n"
     ]
    },
    {
     "data": {
      "image/png": "[encoded data removed]",
      "text/plain": [
       "<Figure size 432x288 with 1 Axes>"
      ]
     },
     "metadata": {
      "needs_background": "light"
     },
     "output_type": "display_data"
    }
   ],
   "source": [
    "# adjust network structure 0\n",
    "model = {'min_batch':1, 'epoches':100, 'learningrate':1, 'comment': 'XOR_raw_stdnorm'}\n",
    "t1 = time.time()\n",
    "training_data, test_data = XOR_data()\n",
    "seed = 522\n",
    "net = Network([2,128,64, 32, 16, 8, 4, 2], weightype = 'stdnorm', seed = seed)\n",
    "loss_Tr, loss_Te, acc_tr, acc_Te = net.SGD(training_data, model['epoches'] , model['min_batch'], model['learningrate'], model['comment'], test_data = test_data)\n",
    "plt.plot(acc_Te)\n",
    "print(time.time() - t1)"
   ]
  },
  {
   "cell_type": "code",
   "execution_count": 77,
   "metadata": {
    "colab": {
     "base_uri": "https://localhost:8080/",
     "height": 366
    },
    "executionInfo": {
     "elapsed": 793,
     "status": "ok",
     "timestamp": 1635733107020,
     "user": {
      "displayName": "G Ys",
      "photoUrl": "https://lh3.googleusercontent.com/a/default-user=s64",
      "userId": "09572610401048599814"
     },
     "user_tz": 240
    },
    "id": "2or7-AMhRXbm",
    "outputId": "f1617b5a-db9c-40a6-9f8f-1dc58c62c539"
   },
   "outputs": [
    {
     "name": "stdout",
     "output_type": "stream",
     "text": [
      "Epoch 0: 2 / 4\n",
      "Epoch 20: 3 / 4\n",
      "Epoch 40: 3 / 4\n",
      "Epoch 60: 3 / 4\n",
      "Epoch 80: 4 / 4\n",
      "0.5605809688568115\n"
     ]
    },
    {
     "data": {
      "image/png": "[encoded data removed]",
      "text/plain": [
       "<Figure size 432x288 with 1 Axes>"
      ]
     },
     "metadata": {
      "needs_background": "light"
     },
     "output_type": "display_data"
    }
   ],
   "source": [
    "# adjust network structure 0\n",
    "model = {'min_batch':1, 'epoches':100, 'learningrate':1, 'comment': 'XOR_raw_stdnorm'}\n",
    "t1 = time.time()\n",
    "training_data, test_data = XOR_data()\n",
    "seed = 522\n",
    "net = Network([2,256, 128, 64, 32, 16, 8,4, 2], weightype = 'stdnorm', seed = seed)\n",
    "loss_Tr, loss_Te, acc_tr, acc_Te = net.SGD(training_data, model['epoches'] , model['min_batch'], model['learningrate'], model['comment'], test_data = test_data)\n",
    "plt.plot(acc_Te)\n",
    "print(time.time() - t1)"
   ]
  },
  {
   "cell_type": "code",
   "execution_count": 76,
   "metadata": {
    "colab": {
     "base_uri": "https://localhost:8080/",
     "height": 366
    },
    "executionInfo": {
     "elapsed": 1548,
     "status": "ok",
     "timestamp": 1635733101414,
     "user": {
      "displayName": "G Ys",
      "photoUrl": "https://lh3.googleusercontent.com/a/default-user=s64",
      "userId": "09572610401048599814"
     },
     "user_tz": 240
    },
    "id": "GNz-p8r4RWC7",
    "outputId": "99f9a941-b084-44de-b416-98c65002b18d"
   },
   "outputs": [
    {
     "name": "stdout",
     "output_type": "stream",
     "text": [
      "Epoch 0: 2 / 4\n",
      "Epoch 20: 4 / 4\n",
      "Epoch 40: 4 / 4\n",
      "Epoch 60: 4 / 4\n",
      "Epoch 80: 4 / 4\n",
      "1.2641799449920654\n"
     ]
    },
    {
     "data": {
      "image/png": "[encoded data removed]",
      "text/plain": [
       "<Figure size 432x288 with 1 Axes>"
      ]
     },
     "metadata": {
      "needs_background": "light"
     },
     "output_type": "display_data"
    }
   ],
   "source": [
    "# adjust network structure 0\n",
    "model = {'min_batch':1, 'epoches':100, 'learningrate':1, 'comment': 'XOR_raw_stdnorm'}\n",
    "t1 = time.time()\n",
    "training_data, test_data = XOR_data()\n",
    "seed = 522\n",
    "net = Network([2,512, 256, 128, 64, 32, 16, 8,4, 2], weightype = 'stdnorm', seed = seed)\n",
    "loss_Tr, loss_Te, acc_tr, acc_Te = net.SGD(training_data, model['epoches'] , model['min_batch'], model['learningrate'], model['comment'], test_data = test_data)\n",
    "plt.plot(acc_Te)\n",
    "print(time.time() - t1)"
   ]
  },
  {
   "cell_type": "code",
   "execution_count": 84,
   "metadata": {
    "colab": {
     "base_uri": "https://localhost:8080/",
     "height": 366
    },
    "executionInfo": {
     "elapsed": 1472,
     "status": "ok",
     "timestamp": 1635733158826,
     "user": {
      "displayName": "G Ys",
      "photoUrl": "https://lh3.googleusercontent.com/a/default-user=s64",
      "userId": "09572610401048599814"
     },
     "user_tz": 240
    },
    "id": "UV2LgavwSeia",
    "outputId": "0ceac9dc-6261-4262-fb49-a4198b98c777"
   },
   "outputs": [
    {
     "name": "stdout",
     "output_type": "stream",
     "text": [
      "Epoch 0: 2 / 4\n",
      "Epoch 20: 4 / 4\n",
      "Epoch 40: 4 / 4\n",
      "Epoch 60: 4 / 4\n",
      "Epoch 80: 4 / 4\n",
      "1.194380521774292\n"
     ]
    },
    {
     "data": {
      "image/png": "[encoded data removed]",
      "text/plain": [
       "<Figure size 432x288 with 1 Axes>"
      ]
     },
     "metadata": {
      "needs_background": "light"
     },
     "output_type": "display_data"
    }
   ],
   "source": [
    "# adjust network structure 0\n",
    "model = {'min_batch':1, 'epoches':100, 'learningrate':1, 'comment': 'XOR_raw_stdnorm'}\n",
    "t1 = time.time()\n",
    "training_data, test_data = XOR_data()\n",
    "seed = 522\n",
    "net = Network([2,512, 256, 128, 64, 32,16,8, 4, 2], weightype = 'stdnorm', seed = seed)\n",
    "loss_Tr, loss_Te, acc_tr, acc_Te = net.SGD(training_data, model['epoches'] , model['min_batch'], model['learningrate'], model['comment'], test_data = test_data)\n",
    "plt.plot(acc_Te)\n",
    "print(time.time() - t1)"
   ]
  },
  {
   "cell_type": "code",
   "execution_count": 92,
   "metadata": {
    "colab": {
     "base_uri": "https://localhost:8080/",
     "height": 366
    },
    "executionInfo": {
     "elapsed": 1454,
     "status": "ok",
     "timestamp": 1635736100642,
     "user": {
      "displayName": "G Ys",
      "photoUrl": "https://lh3.googleusercontent.com/a/default-user=s64",
      "userId": "09572610401048599814"
     },
     "user_tz": 240
    },
    "id": "lPQugCwNd8Ak",
    "outputId": "6f149b88-e0fe-4db8-9f11-d2ae7839ceed"
   },
   "outputs": [
    {
     "name": "stdout",
     "output_type": "stream",
     "text": [
      "Epoch 0: 2 / 4\n",
      "Epoch 20: 2 / 4\n",
      "Epoch 40: 3 / 4\n",
      "Epoch 60: 3 / 4\n",
      "Epoch 80: 4 / 4\n",
      "1.1216843128204346\n"
     ]
    },
    {
     "data": {
      "image/png": "[encoded data removed]",
      "text/plain": [
       "<Figure size 432x288 with 1 Axes>"
      ]
     },
     "metadata": {
      "needs_background": "light"
     },
     "output_type": "display_data"
    }
   ],
   "source": [
    "# adjust network structure 0\n",
    "model = {'min_batch':1, 'epoches':100, 'learningrate':0.1, 'comment': 'XOR_raw_stdnorm'}\n",
    "t1 = time.time()\n",
    "training_data, test_data = XOR_data()\n",
    "seed = 522\n",
    "net = Network([2,512, 256, 128, 64, 32,16,8, 4, 2], weightype = 'stdnorm', seed = seed)\n",
    "loss_Tr, loss_Te, acc_tr, acc_Te = net.SGD(training_data, model['epoches'] , model['min_batch'], model['learningrate'], model['comment'], test_data = test_data)\n",
    "plt.plot(acc_Te)\n",
    "print(time.time() - t1)"
   ]
  },
  {
   "cell_type": "code",
   "execution_count": 93,
   "metadata": {
    "colab": {
     "base_uri": "https://localhost:8080/",
     "height": 366
    },
    "executionInfo": {
     "elapsed": 1370,
     "status": "ok",
     "timestamp": 1635736111044,
     "user": {
      "displayName": "G Ys",
      "photoUrl": "https://lh3.googleusercontent.com/a/default-user=s64",
      "userId": "09572610401048599814"
     },
     "user_tz": 240
    },
    "id": "ETiXkd3yd65_",
    "outputId": "a46af27b-50b3-4005-d0b6-89eb9c1f089a"
   },
   "outputs": [
    {
     "name": "stdout",
     "output_type": "stream",
     "text": [
      "Epoch 0: 2 / 4\n",
      "Epoch 20: 2 / 4\n",
      "Epoch 40: 2 / 4\n",
      "Epoch 60: 2 / 4\n",
      "Epoch 80: 2 / 4\n",
      "1.1748239994049072\n"
     ]
    },
    {
     "data": {
      "image/png": "[encoded data removed]",
      "text/plain": [
       "<Figure size 432x288 with 1 Axes>"
      ]
     },
     "metadata": {
      "needs_background": "light"
     },
     "output_type": "display_data"
    }
   ],
   "source": [
    "# adjust network structure 0\n",
    "model = {'min_batch':1, 'epoches':100, 'learningrate':0.01, 'comment': 'XOR_raw_stdnorm'}\n",
    "t1 = time.time()\n",
    "training_data, test_data = XOR_data()\n",
    "seed = 522\n",
    "net = Network([2,512, 256, 128, 64, 32,16,8, 4, 2], weightype = 'stdnorm', seed = seed)\n",
    "loss_Tr, loss_Te, acc_tr, acc_Te = net.SGD(training_data, model['epoches'] , model['min_batch'], model['learningrate'], model['comment'], test_data = test_data)\n",
    "plt.plot(acc_Te)\n",
    "print(time.time() - t1)"
   ]
  },
  {
   "cell_type": "code",
   "execution_count": 94,
   "metadata": {
    "colab": {
     "base_uri": "https://localhost:8080/",
     "height": 366
    },
    "executionInfo": {
     "elapsed": 1442,
     "status": "ok",
     "timestamp": 1635736122468,
     "user": {
      "displayName": "G Ys",
      "photoUrl": "https://lh3.googleusercontent.com/a/default-user=s64",
      "userId": "09572610401048599814"
     },
     "user_tz": 240
    },
    "id": "nZhYPJU9d5pz",
    "outputId": "3dcf7022-9dad-4e0f-c68f-9ea90c035611"
   },
   "outputs": [
    {
     "name": "stdout",
     "output_type": "stream",
     "text": [
      "Epoch 0: 2 / 4\n",
      "Epoch 20: 2 / 4\n",
      "Epoch 40: 2 / 4\n",
      "Epoch 60: 2 / 4\n",
      "Epoch 80: 2 / 4\n",
      "1.1336839199066162\n"
     ]
    },
    {
     "data": {
      "image/png": "[encoded data removed]",
      "text/plain": [
       "<Figure size 432x288 with 1 Axes>"
      ]
     },
     "metadata": {
      "needs_background": "light"
     },
     "output_type": "display_data"
    }
   ],
   "source": [
    "# adjust network structure 0\n",
    "model = {'min_batch':1, 'epoches':100, 'learningrate':0.001, 'comment': 'XOR_raw_stdnorm'}\n",
    "t1 = time.time()\n",
    "training_data, test_data = XOR_data()\n",
    "seed = 522\n",
    "net = Network([2,512, 256, 128, 64, 32,16,8, 4, 2], weightype = 'stdnorm', seed = seed)\n",
    "loss_Tr, loss_Te, acc_tr, acc_Te = net.SGD(training_data, model['epoches'] , model['min_batch'], model['learningrate'], model['comment'], test_data = test_data)\n",
    "plt.plot(acc_Te)\n",
    "print(time.time() - t1)"
   ]
  },
  {
   "cell_type": "code",
   "execution_count": 95,
   "metadata": {
    "colab": {
     "base_uri": "https://localhost:8080/",
     "height": 366
    },
    "executionInfo": {
     "elapsed": 1554,
     "status": "ok",
     "timestamp": 1635736130403,
     "user": {
      "displayName": "G Ys",
      "photoUrl": "https://lh3.googleusercontent.com/a/default-user=s64",
      "userId": "09572610401048599814"
     },
     "user_tz": 240
    },
    "id": "53C2JCvAeHsI",
    "outputId": "67debecc-a93d-4cdb-dd22-637c6322e580"
   },
   "outputs": [
    {
     "name": "stdout",
     "output_type": "stream",
     "text": [
      "Epoch 0: 2 / 4\n",
      "Epoch 20: 2 / 4\n",
      "Epoch 40: 4 / 4\n",
      "Epoch 60: 4 / 4\n",
      "Epoch 80: 4 / 4\n",
      "1.2317087650299072\n"
     ]
    },
    {
     "data": {
      "image/png": "[encoded data removed]",
      "text/plain": [
       "<Figure size 432x288 with 1 Axes>"
      ]
     },
     "metadata": {
      "needs_background": "light"
     },
     "output_type": "display_data"
    }
   ],
   "source": [
    "# adjust network structure 0\n",
    "model = {'min_batch':1, 'epoches':100, 'learningrate':3, 'comment': 'XOR_raw_stdnorm'}\n",
    "t1 = time.time()\n",
    "training_data, test_data = XOR_data()\n",
    "seed = 522\n",
    "net = Network([2,512, 256, 128, 64, 32,16,8, 4, 2], weightype = 'stdnorm', seed = seed)\n",
    "loss_Tr, loss_Te, acc_tr, acc_Te = net.SGD(training_data, model['epoches'] , model['min_batch'], model['learningrate'], model['comment'], test_data = test_data)\n",
    "plt.plot(acc_Te)\n",
    "print(time.time() - t1)"
   ]
  },
  {
   "cell_type": "code",
   "execution_count": 96,
   "metadata": {
    "colab": {
     "base_uri": "https://localhost:8080/",
     "height": 366
    },
    "executionInfo": {
     "elapsed": 1464,
     "status": "ok",
     "timestamp": 1635736142206,
     "user": {
      "displayName": "G Ys",
      "photoUrl": "https://lh3.googleusercontent.com/a/default-user=s64",
      "userId": "09572610401048599814"
     },
     "user_tz": 240
    },
    "id": "ZF4i8U4ZeKf-",
    "outputId": "d3ad9bce-4aea-4e43-e8b6-0a6b5ec63739"
   },
   "outputs": [
    {
     "name": "stdout",
     "output_type": "stream",
     "text": [
      "Epoch 0: 2 / 4\n",
      "Epoch 20: 2 / 4\n",
      "Epoch 40: 2 / 4\n",
      "Epoch 60: 2 / 4\n",
      "Epoch 80: 2 / 4\n",
      "1.1491761207580566\n"
     ]
    },
    {
     "data": {
      "image/png": "[encoded data removed]",
      "text/plain": [
       "<Figure size 432x288 with 1 Axes>"
      ]
     },
     "metadata": {
      "needs_background": "light"
     },
     "output_type": "display_data"
    }
   ],
   "source": [
    "# adjust network structure 0\n",
    "model = {'min_batch':1, 'epoches':100, 'learningrate':10, 'comment': 'XOR_raw_stdnorm'}\n",
    "t1 = time.time()\n",
    "training_data, test_data = XOR_data()\n",
    "seed = 522\n",
    "net = Network([2,512, 256, 128, 64, 32,16,8, 4, 2], weightype = 'stdnorm', seed = seed)\n",
    "loss_Tr, loss_Te, acc_tr, acc_Te = net.SGD(training_data, model['epoches'] , model['min_batch'], model['learningrate'], model['comment'], test_data = test_data)\n",
    "plt.plot(acc_Te)\n",
    "print(time.time() - t1)"
   ]
  },
  {
   "cell_type": "code",
   "execution_count": 97,
   "metadata": {
    "colab": {
     "base_uri": "https://localhost:8080/",
     "height": 366
    },
    "executionInfo": {
     "elapsed": 1393,
     "status": "ok",
     "timestamp": 1635736150690,
     "user": {
      "displayName": "G Ys",
      "photoUrl": "https://lh3.googleusercontent.com/a/default-user=s64",
      "userId": "09572610401048599814"
     },
     "user_tz": 240
    },
    "id": "EnrhkAr9eMxy",
    "outputId": "35182aa9-1aab-4609-f44a-c6902a4fb792"
   },
   "outputs": [
    {
     "name": "stdout",
     "output_type": "stream",
     "text": [
      "Epoch 0: 2 / 4\n",
      "Epoch 20: 2 / 4\n",
      "Epoch 40: 2 / 4\n",
      "Epoch 60: 2 / 4\n",
      "Epoch 80: 2 / 4\n",
      "1.1895124912261963\n"
     ]
    },
    {
     "data": {
      "image/png": "[encoded data removed]",
      "text/plain": [
       "<Figure size 432x288 with 1 Axes>"
      ]
     },
     "metadata": {
      "needs_background": "light"
     },
     "output_type": "display_data"
    }
   ],
   "source": [
    "# adjust network structure 0\n",
    "model = {'min_batch':1, 'epoches':100, 'learningrate':100, 'comment': 'XOR_raw_stdnorm'}\n",
    "t1 = time.time()\n",
    "training_data, test_data = XOR_data()\n",
    "seed = 522\n",
    "net = Network([2,512, 256, 128, 64, 32,16,8, 4, 2], weightype = 'stdnorm', seed = seed)\n",
    "loss_Tr, loss_Te, acc_tr, acc_Te = net.SGD(training_data, model['epoches'] , model['min_batch'], model['learningrate'], model['comment'], test_data = test_data)\n",
    "plt.plot(acc_Te)\n",
    "print(time.time() - t1)"
   ]
  },
  {
   "cell_type": "code",
   "execution_count": 106,
   "metadata": {
    "colab": {
     "base_uri": "https://localhost:8080/",
     "height": 382
    },
    "executionInfo": {
     "elapsed": 1423,
     "status": "ok",
     "timestamp": 1635737799672,
     "user": {
      "displayName": "G Ys",
      "photoUrl": "https://lh3.googleusercontent.com/a/default-user=s64",
      "userId": "09572610401048599814"
     },
     "user_tz": 240
    },
    "id": "AdEm_Z2pjo-a",
    "outputId": "aeb964af-2ba5-441b-ed14-d455dd85e2a4"
   },
   "outputs": [
    {
     "name": "stdout",
     "output_type": "stream",
     "text": [
      "pos_uni\n",
      "Epoch 0: 2 / 4\n",
      "Epoch 20: 2 / 4\n",
      "Epoch 40: 2 / 4\n",
      "Epoch 60: 2 / 4\n",
      "Epoch 80: 2 / 4\n",
      "1.1251225471496582\n"
     ]
    },
    {
     "data": {
      "image/png": "[encoded data removed]",
      "text/plain": [
       "<Figure size 432x288 with 1 Axes>"
      ]
     },
     "metadata": {
      "needs_background": "light"
     },
     "output_type": "display_data"
    }
   ],
   "source": [
    "# adjust network structure 0\n",
    "# pos uniform\n",
    "model = {'min_batch':1, 'epoches':100, 'learningrate':1, 'comment': 'XOR_raw_pos'}\n",
    "t1 = time.time()\n",
    "training_data, test_data = XOR_data()\n",
    "seed = 522\n",
    "net = Network([2,512, 256, 128, 64, 32,16,8, 4, 2], weightype = 'pos', seed = seed)\n",
    "loss_Tr, loss_Te, acc_tr, acc_Te = net.SGD(training_data, model['epoches'] , model['min_batch'], model['learningrate'], model['comment'], test_data = test_data)\n",
    "plt.plot(acc_Te)\n",
    "print(time.time() - t1)"
   ]
  },
  {
   "cell_type": "code",
   "execution_count": 107,
   "metadata": {
    "colab": {
     "base_uri": "https://localhost:8080/",
     "height": 382
    },
    "executionInfo": {
     "elapsed": 1745,
     "status": "ok",
     "timestamp": 1635737808401,
     "user": {
      "displayName": "G Ys",
      "photoUrl": "https://lh3.googleusercontent.com/a/default-user=s64",
      "userId": "09572610401048599814"
     },
     "user_tz": 240
    },
    "id": "_y-GHZvajqFq",
    "outputId": "d14267ec-786a-403f-9bb7-383c8196c120"
   },
   "outputs": [
    {
     "name": "stdout",
     "output_type": "stream",
     "text": [
      "neg_uni\n",
      "Epoch 0: 2 / 4\n",
      "Epoch 20: 2 / 4\n",
      "Epoch 40: 2 / 4\n",
      "Epoch 60: 1 / 4\n",
      "Epoch 80: 2 / 4\n",
      "1.1809687614440918\n"
     ]
    },
    {
     "data": {
      "image/png": "[encoded data removed]",
      "text/plain": [
       "<Figure size 432x288 with 1 Axes>"
      ]
     },
     "metadata": {
      "needs_background": "light"
     },
     "output_type": "display_data"
    }
   ],
   "source": [
    "# adjust network structure 0\n",
    "# pos uniform\n",
    "model = {'min_batch':1, 'epoches':100, 'learningrate':1, 'comment': 'XOR_raw_neg'}\n",
    "t1 = time.time()\n",
    "training_data, test_data = XOR_data()\n",
    "seed = 522\n",
    "net = Network([2,512, 256, 128, 64, 32,16,8, 4, 2], weightype = 'neg', seed = seed)\n",
    "loss_Tr, loss_Te, acc_tr, acc_Te = net.SGD(training_data, model['epoches'] , model['min_batch'], model['learningrate'], model['comment'], test_data = test_data)\n",
    "plt.plot(acc_Te)\n",
    "print(time.time() - t1)"
   ]
  },
  {
   "cell_type": "code",
   "execution_count": 111,
   "metadata": {
    "colab": {
     "base_uri": "https://localhost:8080/",
     "height": 382
    },
    "executionInfo": {
     "elapsed": 1516,
     "status": "ok",
     "timestamp": 1635738429008,
     "user": {
      "displayName": "G Ys",
      "photoUrl": "https://lh3.googleusercontent.com/a/default-user=s64",
      "userId": "09572610401048599814"
     },
     "user_tz": 240
    },
    "id": "7Z0yI97gjqOt",
    "outputId": "f697e270-a3c7-4081-e56b-28b01cf59bf5"
   },
   "outputs": [
    {
     "name": "stdout",
     "output_type": "stream",
     "text": [
      "uni\n",
      "Epoch 0: 2 / 4\n",
      "Epoch 20: 2 / 4\n",
      "Epoch 40: 2 / 4\n",
      "Epoch 60: 2 / 4\n",
      "Epoch 80: 2 / 4\n",
      "1.1614551544189453\n"
     ]
    },
    {
     "data": {
      "image/png": "[encoded data removed]",
      "text/plain": [
       "<Figure size 432x288 with 1 Axes>"
      ]
     },
     "metadata": {
      "needs_background": "light"
     },
     "output_type": "display_data"
    }
   ],
   "source": [
    "# adjust network structure 0\n",
    "# pos uniform\n",
    "model = {'min_batch':1, 'epoches':100, 'learningrate':1, 'comment': 'XOR_raw_sym'}\n",
    "t1 = time.time()\n",
    "training_data, test_data = XOR_data()\n",
    "seed = 522\n",
    "net = Network([2,512, 256, 128, 64, 32,16,8, 4, 2], weightype = 'uni', seed = seed)\n",
    "loss_Tr, loss_Te, acc_tr, acc_Te = net.SGD(training_data, model['epoches'] , model['min_batch'], model['learningrate'], model['comment'], test_data = test_data)\n",
    "plt.plot(acc_Te)\n",
    "print(time.time() - t1)"
   ]
  },
  {
   "cell_type": "code",
   "execution_count": 112,
   "metadata": {
    "colab": {
     "base_uri": "https://localhost:8080/",
     "height": 382
    },
    "executionInfo": {
     "elapsed": 1515,
     "status": "ok",
     "timestamp": 1635740544384,
     "user": {
      "displayName": "G Ys",
      "photoUrl": "https://lh3.googleusercontent.com/a/default-user=s64",
      "userId": "09572610401048599814"
     },
     "user_tz": 240
    },
    "id": "1oi1fQFBu3Lj",
    "outputId": "c92283a5-dbbe-4567-e0e1-523f96a1aa07"
   },
   "outputs": [
    {
     "name": "stdout",
     "output_type": "stream",
     "text": [
      "norm\n",
      "Epoch 0: 2 / 4\n",
      "Epoch 20: 4 / 4\n",
      "Epoch 40: 4 / 4\n",
      "Epoch 60: 4 / 4\n",
      "Epoch 80: 4 / 4\n",
      "1.1367480754852295\n"
     ]
    },
    {
     "data": {
      "image/png": "[encoded data removed]",
      "text/plain": [
       "<Figure size 432x288 with 1 Axes>"
      ]
     },
     "metadata": {
      "needs_background": "light"
     },
     "output_type": "display_data"
    }
   ],
   "source": [
    "# adjust network structure 0\n",
    "\n",
    "model = {'min_batch':1, 'epoches':100, 'learningrate':1, 'comment': 'XOR_raw_mom'}\n",
    "t1 = time.time()\n",
    "training_data, test_data = XOR_data()\n",
    "seed = 522\n",
    "net = Network([2,512, 256, 128, 64, 32,16,8, 4, 2], weightype = 'stdnorm', seed = seed)\n",
    "loss_Tr, loss_Te, acc_tr, acc_Te = net.SGD(training_data, model['epoches'] , model['min_batch'], model['learningrate'], model['comment'], test_data = test_data)\n",
    "plt.plot(acc_Te)\n",
    "print(time.time() - t1)"
   ]
  },
  {
   "cell_type": "code",
   "execution_count": null,
   "metadata": {
    "id": "k_by2SoNu3qN"
   },
   "outputs": [],
   "source": []
  },
  {
   "cell_type": "code",
   "execution_count": 111,
   "metadata": {
    "executionInfo": {
     "elapsed": 255,
     "status": "ok",
     "timestamp": 1635740512198,
     "user": {
      "displayName": "G Ys",
      "photoUrl": "https://lh3.googleusercontent.com/a/default-user=s64",
      "userId": "09572610401048599814"
     },
     "user_tz": 240
    },
    "id": "0jxJiOrMjqZU"
   },
   "outputs": [],
   "source": []
  },
  {
   "cell_type": "markdown",
   "metadata": {
    "id": "fbSnLCzwSK6v"
   },
   "source": [
    "inversely"
   ]
  },
  {
   "cell_type": "code",
   "execution_count": 85,
   "metadata": {
    "colab": {
     "base_uri": "https://localhost:8080/",
     "height": 366
    },
    "executionInfo": {
     "elapsed": 526,
     "status": "ok",
     "timestamp": 1635733171064,
     "user": {
      "displayName": "G Ys",
      "photoUrl": "https://lh3.googleusercontent.com/a/default-user=s64",
      "userId": "09572610401048599814"
     },
     "user_tz": 240
    },
    "id": "IPMSFus-R_LL",
    "outputId": "7443b4dd-76e6-4f34-e70a-297b2154e590"
   },
   "outputs": [
    {
     "name": "stdout",
     "output_type": "stream",
     "text": [
      "Epoch 0: 2 / 4\n",
      "Epoch 20: 2 / 4\n",
      "Epoch 40: 3 / 4\n",
      "Epoch 60: 2 / 4\n",
      "Epoch 80: 3 / 4\n",
      "0.18158912658691406\n"
     ]
    },
    {
     "data": {
      "image/png": "[encoded data removed]",
      "text/plain": [
       "<Figure size 432x288 with 1 Axes>"
      ]
     },
     "metadata": {
      "needs_background": "light"
     },
     "output_type": "display_data"
    }
   ],
   "source": [
    "# adjust network structure 0\n",
    "model = {'min_batch':1, 'epoches':100, 'learningrate':1, 'comment': 'XOR_raw_stdnorm'}\n",
    "t1 = time.time()\n",
    "training_data, test_data = XOR_data()\n",
    "seed = 522\n",
    "net = Network([2, 8,16, 2], weightype = 'stdnorm', seed = seed)\n",
    "loss_Tr, loss_Te, acc_tr, acc_Te = net.SGD(training_data, model['epoches'] , model['min_batch'], model['learningrate'], model['comment'], test_data = test_data)\n",
    "plt.plot(acc_Te)\n",
    "print(time.time() - t1)"
   ]
  },
  {
   "cell_type": "code",
   "execution_count": 86,
   "metadata": {
    "colab": {
     "base_uri": "https://localhost:8080/",
     "height": 366
    },
    "executionInfo": {
     "elapsed": 497,
     "status": "ok",
     "timestamp": 1635733174087,
     "user": {
      "displayName": "G Ys",
      "photoUrl": "https://lh3.googleusercontent.com/a/default-user=s64",
      "userId": "09572610401048599814"
     },
     "user_tz": 240
    },
    "id": "XlKAmE23R_e8",
    "outputId": "3f824d85-7b34-4dcb-da8b-12fd161a8ee7"
   },
   "outputs": [
    {
     "name": "stdout",
     "output_type": "stream",
     "text": [
      "Epoch 0: 2 / 4\n",
      "Epoch 20: 2 / 4\n",
      "Epoch 40: 3 / 4\n",
      "Epoch 60: 3 / 4\n",
      "Epoch 80: 4 / 4\n",
      "0.16901636123657227\n"
     ]
    },
    {
     "data": {
      "image/png": "[encoded data removed]",
      "text/plain": [
       "<Figure size 432x288 with 1 Axes>"
      ]
     },
     "metadata": {
      "needs_background": "light"
     },
     "output_type": "display_data"
    }
   ],
   "source": [
    "# adjust network structure 0\n",
    "model = {'min_batch':1, 'epoches':100, 'learningrate':1, 'comment': 'XOR_raw_stdnorm'}\n",
    "t1 = time.time()\n",
    "training_data, test_data = XOR_data()\n",
    "seed = 522\n",
    "net = Network([2, 8, 16,32, 2], weightype = 'stdnorm', seed = seed)\n",
    "loss_Tr, loss_Te, acc_tr, acc_Te = net.SGD(training_data, model['epoches'] , model['min_batch'], model['learningrate'], model['comment'], test_data = test_data)\n",
    "plt.plot(acc_Te)\n",
    "print(time.time() - t1)"
   ]
  },
  {
   "cell_type": "code",
   "execution_count": 87,
   "metadata": {
    "colab": {
     "base_uri": "https://localhost:8080/",
     "height": 366
    },
    "executionInfo": {
     "elapsed": 487,
     "status": "ok",
     "timestamp": 1635733176389,
     "user": {
      "displayName": "G Ys",
      "photoUrl": "https://lh3.googleusercontent.com/a/default-user=s64",
      "userId": "09572610401048599814"
     },
     "user_tz": 240
    },
    "id": "t0VPTFJoSEsW",
    "outputId": "cdab9ca5-ea84-4682-b08c-c342fca14c28"
   },
   "outputs": [
    {
     "name": "stdout",
     "output_type": "stream",
     "text": [
      "Epoch 0: 2 / 4\n",
      "Epoch 20: 2 / 4\n",
      "Epoch 40: 2 / 4\n",
      "Epoch 60: 2 / 4\n",
      "Epoch 80: 2 / 4\n",
      "0.25430941581726074\n"
     ]
    },
    {
     "data": {
      "image/png": "[encoded data removed]",
      "text/plain": [
       "<Figure size 432x288 with 1 Axes>"
      ]
     },
     "metadata": {
      "needs_background": "light"
     },
     "output_type": "display_data"
    }
   ],
   "source": [
    "# adjust network structure 0\n",
    "model = {'min_batch':1, 'epoches':100, 'learningrate':1, 'comment': 'XOR_raw_stdnorm'}\n",
    "t1 = time.time()\n",
    "training_data, test_data = XOR_data()\n",
    "seed = 522\n",
    "net = Network([2, 8,16,32,64, 2], weightype = 'stdnorm', seed = seed)\n",
    "loss_Tr, loss_Te, acc_tr, acc_Te = net.SGD(training_data, model['epoches'] , model['min_batch'], model['learningrate'], model['comment'], test_data = test_data)\n",
    "plt.plot(acc_Te)\n",
    "print(time.time() - t1)"
   ]
  },
  {
   "cell_type": "code",
   "execution_count": 88,
   "metadata": {
    "colab": {
     "base_uri": "https://localhost:8080/",
     "height": 366
    },
    "executionInfo": {
     "elapsed": 670,
     "status": "ok",
     "timestamp": 1635733178888,
     "user": {
      "displayName": "G Ys",
      "photoUrl": "https://lh3.googleusercontent.com/a/default-user=s64",
      "userId": "09572610401048599814"
     },
     "user_tz": 240
    },
    "id": "zEw6ppaKSE-O",
    "outputId": "15237819-8c0b-4944-d072-1fea14478a26"
   },
   "outputs": [
    {
     "name": "stdout",
     "output_type": "stream",
     "text": [
      "Epoch 0: 2 / 4\n",
      "Epoch 20: 2 / 4\n",
      "Epoch 40: 2 / 4\n",
      "Epoch 60: 2 / 4\n",
      "Epoch 80: 2 / 4\n",
      "0.2820580005645752\n"
     ]
    },
    {
     "data": {
      "image/png": "[encoded data removed]",
      "text/plain": [
       "<Figure size 432x288 with 1 Axes>"
      ]
     },
     "metadata": {
      "needs_background": "light"
     },
     "output_type": "display_data"
    }
   ],
   "source": [
    "# adjust network structure 0\n",
    "model = {'min_batch':1, 'epoches':100, 'learningrate':1, 'comment': 'XOR_raw_stdnorm'}\n",
    "t1 = time.time()\n",
    "training_data, test_data = XOR_data()\n",
    "seed = 522\n",
    "net = Network([2, 8,16,32,64,128, 2], weightype = 'stdnorm', seed = seed)\n",
    "loss_Tr, loss_Te, acc_tr, acc_Te = net.SGD(training_data, model['epoches'] , model['min_batch'], model['learningrate'], model['comment'], test_data = test_data)\n",
    "plt.plot(acc_Te)\n",
    "print(time.time() - t1)"
   ]
  },
  {
   "cell_type": "code",
   "execution_count": null,
   "metadata": {
    "id": "0xbQEIxFSFLi"
   },
   "outputs": [],
   "source": [
    "# adjust network structure 0\n",
    "# postive uniform\n",
    "model = {'min_batch':1, 'epoches':100, 'learningrate':1, 'comment': 'XOR_raw_pos'}\n",
    "t1 = time.time()\n",
    "training_data, test_data = XOR_data()\n",
    "seed = 522\n",
    "net = Network([2, 8,16,32,64,128, 2], weightype = 'stdnorm', seed = seed)\n",
    "loss_Tr, loss_Te, acc_tr, acc_Te = net.SGD(training_data, model['epoches'] , model['min_batch'], model['learningrate'], model['comment'], test_data = test_data)\n",
    "plt.plot(acc_Te)\n",
    "print(time.time() - t1)"
   ]
  },
  {
   "cell_type": "code",
   "execution_count": null,
   "metadata": {
    "id": "52fOOcriSFaW"
   },
   "outputs": [],
   "source": []
  },
  {
   "cell_type": "code",
   "execution_count": null,
   "metadata": {
    "id": "K8fB4PQvSFpE"
   },
   "outputs": [],
   "source": []
  },
  {
   "cell_type": "code",
   "execution_count": null,
   "metadata": {
    "id": "CJ6GGBE1SF1p"
   },
   "outputs": [],
   "source": []
  },
  {
   "cell_type": "code",
   "execution_count": null,
   "metadata": {
    "id": "WxC-rYjUjA9d"
   },
   "outputs": [],
   "source": []
  },
  {
   "cell_type": "code",
   "execution_count": 97,
   "metadata": {
    "executionInfo": {
     "elapsed": 8,
     "status": "ok",
     "timestamp": 1635737409461,
     "user": {
      "displayName": "G Ys",
      "photoUrl": "https://lh3.googleusercontent.com/a/default-user=s64",
      "userId": "09572610401048599814"
     },
     "user_tz": 240
    },
    "id": "Qo845lQXjAxi"
   },
   "outputs": [],
   "source": []
  },
  {
   "cell_type": "code",
   "execution_count": 97,
   "metadata": {
    "executionInfo": {
     "elapsed": 9,
     "status": "ok",
     "timestamp": 1635737409460,
     "user": {
      "displayName": "G Ys",
      "photoUrl": "https://lh3.googleusercontent.com/a/default-user=s64",
      "userId": "09572610401048599814"
     },
     "user_tz": 240
    },
    "id": "d8Xc1-gojAtf"
   },
   "outputs": [],
   "source": []
  },
  {
   "cell_type": "code",
   "execution_count": 97,
   "metadata": {
    "executionInfo": {
     "elapsed": 658,
     "status": "ok",
     "timestamp": 1635737408417,
     "user": {
      "displayName": "G Ys",
      "photoUrl": "https://lh3.googleusercontent.com/a/default-user=s64",
      "userId": "09572610401048599814"
     },
     "user_tz": 240
    },
    "id": "9Qg563xLSGCp"
   },
   "outputs": [],
   "source": []
  }
 ],
 "metadata": {
  "colab": {
   "collapsed_sections": [],
   "name": "ML_Proj_4_4 XOR.ipynb",
   "provenance": [],
   "toc_visible": true
  },
  "kernelspec": {
   "display_name": "Python 3",
   "language": "python",
   "name": "python3"
  },
  "language_info": {
   "codemirror_mode": {
    "name": "ipython",
    "version": 3
   },
   "file_extension": ".py",
   "mimetype": "text/x-python",
   "name": "python",
   "nbconvert_exporter": "python",
   "pygments_lexer": "ipython3",
   "version": "3.8.2"
  }
 },
 "nbformat": 4,
 "nbformat_minor": 4
}
