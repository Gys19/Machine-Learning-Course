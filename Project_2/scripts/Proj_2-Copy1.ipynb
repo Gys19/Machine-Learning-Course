{
 "cells": [
  {
   "cell_type": "code",
   "execution_count": 1,
   "metadata": {},
   "outputs": [],
   "source": [
    "# COSC 522 project 2 "
   ]
  },
  {
   "cell_type": "code",
   "execution_count": 816,
   "metadata": {},
   "outputs": [],
   "source": [
    "import pandas as pd\n",
    "import numpy as np\n",
    "import matplotlib.pyplot as plt\n",
    "import time\n",
    "\n",
    "from sympy import lambdify\n",
    "from sympy import Symbol, symbols, simplify\n",
    "import sympy"
   ]
  },
  {
   "cell_type": "code",
   "execution_count": 10,
   "metadata": {},
   "outputs": [],
   "source": [
    "def load_data(f):\n",
    "    '''\n",
    "    read data, note that the last column is label.\n",
    "    args:  f --> the path or website of data\n",
    "\n",
    "    return: X --> features\n",
    "            y --> label\n",
    "    '''\n",
    "    \n",
    "    data = pd.read_csv(f, delim_whitespace = True, header = 0)\n",
    "    \n",
    "    X = data.iloc[:,:-1]\n",
    "    y = data.iloc[:,-1].astype(int)\n",
    "    \n",
    "    return X, y"
   ]
  },
  {
   "cell_type": "code",
   "execution_count": 1517,
   "metadata": {},
   "outputs": [
    {
     "name": "stdout",
     "output_type": "stream",
     "text": [
      "pima\n",
      "120.19334888458252\n"
     ]
    }
   ],
   "source": []
  },
  {
   "cell_type": "code",
   "execution_count": 1523,
   "metadata": {},
   "outputs": [
    {
     "data": {
      "image/png": "[encoded data removed]",
      "text/plain": [
       "<Figure size 432x288 with 1 Axes>"
      ]
     },
     "metadata": {
      "needs_background": "light"
     },
     "output_type": "display_data"
    }
   ],
   "source": []
  },
  {
   "cell_type": "code",
   "execution_count": 1498,
   "metadata": {},
   "outputs": [],
   "source": [
    "class knn:\n",
    "    '''Yangsong Gu'''\n",
    "    ''' KNN algrorithm\n",
    "    supervised learning, nonparametric learning.\n",
    "    '''\n",
    "    \n",
    "    def __init__(self, dataset_name, k_min, k_max):\n",
    "        '''initialize the parameter'''\n",
    "        self.dataset_name = dataset_name  # the path of training set\n",
    "        self.k_min = k_min                # limit of k value \n",
    "        self.k_max = k_max\n",
    "        print(self.dataset_name)\n",
    "        \n",
    "    def load_data(self,f):\n",
    "        '''\n",
    "        read data, note that the last column is label. Note this function only separately load the data, not includes normailization\n",
    "        args:  f --> the path or website of data\n",
    "\n",
    "        return: X --> features\n",
    "                y --> label\n",
    "        '''\n",
    "        data = pd.read_csv(f, delim_whitespace = True, header = 0)\n",
    "        \n",
    "        if self.dataset_name == 'pima':\n",
    "            data = data.replace({'No': 1, 'Yes':0})\n",
    "        else:\n",
    "            data = data\n",
    "        X = data.iloc[:,:-1]\n",
    "        y = data.iloc[:,-1].astype(int)\n",
    "            \n",
    "        \n",
    "        return X, y\n",
    "        \n",
    "    def accuracy_score(self, y, y_model):\n",
    "        \"\"\" Return accuracy score.\n",
    "        You are supposed to return both overall accuracy and classwise accuracy.\n",
    "        args   y --> label of test sample\n",
    "               y_model --> label generated from the algorithm, which is a list.\n",
    "        return acc_overall --> overall accuracy, a scalar\n",
    "               acc_classwise   --> classwise accuracy a dataframe\n",
    "        \"\"\"\n",
    "        y = y.tolist() if isinstance(y, pd.Series) else y  # if y is a pd.Series, then convert it to list\n",
    "\n",
    "        assert len(y) == len(y_model)\n",
    "\n",
    "        # overall accuracy\n",
    "        unq_label = np.unique(y)       # unique label\n",
    "\n",
    "        # classwie accuracy, should consider situations with desigated dimensions\n",
    "        # use pandas groupby\n",
    "        # create a pandas dataframe\n",
    "        df_eval = pd.DataFrame(list(zip(y, y_model)),\n",
    "                   columns =['ytest', 'ymodel'])\n",
    "        df_eval['acc'] = (df_eval['ytest'] == df_eval['ymodel']).astype(int)\n",
    "        category_size = df_eval.groupby(['ytest'])['ymodel'].count().reset_index()  # count the samples in each category\n",
    "        category_acc  = df_eval.groupby(['ytest'])['acc'].sum().reset_index()        # number of accurate label\n",
    "\n",
    "        acc_classwise = pd.merge(category_size, category_acc, on = 'ytest',validate = 'one_to_one')\n",
    "        acc_classwise['acc'] = acc_classwise['acc']/acc_classwise['ymodel']\n",
    "        acc_classwise = acc_classwise.rename(columns = {'ytest':'category','ymodel':'cate_size','acc':'class_acc'})\n",
    "\n",
    "        # overall accuracy\n",
    "        acc_overall = df_eval['acc'].sum()/df_eval.shape[0]\n",
    "\n",
    "        return acc_overall, acc_classwise\n",
    "    \n",
    "        \n",
    "    def predict(self, K, Xtest, ytest, Xtrain, ytrain):\n",
    "        '''\n",
    "        perform KNN algorithm\n",
    "        args   K      --> number of neighbors\n",
    "               Xtest  --> test sample\n",
    "\n",
    "               ....\n",
    "        return y_model  --> label of classification \n",
    "               t2 - t1  --> run time (seconds)\n",
    "               acc_all\n",
    "               acc_class\n",
    "        '''\n",
    "\n",
    "        y_model = []   # to store the label of classification\n",
    "        t1 = time.time()\n",
    "#             K = 3\n",
    "        for idx, row in Xtest.iterrows():\n",
    "\n",
    "            # compute (squared or not squared) distance the sample in test set to each sample in training set\n",
    "#             dist2train = (Xtrain.subtract(row)**2).sum(axis = 1)\n",
    "            dist2train = ((Xtrain - row)**2).sum(axis = 1)\n",
    "\n",
    "            neigh_idx = dist2train.sort_values().index[:K].tolist()   # K-nearest neighbour's index\n",
    "            neigh_label = ytrain[neigh_idx].tolist()\n",
    "\n",
    "            ## find the marjority of label\n",
    "            major_label = max(set(neigh_label), key = neigh_label.count)\n",
    "            y_model.append(major_label)\n",
    "\n",
    "        t2 = time.time()\n",
    "        if ytest is not None:\n",
    "            acc_all, acc_class = self.accuracy_score(ytest, y_model)\n",
    "#         print('Run time is {:.3f} seconds'.format(t2-t1))\n",
    "        else:\n",
    "            acc_all, acc_class = None, None\n",
    "\n",
    "        return y_model, t2 - t1, acc_all, acc_class\n",
    "\n",
    "    \n",
    "    def iter_k(self, Xtrain, ytrain,Xtest, ytest):\n",
    "        '''\n",
    "        try different k in KNN, and get corresponding ovarll accuracy\n",
    "        args: k_min and k_max are used to decide the boundary of k value\n",
    "        return: Rt  --> runtime\n",
    "                Acc_all --> overall accuracy\n",
    "                Acc_class --> classwise accuracy\n",
    "        '''  \n",
    "        Rt = []\n",
    "        Acc_all = []\n",
    "        Acc_class = []\n",
    "\n",
    "        for K in range(self.k_min,self.k_max):\n",
    "\n",
    "            _ , runtime, acc_all_, acc_class_ = self.predict(K, Xtest, ytest, Xtrain, ytrain)\n",
    "            Rt.append(runtime)\n",
    "            Acc_all.append(acc_all_)\n",
    "            Acc_class.append(acc_class_)\n",
    "\n",
    "        return Rt, Acc_all, Acc_class\n",
    "    \n",
    "    def knn_rule1(self, neigh_label, pw):\n",
    "        '''rule 1: use the prior probability to weight the number of different neighbors in each search and make a decision according to weighted votes'''\n",
    "        \n",
    "        label_count = [neigh_label.count(l)*pw[l] for l in range(2)]\n",
    "        major_label = label_count.index(max(label_count))\n",
    "        \n",
    "        return major_label\n",
    "    def knn_rule2(self, dist2train, neigh_idx, neigh_label, pw):\n",
    "        \n",
    "        '''rule 2: use distance weighted prior probability'''\n",
    "        nearest_dist = dist2train[neigh_idx].tolist()\n",
    "        label_weight = [ pw[x] * y for x,y in zip(neigh_label, nearest_dist)]\n",
    "        label_weight = np.array(label_weight)\n",
    "        denominator  = sum(label_weight)\n",
    "        \n",
    "        temp   = np.where(np.array(neigh_label) == 0, label_weight, 0 )\n",
    "        sum_label_0 = sum(temp)  # summation of weighted cluster 0\n",
    "        ps0 = sum_label_0/denominator\n",
    "        \n",
    "        major_label = 0 if ps0 >0.5 else 1\n",
    "        \n",
    "        return major_label\n",
    "    \n",
    "    \n",
    "    def knn_rule3(self, dist2train, neigh_idx, neigh_label, pw):\n",
    "        \n",
    "        '''Yangsong 11:18 PM Sep, 21, 2021'''\n",
    "        '''consider both fraction of votes and weighted prior probability'''\n",
    "        '''current version only works for 2 clusters'''\n",
    "        \n",
    "        nearest_dist = dist2train[neigh_idx].tolist()\n",
    "        label_weight = [ pw[x] * y for x,y in zip(neigh_label, nearest_dist)]\n",
    "        label_weight = np.array(label_weight)\n",
    "        denominator  = sum(label_weight)\n",
    "        \n",
    "        temp   = np.where(np.array(neigh_label) == 0, label_weight, 0 )\n",
    "        sum_label_0 = sum(temp)  # summation of weighted cluster 0\n",
    "        ps0 = sum_label_0/denominator\n",
    "        \n",
    "        factor2 = neigh_label.count(0)\n",
    "        \n",
    "        ps0_new = ps0 * (factor2/len(neigh_label))\n",
    "        ps1_new = (1- ps0) *(1- factor2/len(neigh_label))\n",
    "        \n",
    "        major_label = 0 if ps0_new> ps1_new else 1\n",
    "        \n",
    "        return major_label\n",
    "    \n",
    "    \n",
    "    def predict_(self, K, Xtest, ytest, Xtrain, ytrain, pw, case):\n",
    "        '''\n",
    "        perform KNN algorithm incorporate prior information.\n",
    "        args   K      --> number of neighbors\n",
    "               Xtest  --> test sample\n",
    "\n",
    "               ....\n",
    "        return y_model  --> label of classification \n",
    "               t2 - t1  --> run time (seconds)\n",
    "               acc_all\n",
    "               acc_class\n",
    "        '''\n",
    "\n",
    "        y_model = []   # to store the label of classification\n",
    "        t1 = time.time()\n",
    "#         pw = [0.25,0.75]  # ratio 1:3\n",
    "        for idx, row in Xtest.iterrows():\n",
    "\n",
    "            # compute (squared or not squared) distance the sample in test set to each sample in training set\n",
    "#             dist2train = (Xtrain.subtract(row)**2).sum(axis = 1)\n",
    "            dist2train = ((Xtrain - row)**2).sum(axis = 1)\n",
    "\n",
    "            neigh_idx = dist2train.sort_values().index[:K].tolist()   # K-nearest neighbour's index\n",
    "            neigh_label = ytrain[neigh_idx].tolist()\n",
    "\n",
    "            ## find the marjority of label\n",
    "#             major_label = max(set(neigh_label), key = neigh_label.count)\n",
    "            \n",
    "            # count the labels \n",
    "            # adjust 1, use prior to weight votes \n",
    "            if case == '1':\n",
    "                major_label = self.knn_rule1(neigh_label, pw)\n",
    "            if case == '2':\n",
    "                major_label = self.knn_rule2(dist2train, neigh_idx, neigh_label, pw)\n",
    "            if case == '3':\n",
    "                major_label = self.knn_rule3(dist2train, neigh_idx, neigh_label, pw)\n",
    "            # adjust 2, add np.log(prior)\n",
    "            \n",
    "            y_model.append(major_label)\n",
    "\n",
    "        t2 = time.time()\n",
    "        if ytest is not None:\n",
    "            acc_all, acc_class = self.accuracy_score(ytest, y_model)\n",
    "#         print('Run time is {:.3f} seconds'.format(t2-t1))\n",
    "        else:\n",
    "            acc_all, acc_class = None, None\n",
    "\n",
    "        return y_model, t2 - t1, acc_all, acc_class"
   ]
  },
  {
   "cell_type": "code",
   "execution_count": 1366,
   "metadata": {},
   "outputs": [],
   "source": [
    "class mpp_classifier:\n",
    "    \n",
    "    '''\n",
    "    used to assemble three classifiers' decision boundary\n",
    "    edit on Mon Sep 20, 2021 by Yangsong\n",
    "    \n",
    "    '''\n",
    "    \n",
    "    def __init__(self, X_train,y_train, xx):\n",
    "        \n",
    "        self.X_train = X_train     # training data\n",
    "        self.y_train = y_train     # label of training data\n",
    "        self.xx      = xx          # xx for plot the figure\n",
    "        \n",
    "    def set_variable(self):\n",
    "        \n",
    "        x1, x2 = symbols('x1 x2',real = True)\n",
    "\n",
    "        return x1, x2\n",
    "        \n",
    "    def compute_avgcov(self):\n",
    "        \n",
    "        '''only used for generic form'''\n",
    "        \n",
    "        means = np.array([self.X_train[self.y_train == 0].mean(), self.X_train[self.y_train == 1].mean()]).reshape(2,2)\n",
    "        \n",
    "        arr = self.X_train[self.y_train == 0]\n",
    "        covs0 = np.cov(np.transpose(arr))\n",
    "        means0 = np.mean(arr, axis = 0)\n",
    "\n",
    "        arr = self.X_train[self.y_train == 1]\n",
    "        covs1 = np.cov(np.transpose(arr))\n",
    "        means1 = np.mean(arr, axis = 0)\n",
    "\n",
    "        covavg = (covs0 + covs1) / 2  \n",
    "        \n",
    "        return means, covs0, covs1, covavg\n",
    "    \n",
    "    def euclidean_distance(self):\n",
    "\n",
    "        '''\n",
    "        decision boundary for euclidean distance classifier\n",
    "        args: X_train --> features of training set \n",
    "              y_train --> label of training set\n",
    "              xx     --> a set of feature 1\n",
    "        return: \n",
    "              yy_edist --> corresponing value of feature 2.\n",
    "        '''\n",
    "        means, covs0, covs1, covavg = self.compute_avgcov()\n",
    "        x1, x2 = self.set_variable()\n",
    "        \n",
    "        edist = - 2 * (means[0,0] * x1 + means[0,1] * x2) + 2 * (means[1,0] * x1 + means[1,1] * x2) + \\\n",
    "                + means[0,0]**2 + means[0,1]**2 - (means[1,0]**2 + means[1,1]**2)\n",
    "        edist = simplify(edist)\n",
    "        display(edist)\n",
    "\n",
    "        coeffs = sympy.Poly(edist, x1, x2).coeffs()\n",
    "        coeff = -coeffs[0]/coeffs[1]\n",
    "        intercept  = -coeffs[2]/coeffs[1]\n",
    "\n",
    "        yy_edist = xx * coeff + intercept\n",
    "\n",
    "        return  yy_edist\n",
    "\n",
    "    #mahalanobis distance\n",
    "    def mahalanobis_distance(self):\n",
    "        '''\n",
    "        decision boundary for mahalanobis distance classifier\n",
    "        args: X_train --> features of training set \n",
    "              y_train --> label of training set\n",
    "              xx     --> a set of feature 1\n",
    "        return: \n",
    "              yy_mdist --> corresponing value of feature 2.\n",
    "        '''\n",
    "        means, covs0, covs1, covavg = self.compute_avgcov()\n",
    "        x1, x2 = self.set_variable()\n",
    "\n",
    "        dist0 = sympy.Matrix([x1, x2]) - means[0,:].reshape(2,1)\n",
    "        dist1 = sympy.Matrix([x1, x2]) - means[1,:].reshape(2,1)\n",
    "        gx = dist0.transpose() @ np.linalg.inv(covavg) @ dist0 - dist1.transpose() @ np.linalg.inv(covavg) @ dist1\n",
    "        gx = simplify(gx)\n",
    "        display(gx)\n",
    "\n",
    "        coeffs = sympy.Poly(gx[0], x1, x2).coeffs()\n",
    "        coeff = -coeffs[0]/coeffs[1]\n",
    "        intercept  = -coeffs[2]/coeffs[1]\n",
    "        yy_mdist = xx * coeff + intercept\n",
    "\n",
    "        return yy_mdist\n",
    "\n",
    "\n",
    "    # quadratic form\n",
    "\n",
    "    def  generic_distance(self):\n",
    "\n",
    "        '''\n",
    "        decision boundary for generic gaussian distance classifier\n",
    "        args: X_train --> features of training set \n",
    "              y_train --> label of training set\n",
    "              xx     --> a set of feature 1\n",
    "        return: \n",
    "              xx_qdist --> feature 1\n",
    "              yy_qdist --> corresponing value of feature 2.\n",
    "        '''\n",
    "\n",
    "        means, covs0, covs1, avgcov = self.compute_avgcov()\n",
    "        \n",
    "        x1, x2 = self.set_variable()\n",
    "\n",
    "        dist0 = sympy.Matrix([x1, x2]) - means[0,:].reshape(2,1)\n",
    "        dist1 = sympy.Matrix([x1, x2]) - means[1,:].reshape(2,1)\n",
    "\n",
    "        left = -0.5 * dist0.transpose()  @ np.linalg.inv(covs0) @ dist0 - 0.5 * np.log(np.linalg.det(covs0)).reshape(1,1) \n",
    "        right = -0.5 * dist1.transpose()  @ np.linalg.inv(covs1) @ dist1 - 0.5 * np.log(np.linalg.det(covs1)).reshape(1,1)\n",
    "        gx = left - right\n",
    "        gx = simplify(gx)\n",
    "        display(\"Discriminant function\", gx)    \n",
    "        var = (x1, x2)\n",
    "        gx_func = lambdify(var, gx, modules = 'numpy')\n",
    "        gx_y = gx_func(xx, x2)\n",
    "\n",
    "        # iterate and solve equations\n",
    "        gx_y_list = gx_y.flatten('C').tolist()\n",
    "        yy = [sympy.solve(formula, x2) for formula in gx_y_list]\n",
    "\n",
    "        yy_real = [item for sublist in yy for item in sublist]\n",
    "        yy_qdist= [yy_final for yy_final in yy if len(yy_final)>0]\n",
    "        yy_qdist = [item for sublist in yy_qdist for item in sublist]\n",
    "        xx_qdist = np.repeat(xx[:int(len(yy_real)/2)],2).tolist()\n",
    "\n",
    "        return xx_qdist, yy_qdist\n",
    "    "
   ]
  },
  {
   "cell_type": "code",
   "execution_count": 914,
   "metadata": {},
   "outputs": [
    {
     "name": "stdout",
     "output_type": "stream",
     "text": [
      "synthetic\n",
      "Training sample size (250, 2), test sample size (1000, 2)\n",
      "pima\n",
      "Training sample size (200, 7), test sample size (332, 7)\n"
     ]
    }
   ],
   "source": [
    "# t1  = time.time()\n",
    "k_min, k_max = 1, 30\n",
    "syn = knn(dataset_name ='synthetic', k_min = k_min, k_max = k_max)\n",
    "\n",
    "# load synthetic dataset\n",
    "syn_tr_pth = 'http://www.stats.ox.ac.uk/pub/PRNN/synth.tr'\n",
    "syn_te_pth = 'http://www.stats.ox.ac.uk/pub/PRNN/synth.te'\n",
    "Xtrain_th, ytrain_th = syn.load_data(syn_tr_pth)\n",
    "Xtest_th, ytest_th = syn.load_data(syn_te_pth)\n",
    "\n",
    "print(\"Training sample size {}, test sample size {}\".format(Xtrain_th.shape, Xtest_th.shape))\n",
    "\n",
    "pima = knn(dataset_name = 'pima', k_min = k_min, k_max = k_max)\n",
    "# load pima dataset\n",
    "pi_tr_pth = 'http://www.stats.ox.ac.uk/pub/PRNN/pima.tr'\n",
    "pi_te_pth = 'http://www.stats.ox.ac.uk/pub/PRNN/pima.te'\n",
    "Xtrain_pi, ytrain_pi = pima.load_data(pi_tr_pth)\n",
    "Xtest_pi, ytest_pi = pima.load_data(pi_te_pth)\n",
    "\n",
    "# normalization\n",
    "f_mean = Xtrain_pi.mean(axis = 0)\n",
    "f_std  = Xtrain_pi.std(axis = 0)\n",
    "Xtrain_pi = (Xtrain_pi - f_mean)/f_std\n",
    "# standard normalization for training set\n",
    "Xtest_pi= (Xtest_pi - f_mean)/f_std\n",
    "\n",
    "print(\"Training sample size {}, test sample size {}\".format(Xtrain_pi.shape, Xtest_pi.shape))\n"
   ]
  },
  {
   "cell_type": "code",
   "execution_count": 1311,
   "metadata": {},
   "outputs": [
    {
     "name": "stdout",
     "output_type": "stream",
     "text": [
      "total time elapsed: 95.22025513648987\n"
     ]
    }
   ],
   "source": [
    "# prediction and testing\n",
    "# =============================================================================================#\n",
    "t1 = time.time()\n",
    "Rt_th, Acc_all_th, Acc_class_th = syn.iter_k(Xtrain_th, ytrain_th,Xtest_th, ytest_th)\n",
    "Rt_pi, Acc_all_pi, Acc_class_pi = pima.iter_k(Xtrain_pi, ytrain_pi,Xtest_pi, ytest_pi)\n",
    "print(\"total time elapsed: {}\".format(time.time() -  t1))"
   ]
  },
  {
   "cell_type": "code",
   "execution_count": 1312,
   "metadata": {},
   "outputs": [
    {
     "data": {
      "image/png": "[encoded data removed]",
      "text/plain": [
       "<Figure size 1080x504 with 2 Axes>"
      ]
     },
     "metadata": {
      "needs_background": "light"
     },
     "output_type": "display_data"
    }
   ],
   "source": [
    "fig, ax = plt.subplots(ncols = 2, nrows = 1,figsize = (15,7),sharey = True)\n",
    "ax0 = ax[0]\n",
    "ax1 = ax[1]\n",
    "\n",
    "ax0.plot(np.arange(k_min,k_max), Acc_all_th, label = 'synthetic dataset', color = 'blue')\n",
    "ax0.set_ylim([0.5,1])\n",
    "ax0.set_xlabel('Symthetic dataset')\n",
    "ax1.plot(np.arange(k_min,k_max), Acc_all_pi, label = 'pima dataset', color = 'blue')\n",
    "ax1.set_xlabel('Pima dataset')\n",
    "plt.tight_layout()\n",
    "plt.savefig(r'../figures/acc.vs.k.jpg')"
   ]
  },
  {
   "cell_type": "code",
   "execution_count": 1325,
   "metadata": {},
   "outputs": [
    {
     "name": "stdout",
     "output_type": "stream",
     "text": [
      "synthetic data performance with best overall accuracy\n",
      " K is:  19 \n",
      " overall accuracy: 0.916 \n",
      "classwise accuracy:\n",
      "    category  cate_size  class_acc\n",
      "0         0        500      0.926\n",
      "1         1        500      0.906 \n",
      " run time is 2.21289324760437 seconds\n",
      "pima data performance with best overall accuracy\n",
      " K is:  12 \n",
      " overall accuracy: 0.7801204819277109 \n",
      " classwise accuracy:\n",
      "    category  cate_size  class_acc\n",
      "0         0        109   0.577982\n",
      "1         1        223   0.878924 \n",
      " run time is 1.0158772468566895 seconds\n"
     ]
    }
   ],
   "source": [
    "idx_max = Acc_all_th.index(max(Acc_all_th))\n",
    "print('synthetic data performance with best overall accuracy\\n', \n",
    "      'K is: ', idx_max + 1,'\\n',\n",
    "      'overall accuracy:',max(Acc_all_th), '\\n'\n",
    "      'classwise accuracy:\\n', Acc_class_th[idx_max],'\\n',\n",
    "      'run time is {} seconds'.format(Rt_th[idx_max]))\n",
    "\n",
    "idx_max = Acc_all_pi.index(max(Acc_all_pi))\n",
    "\n",
    "print('pima data performance with best overall accuracy\\n', \n",
    "      'K is: ', idx_max + 1, '\\n',\n",
    "      'overall accuracy:',max(Acc_all_pi), '\\n',\n",
    "      'classwise accuracy:\\n', Acc_class_pi[idx_max],'\\n',\n",
    "       'run time is {} seconds'.format(Rt_pi[idx_max]))\n"
   ]
  },
  {
   "cell_type": "code",
   "execution_count": 347,
   "metadata": {},
   "outputs": [],
   "source": [
    "from matplotlib.colors import ListedColormap\n",
    "cmap_light = ListedColormap(['#FFAAAA', '#AAFFAA', '#AAAAFF'])\n",
    "cmap_bold = ListedColormap(['#FF0000', '#00FF00', '#0000FF'])"
   ]
  },
  {
   "cell_type": "code",
   "execution_count": 883,
   "metadata": {},
   "outputs": [
    {
     "data": {
      "text/latex": [
       "$\\displaystyle 0.59484910208 x_{1} + 0.71442794512 x_{2} - 0.317050246919288$"
      ],
      "text/plain": [
       "0.59484910208*x1 + 0.71442794512*x2 - 0.317050246919288"
      ]
     },
     "metadata": {},
     "output_type": "display_data"
    },
    {
     "data": {
      "text/latex": [
       "$\\displaystyle \\left[\\begin{matrix}2.94239558705424 x_{1} + 21.8174879666796 x_{2} - 10.7898275662935\\end{matrix}\\right]$"
      ],
      "text/plain": [
       "Matrix([[2.94239558705424*x1 + 21.8174879666796*x2 - 10.7898275662935]])"
      ]
     },
     "metadata": {},
     "output_type": "display_data"
    },
    {
     "data": {
      "text/plain": [
       "'Discriminant function'"
      ]
     },
     "metadata": {},
     "output_type": "display_data"
    },
    {
     "data": {
      "text/latex": [
       "$\\displaystyle \\left[\\begin{matrix}1.46768684748451 x_{1}^{2} + 4.56561613528624 x_{1} x_{2} - 4.02302130593299 x_{1} + 3.56103245543682 x_{2}^{2} - 14.8888425980496 x_{2} + 6.34986103776841\\end{matrix}\\right]$"
      ],
      "text/plain": [
       "Matrix([[1.46768684748451*x1**2 + 4.56561613528624*x1*x2 - 4.02302130593299*x1 + 3.56103245543682*x2**2 - 14.8888425980496*x2 + 6.34986103776841]])"
      ]
     },
     "metadata": {},
     "output_type": "display_data"
    },
    {
     "name": "stdout",
     "output_type": "stream",
     "text": [
      "Run time: 5.92831826210022\n"
     ]
    }
   ],
   "source": [
    "# for synthetic dataset\n",
    "x_te_0 = Xtest_th[ytest_th==0].reset_index(drop=True)  # class 0 \n",
    "x_te_1 = Xtest_th[ytest_th==1].reset_index(drop=True)  # class 1\n",
    "\n",
    "number_points = 50\n",
    "\n",
    "xy_up = Xtest_th.max(axis = 0).tolist()\n",
    "xy_low = Xtest_th.min(axis = 0).tolist()\n",
    "\n",
    "xx = np.linspace(xy_low[0], xy_up[0], number_points)\n",
    "yy = np.linspace(xy_low[1], xy_up[1], number_points)\n",
    "\n",
    "XX, YY = np.meshgrid(xx, yy)\n",
    "zz = np.array([np.ravel(XX),np.ravel(YY)]).T\n",
    "\n",
    "# decision boundary\n",
    "mpp = mpp_classifier(Xtrain_th, ytrain_th, xx)\n",
    "yy_edist = mpp.euclidean_distance()\n",
    "yy_mdist = mpp.mahalanobis_distance()\n",
    "xx_qdist, yy_qdist =  mpp.generic_distance()\n",
    "\n",
    "# get label\n",
    "t1 = time.time()\n",
    "best_k = 19\n",
    "xtest_ = pd.DataFrame(zz)\n",
    "ZZ,_,_,_ = syn.predict(best_k, xtest_, None, Xtrain_th, ytrain_th)  # not test label, just use the predict results\n",
    "ZZ = np.array(ZZ).reshape(XX.shape)\n",
    "print('Run time:',(time.time() - t1))"
   ]
  },
  {
   "cell_type": "code",
   "execution_count": 887,
   "metadata": {},
   "outputs": [
    {
     "data": {
      "image/png": "[encoded data removed]",
      "text/plain": [
       "<Figure size 432x288 with 1 Axes>"
      ]
     },
     "metadata": {
      "needs_background": "light"
     },
     "output_type": "display_data"
    }
   ],
   "source": [
    "fig, ax  = plt.subplots()\n",
    "\n",
    "ax.scatter(x_te_0['xs'], x_te_0['ys'], color = 'red',label = 'class 0', zorder = 2, s= 3)\n",
    "ax.scatter(x_te_1['xs'], x_te_1['ys'], color = 'blue', label = 'class 1', zorder = 2, s = 3)\n",
    "ax.pcolormesh(XX, YY, ZZ, cmap=cmap_light, zorder = 0)\n",
    "# plot the decision boundaries for three classifiers\n",
    "ax.plot(xx, yy_edist, color = 'g',linestyle = '--',linewidth = 2, label = 'Euclidean dist.')\n",
    "ax.plot(xx, yy_mdist, color = 'b', linestyle = '--', linewidth = 2, label = 'Mahanabolis dist.')\n",
    "ax.scatter(xx_qdist, yy_qdist, c= 'r', marker = \"_\", label = 'Quadratic Classifier')\n",
    "ax.legend(loc = 'upper right')\n",
    "ax.set_ylim([xy_low[1], xy_up[1]])\n",
    "ax.set_xlim([xy_low[0], xy_up[0]])\n",
    "\n",
    "\n",
    "plt.tight_layout()\n",
    "plt.savefig(r'../figures/kNNboundaryall.jpg')"
   ]
  },
  {
   "cell_type": "markdown",
   "metadata": {},
   "source": [
    "### Task 2\n",
    ": Implement unsupervised clustering approaches (kmeans and wta) for classification purpose.Using the pima dataset. For fair comparison, make sure you use the statistics derived from the training set to normalize the test set, like you did in Project 1. That is, the clustering approaches need to use the normalized testset. Assume the number of clusters is 2. Also assume the prior probability ratio is 1:3 wherever needed."
   ]
  },
  {
   "cell_type": "code",
   "execution_count": 1690,
   "metadata": {},
   "outputs": [],
   "source": [
    "class unsupervised_learning:\n",
    "    '''\n",
    "    enclose two unsupervised learning approaches, kmeans and wta\n",
    "    note that current version only works for two clusters.  \n",
    "    '''\n",
    "    \n",
    "    def __init__(self, X_test, k):\n",
    "        \n",
    "        self.X_test = X_test      #input data features, without labels\n",
    "        self.sample_size = X_test.shape[0]\n",
    "        self.nfe         = X_test.shape[1]\n",
    "        self.k           = k       # number of clusters\n",
    "        print('Number of samples :', self.sample_size)\n",
    "        \n",
    "        \n",
    "    def _initilize_parameters(self):\n",
    "        '''\n",
    "        edit on Tuesday, Spe 21, 2021 10:16 Am\n",
    "        initialization\n",
    "        to generate 2 arbitrary clusters and calcualte the centroids and label the clusters.\n",
    "        \n",
    "        return  new_centroids_1   --> centroids of cluster 1\n",
    "                new_centroids_2   --> centroids of cluster 2\n",
    "                new_label         --> label of input data generated by the two selected clusters.\n",
    "        '''\n",
    "        \n",
    "        # assume we split the xtest into two even set.\n",
    "        if self.k == 2:\n",
    "            \n",
    "            set1 = self.X_test.sample(frac = 0.5, random_state= 1)\n",
    "            set1_id = set1.index.tolist()\n",
    "            new_centroids_1 = set1.mean(axis = 0)\n",
    "\n",
    "            set2 = self.X_test.drop(set1_id)\n",
    "            set2_id = set2.index.tolist()\n",
    "            new_centroids_2 = set2.mean(axis = 0)\n",
    "    #         print(new_centroids_2.reset_index(drop=True))\n",
    "\n",
    "            # initialize a original label\n",
    "            new_labels = np.zeros(self.sample_size).reshape(self.sample_size,1)\n",
    "            new_labels[set1_id] = 0\n",
    "            new_labels[set2_id] = 1\n",
    "#             print('===========check', new_centroids_1)\n",
    "            centroids = [new_centroids_1, new_centroids_2]\n",
    "            \n",
    "        if self.k > 2 :\n",
    "            '''generalized the model while keeping the old version'''\n",
    "            centroids = []\n",
    "            new_labels = np.zeros(self.sample_size).reshape(self.sample_size,1)\n",
    "            kk = self.k\n",
    "            while (kk > 0):\n",
    "                \n",
    "                grp = self.X_test.sample(frac = 1/k, random_state = kk)\n",
    "                grp_idx = grp.index.tolist()\n",
    "                c       = grp.mean(axis = 0)\n",
    "                \n",
    "                kk -= 1\n",
    "                centroids.append(c)\n",
    "                new_labels[grp_idx] = kk  # to make sure k can take 0 \n",
    "        \n",
    "        return centroids, new_labels\n",
    "       \n",
    "        \n",
    "        \n",
    "    def assign_centroids(self, row, centroids):\n",
    "        '''\n",
    "        this function is for kmeans to label each sample in test set.\n",
    "        args row  --> a sample in test set\n",
    "             centroids --> centroids coordinate \n",
    "        return   label \n",
    "        '''\n",
    "        dist2centroid = [(((center - row)**2).sum())**0.5 for center in centroids]  # which is a list \n",
    "        min_dist = min(dist2centroid)\n",
    "        \n",
    "        label = dist2centroid.index(min_dist)\n",
    "\n",
    "        return label\n",
    "    \n",
    "    def assign_centroids_(self, row, centroids, pw):\n",
    "        '''\n",
    "        consider the prior information\n",
    "        this function is for kmeans to label each sample in test set.\n",
    "        args row  --> a sample in test set\n",
    "             centroids --> centroids coordinate \n",
    "        return   label \n",
    "        '''\n",
    "        dist2centroid = [(((center - row)**2).sum())**0.5 for center in centroids]  # which is a list \n",
    "        sum_dist = sum(dist2centroid)\n",
    "        dist2centroid_weighted = [y/x for x, y in zip(dist2centroid, pw)]\n",
    "#         print(dist2centroid_weighted)\n",
    "#         min_dist = min(dist2centroid)\n",
    "        min_dist = min(dist2centroid_weighted)\n",
    "        \n",
    "        label = dist2centroid_weighted.index(min_dist)\n",
    "\n",
    "        return label\n",
    "    \n",
    "    \n",
    "    def get_centroids_kmeans(self, y_model):\n",
    "        '''this function is used to calculate the centroids coorindates  K element list '''\n",
    "        \n",
    "        centroids = [self.X_test[np.array(y_model) == i].mean(axis = 0).to_numpy() for i in range(self.k)]          \n",
    "\n",
    "        return centroids       \n",
    "    \n",
    "    def get_centroids_kmeans_(self, y_model, pw):\n",
    "        '''Wednesday'''\n",
    "        '''consider the prior information'''\n",
    "        '''yangsong at 11:36 AM Wednesday Sep 22 '''\n",
    "        '''prior information just describes the frequency of each class'''\n",
    "        '''this function is used to calculate the centroids coorindates  K element list '''\n",
    "        '''\n",
    "        prior information could instruct on selecting the most N important or closest samples near each cluster centorid.\n",
    "        for instance, after the first epoch, label 0 gets 100 samples while label 1 gets 150 samples, the prior of lable 0 and lablel 1 is 0.7:0.3,\n",
    "        apparently, there are some class 1 potentially misclassified. thus we can use the 3/(3+7) * (100+150) nearest samples to form a new centroid for cluster 1.\n",
    "        while use the full samples to update class 0 centroid.\n",
    "        '''\n",
    "        \n",
    "        label_count = [y_model.count(x) for x in range(self.k)]\n",
    "        label_freq = [x/sum(label_count) for x in label_count]\n",
    "        # step 1, compare with prior information\n",
    "        perct = []  # store the number of samples used in each cluster to form the cluster center. \n",
    "        for x, y in zip(label_freq, pw):\n",
    "             \n",
    "            if x > y:\n",
    "                '''if number of classified samples is more than prior frequency'''\n",
    "                '''take a portion of nearest samples to cluster'''\n",
    "                percent_data = y * int(self.sample_size)    # take at most percent_data to to form the centorid.\n",
    "            else:\n",
    "                percent_data = x * sum(label_count)             # use all data samples in the cluster.\n",
    "            \n",
    "            perct.append(percent_data)\n",
    "\n",
    "        # step 2, search the nearest \"percent_data\" in each cluster and calculate the mean (centroids)\n",
    "        centroids = []\n",
    "        for l in range(self.k):\n",
    "#             print(l)\n",
    "            cluster_ = self.X_test[np.array(y_model) == l].to_numpy()\n",
    "            \n",
    "            centroid_ = cluster_.mean(axis = 0).reshape(1, self.nfe)   # 1 by nfe\n",
    "            \n",
    "#             print(cluster_.shape, centroid_.shape)\n",
    "            dist_ = np.square(np.subtract(cluster_ ,centroid_)).sum(axis = 1)\n",
    "            neigh_idx = np.argsort(dist_)\n",
    "            \n",
    "#             print(neigh_idx, perct)\n",
    "            partial_data_ = cluster_[neigh_idx[:int(perct[l])],:]   # take a parital data to update centroid.\n",
    "            \n",
    "            new_centroid_ = partial_data_.mean(axis = 0) \n",
    "        \n",
    "            centroids.append(new_centroid_)\n",
    "            \n",
    "#         centroids = [self.X_test[np.array(y_model) == i].mean(axis = 0).to_numpy() for i in range(self.k)]          \n",
    "\n",
    "        return centroids  \n",
    "\n",
    "    \n",
    "    def get_centroids_wta(self, label, row, centroids, learning_rate):\n",
    "\n",
    "        centroids[label] = centroids[label] + learning_rate * (row - centroids[label])\n",
    "        \n",
    "        return centroids\n",
    "    \n",
    "    def Kmeans(self):\n",
    "\n",
    "        '''\n",
    "        Kmean algorithm, default k = 2, this function needs to be improved for other K values\n",
    "        args  X_test --> dataset\n",
    "              epsilon --> when the old centroids and new centroids is within epsilon, then stop the loop, epsilon is a very small number.\n",
    "        return  performance of each epoch\n",
    "              new_labels --> classification results\n",
    "        '''    \n",
    "        diff_label = float('inf') # initialize a eror for starting loop, defined by the percent of memership changed after each epoch\n",
    "        epoch = 0\n",
    "        membership = []   # to store the percent of smaples changing membership\n",
    "#         new_centroids_1, new_centroids_2, new_labels = self._initilize_parameters()\n",
    "        centroids, new_labels = self._initilize_parameters()\n",
    "#         print(centroids)\n",
    "        t1 = time.time()\n",
    "    \n",
    "        while (diff_label>0):\n",
    "\n",
    "            old_labels = new_labels        \n",
    "\n",
    "            y_model = []\n",
    "            for idx, row in self.X_test.iterrows():\n",
    "                \n",
    "                # assign labels\n",
    "                label = self.assign_centroids(row, centroids)\n",
    "                y_model.append(label)\n",
    "\n",
    "            # update the centroids\n",
    "            centroids = self.get_centroids_kmeans(y_model)  # note that X_test is binded to the self object\n",
    "\n",
    "            new_labels = np.array(y_model).reshape(self.sample_size,1)\n",
    "\n",
    "            diff_label = np.sum(new_labels != old_labels)/self.sample_size\n",
    "            \n",
    "            epoch += 1\n",
    "\n",
    "            membership.append([epoch, diff_label])\n",
    "\n",
    "        t2 = time.time()\n",
    "        \n",
    "        print('Run time is {} seconds'.format(t2-t1))\n",
    "\n",
    "        performance = pd.DataFrame(membership,columns = ['epoch','pect_change'])\n",
    "\n",
    "        return performance, new_labels\n",
    "    \n",
    "    \n",
    "    def wta(self,learning_rate):\n",
    "\n",
    "        '''\n",
    "        winner take all clustering algorithm, now only used for two classes. \n",
    "        edit on: Saturday Sep 18, 19:20 \n",
    "        '''\n",
    "        diff_label = float('inf') # initialize a eror for starting loop, defined by the percent of memership changed after each epoch\n",
    "        epoch = 0\n",
    "        membership = []   # to store the percent of smaples changing membership\n",
    "        sample_size = self.X_test.shape[0]\n",
    "        t1 = time.time()\n",
    "        centroids, new_labels = self._initilize_parameters()\n",
    "\n",
    "        t1 = time.time()\n",
    "\n",
    "        while (diff_label>0):\n",
    "\n",
    "            old_labels = new_labels \n",
    "            y_model = []\n",
    "\n",
    "            for idx, row in self.X_test.iterrows():\n",
    "                \n",
    "                # label sample in test set.\n",
    "                label = self.assign_centroids(row, centroids)\n",
    "                y_model.append(label)\n",
    "                # update the centroids \n",
    "                centroids = self.get_centroids_wta(label, row, centroids, learning_rate)\n",
    "\n",
    "            # compute the percent of membership changed\n",
    "            new_labels = np.array(y_model).reshape(self.sample_size,1)\n",
    "            diff_label = np.sum(new_labels != old_labels)/self.sample_size\n",
    "\n",
    "            epoch += 1\n",
    "            membership.append([epoch, diff_label])\n",
    "\n",
    "        t2 = time.time()\n",
    "\n",
    "        print('winner take all clustering, run time is {:.4f} seconds'.format(t2-t1))\n",
    "\n",
    "        performance = pd.DataFrame(membership,columns = ['epoch','pect_change'])   \n",
    "\n",
    "        return performance, new_labels\n",
    "        \n",
    "        \n",
    "    def Kmeans_prior(self,pw):\n",
    "\n",
    "        '''\n",
    "        Kmean algorithm, default k = 2, this function needs to be improved for other K values\n",
    "        args  X_test --> dataset\n",
    "              epsilon --> when the old centroids and new centroids is within epsilon, then stop the loop, epsilon is a very small number.\n",
    "        return  performance of each epoch\n",
    "              new_labels --> classification results\n",
    "        '''    \n",
    "        diff_label = float('inf') # initialize a eror for starting loop, defined by the percent of memership changed after each epoch\n",
    "        epoch = 0\n",
    "        membership = []   # to store the percent of smaples changing membership\n",
    "#         new_centroids_1, new_centroids_2, new_labels = self._initilize_parameters()\n",
    "        centroids, new_labels = self._initilize_parameters()\n",
    "#         print(centroids)\n",
    "        t1 = time.time()\n",
    "\n",
    "        while (diff_label>0):\n",
    "\n",
    "            old_labels = new_labels        \n",
    "\n",
    "            y_model = []\n",
    "            for idx, row in self.X_test.iterrows():\n",
    "\n",
    "                # assign labels\n",
    "                label = self.assign_centroids(row, centroids)\n",
    "                y_model.append(label)\n",
    "\n",
    "            # update the centroids            \n",
    "            # consider prior information\n",
    "            centroids = self.get_centroids_kmeans_(y_model, pw)\n",
    "\n",
    "            new_labels = np.array(y_model).reshape(self.sample_size,1)\n",
    "\n",
    "            diff_label = np.sum(new_labels != old_labels)/self.sample_size\n",
    "\n",
    "            epoch += 1\n",
    "\n",
    "            membership.append([epoch, diff_label])\n",
    "\n",
    "        t2 = time.time()\n",
    "\n",
    "        print('Run time is {} seconds'.format(t2-t1))\n",
    "\n",
    "        performance = pd.DataFrame(membership,columns = ['epoch','pect_change'])\n",
    "\n",
    "        return performance, new_labels\n"
   ]
  },
  {
   "cell_type": "code",
   "execution_count": 1682,
   "metadata": {},
   "outputs": [
    {
     "name": "stdout",
     "output_type": "stream",
     "text": [
      "Number of samples : 332\n"
     ]
    }
   ],
   "source": [
    "k = 2\n",
    "unsup_learning = unsupervised_learning(Xtest_pi, k) #initialization"
   ]
  },
  {
   "cell_type": "code",
   "execution_count": 1689,
   "metadata": {},
   "outputs": [
    {
     "name": "stdout",
     "output_type": "stream",
     "text": [
      "Run time is 3.7689030170440674 seconds\n",
      "Run time is 1.1070952415466309 seconds\n",
      "Run time is 2.729072093963623 seconds\n",
      "Run time is 3.7181084156036377 seconds\n",
      "Run time is 1.6581146717071533 seconds\n",
      "Run time is 3.3090269565582275 seconds\n",
      "Run time is 3.0578575134277344 seconds\n",
      "Run time is 1.543654203414917 seconds\n",
      "Run time is 1.751624345779419 seconds\n",
      "Run time is 1.926943302154541 seconds\n",
      "Run time is 1.5620040893554688 seconds\n",
      "Run time is 1.7778031826019287 seconds\n",
      "Run time is 2.618330240249634 seconds\n",
      "Run time is 4.126143932342529 seconds\n",
      "Run time is 2.699039936065674 seconds\n",
      "Run time is 2.4131875038146973 seconds\n",
      "Run time is 3.30669903755188 seconds\n",
      "Run time is 2.78909969329834 seconds\n",
      "total elapsed time 46.0949 seconds\n"
     ]
    }
   ],
   "source": [
    "t1 = time.time()\n",
    "P0 = np.arange(0.1,1,.05)\n",
    "kmeans_res = []\n",
    "for p0 in P0:\n",
    "    pw = [p0, 1-p0]\n",
    "    kmeans_performance, kmeans_label = unsup_learning.Kmeans_prior(pw)\n",
    "    acc_overall, acc_class = pima.accuracy_score(ytest_pi.tolist(), kmeans_label.flatten().tolist())\n",
    "    kmeans_res.append([p0, acc_overall, acc_class])\n",
    "t2 = time.time()\n",
    "print('total elapsed time {:.4f} seconds'.format(t2-t1))"
   ]
  },
  {
   "cell_type": "code",
   "execution_count": 1701,
   "metadata": {},
   "outputs": [
    {
     "name": "stdout",
     "output_type": "stream",
     "text": [
      "Overall accuracy reaches the peak when p0 takes 0.5000000000000001\n"
     ]
    },
    {
     "data": {
      "text/plain": [
       "(      p0  acc_over                                          acc_class\n",
       " 0   0.10  0.680723     category  cate_size  class_acc\n",
       " 0         0 ...\n",
       " 1   0.15  0.698795     category  cate_size  class_acc\n",
       " 0         0 ...\n",
       " 2   0.20  0.680723     category  cate_size  class_acc\n",
       " 0         0 ...\n",
       " 3   0.25  0.677711     category  cate_size  class_acc\n",
       " 0         0 ...\n",
       " 4   0.30  0.707831     category  cate_size  class_acc\n",
       " 0         0 ...\n",
       " 5   0.35  0.680723     category  cate_size  class_acc\n",
       " 0         0 ...\n",
       " 6   0.40  0.680723     category  cate_size  class_acc\n",
       " 0         0 ...\n",
       " 7   0.45  0.710843     category  cate_size  class_acc\n",
       " 0         0 ...\n",
       " 8   0.50  0.716867     category  cate_size  class_acc\n",
       " 0         0 ...\n",
       " 9   0.55  0.707831     category  cate_size  class_acc\n",
       " 0         0 ...\n",
       " 10  0.60  0.710843     category  cate_size  class_acc\n",
       " 0         0 ...\n",
       " 11  0.65  0.707831     category  cate_size  class_acc\n",
       " 0         0 ...\n",
       " 12  0.70  0.704819     category  cate_size  class_acc\n",
       " 0         0 ...\n",
       " 13  0.75  0.695783     category  cate_size  class_acc\n",
       " 0         0 ...\n",
       " 14  0.80  0.704819     category  cate_size  class_acc\n",
       " 0         0 ...\n",
       " 15  0.85  0.701807     category  cate_size  class_acc\n",
       " 0         0 ...\n",
       " 16  0.90  0.701807     category  cate_size  class_acc\n",
       " 0         0 ...\n",
       " 17  0.95  0.695783     category  cate_size  class_acc\n",
       " 0         0 ...,\n",
       " None)"
      ]
     },
     "execution_count": 1701,
     "metadata": {},
     "output_type": "execute_result"
    }
   ],
   "source": [
    "df_kmeans = pd.DataFrame(kmeans_res, columns = ['p0','acc_over','acc_class'])\n",
    "optimal_p0 = df_kmeans['p0'][df_kmeans.acc_over.idxmax()]\n",
    "df_kmeans, print('Overall accuracy reaches the peak when p0 takes', optimal_p0)"
   ]
  },
  {
   "cell_type": "code",
   "execution_count": 1705,
   "metadata": {},
   "outputs": [
    {
     "data": {
      "image/png": "[encoded data removed]",
      "text/plain": [
       "<Figure size 432x288 with 1 Axes>"
      ]
     },
     "metadata": {
      "needs_background": "light"
     },
     "output_type": "display_data"
    }
   ],
   "source": [
    "fig, ax = plt.subplots()\n",
    "ax.plot(df_kmeans.p0, df_kmeans.acc_over, color = 'blue', marker = '^')\n",
    "ax.set_xlim([0,1])\n",
    "ax.set_xlabel('prior prob. of class 0')\n",
    "ax.set_ylabel('overall accuracy')\n",
    "ax.xaxis.set_major_locator(ticker.MultipleLocator(0.1))\n",
    "ax.set_xlim([0,1])\n",
    "ax.set_ylim([0.6,0.8])\n",
    "ax.axvline(x= 0.67,linestyle = '--',color = 'grey',label ='prior frequency')\n",
    "ax.axvline(x = optimal_p0, linestyle  = '--', color = 'red',label= 'optimal p0, acc_all = 71.7%')\n",
    "ax.set_title('pima dataset')\n",
    "ax.legend()\n",
    "plt.tight_layout()\n",
    "plt.savefig('../figures/kmeans_prior_pima.jpg')"
   ]
  },
  {
   "cell_type": "code",
   "execution_count": 1282,
   "metadata": {},
   "outputs": [
    {
     "name": "stdout",
     "output_type": "stream",
     "text": [
      "Run time is 2.0089111328125 seconds\n"
     ]
    },
    {
     "data": {
      "text/plain": [
       "(0.0, 0.5)"
      ]
     },
     "execution_count": 1282,
     "metadata": {},
     "output_type": "execute_result"
    },
    {
     "data": {
      "image/png": "[encoded data removed]",
      "text/plain": [
       "<Figure size 432x288 with 1 Axes>"
      ]
     },
     "metadata": {
      "needs_background": "light"
     },
     "output_type": "display_data"
    }
   ],
   "source": [
    "kmeans_performance, kmeans_label = unsup_learning.Kmeans()\n",
    "fig, ax = plt.subplots()\n",
    "ax.plot(kmeans_performance.epoch, kmeans_performance.pect_change,marker = 'x')\n",
    "# ax.plot(performance.epoch, performance.iter_error)\n",
    "ax.set_xlabel('epoch')\n",
    "ax.set_ylabel('percentage of samples changing membership')\n",
    "ax.set_ylim([0,0.5])"
   ]
  },
  {
   "cell_type": "code",
   "execution_count": 1305,
   "metadata": {},
   "outputs": [
    {
     "name": "stdout",
     "output_type": "stream",
     "text": [
      "winner take all clustering, run time is 0.9696 seconds\n"
     ]
    }
   ],
   "source": [
    "learning_rate = 0.05\n",
    "wta_performance_0, wta_label_0 = unsup_learning.wta(learning_rate)"
   ]
  },
  {
   "cell_type": "code",
   "execution_count": 1184,
   "metadata": {},
   "outputs": [
    {
     "name": "stdout",
     "output_type": "stream",
     "text": [
      "winner take all clustering, run time is 0.9924 seconds\n"
     ]
    }
   ],
   "source": [
    "learning_rate = 0.1\n",
    "wta_performance_1, wta_label_1 = unsup_learning.wta(learning_rate)"
   ]
  },
  {
   "cell_type": "code",
   "execution_count": 1307,
   "metadata": {},
   "outputs": [
    {
     "data": {
      "text/plain": [
       "((0.713855421686747,\n",
       "     category  cate_size  class_acc\n",
       "  0         0        109   0.724771\n",
       "  1         1        223   0.708520),\n",
       " 0    1\n",
       " 1    2\n",
       " 2    3\n",
       " Name: epoch, dtype: int64)"
      ]
     },
     "execution_count": 1307,
     "metadata": {},
     "output_type": "execute_result"
    }
   ],
   "source": [
    "pima.accuracy_score(ytest_pi.tolist(), wta_label_0.flatten().tolist()), wta_performance_0.epoch"
   ]
  },
  {
   "cell_type": "code",
   "execution_count": 1208,
   "metadata": {},
   "outputs": [
    {
     "name": "stdout",
     "output_type": "stream",
     "text": [
      "winner take all clustering, run time is 0.6888 seconds\n"
     ]
    },
    {
     "data": {
      "text/plain": [
       "(0.0, 0.5)"
      ]
     },
     "execution_count": 1208,
     "metadata": {},
     "output_type": "execute_result"
    },
    {
     "data": {
      "image/png": "[encoded data removed]",
      "text/plain": [
       "<Figure size 432x288 with 1 Axes>"
      ]
     },
     "metadata": {
      "needs_background": "light"
     },
     "output_type": "display_data"
    }
   ],
   "source": [
    "learning_rate = 0.2\n",
    "wta_performance_2, wta_label_2 = unsup_learning.wta(learning_rate)\n",
    "fig, ax = plt.subplots()\n",
    "ax.plot(wta_performance_2.epoch, wta_performance_2.pect_change,marker = 'x')\n",
    "# ax.plot(performance.epoch, performance.iter_error)\n",
    "ax.set_xlabel('epoch')\n",
    "ax.set_ylabel('percentage of samples changing membership')\n",
    "ax.set_ylim([0,0.5])"
   ]
  },
  {
   "cell_type": "code",
   "execution_count": 1308,
   "metadata": {},
   "outputs": [
    {
     "data": {
      "image/png": "[encoded data removed]",
      "text/plain": [
       "<Figure size 432x288 with 1 Axes>"
      ]
     },
     "metadata": {
      "needs_background": "light"
     },
     "output_type": "display_data"
    }
   ],
   "source": [
    "## plot overlap\n",
    "import matplotlib.ticker as mtick\n",
    "fig, ax = plt.subplots()\n",
    "\n",
    "ax.plot(kmeans_performance.epoch, kmeans_performance.pect_change*100,marker = '^',color = 'blue',label= 'kmeans')\n",
    "ax.plot(wta_performance_0.epoch, wta_performance_0.pect_change*100,marker = '^',color = 'purple',label = 'wta $\\epsilon$ = 0.05')\n",
    "ax.plot(wta_performance_1.epoch, wta_performance_1.pect_change*100,marker = '^',color = 'red',label = 'wta $\\epsilon$ = 0.1')\n",
    "ax.plot(wta_performance_2.epoch, wta_performance_2.pect_change*100,marker = '^',color = 'green',label = 'wta $\\epsilon$ = 0.2')\n",
    "ax.set_ylim([0,100])\n",
    "ax.legend()\n",
    "ax.yaxis.set_major_formatter(mtick.PercentFormatter())\n",
    "ax.set_xlabel('epoch')\n",
    "ax.set_ylabel('percentage of samples changing membership')\n",
    "plt.tight_layout()\n",
    "plt.savefig(r'../figures/kmeans_wta.a.jpg')\n"
   ]
  },
  {
   "cell_type": "code",
   "execution_count": 1309,
   "metadata": {},
   "outputs": [
    {
     "name": "stdout",
     "output_type": "stream",
     "text": [
      "accuracy of kmeans clustering\n"
     ]
    },
    {
     "data": {
      "text/plain": [
       "(0.7108433734939759,\n",
       "    category  cate_size  class_acc\n",
       " 0         0        109   0.688073\n",
       " 1         1        223   0.721973)"
      ]
     },
     "metadata": {},
     "output_type": "display_data"
    },
    {
     "name": "stdout",
     "output_type": "stream",
     "text": [
      "accuracy of wta clustering\n"
     ]
    },
    {
     "data": {
      "text/plain": [
       "(0.713855421686747,\n",
       "    category  cate_size  class_acc\n",
       " 0         0        109   0.724771\n",
       " 1         1        223   0.708520)"
      ]
     },
     "execution_count": 1309,
     "metadata": {},
     "output_type": "execute_result"
    }
   ],
   "source": [
    "print('accuracy of kmeans clustering')\n",
    "\n",
    "display(pima.accuracy_score(ytest_pi.tolist(), kmeans_label.flatten().tolist()))\n",
    "\n",
    "print('accuracy of wta clustering')\n",
    "pima.accuracy_score(ytest_pi.tolist(), wta_label_0.flatten().tolist())"
   ]
  },
  {
   "cell_type": "markdown",
   "metadata": {},
   "source": [
    "## Bonus question"
   ]
  },
  {
   "cell_type": "markdown",
   "metadata": {},
   "source": [
    "### KNN with prior information"
   ]
  },
  {
   "cell_type": "markdown",
   "metadata": {},
   "source": [
    "* test on synthetic dataset"
   ]
  },
  {
   "cell_type": "code",
   "execution_count": null,
   "metadata": {},
   "outputs": [],
   "source": [
    "t1 = time.time()\n",
    "syn = knn(dataset_name ='synthetic', k_min = k_min, k_max = k_max)\n",
    "val_acc_over = []\n",
    "val_acc_class = []\n",
    "P0 = np.arange(0.1,1,.05)\n",
    "for p0 in P0:\n",
    "    pw = [p0, 1- p0]\n",
    "    _,_, acc_over_1, acc_class_1 = syn.predict_(K, Xtest_th, ytest_th, Xtrain_th, ytrain_th,pw, '1')  # 1 is case 1\n",
    "    _,_, acc_over_2, acc_class_2 = syn.predict_(K, Xtest_th, ytest_th, Xtrain_th, ytrain_th,pw, '2')  # 1 is case 1\n",
    "    _,_, acc_over_3, acc_class_3 = syn.predict_(K, Xtest_th, ytest_th, Xtrain_th, ytrain_th,pw, '3')  # 1 is case 1\n",
    "    val_acc_over.append([p0, acc_over_1, acc_over_2, acc_over_3])\n",
    "    val_acc_class.append([p0, acc_class_1, acc_class_2, acc_class_3])\n",
    "print(time.time()-t1) \n",
    "\n",
    "df_res = pd.DataFrame(val_acc_over, columns = ['p0','case1','case2','case3'])\n",
    "display(df_res)\n",
    "\n",
    "import matplotlib.ticker as ticker\n",
    "fig, ax = plt.subplots()\n",
    "ax.plot(df_res.p0, df_res.case1, marker = '^',color = 'blue', label = 'approach 1')\n",
    "ax.plot(df_res.p0, df_res.case2, marker = '^', color = 'red', label = 'approach 2')\n",
    "ax.plot(df_res.p0, df_res.case3, marker = '^', color = 'green', label = 'approach 3')\n",
    "ax.legend()\n",
    "ax.set_ylabel('overall accuracy')\n",
    "ax.set_xlabel('prior prob. of class 0')\n",
    "ax.xaxis.set_major_locator(ticker.MultipleLocator(0.1))\n",
    "ax.set_xlim([0,1])\n",
    "ax.axvline(x= 0.5,linestyle = '--',color = 'grey')\n",
    "ax.set_title('synthetic dataset')\n",
    "plt.tight_layout()\n",
    "plt.savefig('../figures/knn_prior.jpg')"
   ]
  },
  {
   "cell_type": "markdown",
   "metadata": {},
   "source": [
    "* test on pima dataset"
   ]
  },
  {
   "cell_type": "code",
   "execution_count": null,
   "metadata": {},
   "outputs": [],
   "source": [
    "t1 = time.time()\n",
    "pima = knn(dataset_name ='pima', k_min = k_min, k_max = k_max)\n",
    "val_acc_over = []\n",
    "val_acc_class = []\n",
    "P0 = np.arange(0.1,1,.05)\n",
    "K = 12\n",
    "for p0 in P0:\n",
    "    pw = [p0, 1- p0]\n",
    "    _,_, acc_over_1, acc_class_1 = pima.predict_(K, Xtest_pi, ytest_pi, Xtrain_pi, ytrain_pi,pw, '1')  # 1 is case 1\n",
    "    _,_, acc_over_2, acc_class_2 = pima.predict_(K, Xtest_pi, ytest_pi, Xtrain_pi, ytrain_pi,pw, '2')  # 1 is case 1\n",
    "    _,_, acc_over_3, acc_class_3 = pima.predict_(K, Xtest_pi, ytest_pi, Xtrain_pi, ytrain_pi,pw, '3')  # 1 is case 1\n",
    "    val_acc_over.append([p0, acc_over_1, acc_over_2, acc_over_3])\n",
    "    val_acc_class.append([p0, acc_class_1, acc_class_2, acc_class_3])\n",
    "print(time.time()-t1) \n",
    "\n",
    "df_res = pd.DataFrame(val_acc_over, columns = ['p0','case1','case2','case3'])\n",
    "display(df_res)\n",
    "\n",
    "fig, ax = plt.subplots()\n",
    "ax.plot(df_res.p0, df_res.case1, marker = '^',color = 'blue', label = 'approach 1')\n",
    "ax.plot(df_res.p0, df_res.case2, marker = '^', color = 'red', label = 'approach 2')\n",
    "ax.plot(df_res.p0, df_res.case3, marker = '^', color = 'green', label = 'approach 3')\n",
    "ax.legend()\n",
    "ax.set_ylabel('overall accuracy')\n",
    "ax.set_xlabel('prior prob. of class 0')\n",
    "ax.xaxis.set_major_locator(ticker.MultipleLocator(0.1))\n",
    "ax.set_xlim([0,1])\n",
    "ax.axvline(x= 0.67,linestyle = '--',color = 'grey')\n",
    "ax.set_title('pima dataset')\n",
    "plt.tight_layout()\n",
    "plt.savefig('../figures/knn_prior_pima.jpg')"
   ]
  },
  {
   "cell_type": "code",
   "execution_count": null,
   "metadata": {},
   "outputs": [],
   "source": [
    "### Kmeans with prior information"
   ]
  },
  {
   "cell_type": "code",
   "execution_count": null,
   "metadata": {},
   "outputs": [],
   "source": []
  },
  {
   "cell_type": "code",
   "execution_count": null,
   "metadata": {},
   "outputs": [],
   "source": []
  },
  {
   "cell_type": "code",
   "execution_count": null,
   "metadata": {},
   "outputs": [],
   "source": []
  },
  {
   "cell_type": "code",
   "execution_count": null,
   "metadata": {},
   "outputs": [],
   "source": []
  },
  {
   "cell_type": "markdown",
   "metadata": {},
   "source": [
    "### below code is discarded. "
   ]
  },
  {
   "cell_type": "code",
   "execution_count": 1177,
   "metadata": {},
   "outputs": [
    {
     "name": "stdout",
     "output_type": "stream",
     "text": [
      "Run time is 1.830353021621704 seconds\n"
     ]
    },
    {
     "data": {
      "text/plain": [
       "(0.0, 0.5)"
      ]
     },
     "execution_count": 1177,
     "metadata": {},
     "output_type": "execute_result"
    },
    {
     "data": {
      "image/png": "[encoded data removed]",
      "text/plain": [
       "<Figure size 432x288 with 1 Axes>"
      ]
     },
     "metadata": {
      "needs_background": "light"
     },
     "output_type": "display_data"
    }
   ],
   "source": [
    "kmeans_performance, kmeans_label = Kmeans(Xtest_pi)\n",
    "\n",
    "fig, ax = plt.subplots()\n",
    "ax.plot(kmeans_performance.epoch, kmeans_performance.pect_change,marker = 'x')\n",
    "# ax.plot(performance.epoch, performance.iter_error)\n",
    "ax.set_xlabel('epoch')\n",
    "ax.set_ylabel('percentage of samples changing membership')\n",
    "ax.set_ylim([0,0.5])"
   ]
  },
  {
   "cell_type": "code",
   "execution_count": 1294,
   "metadata": {},
   "outputs": [
    {
     "name": "stdout",
     "output_type": "stream",
     "text": [
      "0\n",
      "(332, 1)\n",
      "1\n",
      "(332, 1)\n",
      "winner take all clustering, run time is 0.6652 seconds\n"
     ]
    },
    {
     "data": {
      "text/html": [
       "<div>\n",
       "<style scoped>\n",
       "    .dataframe tbody tr th:only-of-type {\n",
       "        vertical-align: middle;\n",
       "    }\n",
       "\n",
       "    .dataframe tbody tr th {\n",
       "        vertical-align: top;\n",
       "    }\n",
       "\n",
       "    .dataframe thead th {\n",
       "        text-align: right;\n",
       "    }\n",
       "</style>\n",
       "<table border=\"1\" class=\"dataframe\">\n",
       "  <thead>\n",
       "    <tr style=\"text-align: right;\">\n",
       "      <th></th>\n",
       "      <th>epoch</th>\n",
       "      <th>pect_change</th>\n",
       "    </tr>\n",
       "  </thead>\n",
       "  <tbody>\n",
       "    <tr>\n",
       "      <th>0</th>\n",
       "      <td>1</td>\n",
       "      <td>0.478916</td>\n",
       "    </tr>\n",
       "    <tr>\n",
       "      <th>1</th>\n",
       "      <td>2</td>\n",
       "      <td>0.000000</td>\n",
       "    </tr>\n",
       "  </tbody>\n",
       "</table>\n",
       "</div>"
      ],
      "text/plain": [
       "   epoch  pect_change\n",
       "0      1     0.478916\n",
       "1      2     0.000000"
      ]
     },
     "execution_count": 1294,
     "metadata": {},
     "output_type": "execute_result"
    },
    {
     "data": {
      "image/png": "[encoded data removed]",
      "text/plain": [
       "<Figure size 432x288 with 1 Axes>"
      ]
     },
     "metadata": {
      "needs_background": "light"
     },
     "output_type": "display_data"
    }
   ],
   "source": [
    "learning_rate = 0.2\n",
    "wta_performance_2, wta_label_2 = wta(Xtest_pi, learning_rate)\n",
    "fig, ax = plt.subplots()\n",
    "ax.plot(wta_performance_2.epoch, wta_performance_2.pect_change,marker = 'x')\n",
    "# ax.plot(performance.epoch, performance.iter_error)\n",
    "ax.set_xlabel('epoch')\n",
    "ax.set_ylabel('percentage of samples changing membership')\n",
    "ax.set_ylim([0,0.5])\n",
    "wta_performance_2"
   ]
  },
  {
   "cell_type": "code",
   "execution_count": null,
   "metadata": {},
   "outputs": [],
   "source": [
    "# winner take all approach\n",
    "\n",
    "def wta(X_test,learning_rate):\n",
    "    \n",
    "    '''\n",
    "    winner take all clustering algorithm, now only used for two classes. \n",
    "    edit on: Saturday Sep 18, 19:20 \n",
    "    '''\n",
    "    # assume we split the xtest into two even set.\n",
    "    set1 = X_test.sample(frac = 0.5, random_state= 1)\n",
    "    set1_id = set1.index.tolist()\n",
    "    # Xtest.loc[set1_id, 'label'] = 1\n",
    "    winer_new_1 = set1.mean(axis = 0)\n",
    "\n",
    "    set2 = X_test.drop(set1_id)\n",
    "    set2_id = set2.index.tolist()\n",
    "    winer_new_2 = set2.mean(axis = 0)\n",
    "    # initialize the label\n",
    "    new_labels = np.zeros(sample_size).reshape(sample_size,1)\n",
    "    new_labels[set1_id] = 0\n",
    "    new_labels[set2_id] = 1\n",
    "\n",
    "    diff_label = float('inf')  # kind of error, used to stop the loop, if diff_label == 0, meaning that centroids are not changed. \n",
    "    epoch = 0\n",
    "    membership = []   # to store the percent of smaples changing membership\n",
    "    t1 = time.time()\n",
    "\n",
    "    while (diff_label>0):\n",
    "\n",
    "        old_labels = new_labels \n",
    "        y_model = []\n",
    "        print(epoch)\n",
    "        for idx, row in X_test.iterrows():\n",
    "            \n",
    "            \n",
    "            winer_old_1 = winer_new_1\n",
    "            winer_old_2 = winer_new_2\n",
    "           \n",
    "            dist2mean_1 = (((winer_old_1 - row)**2).sum())**0.5    # euclidean distance\n",
    "            dist2mean_2 = (((winer_old_2 - row)**2).sum())**0.5    # euclidean distance\n",
    "            # compare dist2mean_1 and dist2mean_2\n",
    "            label =  1 if dist2mean_1 > dist2mean_2 else 0     # two classes, one is 1 and the other is 2\n",
    "#             neigh = dist2mean_1 if dist2mean_2 > dist2mean_1 else dist2mean_2\n",
    "            # update the center (winner) \n",
    "    #         winer_new = winer_old + learning_rate * (neigh - winer_old)  # modify the winer (center)\n",
    "\n",
    "            if label == 0:\n",
    "                winer_new_1 = winer_old_1 + learning_rate * (row - winer_old_1)\n",
    "                winer_new_2 = winer_old_2\n",
    "            else:\n",
    "                winer_new_1 = winer_old_1\n",
    "                winer_new_2 = winer_old_2 + learning_rate * (row - winer_old_2)\n",
    "            \n",
    "            y_model.append(label)\n",
    "        \n",
    "        new_labels = np.array(y_model).reshape(sample_size,1)\n",
    "        print((new_labels != old_labels).shape)\n",
    "        diff_label = np.sum(new_labels != old_labels)/sample_size\n",
    "\n",
    "        epoch += 1\n",
    "#         print('epoch: ',epoch, 'error:',sum_error)\n",
    "        membership.append([epoch, diff_label])\n",
    "\n",
    "    t2 = time.time()\n",
    "\n",
    "    print('winner take all clustering, run time is {:.4f} seconds'.format(t2-t1))\n",
    "    # Xtest['y_model'] = y_model\n",
    "\n",
    "    performance = pd.DataFrame(membership,columns = ['epoch','pect_change'])   \n",
    "    \n",
    "    \n",
    "    return performance, new_labels"
   ]
  },
  {
   "cell_type": "code",
   "execution_count": null,
   "metadata": {},
   "outputs": [],
   "source": [
    "# Kmeans algorithm\n",
    "\n",
    "# Step 1. begin with an arbitrary assignment of samples to clusters or begin with an arbitrary set of cluster centers and assign samples to nearest clusters\n",
    "def Kmeans(X_test):\n",
    "    '''\n",
    "    Kmean algorithm, default k = 2, this function needs to be improved for other K values\n",
    "    args  X_test --> dataset\n",
    "          epsilon --> when the old centroids and new centroids is within epsilon, then stop the loop, epsilon is a very small number.\n",
    "    return  performance of each epoch\n",
    "          new_labels --> classification results\n",
    "    '''\n",
    "    sum_error = float('inf')    # initialize a eror for starting loop, defined by the distance between old center and new center\n",
    "    diff_label = float('inf')\n",
    "    epoch = 0\n",
    "    sample_size = X_test.shape[0]\n",
    "    # assume we split the xtest into two even set.\n",
    "    set1 = X_test.sample(frac = 0.5, random_state= 1)\n",
    "    set1_id = set1.index.tolist()\n",
    "    new_centroids_1 = set1.mean(axis = 0)\n",
    "\n",
    "    set2 = X_test.drop(set1_id)\n",
    "    set2_id = set2.index.tolist()\n",
    "    new_centroids_2 = set2.mean(axis = 0)\n",
    "    # Xtest.loc[set2_id, 'label'] = 2\n",
    "\n",
    "    membership = []   # to store the percent of smaples changing membership\n",
    "    t1 = time.time()\n",
    "    # initialize a original label\n",
    "    new_labels = np.zeros(sample_size).reshape(sample_size,1)\n",
    "    new_labels[set1_id] = 0\n",
    "    new_labels[set2_id] = 1\n",
    "    \n",
    "    while (diff_label>0):\n",
    "\n",
    "        old_centroids_1 = new_centroids_1\n",
    "        old_centroids_2 = new_centroids_2\n",
    "        old_labels = new_labels        \n",
    "\n",
    "        y_model = []\n",
    "        for idx, row in X_test.iterrows():\n",
    "\n",
    "            dist2mean_1 = (((old_centroids_1 - row)**2).sum())**0.5    # euclidean distance\n",
    "            dist2mean_2 = (((old_centroids_2 - row)**2).sum())**0.5    # euclidean distance\n",
    "        # compare dist2mean_1 and dist2mean_2\n",
    "            label =  1 if dist2mean_1 > dist2mean_2 else  0     # two classes, one is 1 and the other is 2\n",
    "            y_model.append(label)\n",
    "\n",
    "        # update mean of each cluster \n",
    "        # add one column (label) to the Xtest_pi data for calculate the mean\n",
    "        set1_mean = X_test[np.array(y_model) == 0].mean(axis = 0).to_numpy()\n",
    "        set2_mean = X_test[np.array(y_model) == 1].mean(axis = 0).to_numpy()\n",
    "  \n",
    "    #     print(Xtest.columns)\n",
    "        new_centroids_1  = set1_mean\n",
    "        new_centroids_2  = set2_mean\n",
    "    #     print(new_centroids_1)\n",
    "        new_labels = np.array(y_model).reshape(sample_size,1)\n",
    "        # calcualte the difference \n",
    "        \n",
    "        diff_label = np.sum(new_labels != old_labels)/sample_size\n",
    "        \n",
    "\n",
    "        epoch += 1\n",
    "\n",
    "        membership.append([epoch, diff_label])\n",
    "\n",
    "\n",
    "    t2 = time.time()\n",
    "    print('Run time is {} seconds'.format(t2-t1))\n",
    "    # Xtest['y_model'] = y_model\n",
    "\n",
    "    performance = pd.DataFrame(membership,columns = ['epoch','pect_change'])\n",
    "    \n",
    "    return performance, new_labels"
   ]
  },
  {
   "cell_type": "code",
   "execution_count": null,
   "metadata": {},
   "outputs": [],
   "source": []
  },
  {
   "cell_type": "code",
   "execution_count": 310,
   "metadata": {},
   "outputs": [
    {
     "name": "stdout",
     "output_type": "stream",
     "text": [
      "synthetic\n",
      "total run time: 110.3670 seconds\n"
     ]
    }
   ],
   "source": [
    "# test sample\n",
    "\n",
    "t1  = time.time()\n",
    "k_min, k_max = 1, 30\n",
    "syn = knn(dataset_name ='synthetic', k_min = k_min, k_max = k_max)\n",
    "# syn.iter_k()\n",
    "Rt, Acc_all, Acc_class = syn.iter_k( Xtrain, ytrain,Xtest, ytest)\n",
    "\n",
    "print('total run time: {:.4f} seconds'.format(time.time() - t1))"
   ]
  },
  {
   "cell_type": "markdown",
   "metadata": {},
   "source": [
    "illustrates the overall classification accuracy vs. k using the synthetic and the pima dataset. "
   ]
  },
  {
   "cell_type": "code",
   "execution_count": 255,
   "metadata": {},
   "outputs": [],
   "source": [
    "def accuracy_score_(y, y_model):\n",
    "    \"\"\" Return accuracy score.\n",
    "    You are supposed to return both overall accuracy and classwise accuracy.\n",
    "    args   y --> label of test sample\n",
    "           y_model --> label generated from the algorithm, which is a list.\n",
    "    return acc_overall --> overall accuracy, a scalar\n",
    "           acc_classwise   --> classwise accuracy a dataframe\n",
    "    \"\"\"\n",
    "    y = y.tolist() if isinstance(y, pd.Series) else y  # if y is a pd.Series, then convert it to list\n",
    "    \n",
    "    assert len(y) == len(y_model)\n",
    "    \n",
    "    # overall accuracy\n",
    "    unq_label = np.unique(y)       # unique label\n",
    "\n",
    "    # classwie accuracy, should consider situations with desigated dimensions\n",
    "    # use pandas groupby\n",
    "    # create a pandas dataframe\n",
    "    df_eval = pd.DataFrame(list(zip(y, y_model)),\n",
    "               columns =['ytest', 'ymodel'])\n",
    "    df_eval['acc'] = (df_eval['ytest'] == df_eval['ymodel']).astype(int)\n",
    "    category_size = df_eval.groupby(['ytest'])['ymodel'].count().reset_index()  # count the samples in each category\n",
    "    category_acc  = df_eval.groupby(['ytest'])['acc'].sum().reset_index()        # number of accurate label\n",
    "    \n",
    "    acc_classwise = pd.merge(category_size, category_acc, on = 'ytest',validate = 'one_to_one')\n",
    "    acc_classwise['acc'] = acc_classwise['acc']/acc_classwise['ymodel']\n",
    "    acc_classwise = acc_classwise.rename(columns = {'ytest':'category','ymodel':'cate_size','acc':'class_acc'})\n",
    "    \n",
    "    # overall accuracy\n",
    "    acc_overall = df_eval['acc'].sum()/df_eval.shape[0]\n",
    "#     print(acc_classwise)\n",
    "\n",
    "    return acc_overall, acc_classwise\n"
   ]
  },
  {
   "cell_type": "code",
   "execution_count": 279,
   "metadata": {},
   "outputs": [],
   "source": [
    "def knn_(K, Xtest, ytest, Xtrain, ytrain):\n",
    "\n",
    "    y_model = []\n",
    "    t1 = time.time()\n",
    "#     K = 3\n",
    "    for idx, row in Xtest.iterrows():\n",
    "\n",
    "        # compute (squared or not squared) distance the sample in test set to each sample in training set\n",
    "        dist2train = (Xtrain.subtract(row)**2).sum(axis = 1)\n",
    "\n",
    "        neigh_idx = dist2train.sort_values().index[:K].tolist()   # K-nearest neighbour's index\n",
    "        neigh_label = ytrain[neigh_idx].tolist()\n",
    "\n",
    "        ## find the marjority of label\n",
    "        major_label = max(set(neigh_label), key = neigh_label.count)\n",
    "        \n",
    "        y_model.append(major_label)\n",
    "\n",
    "    t2 = time.time()\n",
    "    acc_all, acc_class = accuracy_score_(ytest, y_model)\n",
    "#     print('Run time is {:.3f} seconds'.format(t2-t1))\n",
    "    return y_model, t2 - t1, acc_all, acc_class"
   ]
  },
  {
   "cell_type": "code",
   "execution_count": 285,
   "metadata": {},
   "outputs": [],
   "source": [
    "Rt = []\n",
    "Acc_all = []\n",
    "Acc_class = []\n",
    "k_max = 20\n",
    "k_min = 1\n",
    "\n",
    "for K in range(k_min,k_max):\n",
    "    \n",
    "    _ , runtime, acc_all_, acc_class_ = knn_(K, Xtest, ytest, Xtrain, ytrain)\n",
    "    Rt.append(runtime)\n",
    "    Acc_all.append(acc_all_)\n",
    "    Acc_class.append(acc_class_)\n",
    "        "
   ]
  },
  {
   "cell_type": "code",
   "execution_count": 292,
   "metadata": {},
   "outputs": [
    {
     "data": {
      "text/plain": [
       "[0.85,\n",
       " 0.847,\n",
       " 0.866,\n",
       " 0.853,\n",
       " 0.87,\n",
       " 0.861,\n",
       " 0.889,\n",
       " 0.873,\n",
       " 0.888,\n",
       " 0.893,\n",
       " 0.9,\n",
       " 0.895,\n",
       " 0.904,\n",
       " 0.904,\n",
       " 0.905,\n",
       " 0.908,\n",
       " 0.913,\n",
       " 0.909,\n",
       " 0.916]"
      ]
     },
     "execution_count": 292,
     "metadata": {},
     "output_type": "execute_result"
    }
   ],
   "source": [
    "Acc_all"
   ]
  },
  {
   "cell_type": "markdown",
   "metadata": {},
   "source": [
    "reference to visualize the boundary of KNN\n",
    "\n",
    "https://stackoverflow.com/questions/45075638/graph-k-nn-decision-boundaries-in-matplotlib"
   ]
  },
  {
   "cell_type": "code",
   "execution_count": null,
   "metadata": {},
   "outputs": [],
   "source": []
  },
  {
   "cell_type": "code",
   "execution_count": 290,
   "metadata": {},
   "outputs": [
    {
     "data": {
      "text/plain": [
       "Text(0.5, 0, 'K value')"
      ]
     },
     "execution_count": 290,
     "metadata": {},
     "output_type": "execute_result"
    },
    {
     "data": {
      "image/png": "[encoded data removed]",
      "text/plain": [
       "<Figure size 720x720 with 1 Axes>"
      ]
     },
     "metadata": {
      "needs_background": "light"
     },
     "output_type": "display_data"
    }
   ],
   "source": [
    "fig, ax = plt.subplots(figsize = (10,10))\n",
    "k_max = 20\n",
    "k_min = 1\n",
    "ax.plot(np.arange(k_min,k_max), Acc_all, color = 'blue')\n",
    "ax.set_xlim([k_min-1, k_max + 1])\n",
    "ax.set_ylim([0.7,1])\n",
    "ax.set_ylabel('Overall accuracy')\n",
    "ax.set_xlabel('K value')"
   ]
  },
  {
   "cell_type": "code",
   "execution_count": 259,
   "metadata": {},
   "outputs": [
    {
     "data": {
      "text/plain": [
       "(0.866,\n",
       "    category  cate_size  class_acc\n",
       " 0         0        500      0.898\n",
       " 1         1        500      0.834)"
      ]
     },
     "execution_count": 259,
     "metadata": {},
     "output_type": "execute_result"
    }
   ],
   "source": [
    "acc_all, acc_class = accuracy_score(ytest, y_model)\n",
    "acc_all, acc_class"
   ]
  },
  {
   "attachments": {
    "b0e9ea98-414b-47d0-a583-d07595f81982.png": {
     "image/png": "[encoded data removed]"
    }
   },
   "cell_type": "markdown",
   "metadata": {},
   "source": [
    "![image.png](attachment:b0e9ea98-414b-47d0-a583-d07595f81982.png)"
   ]
  },
  {
   "cell_type": "code",
   "execution_count": null,
   "metadata": {},
   "outputs": [],
   "source": []
  },
  {
   "cell_type": "code",
   "execution_count": null,
   "metadata": {},
   "outputs": [],
   "source": []
  },
  {
   "cell_type": "code",
   "execution_count": null,
   "metadata": {},
   "outputs": [],
   "source": []
  },
  {
   "cell_type": "code",
   "execution_count": null,
   "metadata": {},
   "outputs": [],
   "source": []
  },
  {
   "cell_type": "code",
   "execution_count": null,
   "metadata": {},
   "outputs": [],
   "source": []
  },
  {
   "attachments": {
    "2150a25f-4330-45ab-862b-bc7159122464.png": {
     "image/png": "[encoded data removed]"
    }
   },
   "cell_type": "markdown",
   "metadata": {},
   "source": [
    "![image.png](attachment:2150a25f-4330-45ab-862b-bc7159122464.png)"
   ]
  },
  {
   "cell_type": "code",
   "execution_count": null,
   "metadata": {},
   "outputs": [],
   "source": []
  }
 ],
 "metadata": {
  "kernelspec": {
   "display_name": "Python 3",
   "language": "python",
   "name": "python3"
  },
  "language_info": {
   "codemirror_mode": {
    "name": "ipython",
    "version": 3
   },
   "file_extension": ".py",
   "mimetype": "text/x-python",
   "name": "python",
   "nbconvert_exporter": "python",
   "pygments_lexer": "ipython3",
   "version": "3.8.2"
  }
 },
 "nbformat": 4,
 "nbformat_minor": 4
}
