{
 "cells": [
  {
   "cell_type": "markdown",
   "metadata": {},
   "source": [
    "<center style = \"font-size:2em;\"> COSC 522 Project 1</center>\n",
    "<center style = \"font-size:1em;\">Yangsong Gu </center>\n",
    "\n",
    "<center style = \"font-size:1em;\">Sep 6, 2021 </center>"
   ]
  },
  {
   "cell_type": "code",
   "execution_count": 1,
   "metadata": {},
   "outputs": [],
   "source": [
    "import pandas as pd\n",
    "import numpy as np\n",
    "import matplotlib.pyplot as plt\n",
    "import time\n",
    "\n",
    "from sympy import lambdify\n",
    "from sympy import Symbol, symbols, simplify\n",
    "import sympy"
   ]
  },
  {
   "cell_type": "code",
   "execution_count": 2,
   "metadata": {},
   "outputs": [],
   "source": [
    "df_tr = pd.read_csv('http://www.stats.ox.ac.uk/pub/PRNN/synth.tr', delim_whitespace = True, header = 0)\n",
    "df_te = pd.read_csv('http://www.stats.ox.ac.uk/pub/PRNN/synth.te', delim_whitespace = True, header = 0)"
   ]
  },
  {
   "cell_type": "code",
   "execution_count": 3,
   "metadata": {},
   "outputs": [],
   "source": [
    "Xtrain = df_tr[['xs','ys']].to_numpy()\n",
    "ytrain = df_tr['yc'].to_numpy().astype(int)\n",
    "\n",
    "Xtest = df_te[['xs','ys']].to_numpy()\n",
    "ytest = df_te['yc'].to_numpy().astype(int)\n",
    "\n",
    "nte, nf = Xtest.shape    # get the dimension of testing samples\n",
    "                         # nte is the number of testing samples\n",
    "                         # nf is the number of features/dimensions"
   ]
  },
  {
   "cell_type": "code",
   "execution_count": 4,
   "metadata": {},
   "outputs": [],
   "source": [
    "# get training samples for class 0\n",
    "arr = Xtrain[ytrain == 0]\n",
    "covs0 = np.cov(np.transpose(arr))\n",
    "means0 = np.mean(arr, axis = 0)"
   ]
  },
  {
   "cell_type": "code",
   "execution_count": 5,
   "metadata": {},
   "outputs": [
    {
     "name": "stdout",
     "output_type": "stream",
     "text": [
      "cov. of 1 [[ 0.15974786 -0.01557501]\n",
      " [-0.01557501  0.02995842]] mean of 1 [0.07595431 0.68296891]\n"
     ]
    }
   ],
   "source": [
    "arr = Xtrain[ytrain == 1]\n",
    "covs1 = np.cov(np.transpose(arr))\n",
    "means1 = np.mean(arr, axis = 0)\n",
    "print(\"cov. of 1\", covs1, \"mean of 1\", means1)"
   ]
  },
  {
   "cell_type": "code",
   "execution_count": 6,
   "metadata": {},
   "outputs": [],
   "source": [
    "def model_evaluation(y, ytest, t1, t0):\n",
    "    '''\n",
    "    performance evaluation: \n",
    "    1) overal classification accuracy\n",
    "    2) calculate the classwise classification accuracy.\n",
    "    3) elapsed time\n",
    "    \n",
    "    input: y        --> prediciton\n",
    "           ytest    --> truth\n",
    "    output: acc_overall --> overall accuracy\n",
    "            acc0    --> accuracy of class 0\n",
    "            acc1    --> accuracy of class 1\n",
    "            runtime --> elapsed time\n",
    "    '''\n",
    "    \n",
    "    # overall classfication accuracy \n",
    "    acc_overall = np.count_nonzero(y == ytest) / len(y)\n",
    "    \n",
    "    # classwise classfication accuracy\n",
    "    pt00 = ((np.array(y) == 0) & (ytest==0)).sum()  # predict is 0, truth is 0 \n",
    "    pt10 = ((np.array(y) == 0) & (ytest==1)).sum()  # predict is 1, truth is 0  \n",
    "    pt01 = ((np.array(y) == 1) & (ytest==0)).sum()  # predict is 1, truth is 0\n",
    "    pt11 = ((np.array(y) == 1) & (ytest==1)).sum()  # predict is 1, truth is 1\n",
    "    # classwise accuracy \n",
    "    acc0 = pt00 / (pt00 + pt10)                     # classwise accuracy of clas 0\n",
    "    acc1 = pt11 / (pt01 + pt11)                     # classwise accuracy of class 1\n",
    "    \n",
    "    # elapsed time\n",
    "    runtime = t1 - t0\n",
    "    print( 'Overall accuracy: {:.2%}'.format(acc_overall), '\\n',\n",
    "        'Classwise accuracy of class 0: {:.2%}'.format(acc0), '\\n',\n",
    "          'Classwise accuracy of class 1: {:.2%}'.format(acc1), '\\n',\n",
    "          'Test finished in {:.4f} seconds'.format(runtime))\n",
    "    \n",
    "    return acc_overall, acc0, acc1, runtime "
   ]
  },
  {
   "cell_type": "markdown",
   "metadata": {},
   "source": [
    "### 1) Minimum Euclidean distance classifier (Linear machine)"
   ]
  },
  {
   "cell_type": "code",
   "execution_count": 7,
   "metadata": {},
   "outputs": [
    {
     "name": "stdout",
     "output_type": "stream",
     "text": [
      "Overall accuracy: 71.30% \n",
      " Classwise accuracy of class 0: 72.81% \n",
      " Classwise accuracy of class 1: 69.98% \n",
      " Test finished in 0.0160 seconds\n"
     ]
    }
   ],
   "source": [
    "t0 = time.time()\n",
    "covavg = (covs0 + covs1) / 2  \n",
    "varavg = np.sum(np.diagonal(covavg) / nf)   # average of variances\n",
    "Pw0 = Pw1 = 0.5            # assume the equal priority \n",
    "y = []                     # save the classification label of testing samples\n",
    "for i in range(nte):\n",
    "    \n",
    "    edist2 = np.dot(Xtest[i] - means0, Xtest[i] - means0)\n",
    "    g0 = -edist2 / (2 * varavg) + np.log(Pw0)\n",
    "    \n",
    "    edist2 = np.dot(Xtest[i] - means1, Xtest[i] - means1)\n",
    "    g1 = -edist2 / (2 * varavg) + np.log(Pw1)\n",
    "    \n",
    "    y.append(1) if g1 > g0 else y.append(0)\n",
    "\n",
    "t1 = time.time()\n",
    "\n",
    "acc_overall, acc0, acc1, runtime = model_evaluation(y, ytest, t1, t0)"
   ]
  },
  {
   "cell_type": "markdown",
   "metadata": {},
   "source": [
    "### 2) minimum Mahalanobis distance classifier (linear machine)"
   ]
  },
  {
   "cell_type": "markdown",
   "metadata": {},
   "source": [
    "Assume the covariance matrix is $$\\sum_i = \\sum = \\frac{covs1+ covs2}{2}\n",
    "                            $$"
   ]
  },
  {
   "cell_type": "code",
   "execution_count": 8,
   "metadata": {},
   "outputs": [
    {
     "name": "stdout",
     "output_type": "stream",
     "text": [
      "Overall accuracy: 89.20% \n",
      " Classwise accuracy of class 0: 88.58% \n",
      " Classwise accuracy of class 1: 89.84% \n",
      " Test finished in 0.0788 seconds\n"
     ]
    }
   ],
   "source": [
    "t0 = time.time()\n",
    "covavg = (covs0 + covs1) / 2                # average of Sigmas\n",
    "Pw0 = Pw1 = 0.5\n",
    "y = []\n",
    "\n",
    "for i in range(nte):\n",
    "    \n",
    "    mdist = np.transpose(Xtest[i] - means0) @ np.linalg.inv(covavg) @ (Xtest[i] - means0)\n",
    "    g0 = -mdist/2 + np.log(Pw0)           # mahalanobis distance \n",
    "    \n",
    "    mdist = np.transpose(Xtest[i] - means1) @ np.linalg.inv(covavg) @ (Xtest[i] - means1)\n",
    "    g1 = -mdist/2 + np.log(Pw1)\n",
    "    \n",
    "    y.append(1) if g1 > g0 else y.append(0)\n",
    "\n",
    "t1 = time.time()\n",
    "\n",
    "acc_overall, acc0, acc1, runtime = model_evaluation(y, ytest, t1, t0)"
   ]
  },
  {
   "cell_type": "markdown",
   "metadata": {},
   "source": [
    "### 3) the generic form of Baysian decision rule (quadratic machine)"
   ]
  },
  {
   "cell_type": "code",
   "execution_count": 9,
   "metadata": {},
   "outputs": [
    {
     "name": "stdout",
     "output_type": "stream",
     "text": [
      "Overall accuracy: 89.80% \n",
      " Classwise accuracy of class 0: 89.02% \n",
      " Classwise accuracy of class 1: 90.61% \n",
      " Test finished in 0.0990 seconds\n"
     ]
    }
   ],
   "source": [
    "t0 = time.time()\n",
    "Pw0 = Pw1 = 0.5\n",
    "y = []\n",
    "\n",
    "for i in range(nte):\n",
    "    \n",
    "    qdist = np.transpose(Xtest[i] - means0) @ np.linalg.inv(covs0) @ (Xtest[i] - means0)\n",
    "    g0 = -qdist/2 - 0.5 * np.log(np.linalg.det(covs0)) + np.log(Pw0)           # mahalanobis distance \n",
    "    \n",
    "    qdist = np.transpose(Xtest[i] - means1) @ np.linalg.inv(covs1) @ (Xtest[i] - means1)\n",
    "    g1 = -qdist/2 - 0.5 * np.log(np.linalg.det(covs1)) + np.log(Pw1)\n",
    "    \n",
    "    y.append(1) if g1 > g0 else y.append(0)\n",
    "\n",
    "t1 = time.time()\n",
    "acc_overall, acc0, acc1, runtime = model_evaluation(y, ytest, t1, t0)"
   ]
  },
  {
   "cell_type": "markdown",
   "metadata": {},
   "source": [
    "### Tasks"
   ]
  },
  {
   "cell_type": "markdown",
   "metadata": {},
   "source": [
    "Show a scatter plot of the training set of the two classes using only the synthetic dataset. From visual inspection, do you think single-modal Gaussian is a good/reasonable model for the pdf?"
   ]
  },
  {
   "cell_type": "code",
   "execution_count": 10,
   "metadata": {},
   "outputs": [
    {
     "data": {
      "text/plain": [
       "Text(0, 0.5, 'feature 2')"
      ]
     },
     "execution_count": 10,
     "metadata": {},
     "output_type": "execute_result"
    },
    {
     "data": {
      "image/png": "[encoded data removed]",
      "text/plain": [
       "<Figure size 432x288 with 1 Axes>"
      ]
     },
     "metadata": {
      "needs_background": "light"
     },
     "output_type": "display_data"
    }
   ],
   "source": [
    "fig, ax = plt.subplots()\n",
    "scatter = ax.scatter(df_tr['xs'], df_tr['ys'], c = df_tr['yc'])\n",
    "legend1 = ax.legend(*scatter.legend_elements(),\n",
    "                    loc=\"lower left\", title=\"Classes\")\n",
    "ax.add_artist(legend1)\n",
    "ax.set_xlabel('feature 1')\n",
    "ax.set_ylabel('feature 2')\n",
    "# plt.savefig(\"../Figures/scatterplot of test sample.jpg\")"
   ]
  },
  {
   "cell_type": "markdown",
   "metadata": {},
   "source": [
    "Using only the synthetic dataset, illustrate the three decision boundaries from the three cases of parametric learning algorithms on the same figure as the scatter plot of the testing dataset. Comment on the differences."
   ]
  },
  {
   "cell_type": "markdown",
   "metadata": {},
   "source": [
    "Euclidean distance"
   ]
  },
  {
   "cell_type": "code",
   "execution_count": 11,
   "metadata": {},
   "outputs": [
    {
     "data": {
      "text/html": [
       "<div>\n",
       "<style scoped>\n",
       "    .dataframe tbody tr th:only-of-type {\n",
       "        vertical-align: middle;\n",
       "    }\n",
       "\n",
       "    .dataframe tbody tr th {\n",
       "        vertical-align: top;\n",
       "    }\n",
       "\n",
       "    .dataframe thead th {\n",
       "        text-align: right;\n",
       "    }\n",
       "</style>\n",
       "<table border=\"1\" class=\"dataframe\">\n",
       "  <thead>\n",
       "    <tr style=\"text-align: right;\">\n",
       "      <th></th>\n",
       "      <th>xs</th>\n",
       "      <th>ys</th>\n",
       "    </tr>\n",
       "    <tr>\n",
       "      <th>yc</th>\n",
       "      <th></th>\n",
       "      <th></th>\n",
       "    </tr>\n",
       "  </thead>\n",
       "  <tbody>\n",
       "    <tr>\n",
       "      <th>0</th>\n",
       "      <td>-0.200904</td>\n",
       "      <td>0.288513</td>\n",
       "    </tr>\n",
       "    <tr>\n",
       "      <th>1</th>\n",
       "      <td>0.051935</td>\n",
       "      <td>0.695766</td>\n",
       "    </tr>\n",
       "  </tbody>\n",
       "</table>\n",
       "</div>"
      ],
      "text/plain": [
       "          xs        ys\n",
       "yc                    \n",
       "0  -0.200904  0.288513\n",
       "1   0.051935  0.695766"
      ]
     },
     "metadata": {},
     "output_type": "display_data"
    },
    {
     "data": {
      "text/latex": [
       "$\\displaystyle 0.505678246684 x_{1} + 0.814504808215999 x_{2} - 0.36318487540671$"
      ],
      "text/plain": [
       "0.505678246684*x1 + 0.814504808215999*x2 - 0.36318487540671"
      ]
     },
     "metadata": {},
     "output_type": "display_data"
    },
    {
     "name": "stdout",
     "output_type": "stream",
     "text": [
      "-0.6208717004297115 0.4459177409453653\n"
     ]
    }
   ],
   "source": [
    "means = df_te.groupby('yc').mean()\n",
    "display(means)\n",
    "means = means.to_numpy()\n",
    "x1, x2 = symbols('x1 x2',real = True)\n",
    "edist = - 2 * (means[0,0] * x1 + means[0,1] * x2) + 2 * (means[1,0] * x1 + means[1,1] * x2) + \\\n",
    "        + means[0,0]**2 + means[0,1]**2 - (means[1,0]**2 + means[1,1]**2)\n",
    "edist = simplify(edist)\n",
    "display(edist)\n",
    "\n",
    "xx = np.linspace(-1.5, 2, 100)\n",
    "coeff = -0.5057 / 0.8145  \n",
    "intercept = 0.3632/0.8145\n",
    "yy_edist = xx * coeff + intercept\n",
    "print(coeff, intercept)"
   ]
  },
  {
   "cell_type": "markdown",
   "metadata": {},
   "source": [
    "Manhalanobis distance"
   ]
  },
  {
   "cell_type": "code",
   "execution_count": 12,
   "metadata": {},
   "outputs": [
    {
     "data": {
      "text/latex": [
       "$\\displaystyle \\left[\\begin{matrix}2.56378667160506 x_{1} + 24.8216607639277 x_{2} - 12.0247579869659\\end{matrix}\\right]$"
      ],
      "text/plain": [
       "Matrix([[2.56378667160506*x1 + 24.8216607639277*x2 - 12.0247579869659]])"
      ]
     },
     "metadata": {},
     "output_type": "display_data"
    },
    {
     "name": "stdout",
     "output_type": "stream",
     "text": [
      "-0.10328865468521496 0.48444707654995434\n"
     ]
    }
   ],
   "source": [
    "dist0 = sympy.Matrix([x1, x2]) - means[0,:].reshape(2,1)\n",
    "dist1 = sympy.Matrix([x1, x2]) - means[1,:].reshape(2,1)\n",
    "gx = dist0.transpose() @ np.linalg.inv(covavg) @ dist0 - dist1.transpose() @ np.linalg.inv(covavg) @ dist1\n",
    "gx = simplify(gx)\n",
    "display(gx)\n",
    "coeff = - 2.5638 / 24.8217  \n",
    "intercept = 12.0248/24.8217  \n",
    "yy_mdist = xx * coeff + intercept\n",
    "print(coeff, intercept)"
   ]
  },
  {
   "cell_type": "markdown",
   "metadata": {},
   "source": [
    "Quadratic machine"
   ]
  },
  {
   "cell_type": "code",
   "execution_count": 13,
   "metadata": {},
   "outputs": [
    {
     "data": {
      "text/plain": [
       "'Discriminant function'"
      ]
     },
     "metadata": {},
     "output_type": "display_data"
    },
    {
     "data": {
      "text/latex": [
       "$\\displaystyle \\left[\\begin{matrix}1.46768684748451 x_{1}^{2} + 4.56561613528624 x_{1} x_{2} - 3.79090054971841 x_{1} + 3.56103245543681 x_{2}^{2} - 16.3241009105767 x_{2} + 6.94870767306152\\end{matrix}\\right]$"
      ],
      "text/plain": [
       "Matrix([[1.46768684748451*x1**2 + 4.56561613528624*x1*x2 - 3.79090054971841*x1 + 3.56103245543681*x2**2 - 16.3241009105767*x2 + 6.94870767306152]])"
      ]
     },
     "metadata": {},
     "output_type": "display_data"
    }
   ],
   "source": [
    "left = -0.5 * dist0.transpose()  @ np.linalg.inv(covs0) @ dist0 - 0.5 * np.log(np.linalg.det(covs0)).reshape(1,1) \n",
    "right = -0.5 * dist1.transpose()  @ np.linalg.inv(covs1) @ dist1 - 0.5 * np.log(np.linalg.det(covs1)).reshape(1,1)\n",
    "gx = left - right\n",
    "gx = simplify(gx)\n",
    "display(\"Discriminant function\", gx)    \n",
    "var = (x1, x2)\n",
    "gx_func = lambdify(var, gx, modules = 'numpy')\n",
    "gx_y = gx_func(xx, x2)\n",
    "\n",
    "# iterate and solve equations\n",
    "gx_y_list = gx_y.flatten('C').tolist()\n",
    "yy = [sympy.solve(formula, x2) for formula in gx_y_list]\n",
    "\n",
    "yy_real = [item for sublist in yy for item in sublist]\n",
    "yy_qdist= [yy_final for yy_final in yy if len(yy_final)>0]\n",
    "yy_qdist = [item for sublist in yy_qdist for item in sublist]\n",
    "xx_qdist = np.repeat(xx[:int(len(yy_real)/2)],2).tolist()\n"
   ]
  },
  {
   "cell_type": "code",
   "execution_count": 14,
   "metadata": {},
   "outputs": [
    {
     "data": {
      "text/plain": [
       "<matplotlib.legend.Legend at 0x1825a898>"
      ]
     },
     "execution_count": 14,
     "metadata": {},
     "output_type": "execute_result"
    },
    {
     "data": {
      "image/png": "[encoded data removed]",
      "text/plain": [
       "<Figure size 432x288 with 1 Axes>"
      ]
     },
     "metadata": {
      "needs_background": "light"
     },
     "output_type": "display_data"
    }
   ],
   "source": [
    "fig, ax = plt.subplots()\n",
    "ax.set_xlim([-1.5,1.5])\n",
    "ax.set_ylim([-1,2])\n",
    "ax.set_xlabel('feature 1')\n",
    "ax.set_ylabel('feature 2')\n",
    "scatter = ax.scatter(df_te['xs'], df_te['ys'], c = df_te['yc'],s = 1.6)\n",
    "legend1 = ax.legend(*scatter.legend_elements(),\n",
    "                    loc=\"lower left\", title=\"Classes\")\n",
    "ax.add_artist(legend1)\n",
    "ax.plot(xx, yy_edist, color = 'g',linestyle = '--',linewidth = 2, label = 'Euclidean dist.')\n",
    "ax.plot(xx, yy_mdist, color = 'b', linestyle = '--', linewidth = 2, label = 'Mahanabolis dist.')\n",
    "ax.scatter(xx_qdist, yy_qdist, c= 'r', marker = \"_\", label = 'Quadratic Classifier')\n",
    "ax.legend()\n",
    "# plt.savefig('../Figures/decisionboundary.jpg')"
   ]
  },
  {
   "cell_type": "markdown",
   "metadata": {},
   "source": [
    "Plot a figure with 3x2 subplots of class-0 accuracy vs. ratio of prior probability on the two datasets of the three cases of MAP classifiers and provide comments and discussions.\n",
    "(5 pts) Final discussion."
   ]
  },
  {
   "cell_type": "code",
   "execution_count": 15,
   "metadata": {},
   "outputs": [],
   "source": [
    "Pw0 = np.linspace(0.1,0.9,10)"
   ]
  },
  {
   "cell_type": "code",
   "execution_count": 16,
   "metadata": {},
   "outputs": [
    {
     "data": {
      "image/png": "[encoded data removed]",
      "text/plain": [
       "<Figure size 432x288 with 1 Axes>"
      ]
     },
     "metadata": {
      "needs_background": "light"
     },
     "output_type": "display_data"
    }
   ],
   "source": [
    "def eculidean_class(covs0, covs1, nf, Pw0, nte):\n",
    "    \n",
    "    covavg = (covs0 + covs1) / 2  \n",
    "    varavg = np.sum(np.diagonal(covavg) / nf)   # average of variances\n",
    "#     Pw0 = Pw1 = 0.5            # assume the equal priority \n",
    "    Pw1 = 1 - Pw0\n",
    "    y = []                     # save the classification label of testing samples\n",
    "    \n",
    "    for i in range(nte):\n",
    "\n",
    "        edist2 = np.dot(Xtest[i] - means0, Xtest[i] - means0)\n",
    "        g0 = -edist2 / (2 * varavg) + np.log(Pw0)\n",
    "\n",
    "        edist2 = np.dot(Xtest[i] - means1, Xtest[i] - means1)\n",
    "        g1 = -edist2 / (2 * varavg) + np.log(Pw1)\n",
    "\n",
    "        y.append(1) if g1 > g0 else y.append(0)\n",
    "\n",
    "    # classwise classfication accuracy\n",
    "    pt00 = ((np.array(y) == 0) & (ytest==0)).sum()  # predict is 0, truth is 0 \n",
    "    pt10 = ((np.array(y) == 0) & (ytest==1)).sum()  # predict is 1, truth is 0  \n",
    "    # classwise accuracy \n",
    "    acc0 = pt00 / (pt00 + pt10) \n",
    "    \n",
    "    return [Pw0, acc0]  \n",
    "\n",
    "Res = []  # save results\n",
    "for pw0 in Pw0:\n",
    "    \n",
    "    res = eculidean_class(covs0, covs1, nf, pw0, nte)\n",
    "    \n",
    "    Res.append(res)\n",
    "    \n",
    "Res_arry = np.array(Res)  # conver 2d list to 2d array\n",
    "                          # first col is prior prob of class 0\n",
    "                          # second col is the accuracy of class 0\n",
    "\n",
    "plt.plot(Res_arry[:,0]/(1 - Res_arry[:,0]), Res_arry[:,1], color = 'b', marker = 'D', label = 'Euclidean dist.')\n",
    "plt.xlabel('Ratio of $P(w_0)$ to $P(w_1)$')\n",
    "plt.ylabel('Classification accuracy of Class 0')\n",
    "plt.legend()\n",
    "plt.ylim([0,1])\n",
    "plt.xlim([0,10])\n",
    "plt.grid()\n",
    "plt.savefig(r'../Figures/sy_edist_2.jpg')"
   ]
  },
  {
   "cell_type": "code",
   "execution_count": 17,
   "metadata": {},
   "outputs": [
    {
     "data": {
      "image/png": "[encoded data removed]",
      "text/plain": [
       "<Figure size 432x288 with 1 Axes>"
      ]
     },
     "metadata": {
      "needs_background": "light"
     },
     "output_type": "display_data"
    }
   ],
   "source": [
    "def mahalabolis_class(covs0, covs1, nf, Pw0, nte):\n",
    "    '''\n",
    "    mahalanobis distance \n",
    "    '''\n",
    "    covavg = (covs0 + covs1) / 2                # average of Sigmas\n",
    "    Pw1 = 1 - Pw0\n",
    "    y = []\n",
    "\n",
    "    for i in range(nte):\n",
    "\n",
    "        mdist = np.transpose(Xtest[i] - means0) @ np.linalg.inv(covavg) @ (Xtest[i] - means0)\n",
    "        g0 = -mdist/2 + np.log(Pw0)           # mahalanobis distance \n",
    "\n",
    "        mdist = np.transpose(Xtest[i] - means1) @ np.linalg.inv(covavg) @ (Xtest[i] - means1)\n",
    "        g1 = -mdist/2 + np.log(Pw1)\n",
    "\n",
    "        y.append(1) if g1 > g0 else y.append(0)\n",
    "        \n",
    "    # classwise classfication accuracy\n",
    "    pt00 = ((np.array(y) == 0) & (ytest==0)).sum()  # predict is 0, truth is 0 \n",
    "    pt10 = ((np.array(y) == 0) & (ytest==1)).sum()  # predict is 1, truth is 0  \n",
    "    # classwise accuracy \n",
    "    acc0 = pt00 / (pt00 + pt10) \n",
    "    \n",
    "    return [Pw0, acc0] \n",
    "    \n",
    "Res = []  # save results\n",
    "for pw0 in Pw0:\n",
    "    \n",
    "    res = mahalabolis_class(covs0, covs1, nf, pw0, nte)\n",
    "    Res.append(res)\n",
    "    \n",
    "Res_arry = np.array(Res)  # conver 2d list to 2d array\n",
    "                          # first col is prior prob of class 0\n",
    "                          # second col is the accuracy of class 0\n",
    "plt.plot(Res_arry[:,0]/(1 - Res_arry[:,0]), Res_arry[:,1], color = 'b', marker = 'D', label = 'Mahalanobis dist')\n",
    "plt.xlabel('Ratio of $P(w_0)$ to $P(w_1)$')\n",
    "plt.ylabel('Classification accuracy of Class 0')\n",
    "plt.legend()\n",
    "plt.ylim([0,1])\n",
    "plt.xlim([0,10])\n",
    "plt.grid()\n",
    "plt.savefig(r'../Figures/sy_mdist_2.jpg')"
   ]
  },
  {
   "cell_type": "code",
   "execution_count": 18,
   "metadata": {},
   "outputs": [
    {
     "data": {
      "image/png": "[encoded data removed]",
      "text/plain": [
       "<Figure size 432x288 with 1 Axes>"
      ]
     },
     "metadata": {
      "needs_background": "light"
     },
     "output_type": "display_data"
    }
   ],
   "source": [
    "def quadratic_class(covs0, covs1, nf, Pw0, nte):\n",
    "    '''\n",
    "    quadratic classifier\n",
    "    '''\n",
    "    y = []\n",
    "    Pw1 = 1 - Pw0\n",
    "    for i in range(nte):\n",
    "\n",
    "        qdist = np.transpose(Xtest[i] - means0) @ np.linalg.inv(covs0) @ (Xtest[i] - means0)\n",
    "        g0 = -qdist/2 - 0.5 * np.log(np.linalg.det(covs0)) + np.log(Pw0)           # mahalanobis distance \n",
    "\n",
    "        qdist = np.transpose(Xtest[i] - means1) @ np.linalg.inv(covs1) @ (Xtest[i] - means1)\n",
    "        g1 = -qdist/2 - 0.5 * np.log(np.linalg.det(covs1)) + np.log(Pw1)\n",
    "\n",
    "        y.append(1) if g1 > g0 else y.append(0)\n",
    "        \n",
    "        \n",
    "    # classwise classfication accuracy\n",
    "    pt00 = ((np.array(y) == 0) & (ytest==0)).sum()  # predict is 0, truth is 0 \n",
    "    pt10 = ((np.array(y) == 0) & (ytest==1)).sum()  # predict is 1, truth is 0  \n",
    "    # classwise accuracy \n",
    "    acc0 = pt00 / (pt00 + pt10) \n",
    "    \n",
    "    return [Pw0, acc0] \n",
    "\n",
    "\n",
    "Res = []  # save results\n",
    "for pw0 in Pw0:\n",
    "    \n",
    "    res = quadratic_class(covs0, covs1, nf, pw0, nte)\n",
    "    Res.append(res)\n",
    "    \n",
    "Res_arry = np.array(Res)  # conver 2d list to 2d array\n",
    "                          # first col is prior prob of class 0\n",
    "                          # second col is the accuracy of class 0\n",
    "        \n",
    "plt.plot(Res_arry[:,0]/(1 - Res_arry[:,0]), Res_arry[:,1], color = 'b', marker = 'D', label = 'Qadratic dist')\n",
    "plt.xlabel('Ratio of $P(w_0)$ to $P(w_1)$')\n",
    "plt.ylabel('Classification accuracy of Class 0')\n",
    "plt.legend()\n",
    "plt.ylim([0,1])\n",
    "plt.xlim([0,10])\n",
    "plt.grid()\n",
    "plt.savefig(r'../Figures/sy_qdist_2.jpg')"
   ]
  },
  {
   "cell_type": "code",
   "execution_count": null,
   "metadata": {},
   "outputs": [],
   "source": []
  },
  {
   "cell_type": "markdown",
   "metadata": {},
   "source": [
    "# Pima dataset"
   ]
  },
  {
   "cell_type": "code",
   "execution_count": 19,
   "metadata": {},
   "outputs": [],
   "source": [
    "df_tr = pd.read_csv(r'http://www.stats.ox.ac.uk/pub/PRNN/pima.tr',delim_whitespace = True, header = 0)\n",
    "df_te = pd.read_csv(r'http://www.stats.ox.ac.uk/pub/PRNN/pima.te',delim_whitespace = True, header = 0)"
   ]
  },
  {
   "cell_type": "code",
   "execution_count": 20,
   "metadata": {},
   "outputs": [],
   "source": [
    "df_tr = df_tr.replace({'No': 1, 'Yes':0})\n",
    "df_te = df_te.replace({'No': 1, 'Yes':0})"
   ]
  },
  {
   "cell_type": "code",
   "execution_count": 21,
   "metadata": {},
   "outputs": [],
   "source": [
    "# standard normalization for training set\n",
    "f_mean  = df_tr.iloc[:,:-1].mean(axis = 0)\n",
    "f_std = df_tr.iloc[:,:-1].std(axis = 0)\n",
    "nor_tr = (df_tr.iloc[:,:-1] - f_mean)/f_std\n",
    "\n",
    "# standard normalization for training set\n",
    "nor_te= (df_te.iloc[:,:-1] - f_mean)/f_std"
   ]
  },
  {
   "cell_type": "code",
   "execution_count": 22,
   "metadata": {},
   "outputs": [
    {
     "data": {
      "text/html": [
       "<div>\n",
       "<style scoped>\n",
       "    .dataframe tbody tr th:only-of-type {\n",
       "        vertical-align: middle;\n",
       "    }\n",
       "\n",
       "    .dataframe tbody tr th {\n",
       "        vertical-align: top;\n",
       "    }\n",
       "\n",
       "    .dataframe thead th {\n",
       "        text-align: right;\n",
       "    }\n",
       "</style>\n",
       "<table border=\"1\" class=\"dataframe\">\n",
       "  <thead>\n",
       "    <tr style=\"text-align: right;\">\n",
       "      <th></th>\n",
       "      <th>npreg</th>\n",
       "      <th>glu</th>\n",
       "      <th>bp</th>\n",
       "      <th>skin</th>\n",
       "      <th>bmi</th>\n",
       "      <th>ped</th>\n",
       "      <th>age</th>\n",
       "      <th>type</th>\n",
       "    </tr>\n",
       "  </thead>\n",
       "  <tbody>\n",
       "    <tr>\n",
       "      <th>0</th>\n",
       "      <td>6</td>\n",
       "      <td>148</td>\n",
       "      <td>72</td>\n",
       "      <td>35</td>\n",
       "      <td>33.6</td>\n",
       "      <td>0.627</td>\n",
       "      <td>50</td>\n",
       "      <td>0</td>\n",
       "    </tr>\n",
       "    <tr>\n",
       "      <th>1</th>\n",
       "      <td>1</td>\n",
       "      <td>85</td>\n",
       "      <td>66</td>\n",
       "      <td>29</td>\n",
       "      <td>26.6</td>\n",
       "      <td>0.351</td>\n",
       "      <td>31</td>\n",
       "      <td>1</td>\n",
       "    </tr>\n",
       "    <tr>\n",
       "      <th>2</th>\n",
       "      <td>1</td>\n",
       "      <td>89</td>\n",
       "      <td>66</td>\n",
       "      <td>23</td>\n",
       "      <td>28.1</td>\n",
       "      <td>0.167</td>\n",
       "      <td>21</td>\n",
       "      <td>1</td>\n",
       "    </tr>\n",
       "    <tr>\n",
       "      <th>3</th>\n",
       "      <td>3</td>\n",
       "      <td>78</td>\n",
       "      <td>50</td>\n",
       "      <td>32</td>\n",
       "      <td>31.0</td>\n",
       "      <td>0.248</td>\n",
       "      <td>26</td>\n",
       "      <td>0</td>\n",
       "    </tr>\n",
       "    <tr>\n",
       "      <th>4</th>\n",
       "      <td>2</td>\n",
       "      <td>197</td>\n",
       "      <td>70</td>\n",
       "      <td>45</td>\n",
       "      <td>30.5</td>\n",
       "      <td>0.158</td>\n",
       "      <td>53</td>\n",
       "      <td>0</td>\n",
       "    </tr>\n",
       "    <tr>\n",
       "      <th>...</th>\n",
       "      <td>...</td>\n",
       "      <td>...</td>\n",
       "      <td>...</td>\n",
       "      <td>...</td>\n",
       "      <td>...</td>\n",
       "      <td>...</td>\n",
       "      <td>...</td>\n",
       "      <td>...</td>\n",
       "    </tr>\n",
       "    <tr>\n",
       "      <th>327</th>\n",
       "      <td>2</td>\n",
       "      <td>88</td>\n",
       "      <td>58</td>\n",
       "      <td>26</td>\n",
       "      <td>28.4</td>\n",
       "      <td>0.766</td>\n",
       "      <td>22</td>\n",
       "      <td>1</td>\n",
       "    </tr>\n",
       "    <tr>\n",
       "      <th>328</th>\n",
       "      <td>9</td>\n",
       "      <td>170</td>\n",
       "      <td>74</td>\n",
       "      <td>31</td>\n",
       "      <td>44.0</td>\n",
       "      <td>0.403</td>\n",
       "      <td>43</td>\n",
       "      <td>0</td>\n",
       "    </tr>\n",
       "    <tr>\n",
       "      <th>329</th>\n",
       "      <td>10</td>\n",
       "      <td>101</td>\n",
       "      <td>76</td>\n",
       "      <td>48</td>\n",
       "      <td>32.9</td>\n",
       "      <td>0.171</td>\n",
       "      <td>63</td>\n",
       "      <td>1</td>\n",
       "    </tr>\n",
       "    <tr>\n",
       "      <th>330</th>\n",
       "      <td>5</td>\n",
       "      <td>121</td>\n",
       "      <td>72</td>\n",
       "      <td>23</td>\n",
       "      <td>26.2</td>\n",
       "      <td>0.245</td>\n",
       "      <td>30</td>\n",
       "      <td>1</td>\n",
       "    </tr>\n",
       "    <tr>\n",
       "      <th>331</th>\n",
       "      <td>1</td>\n",
       "      <td>93</td>\n",
       "      <td>70</td>\n",
       "      <td>31</td>\n",
       "      <td>30.4</td>\n",
       "      <td>0.315</td>\n",
       "      <td>23</td>\n",
       "      <td>1</td>\n",
       "    </tr>\n",
       "  </tbody>\n",
       "</table>\n",
       "<p>332 rows × 8 columns</p>\n",
       "</div>"
      ],
      "text/plain": [
       "     npreg  glu  bp  skin   bmi    ped  age  type\n",
       "0        6  148  72    35  33.6  0.627   50     0\n",
       "1        1   85  66    29  26.6  0.351   31     1\n",
       "2        1   89  66    23  28.1  0.167   21     1\n",
       "3        3   78  50    32  31.0  0.248   26     0\n",
       "4        2  197  70    45  30.5  0.158   53     0\n",
       "..     ...  ...  ..   ...   ...    ...  ...   ...\n",
       "327      2   88  58    26  28.4  0.766   22     1\n",
       "328      9  170  74    31  44.0  0.403   43     0\n",
       "329     10  101  76    48  32.9  0.171   63     1\n",
       "330      5  121  72    23  26.2  0.245   30     1\n",
       "331      1   93  70    31  30.4  0.315   23     1\n",
       "\n",
       "[332 rows x 8 columns]"
      ]
     },
     "execution_count": 22,
     "metadata": {},
     "output_type": "execute_result"
    }
   ],
   "source": [
    "df_te"
   ]
  },
  {
   "cell_type": "code",
   "execution_count": 23,
   "metadata": {},
   "outputs": [
    {
     "name": "stdout",
     "output_type": "stream",
     "text": [
      "number of featues is:  7 number of testing samples is: 332 number of training samples is: 200\n"
     ]
    }
   ],
   "source": [
    "Xtrain = nor_tr.to_numpy()\n",
    "ytrain = df_tr['type'].to_numpy().astype(int)\n",
    "\n",
    "Xtest = nor_te.to_numpy()\n",
    "ytest = df_te['type'].to_numpy().astype(int)\n",
    "\n",
    "nte, nf = Xtest.shape    # get the dimension of testing samples\n",
    "                         # nte is the number of testing samples\n",
    "                         # nf is the number of features/dimensions\n",
    "print(\"number of featues is: \",nf, \"number of testing samples is:\", nte, \"number of training samples is:\", Xtrain.shape[0])"
   ]
  },
  {
   "cell_type": "code",
   "execution_count": 24,
   "metadata": {},
   "outputs": [],
   "source": [
    "# get training samples for class 0\n",
    "arr = Xtrain[ytrain == 0]\n",
    "covs0 = np.cov(np.transpose(arr))\n",
    "means0 = np.mean(arr, axis = 0)\n",
    "\n",
    "arr = Xtrain[ytrain == 1]\n",
    "covs1 = np.cov(np.transpose(arr))\n",
    "means1 = np.mean(arr, axis = 0)"
   ]
  },
  {
   "cell_type": "code",
   "execution_count": 25,
   "metadata": {},
   "outputs": [
    {
     "name": "stdout",
     "output_type": "stream",
     "text": [
      "Overall accuracy: 74.10% \n",
      " Classwise accuracy of class 0: 58.78% \n",
      " Classwise accuracy of class 1: 84.08% \n",
      " Test finished in 0.0060 seconds\n"
     ]
    }
   ],
   "source": [
    "# Euclidean distance \n",
    "t0 = time.time()\n",
    "Pw0 = Pw1 = 0.5\n",
    "covavg = (covs0 + covs1) / 2  \n",
    "varavg = np.sum(np.diagonal(covavg) / nf)   # average of variances\n",
    "y = []                     # save the classification label of testing samples\n",
    "for i in range(nte):\n",
    "    \n",
    "    edist2 = np.dot(Xtest[i] - means0, Xtest[i] - means0)\n",
    "    g0 = -edist2 / (2 * varavg) + np.log(Pw0)\n",
    "    \n",
    "    edist2 = np.dot(Xtest[i] - means1, Xtest[i] - means1)\n",
    "    g1 = -edist2 / (2 * varavg) + np.log(Pw1)\n",
    "    \n",
    "    y.append(1) if g1 > g0 else y.append(0)\n",
    "\n",
    "t1 = time.time()\n",
    "\n",
    "acc_overall, acc0, acc1, runtime = model_evaluation(y, ytest, t1, t0)"
   ]
  },
  {
   "cell_type": "code",
   "execution_count": 26,
   "metadata": {},
   "outputs": [
    {
     "name": "stdout",
     "output_type": "stream",
     "text": [
      "Overall accuracy: 76.81% \n",
      " Classwise accuracy of class 0: 62.70% \n",
      " Classwise accuracy of class 1: 85.44% \n",
      " Test finished in 0.0449 seconds\n"
     ]
    }
   ],
   "source": [
    "# mahalanobis distance\n",
    "t0 = time.time()\n",
    "Pw0 = Pw1 = 0.5\n",
    "covavg = (covs0 + covs1) / 2                # average of Sigmas\n",
    "y = []\n",
    "\n",
    "for i in range(nte):\n",
    "    \n",
    "    mdist = np.transpose(Xtest[i] - means0) @ np.linalg.inv(covavg) @ (Xtest[i] - means0)\n",
    "    g0 = -mdist/2 + np.log(Pw0)           # mahalanobis distance \n",
    "    \n",
    "    mdist = np.transpose(Xtest[i] - means1) @ np.linalg.inv(covavg) @ (Xtest[i] - means1)\n",
    "    g1 = -mdist/2 + np.log(Pw1)\n",
    "    \n",
    "    y.append(1) if g1 > g0 else y.append(0)\n",
    "\n",
    "t1 = time.time()\n",
    "acc_overall, acc0, acc1, runtime = model_evaluation(y, ytest, t1, t0)"
   ]
  },
  {
   "cell_type": "code",
   "execution_count": 27,
   "metadata": {},
   "outputs": [
    {
     "name": "stdout",
     "output_type": "stream",
     "text": [
      "Overall accuracy: 74.10% \n",
      " Classwise accuracy of class 0: 60.36% \n",
      " Classwise accuracy of class 1: 81.00% \n",
      " Test finished in 0.0489 seconds\n"
     ]
    }
   ],
   "source": [
    "# generic gaussian classifier\n",
    "t0 = time.time()\n",
    "Pw0 = Pw1 = 0.5\n",
    "y = []\n",
    "for i in range(nte):\n",
    "    \n",
    "    qdist = np.transpose(Xtest[i] - means0) @ np.linalg.inv(covs0) @ (Xtest[i] - means0)\n",
    "    g0 = -qdist/2 - 0.5 * np.log(np.linalg.det(covs0)) + np.log(Pw0)           # mahalanobis distance \n",
    "    \n",
    "    qdist = np.transpose(Xtest[i] - means1) @ np.linalg.inv(covs1) @ (Xtest[i] - means1)\n",
    "    g1 = -qdist/2 - 0.5 * np.log(np.linalg.det(covs1)) + np.log(Pw1)\n",
    "    \n",
    "    y.append(1) if g1 > g0 else y.append(0)\n",
    "\n",
    "t1 = time.time()\n",
    "acc_overall, acc0, acc1, runtime = model_evaluation(y, ytest, t1, t0)"
   ]
  },
  {
   "cell_type": "code",
   "execution_count": 28,
   "metadata": {},
   "outputs": [],
   "source": [
    "# plot 3x2 subplots of class-0 accuracy vs. ratio of prior probability "
   ]
  },
  {
   "cell_type": "code",
   "execution_count": 29,
   "metadata": {},
   "outputs": [],
   "source": [
    "Pw0 = np.linspace(0.1,0.9,10)"
   ]
  },
  {
   "cell_type": "code",
   "execution_count": 30,
   "metadata": {},
   "outputs": [
    {
     "data": {
      "image/png": "[encoded data removed]",
      "text/plain": [
       "<Figure size 432x288 with 1 Axes>"
      ]
     },
     "metadata": {
      "needs_background": "light"
     },
     "output_type": "display_data"
    }
   ],
   "source": [
    "# Minimum Euclidean distance\n",
    "Res = []  # save results\n",
    "for pw0 in Pw0:\n",
    "    \n",
    "    res = eculidean_class(covs0, covs1, nf, pw0, nte)\n",
    "    \n",
    "    Res.append(res)\n",
    "    \n",
    "Res_arry = np.array(Res)  # conver 2d list to 2d array\n",
    "                          # first col is prior prob of class 0\n",
    "                          # second col is the accuracy of class 0\n",
    "plt.plot(Res_arry[:,0]/(1 - Res_arry[:,0]), Res_arry[:,1], color = 'r', marker = 'D', label = 'Euclidean dist.')\n",
    "plt.xlabel('Ratio of $P(w_0)$ to $P(w_1)$')\n",
    "plt.ylabel('Classification accuracy of Class 0')\n",
    "plt.legend()\n",
    "plt.ylim([0,1])\n",
    "plt.xlim([0,10])\n",
    "plt.grid()\n",
    "plt.savefig(r'../Figures/pm_edist_2.jpg')"
   ]
  },
  {
   "cell_type": "code",
   "execution_count": 31,
   "metadata": {},
   "outputs": [
    {
     "data": {
      "image/png": "[encoded data removed]",
      "text/plain": [
       "<Figure size 432x288 with 1 Axes>"
      ]
     },
     "metadata": {
      "needs_background": "light"
     },
     "output_type": "display_data"
    }
   ],
   "source": [
    "#minimum mahalanobis distance\n",
    "Res = []  # save results\n",
    "for pw0 in Pw0:\n",
    "    \n",
    "    res = mahalabolis_class(covs0, covs1, nf, pw0, nte)\n",
    "    \n",
    "    Res.append(res)\n",
    "    \n",
    "Res_arry = np.array(Res)  # conver 2d list to 2d array\n",
    "                          # first col is prior prob of class 0\n",
    "                          # second col is the accuracy of class 0\n",
    "plt.plot(Res_arry[:,0]/(1 - Res_arry[:,0]), Res_arry[:,1], color = 'r', marker = 'D', label = 'Mahalanobis dist.')\n",
    "plt.xlabel('Ratio of $P(w_0)$ to $P(w_1)$')\n",
    "plt.ylabel('Classification accuracy of Class 0')\n",
    "plt.legend()\n",
    "plt.ylim([0,1])\n",
    "plt.xlim([0,10])\n",
    "plt.grid()\n",
    "plt.savefig(r'../Figures/pm_mdist_2.jpg')"
   ]
  },
  {
   "cell_type": "code",
   "execution_count": 32,
   "metadata": {},
   "outputs": [
    {
     "data": {
      "image/png": "[encoded data removed]",
      "text/plain": [
       "<Figure size 432x288 with 1 Axes>"
      ]
     },
     "metadata": {
      "needs_background": "light"
     },
     "output_type": "display_data"
    }
   ],
   "source": [
    "# generic form of Baysian decision rule\n",
    "Res = []  # save results\n",
    "for pw0 in Pw0:\n",
    "    \n",
    "    res = quadratic_class(covs0, covs1, nf, pw0, nte)\n",
    "    \n",
    "    Res.append(res)\n",
    "    \n",
    "Res_arry = np.array(Res)  # conver 2d list to 2d array\n",
    "                          # first col is prior prob of class 0\n",
    "                          # second col is the accuracy of class 0\n",
    "plt.plot(Res_arry[:,0]/(1 - Res_arry[:,0]), Res_arry[:,1], color = 'r', marker = 'D', label = 'Quardratic dist.')\n",
    "plt.xlabel('Ratio of $P(w_0)$ to $P(w_1)$')\n",
    "plt.ylabel('Classification accuracy of Class 0')\n",
    "plt.legend()\n",
    "plt.ylim([0,1])\n",
    "plt.xlim([0,10])\n",
    "plt.grid()\n",
    "plt.savefig(r'../Figures/pm_qdist_2.jpg')"
   ]
  },
  {
   "cell_type": "code",
   "execution_count": null,
   "metadata": {},
   "outputs": [],
   "source": []
  },
  {
   "cell_type": "markdown",
   "metadata": {},
   "source": [
    "### Bounus\n",
    "For the synthetic dataset, if single-modal Gaussian is not the best model for the pdf, revise the model and report the performance."
   ]
  },
  {
   "cell_type": "markdown",
   "metadata": {},
   "source": [
    "The distribution of points in training set indicates there are two clusters. Thus, herein, a Gaussian Mixture Model with two compoenents is considered. To find out the mean and standard deviation of two clusters, training set is manually separated by a vertical line x = -0.3. Denote that the points left to this boundary is component 1, points right to this boundary is component 2. \n"
   ]
  },
  {
   "cell_type": "code",
   "execution_count": 33,
   "metadata": {},
   "outputs": [
    {
     "name": "stdout",
     "output_type": "stream",
     "text": [
      "number of featues is:  2 number of testing samples is: 1000 number of training samples is: 250\n"
     ]
    }
   ],
   "source": [
    "df_tr = pd.read_csv('http://www.stats.ox.ac.uk/pub/PRNN/synth.tr', delim_whitespace = True, header = 0)\n",
    "df_te = pd.read_csv('http://www.stats.ox.ac.uk/pub/PRNN/synth.te', delim_whitespace = True, header = 0)\n",
    "\n",
    "Xtrain = df_tr[['xs','ys']].to_numpy()\n",
    "ytrain = df_tr['yc'].to_numpy().astype(int)\n",
    "\n",
    "Xtest = df_te[['xs','ys']].to_numpy()\n",
    "ytest = df_te['yc'].to_numpy().astype(int)\n",
    "\n",
    "nte, nf = Xtest.shape    # get the dimension of testing samples\n",
    "                         # nte is the number of testing samples\n",
    "                         # nf is the number of features/dimensions\n",
    "\n",
    "com1 = Xtrain[Xtrain[:,0] < -0.3,:]\n",
    "com2 = Xtrain[Xtrain[:,0] >= -0.3,:]\n",
    "com1_y = ytrain[Xtrain[:,0] <-0.3]\n",
    "com2_y = ytrain[Xtrain[:,0] >= -0.3]\n",
    "\n",
    "print(\"number of featues is: \",nf, \"number of testing samples is:\", nte, \"number of training samples is:\", Xtrain.shape[0])\n"
   ]
  },
  {
   "cell_type": "code",
   "execution_count": 34,
   "metadata": {},
   "outputs": [],
   "source": [
    "# get training samples for class 0\n",
    "covavg = (covs0 + covs1) / 2               # average of Sigmas\n",
    "varavg = np.sum(np.diagonal(covavg)) / nf  # average of vari"
   ]
  },
  {
   "cell_type": "code",
   "execution_count": 35,
   "metadata": {},
   "outputs": [],
   "source": [
    "def get_com_statis(com_x, com_y):\n",
    "    '''\n",
    "    compute the mean and variance for each component\n",
    "    '''\n",
    "    \n",
    "    arr = com_x[com_y == 0]\n",
    "    covs0 = np.cov(np.transpose(arr))\n",
    "    means0 = np.mean(arr, axis = 0)\n",
    "\n",
    "    arr = com_x[com_y == 1]\n",
    "    covs1 = np.cov(np.transpose(arr))\n",
    "    means1 = np.mean(arr, axis = 0)\n",
    "    \n",
    "    return covs0, means0, covs1, means1\n",
    "\n",
    "com1_0cov, com1_0mean, com1_1cov, com1_1mean = get_com_statis(com1, com1_y)\n",
    "com2_0cov, com2_0mean, com2_1cov, com2_1mean = get_com_statis(com2, com2_y)\n",
    "\n",
    "w1 = w2 = 0.5"
   ]
  },
  {
   "cell_type": "code",
   "execution_count": 36,
   "metadata": {},
   "outputs": [
    {
     "name": "stdout",
     "output_type": "stream",
     "text": [
      "Overall accuracy: 77.40% \n",
      " Classwise accuracy of class 0: 97.90% \n",
      " Classwise accuracy of class 1: 69.19% \n",
      " Test finished in 2.6591 seconds\n"
     ]
    }
   ],
   "source": [
    "# Euclidean distance \n",
    "t0 = time.time()\n",
    "Pw0 = Pw1 = 0.5\n",
    "covavg = (covs0 + covs1) / 2  \n",
    "varavg = np.sum(np.diagonal(covavg) / nf)   # average of variances\n",
    "y = []                     # save the classification label of testing samples\n",
    "\n",
    "part11 = w1*1/(sympy.sqrt((2*sympy.pi)**2 * varavg)).evalf()\n",
    "part12 = w2*1/(sympy.sqrt((2*sympy.pi)**2 * varavg)).evalf()\n",
    "\n",
    "part21 = w1*1/(sympy.sqrt((2*sympy.pi)**2 * varavg)).evalf()\n",
    "part22 = w2*1/(sympy.sqrt((2*sympy.pi)**2 * varavg)).evalf()\n",
    "\n",
    "for i in range(nte):\n",
    "    \n",
    "    edist21 = np.dot(Xtest[i] - com1_0mean, Xtest[i] - com1_0mean)\n",
    "    edist22 = np.dot(Xtest[i] - com2_0mean, Xtest[i] - com2_0mean)\n",
    "    g0 =  sympy.log(part11 * sympy.exp(- edist21 / (2 * varavg)) + \\\n",
    "          part12 * sympy.exp(- edist22 / (2 * varavg)) ) + np.log(Pw0)\n",
    "\n",
    "    \n",
    "    edist21 = np.dot(Xtest[i] - com1_1mean, Xtest[i] - com1_1mean)\n",
    "    edist22 = np.dot(Xtest[i] - com2_1mean, Xtest[i] - com2_1mean)\n",
    "    g1 =  sympy.log(part21 * sympy.exp(- edist21 / (2 * varavg)) + \\\n",
    "          part22 * sympy.exp(- edist22 / (2 * varavg)) ) + np.log(Pw1)\n",
    "    \n",
    "    y.append(1) if g1 > g0 else y.append(0)\n",
    "\n",
    "t1 = time.time()\n",
    "\n",
    "acc_overall, acc0, acc1, runtime = model_evaluation(y, ytest, t1, t0)"
   ]
  },
  {
   "cell_type": "code",
   "execution_count": 37,
   "metadata": {},
   "outputs": [
    {
     "name": "stdout",
     "output_type": "stream",
     "text": [
      "Overall accuracy: 91.40% \n",
      " Classwise accuracy of class 0: 92.42% \n",
      " Classwise accuracy of class 1: 90.43% \n",
      " Test finished in 2.9527 seconds\n"
     ]
    }
   ],
   "source": [
    "# mahalanobis distance \n",
    "t0 = time.time()\n",
    "Pw0 = Pw1 = 0.5\n",
    "covavg = (covs0 + covs1) / 2  \n",
    "# varavg = np.sum(np.diagonal(covavg) / nf)   # average of variances\n",
    "cov0avg = (com1_0cov + com2_0cov)/2 \n",
    "cov1avg = (com1_1cov + com2_1cov)/2\n",
    "\n",
    "part11 = w1*1/(sympy.sqrt((2*sympy.pi)**2 * np.linalg.det(cov0avg))).evalf()\n",
    "part12 = w2*1/(sympy.sqrt((2*sympy.pi)**2 * np.linalg.det(cov1avg))).evalf()\n",
    "\n",
    "part21 = w1*1/(sympy.sqrt((2*sympy.pi)**2 * np.linalg.det(cov0avg))).evalf()\n",
    "part22 = w2*1/(sympy.sqrt((2*sympy.pi)**2 * np.linalg.det(cov1avg))).evalf()\n",
    "\n",
    "y = []                     # save the classification label of testing samples\n",
    "\n",
    "for i in range(nte):\n",
    "    \n",
    "    \n",
    "    mdist21 = np.transpose(Xtest[i] - com1_0mean) @ np.linalg.inv(cov0avg) @ (Xtest[i] - com1_0mean)\n",
    "    mdist22 = np.transpose(Xtest[i] - com2_0mean) @ np.linalg.inv(cov0avg) @ (Xtest[i] - com2_0mean)\n",
    "    \n",
    "    g0 =   sympy.log(part11 * sympy.exp(- mdist21 / 2)  + \\\n",
    "          part12 * sympy.exp(- mdist22 / 2))  + np.log(Pw0) \n",
    "\n",
    "    \n",
    "    mdist21 = np.transpose(Xtest[i] - com1_1mean) @ np.linalg.inv(cov1avg) @ (Xtest[i] - com1_1mean)\n",
    "    mdist22 = np.transpose(Xtest[i] - com2_1mean) @ np.linalg.inv(cov1avg) @ (Xtest[i] - com2_1mean)\n",
    "    \n",
    "    g1 =  sympy.log(part21 * sympy.exp(- mdist21 / 2)  + \\\n",
    "          part22 * sympy.exp(- mdist22 / 2))  + np.log(Pw1) \n",
    "    \n",
    "    y.append(1) if g1 > g0 else y.append(0)\n",
    "\n",
    "t1 = time.time()\n",
    "\n",
    "acc_overall, acc0, acc1, runtime = model_evaluation(y, ytest, t1, t0)"
   ]
  },
  {
   "cell_type": "code",
   "execution_count": 38,
   "metadata": {},
   "outputs": [
    {
     "name": "stdout",
     "output_type": "stream",
     "text": [
      "Overall accuracy: 91.30% \n",
      " Classwise accuracy of class 0: 89.18% \n",
      " Classwise accuracy of class 1: 93.66% \n",
      " Test finished in 2.9560 seconds\n"
     ]
    }
   ],
   "source": [
    "#quardratic \n",
    "\n",
    "t0 = time.time()\n",
    "Pw0 = Pw1 = 0.5\n",
    "y = []\n",
    "\n",
    "part11 = w1*1/(sympy.sqrt((2*sympy.pi)**2 * np.linalg.det(com1_0cov))).evalf()\n",
    "part12 = w2*1/(sympy.sqrt((2*sympy.pi)**2 * np.linalg.det(com2_0cov))).evalf()\n",
    "\n",
    "part21 = w1*1/(sympy.sqrt((2*sympy.pi)**2 * np.linalg.det(com1_1cov))).evalf()\n",
    "part22 = w2*1/(sympy.sqrt((2*sympy.pi)**2 * np.linalg.det(com2_1cov))).evalf()\n",
    "\n",
    "for i in range(nte):\n",
    "    \n",
    "    qdist21 = np.transpose(Xtest[i] - com1_0mean) @ np.linalg.inv(com1_0cov) @ (Xtest[i] - com1_0mean)\n",
    "    qdist22 = np.transpose(Xtest[i] - com2_0mean) @ np.linalg.inv(com2_0cov) @ (Xtest[i] - com2_0mean)\n",
    "\n",
    "    \n",
    "    g0 =  sympy.log(part11 * sympy.exp(- qdist21/2) + \\\n",
    "          part12 * sympy.exp(- qdist22/2)) + np.log(Pw0)           # mahalanobis distance \n",
    "    \n",
    "    qdist21 = np.transpose(Xtest[i] - com1_1mean) @ np.linalg.inv(com1_1cov) @ (Xtest[i] - com1_1mean)\n",
    "    qdist22 = np.transpose(Xtest[i] - com2_1mean) @ np.linalg.inv(com2_1cov) @ (Xtest[i] - com2_1mean)    \n",
    "    \n",
    "    g1 =  sympy.log(part21 * sympy.exp(- qdist21/2) + \\\n",
    "          part22 * sympy.exp(- qdist22/2)) + np.log(Pw1)           # mahalanobis distance\n",
    "    \n",
    "    y.append(1) if g1 > g0 else y.append(0)\n",
    "\n",
    "t1 = time.time()\n",
    "acc_overall, acc0, acc1, runtime = model_evaluation(y, ytest, t1, t0)"
   ]
  },
  {
   "cell_type": "markdown",
   "metadata": {},
   "source": [
    "## plot barchart for comparison"
   ]
  },
  {
   "cell_type": "code",
   "execution_count": 39,
   "metadata": {},
   "outputs": [
    {
     "data": {
      "image/png": "[encoded data removed]",
      "text/plain": [
       "<Figure size 1080x360 with 3 Axes>"
      ]
     },
     "metadata": {
      "needs_background": "light"
     },
     "output_type": "display_data"
    }
   ],
   "source": [
    "res_single = [[0.7130, 0.7281, 0.6998],\n",
    "              [0.8920, 0.8858, 0.8984],\n",
    "              [0.8980, 0.8902, 0.9061]]\n",
    "res_mixture = [[0.9010, 0.9034,0.8986],\n",
    "               [0.9140, 0.9242, 0.9043],\n",
    "               [0.9130, 0.8918, 0.9366]]\n",
    "labels = ['Overall acc.','Class 0 acc.','Class 1 acc.']\n",
    "\n",
    "x = np.arange(len(labels))  # the label locations\n",
    "width = 0.35  # the width of the bars\n",
    "\n",
    "fig, ax = plt.subplots(1,3, figsize = (15,5))\n",
    "rects1 = ax[0].bar(x - width/2, res_single[0], width, label='Single-Modal')\n",
    "rects2 = ax[0].bar(x + width/2, res_mixture[0], width, label='Mixture-Modal')\n",
    "ax[0].set_ylim([0,1])\n",
    "ax[0].set_ylabel('Accuracy')\n",
    "ax[0].set_xticks(x)\n",
    "ax[0].set_xticklabels(labels)\n",
    "ax[0].legend()\n",
    "ax[0].set_xlabel('Minimum Euclidean Distance')\n",
    "\n",
    "rects1 = ax[1].bar(x - width/2, res_single[1], width, label='Single-Modal')\n",
    "rects2 = ax[1].bar(x + width/2, res_mixture[1], width, label='Mixture-Modal')\n",
    "ax[1].set_ylim([0,1])\n",
    "ax[1].set_ylabel('Accuracy')\n",
    "ax[1].set_xticks(x)\n",
    "ax[1].set_xticklabels(labels)\n",
    "ax[1].legend()\n",
    "ax[1].set_xlabel('Minimum Mahalanobis Distance')\n",
    "\n",
    "rects1 = ax[2].bar(x - width/2, res_single[2], width, label='Single-Modal')\n",
    "rects2 = ax[2].bar(x + width/2, res_mixture[2], width, label='Mixture-Modal')\n",
    "ax[2].set_ylim([0,1])\n",
    "ax[2].set_ylabel('Accuracy')\n",
    "ax[2].set_xticks(x)\n",
    "ax[2].set_xticklabels(labels)\n",
    "ax[2].legend()\n",
    "ax[2].set_xlabel('Generic Gaussian')\n",
    "plt.tight_layout()\n",
    "plt.savefig('../Figures/PerformanceComparison.jpg')"
   ]
  },
  {
   "cell_type": "code",
   "execution_count": null,
   "metadata": {},
   "outputs": [],
   "source": []
  }
 ],
 "metadata": {
  "kernelspec": {
   "display_name": "Python 3",
   "language": "python",
   "name": "python3"
  },
  "language_info": {
   "codemirror_mode": {
    "name": "ipython",
    "version": 3
   },
   "file_extension": ".py",
   "mimetype": "text/x-python",
   "name": "python",
   "nbconvert_exporter": "python",
   "pygments_lexer": "ipython3",
   "version": "3.8.2"
  }
 },
 "nbformat": 4,
 "nbformat_minor": 4
}
