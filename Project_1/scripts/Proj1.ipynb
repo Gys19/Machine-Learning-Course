{
 "cells": [
  {
   "cell_type": "markdown",
   "metadata": {},
   "source": [
    "<center style = \"font-size:2em;\"> COSC 522 Project 1</center>\n",
    "<center style = \"font-size:1em;\">Yangsong Gu </center>\n",
    "\n",
    "<center style = \"font-size:1em;\">Sep 6, 2021 </center>\n",
    "\n",
    "- modified decision boundary \n",
    "- revised accuracy performance class-wise accuracy 13:16 Sep 24 2021\n"
   ]
  },
  {
   "cell_type": "code",
   "execution_count": 1,
   "metadata": {},
   "outputs": [],
   "source": [
    "import pandas as pd\n",
    "import numpy as np\n",
    "import matplotlib.pyplot as plt\n",
    "import time\n",
    "\n",
    "from sympy import lambdify\n",
    "from sympy import Symbol, symbols, simplify\n",
    "import sympy"
   ]
  },
  {
   "cell_type": "code",
   "execution_count": 38,
   "metadata": {},
   "outputs": [],
   "source": [
    "df_tr = pd.read_csv('http://www.stats.ox.ac.uk/pub/PRNN/synth.tr', delim_whitespace = True, header = 0)\n",
    "df_te = pd.read_csv('http://www.stats.ox.ac.uk/pub/PRNN/synth.te', delim_whitespace = True, header = 0)"
   ]
  },
  {
   "cell_type": "code",
   "execution_count": 39,
   "metadata": {},
   "outputs": [
    {
     "data": {
      "text/plain": [
       "((250, 3), array([0, 1], dtype=int64))"
      ]
     },
     "execution_count": 39,
     "metadata": {},
     "output_type": "execute_result"
    }
   ],
   "source": [
    "df_tr.shape, df_tr.yc.unique()"
   ]
  },
  {
   "cell_type": "code",
   "execution_count": 40,
   "metadata": {},
   "outputs": [
    {
     "data": {
      "text/plain": [
       "2"
      ]
     },
     "execution_count": 40,
     "metadata": {},
     "output_type": "execute_result"
    }
   ],
   "source": [
    "Xtrain = df_tr[['xs','ys']].to_numpy()\n",
    "ytrain = df_tr['yc'].to_numpy().astype(int)\n",
    "\n",
    "Xtest = df_te[['xs','ys']].to_numpy()\n",
    "ytest = df_te['yc'].to_numpy().astype(int)\n",
    "\n",
    "nte, nf = Xtest.shape    # get the dimension of testing samples\n",
    "                         # nte is the number of testing samples\n",
    "                         # nf is the number of features/dimensions\n",
    "class_n = len(df_tr.yc.unique())   \n",
    "class_n"
   ]
  },
  {
   "cell_type": "code",
   "execution_count": 41,
   "metadata": {},
   "outputs": [],
   "source": [
    "# get training samples for class 0\n",
    "arr = Xtrain[ytrain == 0]\n",
    "covs0 = np.cov(np.transpose(arr))\n",
    "means0 = np.mean(arr, axis = 0)"
   ]
  },
  {
   "cell_type": "code",
   "execution_count": 42,
   "metadata": {},
   "outputs": [
    {
     "name": "stdout",
     "output_type": "stream",
     "text": [
      "cov. of 1 [[ 0.15974786 -0.01557501]\n",
      " [-0.01557501  0.02995842]] mean of 1 [0.07595431 0.68296891]\n"
     ]
    }
   ],
   "source": [
    "arr = Xtrain[ytrain == 1]\n",
    "covs1 = np.cov(np.transpose(arr))\n",
    "means1 = np.mean(arr, axis = 0)\n",
    "print(\"cov. of 1\", covs1, \"mean of 1\", means1)"
   ]
  },
  {
   "cell_type": "code",
   "execution_count": 43,
   "metadata": {},
   "outputs": [],
   "source": [
    "def model_evaluation(y, ytest, t1, t0):\n",
    "    '''\n",
    "    performance evaluation: \n",
    "    1) overal classification accuracy\n",
    "    2) calculate the classwise classification accuracy.\n",
    "    3) elapsed time\n",
    "    \n",
    "    input: y        --> prediciton\n",
    "           ytest    --> truth\n",
    "    output: acc_overall --> overall accuracy\n",
    "            acc0    --> accuracy of class 0\n",
    "            acc1    --> accuracy of class 1\n",
    "            runtime --> elapsed time\n",
    "    '''\n",
    "    \n",
    "    # overall classfication accuracy \n",
    "    acc_overall = np.count_nonzero(y == ytest) / len(y)\n",
    "    \n",
    "    # classwise classfication accuracy\n",
    "    pt00 = ((np.array(y) == 0) & (ytest==0)).sum()  # predict is 0, truth is 0 \n",
    "    pt10 = ((np.array(y) == 0) & (ytest==1)).sum()  # predict is 0, truth is 1 \n",
    "    pt01 = ((np.array(y) == 1) & (ytest==0)).sum()  # predict is 1, truth is 0\n",
    "    pt11 = ((np.array(y) == 1) & (ytest==1)).sum()  # predict is 1, truth is 1\n",
    "    # classwise accuracy \n",
    "#     acc0 = pt00 / (pt00 + pt10)                     # classwise accuracy of clas 0\n",
    "#     acc1 = pt11 / (pt01 + pt11)                     # classwise accuracy of class 1\n",
    "    # edit on 9/24/2021\n",
    "    acc0 = pt00/(pt00 + pt01)                         # updated classwise accuracy of class 0 \n",
    "    acc1 = pt11/(pt10 + pt11)                         # updated classwise accuracy of class 1\n",
    "    \n",
    "    # elapsed time\n",
    "    runtime = t1 - t0\n",
    "    print( 'Overall accuracy: {:.2%}'.format(acc_overall), '\\n',\n",
    "        'Classwise accuracy of class 0: {:.2%}'.format(acc0), '\\n',\n",
    "          'Classwise accuracy of class 1: {:.2%}'.format(acc1), '\\n',\n",
    "          'Test finished in {:.4f} seconds'.format(runtime))\n",
    "    \n",
    "    return acc_overall, acc0, acc1, runtime "
   ]
  },
  {
   "cell_type": "markdown",
   "metadata": {},
   "source": [
    "### 1) Minimum Euclidean distance classifier (Linear machine)"
   ]
  },
  {
   "cell_type": "code",
   "execution_count": 44,
   "metadata": {},
   "outputs": [],
   "source": [
    "# modified varavg on 9/22/2021 20:46"
   ]
  },
  {
   "cell_type": "code",
   "execution_count": 45,
   "metadata": {},
   "outputs": [
    {
     "name": "stdout",
     "output_type": "stream",
     "text": [
      "Overall accuracy: 71.30% \n",
      " Classwise accuracy of class 0: 68.00% \n",
      " Classwise accuracy of class 1: 74.60% \n",
      " Test finished in 0.0240 seconds\n"
     ]
    }
   ],
   "source": [
    "t0 = time.time()\n",
    "covavg = (covs0 + covs1) / 2  \n",
    "varavg = np.sum(np.diagonal(covavg)) / class_n  # average of variances, modified on 9/22/2021\n",
    "Pw0 = Pw1 = 0.5            # assume the equal priority \n",
    "y = []                     # save the classification label of testing samples\n",
    "for i in range(nte):\n",
    "    \n",
    "    edist2 = np.dot(Xtest[i] - means0, Xtest[i] - means0)\n",
    "    g0 = -edist2 / (2 * varavg) + np.log(Pw0)\n",
    "    \n",
    "    edist2 = np.dot(Xtest[i] - means1, Xtest[i] - means1)\n",
    "    g1 = -edist2 / (2 * varavg) + np.log(Pw1)\n",
    "    \n",
    "    y.append(1) if g1 > g0 else y.append(0)\n",
    "\n",
    "t1 = time.time()\n",
    "\n",
    "acc_overall, acc0, acc1, runtime = model_evaluation(y, ytest, t1, t0)\n",
    "\n"
   ]
  },
  {
   "attachments": {
    "e9f4fbd1-ebd3-4af3-a8ce-33286034bff8.png": {
     "image/png": "[encoded data removed]"
    }
   },
   "cell_type": "markdown",
   "metadata": {},
   "source": [
    "![image.png](attachment:e9f4fbd1-ebd3-4af3-a8ce-33286034bff8.png)"
   ]
  },
  {
   "cell_type": "markdown",
   "metadata": {},
   "source": [
    "### 2) minimum Mahalanobis distance classifier (linear machine)"
   ]
  },
  {
   "cell_type": "markdown",
   "metadata": {},
   "source": [
    "Assume the covariance matrix is $$\\sum_i = \\sum = \\frac{covs1+ covs2}{2}\n",
    "                            $$"
   ]
  },
  {
   "cell_type": "code",
   "execution_count": 14,
   "metadata": {},
   "outputs": [
    {
     "name": "stdout",
     "output_type": "stream",
     "text": [
      "Overall accuracy: 89.20% \n",
      " Classwise accuracy of class 0: 90.00% \n",
      " Classwise accuracy of class 1: 88.40% \n",
      " Test finished in 0.0947 seconds\n"
     ]
    }
   ],
   "source": [
    "t0 = time.time()\n",
    "covavg = (covs0 + covs1) / 2                # average of Sigmas\n",
    "Pw0 = Pw1 = 0.5\n",
    "y = []\n",
    "\n",
    "for i in range(nte):\n",
    "    \n",
    "    mdist = np.transpose(Xtest[i] - means0) @ np.linalg.inv(covavg) @ (Xtest[i] - means0)\n",
    "    g0 = -mdist/2 + np.log(Pw0)           # mahalanobis distance \n",
    "    \n",
    "    mdist = np.transpose(Xtest[i] - means1) @ np.linalg.inv(covavg) @ (Xtest[i] - means1)\n",
    "    g1 = -mdist/2 + np.log(Pw1)\n",
    "    \n",
    "    y.append(1) if g1 > g0 else y.append(0)\n",
    "\n",
    "t1 = time.time()\n",
    "\n",
    "acc_overall, acc0, acc1, runtime = model_evaluation(y, ytest, t1, t0)"
   ]
  },
  {
   "cell_type": "markdown",
   "metadata": {},
   "source": [
    "### 3) the generic form of Baysian decision rule (quadratic machine)"
   ]
  },
  {
   "cell_type": "code",
   "execution_count": 32,
   "metadata": {},
   "outputs": [
    {
     "name": "stdout",
     "output_type": "stream",
     "text": [
      "Overall accuracy: 74.10% \n",
      " Classwise accuracy of class 0: 61.47% \n",
      " Classwise accuracy of class 1: 80.27% \n",
      " Test finished in 0.0598 seconds\n"
     ]
    },
    {
     "data": {
      "text/plain": [
       "(0.7409638554216867,\n",
       "    category  cate_size  class_acc\n",
       " 0         0        109   0.614679\n",
       " 1         1        223   0.802691)"
      ]
     },
     "execution_count": 32,
     "metadata": {},
     "output_type": "execute_result"
    }
   ],
   "source": [
    "t0 = time.time()\n",
    "Pw0 = Pw1 = 0.5\n",
    "y = []\n",
    "\n",
    "for i in range(nte):\n",
    "    \n",
    "    qdist = np.transpose(Xtest[i] - means0) @ np.linalg.inv(covs0) @ (Xtest[i] - means0)\n",
    "    g0 = -qdist/2 - 0.5 * np.log(np.linalg.det(covs0)) + np.log(Pw0)           # mahalanobis distance \n",
    "    \n",
    "    qdist = np.transpose(Xtest[i] - means1) @ np.linalg.inv(covs1) @ (Xtest[i] - means1)\n",
    "    g1 = -qdist/2 - 0.5 * np.log(np.linalg.det(covs1)) + np.log(Pw1)\n",
    "    \n",
    "    y.append(1) if g1 > g0 else y.append(0)\n",
    "\n",
    "t1 = time.time()\n",
    "acc_overall, acc0, acc1, runtime = model_evaluation(y, ytest, t1, t0)\n"
   ]
  },
  {
   "cell_type": "markdown",
   "metadata": {},
   "source": [
    "### Tasks"
   ]
  },
  {
   "cell_type": "markdown",
   "metadata": {},
   "source": [
    "Show a scatter plot of the training set of the two classes using only the synthetic dataset. From visual inspection, do you think single-modal Gaussian is a good/reasonable model for the pdf?"
   ]
  },
  {
   "cell_type": "code",
   "execution_count": 17,
   "metadata": {},
   "outputs": [
    {
     "data": {
      "text/plain": [
       "Text(0, 0.5, 'feature 2')"
      ]
     },
     "execution_count": 17,
     "metadata": {},
     "output_type": "execute_result"
    },
    {
     "data": {
      "image/png": "[encoded data removed]",
      "text/plain": [
       "<Figure size 432x288 with 1 Axes>"
      ]
     },
     "metadata": {
      "needs_background": "light"
     },
     "output_type": "display_data"
    }
   ],
   "source": [
    "fig, ax = plt.subplots()\n",
    "scatter = ax.scatter(df_tr['xs'], df_tr['ys'], c = df_tr['yc'])\n",
    "legend1 = ax.legend(*scatter.legend_elements(),\n",
    "                    loc=\"lower left\", title=\"Classes\")\n",
    "ax.add_artist(legend1)\n",
    "ax.set_xlabel('feature 1')\n",
    "ax.set_ylabel('feature 2')\n",
    "# plt.savefig(\"../Figures/scatterplot of test sample.jpg\")"
   ]
  },
  {
   "cell_type": "markdown",
   "metadata": {},
   "source": [
    "Using only the synthetic dataset, illustrate the three decision boundaries from the three cases of parametric learning algorithms on the same figure as the scatter plot of the testing dataset. Comment on the differences."
   ]
  },
  {
   "cell_type": "markdown",
   "metadata": {},
   "source": [
    "Euclidean distance"
   ]
  },
  {
   "cell_type": "code",
   "execution_count": null,
   "metadata": {},
   "outputs": [],
   "source": [
    "# modified on Sep 19, 2021, use the training set to compute means "
   ]
  },
  {
   "cell_type": "code",
   "execution_count": 48,
   "metadata": {},
   "outputs": [
    {
     "data": {
      "text/html": [
       "<div>\n",
       "<style scoped>\n",
       "    .dataframe tbody tr th:only-of-type {\n",
       "        vertical-align: middle;\n",
       "    }\n",
       "\n",
       "    .dataframe tbody tr th {\n",
       "        vertical-align: top;\n",
       "    }\n",
       "\n",
       "    .dataframe thead th {\n",
       "        text-align: right;\n",
       "    }\n",
       "</style>\n",
       "<table border=\"1\" class=\"dataframe\">\n",
       "  <thead>\n",
       "    <tr style=\"text-align: right;\">\n",
       "      <th></th>\n",
       "      <th>xs</th>\n",
       "      <th>ys</th>\n",
       "    </tr>\n",
       "    <tr>\n",
       "      <th>yc</th>\n",
       "      <th></th>\n",
       "      <th></th>\n",
       "    </tr>\n",
       "  </thead>\n",
       "  <tbody>\n",
       "    <tr>\n",
       "      <th>0</th>\n",
       "      <td>-0.221470</td>\n",
       "      <td>0.325755</td>\n",
       "    </tr>\n",
       "    <tr>\n",
       "      <th>1</th>\n",
       "      <td>0.075954</td>\n",
       "      <td>0.682969</td>\n",
       "    </tr>\n",
       "  </tbody>\n",
       "</table>\n",
       "</div>"
      ],
      "text/plain": [
       "          xs        ys\n",
       "yc                    \n",
       "0  -0.221470  0.325755\n",
       "1   0.075954  0.682969"
      ]
     },
     "metadata": {},
     "output_type": "display_data"
    },
    {
     "data": {
      "text/latex": [
       "$\\displaystyle 0.59484910208 x_{1} + 0.71442794512 x_{2} - 0.317050246919288$"
      ],
      "text/plain": [
       "0.59484910208*x1 + 0.71442794512*x2 - 0.317050246919288"
      ]
     },
     "metadata": {},
     "output_type": "display_data"
    },
    {
     "name": "stdout",
     "output_type": "stream",
     "text": [
      "-0.832622948392767 0.443781978413561\n"
     ]
    }
   ],
   "source": [
    "means = df_tr.groupby('yc').mean()\n",
    "display(means)\n",
    "means = means.to_numpy()\n",
    "x1, x2 = symbols('x1 x2',real = True)\n",
    "edist = - 2 * (means[0,0] * x1 + means[0,1] * x2) + 2 * (means[1,0] * x1 + means[1,1] * x2) + \\\n",
    "        + means[0,0]**2 + means[0,1]**2 - (means[1,0]**2 + means[1,1]**2)\n",
    "edist = simplify(edist)\n",
    "display(edist)\n",
    "\n",
    "xx = np.linspace(-1.5, 2, 100)\n",
    "# coeff = -0.5057 / 0.8145  \n",
    "# intercept = 0.3632/0.8145\n",
    "coeffs = sympy.Poly(edist, x1, x2).coeffs()\n",
    "\n",
    "coeff = -coeffs[0]/coeffs[1]\n",
    "intercept  = -coeffs[2]/coeffs[1]\n",
    "yy_edist = xx * coeff + intercept\n",
    "print(coeff, intercept)"
   ]
  },
  {
   "cell_type": "markdown",
   "metadata": {},
   "source": [
    "Manhalanobis distance"
   ]
  },
  {
   "cell_type": "code",
   "execution_count": 49,
   "metadata": {},
   "outputs": [
    {
     "data": {
      "text/latex": [
       "$\\displaystyle \\left[\\begin{matrix}2.94239558705424 x_{1} + 21.8174879666796 x_{2} - 10.7898275662935\\end{matrix}\\right]$"
      ],
      "text/plain": [
       "Matrix([[2.94239558705424*x1 + 21.8174879666796*x2 - 10.7898275662935]])"
      ]
     },
     "metadata": {},
     "output_type": "display_data"
    },
    {
     "name": "stdout",
     "output_type": "stream",
     "text": [
      "-0.134864086623903 0.494549490884199\n"
     ]
    }
   ],
   "source": [
    "dist0 = sympy.Matrix([x1, x2]) - means[0,:].reshape(2,1)\n",
    "dist1 = sympy.Matrix([x1, x2]) - means[1,:].reshape(2,1)\n",
    "gx = dist0.transpose() @ np.linalg.inv(covavg) @ dist0 - dist1.transpose() @ np.linalg.inv(covavg) @ dist1\n",
    "gx = simplify(gx)\n",
    "display(gx)\n",
    "# coeff = - 2.5638 / 24.8217  \n",
    "# intercept = 12.0248/24.8217 \n",
    "# coeff = -2.94239558705424/21.8174879666796\n",
    "# intercept = 10.7898275662935/21.8174879666799\n",
    "coeffs = sympy.Poly(gx[0], x1, x2).coeffs()\n",
    "coeff = -coeffs[0]/coeffs[1]\n",
    "intercept  = -coeffs[2]/coeffs[1]\n",
    "\n",
    "yy_mdist = xx * coeff + intercept\n",
    "\n",
    "print(coeff, intercept)\n"
   ]
  },
  {
   "cell_type": "markdown",
   "metadata": {},
   "source": [
    "Quadratic machine"
   ]
  },
  {
   "cell_type": "code",
   "execution_count": 50,
   "metadata": {},
   "outputs": [
    {
     "data": {
      "text/plain": [
       "'Discriminant function'"
      ]
     },
     "metadata": {},
     "output_type": "display_data"
    },
    {
     "data": {
      "text/latex": [
       "$\\displaystyle \\left[\\begin{matrix}1.46768684748451 x_{1}^{2} + 4.56561613528624 x_{1} x_{2} - 4.02302130593299 x_{1} + 3.56103245543681 x_{2}^{2} - 14.8888425980496 x_{2} + 6.34986103776841\\end{matrix}\\right]$"
      ],
      "text/plain": [
       "Matrix([[1.46768684748451*x1**2 + 4.56561613528624*x1*x2 - 4.02302130593299*x1 + 3.56103245543681*x2**2 - 14.8888425980496*x2 + 6.34986103776841]])"
      ]
     },
     "metadata": {},
     "output_type": "display_data"
    }
   ],
   "source": [
    "left = -0.5 * dist0.transpose()  @ np.linalg.inv(covs0) @ dist0 - 0.5 * np.log(np.linalg.det(covs0)).reshape(1,1) \n",
    "right = -0.5 * dist1.transpose()  @ np.linalg.inv(covs1) @ dist1 - 0.5 * np.log(np.linalg.det(covs1)).reshape(1,1)\n",
    "gx = left - right\n",
    "gx = simplify(gx)\n",
    "display(\"Discriminant function\", gx)    \n",
    "var = (x1, x2)\n",
    "gx_func = lambdify(var, gx, modules = 'numpy')\n",
    "gx_y = gx_func(xx, x2)\n",
    "\n",
    "# iterate and solve equations\n",
    "gx_y_list = gx_y.flatten('C').tolist()\n",
    "yy = [sympy.solve(formula, x2) for formula in gx_y_list]\n",
    "\n",
    "yy_real = [item for sublist in yy for item in sublist]\n",
    "yy_qdist= [yy_final for yy_final in yy if len(yy_final)>0]\n",
    "yy_qdist = [item for sublist in yy_qdist for item in sublist]\n",
    "xx_qdist = np.repeat(xx[:int(len(yy_real)/2)],2).tolist()\n"
   ]
  },
  {
   "cell_type": "code",
   "execution_count": 51,
   "metadata": {},
   "outputs": [
    {
     "data": {
      "text/plain": [
       "<matplotlib.legend.Legend at 0x17439e80>"
      ]
     },
     "execution_count": 51,
     "metadata": {},
     "output_type": "execute_result"
    },
    {
     "data": {
      "image/png": "[encoded data removed]",
      "text/plain": [
       "<Figure size 432x288 with 1 Axes>"
      ]
     },
     "metadata": {
      "needs_background": "light"
     },
     "output_type": "display_data"
    }
   ],
   "source": [
    "fig, ax = plt.subplots()\n",
    "ax.set_xlim([-1.5,1.5])\n",
    "ax.set_ylim([-1,2])\n",
    "ax.set_xlabel('feature 1')\n",
    "ax.set_ylabel('feature 2')\n",
    "scatter = ax.scatter(df_te['xs'], df_te['ys'], c = df_te['yc'],s = 1.6)\n",
    "legend1 = ax.legend(*scatter.legend_elements(),\n",
    "                    loc=\"lower left\", title=\"Classes\")\n",
    "ax.add_artist(legend1)\n",
    "ax.plot(xx, yy_edist, color = 'g',linestyle = '--',linewidth = 2, label = 'Euclidean dist.')\n",
    "ax.plot(xx, yy_mdist, color = 'b', linestyle = '--', linewidth = 2, label = 'Mahanabolis dist.')\n",
    "ax.scatter(xx_qdist, yy_qdist, c= 'r', marker = \"_\", label = 'Quadratic Classifier')\n",
    "ax.legend()\n",
    "# plt.savefig('../Figures/decisionboundary.jpg')"
   ]
  },
  {
   "cell_type": "markdown",
   "metadata": {},
   "source": [
    "Plot a figure with 3x2 subplots of class-0 accuracy vs. ratio of prior probability on the two datasets of the three cases of MAP classifiers and provide comments and discussions.\n",
    "(5 pts) Final discussion."
   ]
  },
  {
   "cell_type": "code",
   "execution_count": 15,
   "metadata": {},
   "outputs": [],
   "source": [
    "Pw0 = np.linspace(0.1,0.9,10)"
   ]
  },
  {
   "cell_type": "code",
   "execution_count": 16,
   "metadata": {},
   "outputs": [
    {
     "data": {
      "image/png": "[encoded data removed]",
      "text/plain": [
       "<Figure size 432x288 with 1 Axes>"
      ]
     },
     "metadata": {
      "needs_background": "light"
     },
     "output_type": "display_data"
    }
   ],
   "source": [
    "def eculidean_class(Xtest,ytest,means0,means1, covs0, covs1, nf, Pw0, nte):\n",
    "    \n",
    "    covavg = (covs0 + covs1) / 2  \n",
    "    varavg = np.sum(np.diagonal(covavg) /) 2   # average of variances  Edit on sep 22. 2021\n",
    "#     Pw0 = Pw1 = 0.5            # assume the equal priority \n",
    "    Pw1 = 1 - Pw0\n",
    "    y = []                     # save the classification label of testing samples\n",
    "    \n",
    "    for i in range(nte):\n",
    "\n",
    "        edist2 = np.dot(Xtest[i] - means0, Xtest[i] - means0)\n",
    "        g0 = -edist2 / (2 * varavg) + np.log(Pw0)\n",
    "\n",
    "        edist2 = np.dot(Xtest[i] - means1, Xtest[i] - means1)\n",
    "        g1 = -edist2 / (2 * varavg) + np.log(Pw1)\n",
    "\n",
    "        y.append(1) if g1 > g0 else y.append(0)\n",
    "\n",
    "    # classwise classfication accuracy\n",
    "    pt00 = ((np.array(y) == 0) & (ytest==0)).sum()  # predict is 0, truth is 0 \n",
    "    pt10 = ((np.array(y) == 0) & (ytest==1)).sum()  # predict is 1, truth is 0  \n",
    "    # classwise accuracy \n",
    "    acc0 = pt00 / (pt00 + pt10) \n",
    "    \n",
    "    return [Pw0, acc0]  \n",
    "\n",
    "Res = []  # save results\n",
    "for pw0 in Pw0:\n",
    "    \n",
    "    res = eculidean_class(Xtest,ytest,means0,means1, covs0, covs1, nf, Pw0, nte)\n",
    "    \n",
    "    Res.append(res)\n",
    "    \n",
    "Res_arry = np.array(Res)  # conver 2d list to 2d array\n",
    "                          # first col is prior prob of class 0\n",
    "                          # second col is the accuracy of class 0\n",
    "\n",
    "plt.plot(Res_arry[:,0]/(1 - Res_arry[:,0]), Res_arry[:,1], color = 'b', marker = 'D', label = 'Euclidean dist.')\n",
    "plt.xlabel('Ratio of $P(w_0)$ to $P(w_1)$')\n",
    "plt.ylabel('Classification accuracy of Class 0')\n",
    "plt.legend()\n",
    "plt.ylim([0,1])\n",
    "plt.xlim([0,10])\n",
    "plt.grid()\n",
    "plt.savefig(r'../Figures/sy_edist_2.jpg')"
   ]
  },
  {
   "cell_type": "code",
   "execution_count": 17,
   "metadata": {},
   "outputs": [
    {
     "data": {
      "image/png": "[encoded data removed]",
      "text/plain": [
       "<Figure size 432x288 with 1 Axes>"
      ]
     },
     "metadata": {
      "needs_background": "light"
     },
     "output_type": "display_data"
    }
   ],
   "source": [
    "def mahalabolis_class(Xtest,ytest,means0,means1,covs0, covs1, nf, Pw0, nte):\n",
    "    '''\n",
    "    mahalanobis distance \n",
    "    '''\n",
    "    covavg = (covs0 + covs1) / 2                # average of Sigmas\n",
    "    Pw1 = 1 - Pw0\n",
    "    y = []\n",
    "\n",
    "    for i in range(nte):\n",
    "\n",
    "        mdist = np.transpose(Xtest[i] - means0) @ np.linalg.inv(covavg) @ (Xtest[i] - means0)\n",
    "        g0 = -mdist/2 + np.log(Pw0)           # mahalanobis distance \n",
    "\n",
    "        mdist = np.transpose(Xtest[i] - means1) @ np.linalg.inv(covavg) @ (Xtest[i] - means1)\n",
    "        g1 = -mdist/2 + np.log(Pw1)\n",
    "\n",
    "        y.append(1) if g1 > g0 else y.append(0)\n",
    "        \n",
    "    # classwise classfication accuracy\n",
    "    pt00 = ((np.array(y) == 0) & (ytest==0)).sum()  # predict is 0, truth is 0 \n",
    "    pt10 = ((np.array(y) == 0) & (ytest==1)).sum()  # predict is 1, truth is 0  \n",
    "    # classwise accuracy \n",
    "    acc0 = pt00 / (pt00 + pt10) \n",
    "    \n",
    "    return [Pw0, acc0] \n",
    "    \n",
    "Res = []  # save results\n",
    "for pw0 in Pw0:\n",
    "    \n",
    "    res = mahalabolis_class(Xtest,ytest,means0,means1,covs0, covs1, nf, Pw0, nte)\n",
    "    Res.append(res)\n",
    "    \n",
    "Res_arry = np.array(Res)  # conver 2d list to 2d array\n",
    "                          # first col is prior prob of class 0\n",
    "                          # second col is the accuracy of class 0\n",
    "plt.plot(Res_arry[:,0]/(1 - Res_arry[:,0]), Res_arry[:,1], color = 'b', marker = 'D', label = 'Mahalanobis dist')\n",
    "plt.xlabel('Ratio of $P(w_0)$ to $P(w_1)$')\n",
    "plt.ylabel('Classification accuracy of Class 0')\n",
    "plt.legend()\n",
    "plt.ylim([0,1])\n",
    "plt.xlim([0,10])\n",
    "plt.grid()\n",
    "plt.savefig(r'../Figures/sy_mdist_2.jpg')"
   ]
  },
  {
   "cell_type": "code",
   "execution_count": 18,
   "metadata": {},
   "outputs": [
    {
     "data": {
      "image/png": "[encoded data removed]",
      "text/plain": [
       "<Figure size 432x288 with 1 Axes>"
      ]
     },
     "metadata": {
      "needs_background": "light"
     },
     "output_type": "display_data"
    }
   ],
   "source": [
    "def quadratic_class(Xtest,ytest, means0,means1,covs0, covs1, nf, Pw0, nte):\n",
    "    '''\n",
    "    quadratic classifier\n",
    "    '''\n",
    "    y = []\n",
    "    Pw1 = 1 - Pw0\n",
    "    for i in range(nte):\n",
    "\n",
    "        qdist = np.transpose(Xtest[i] - means0) @ np.linalg.inv(covs0) @ (Xtest[i] - means0)\n",
    "        g0 = -qdist/2 - 0.5 * np.log(np.linalg.det(covs0)) + np.log(Pw0)           # mahalanobis distance \n",
    "\n",
    "        qdist = np.transpose(Xtest[i] - means1) @ np.linalg.inv(covs1) @ (Xtest[i] - means1)\n",
    "        g1 = -qdist/2 - 0.5 * np.log(np.linalg.det(covs1)) + np.log(Pw1)\n",
    "\n",
    "        y.append(1) if g1 > g0 else y.append(0)\n",
    "        \n",
    "        \n",
    "    # classwise classfication accuracy\n",
    "    pt00 = ((np.array(y) == 0) & (ytest==0)).sum()  # predict is 0, truth is 0 \n",
    "    pt10 = ((np.array(y) == 0) & (ytest==1)).sum()  # predict is 1, truth is 0  \n",
    "    # classwise accuracy \n",
    "    acc0 = pt00 / (pt00 + pt10) \n",
    "    \n",
    "    return [Pw0, acc0] \n",
    "\n",
    "\n",
    "Res = []  # save results\n",
    "for pw0 in Pw0:\n",
    "    \n",
    "    res = quadratic_class(Xtest, ytest,means0,means1,covs0, covs1, nf, pw0, nte)\n",
    "    \n",
    "    Res.append(res)\n",
    "    \n",
    "Res_arry = np.array(Res)  # conver 2d list to 2d array\n",
    "                          # first col is prior prob of class 0\n",
    "                          # second col is the accuracy of class 0\n",
    "        \n",
    "plt.plot(Res_arry[:,0]/(1 - Res_arry[:,0]), Res_arry[:,1], color = 'b', marker = 'D', label = 'Qadratic dist')\n",
    "plt.xlabel('Ratio of $P(w_0)$ to $P(w_1)$')\n",
    "plt.ylabel('Classification accuracy of Class 0')\n",
    "plt.legend()\n",
    "plt.ylim([0,1])\n",
    "plt.xlim([0,10])\n",
    "plt.grid()\n",
    "plt.savefig(r'../Figures/sy_qdist_2.jpg')"
   ]
  },
  {
   "cell_type": "code",
   "execution_count": null,
   "metadata": {},
   "outputs": [],
   "source": []
  },
  {
   "cell_type": "markdown",
   "metadata": {},
   "source": [
    "# Pima dataset"
   ]
  },
  {
   "cell_type": "code",
   "execution_count": 16,
   "metadata": {},
   "outputs": [],
   "source": [
    "df_tr = pd.read_csv(r'http://www.stats.ox.ac.uk/pub/PRNN/pima.tr',delim_whitespace = True, header = 0)\n",
    "df_te = pd.read_csv(r'http://www.stats.ox.ac.uk/pub/PRNN/pima.te',delim_whitespace = True, header = 0)"
   ]
  },
  {
   "cell_type": "code",
   "execution_count": 17,
   "metadata": {},
   "outputs": [],
   "source": [
    "df_tr = df_tr.replace({'No': 1, 'Yes':0})\n",
    "df_te = df_te.replace({'No': 1, 'Yes':0})"
   ]
  },
  {
   "cell_type": "code",
   "execution_count": 18,
   "metadata": {},
   "outputs": [
    {
     "data": {
      "text/plain": [
       "2"
      ]
     },
     "execution_count": 18,
     "metadata": {},
     "output_type": "execute_result"
    }
   ],
   "source": [
    "# standard normalization for training set\n",
    "f_mean  = df_tr.iloc[:,:-1].mean(axis = 0)\n",
    "f_std = df_tr.iloc[:,:-1].std(axis = 0)\n",
    "nor_tr = (df_tr.iloc[:,:-1] - f_mean)/f_std\n",
    "\n",
    "# standard normalization for training set\n",
    "nor_te= (df_te.iloc[:,:-1] - f_mean)/f_std\n",
    "\n",
    "class_n = df_tr.iloc[:,-1].unique().shape[0]\n",
    "class_n"
   ]
  },
  {
   "cell_type": "code",
   "execution_count": 19,
   "metadata": {},
   "outputs": [
    {
     "data": {
      "text/plain": [
       "0.125658722854769"
      ]
     },
     "execution_count": 19,
     "metadata": {},
     "output_type": "execute_result"
    }
   ],
   "source": [
    "df_te\n",
    "varavg = np.sum(np.diagonal(covavg) / nf) \n",
    "varavg"
   ]
  },
  {
   "cell_type": "code",
   "execution_count": 20,
   "metadata": {},
   "outputs": [
    {
     "name": "stdout",
     "output_type": "stream",
     "text": [
      "number of featues is:  7 number of testing samples is: 332 number of training samples is: 200\n"
     ]
    }
   ],
   "source": [
    "Xtrain = nor_tr.to_numpy()\n",
    "ytrain = df_tr['type'].to_numpy().astype(int)\n",
    "\n",
    "Xtest = nor_te.to_numpy()\n",
    "ytest = df_te['type'].to_numpy().astype(int)\n",
    "\n",
    "nte, nf = Xtest.shape    # get the dimension of testing samples\n",
    "                         # nte is the number of testing samples\n",
    "                         # nf is the number of features/dimensions\n",
    "print(\"number of featues is: \",nf, \"number of testing samples is:\", nte, \"number of training samples is:\", Xtrain.shape[0])"
   ]
  },
  {
   "cell_type": "code",
   "execution_count": 21,
   "metadata": {},
   "outputs": [],
   "source": [
    "# get training samples for class 0\n",
    "arr = Xtrain[ytrain == 0]\n",
    "covs0 = np.cov(np.transpose(arr))\n",
    "means0 = np.mean(arr, axis = 0)\n",
    "\n",
    "arr = Xtrain[ytrain == 1]\n",
    "covs1 = np.cov(np.transpose(arr))\n",
    "means1 = np.mean(arr, axis = 0)"
   ]
  },
  {
   "cell_type": "code",
   "execution_count": 27,
   "metadata": {},
   "outputs": [],
   "source": [
    "def accuracy_score(y, y_model):\n",
    "    \"\"\" Return accuracy score.\n",
    "    You are supposed to return both overall accuracy and classwise accuracy.\n",
    "    args   y --> label of test sample\n",
    "           y_model --> label generated from the algorithm, which is a list.\n",
    "    return acc_overall --> overall accuracy, a scalar\n",
    "           acc_classwise   --> classwise accuracy a dataframe\n",
    "    \"\"\"\n",
    "    y = y.tolist() if isinstance(y, pd.Series) else y  # if y is a pd.Series, then convert it to list\n",
    "\n",
    "    assert len(y) == len(y_model)\n",
    "\n",
    "    # overall accuracy\n",
    "    unq_label = np.unique(y)       # unique label\n",
    "\n",
    "    # classwie accuracy, should consider situations with desigated dimensions\n",
    "    # use pandas groupby\n",
    "    # create a pandas dataframe\n",
    "    df_eval = pd.DataFrame(list(zip(y, y_model)),\n",
    "               columns =['ytest', 'ymodel'])\n",
    "    df_eval['acc'] = (df_eval['ytest'] == df_eval['ymodel']).astype(int)\n",
    "    category_size = df_eval.groupby(['ytest'])['ymodel'].count().reset_index()  # count the samples in each category\n",
    "    category_acc  = df_eval.groupby(['ytest'])['acc'].sum().reset_index()        # number of accurate label\n",
    "\n",
    "    acc_classwise = pd.merge(category_size, category_acc, on = 'ytest',validate = 'one_to_one')\n",
    "    acc_classwise['acc'] = acc_classwise['acc']/acc_classwise['ymodel']\n",
    "    acc_classwise = acc_classwise.rename(columns = {'ytest':'category','ymodel':'cate_size','acc':'class_acc'})\n",
    "\n",
    "    # overall accuracy\n",
    "    acc_overall = df_eval['acc'].sum()/df_eval.shape[0]\n",
    "\n",
    "    return acc_overall, acc_classwise\n"
   ]
  },
  {
   "cell_type": "code",
   "execution_count": 25,
   "metadata": {},
   "outputs": [
    {
     "name": "stdout",
     "output_type": "stream",
     "text": [
      "Overall accuracy: 74.10% \n",
      " Classwise accuracy of class 0: 70.64% \n",
      " Classwise accuracy of class 1: 75.78% \n",
      " Test finished in 0.0079 seconds\n"
     ]
    }
   ],
   "source": [
    "# Euclidean distance \n",
    "t0 = time.time()\n",
    "Pw0 = Pw1 = 0.5\n",
    "covavg = (covs0 + covs1) / 2  \n",
    "varavg = np.sum(np.diagonal(covavg))/class_n   # average of variances\n",
    "y = []                     # save the classifiation label of testing samples\n",
    "for i in range(nte):\n",
    "    \n",
    "    edist2 = np.dot(Xtest[i] - means0, Xtest[i] - means0)\n",
    "    g0 = -edist2 / (2 * varavg) + np.log(Pw0)\n",
    "    \n",
    "    edist2 = np.dot(Xtest[i] - means1, Xtest[i] - means1)\n",
    "    g1 = -edist2 / (2 * varavg) + np.log(Pw1)\n",
    "    \n",
    "    y.append(1) if g1 > g0 else y.append(0)\n",
    "\n",
    "t1 = time.time()\n",
    "\n",
    "acc_overall, acc0, acc1, runtime = model_evaluation(y, ytest, t1, t0)"
   ]
  },
  {
   "cell_type": "code",
   "execution_count": 30,
   "metadata": {},
   "outputs": [
    {
     "name": "stdout",
     "output_type": "stream",
     "text": [
      "Overall accuracy: 76.81% \n",
      " Classwise accuracy of class 0: 72.48% \n",
      " Classwise accuracy of class 1: 78.92% \n",
      " Test finished in 0.0579 seconds\n"
     ]
    },
    {
     "data": {
      "text/plain": [
       "(0.7680722891566265,\n",
       "    category  cate_size  class_acc\n",
       " 0         0        109   0.724771\n",
       " 1         1        223   0.789238)"
      ]
     },
     "execution_count": 30,
     "metadata": {},
     "output_type": "execute_result"
    }
   ],
   "source": [
    "# mahalanobis distance\n",
    "t0 = time.time()\n",
    "Pw0 = Pw1 = 0.5\n",
    "covavg = (covs0 + covs1) / 2                # average of Sigmas\n",
    "y = []\n",
    "\n",
    "for i in range(nte):\n",
    "    \n",
    "    mdist = np.transpose(Xtest[i] - means0) @ np.linalg.inv(covavg) @ (Xtest[i] - means0)\n",
    "    g0 = -mdist/2 + np.log(Pw0)           # mahalanobis distance \n",
    "    \n",
    "    mdist = np.transpose(Xtest[i] - means1) @ np.linalg.inv(covavg) @ (Xtest[i] - means1)\n",
    "    g1 = -mdist/2 + np.log(Pw1)\n",
    "    \n",
    "    y.append(1) if g1 > g0 else y.append(0)\n",
    "\n",
    "t1 = time.time()\n",
    "acc_overall, acc0, acc1, runtime = model_evaluation(y, ytest, t1, t0)\n"
   ]
  },
  {
   "cell_type": "code",
   "execution_count": 31,
   "metadata": {},
   "outputs": [
    {
     "name": "stdout",
     "output_type": "stream",
     "text": [
      "Overall accuracy: 74.10% \n",
      " Classwise accuracy of class 0: 61.47% \n",
      " Classwise accuracy of class 1: 80.27% \n",
      " Test finished in 0.0748 seconds\n"
     ]
    },
    {
     "data": {
      "text/plain": [
       "(0.7409638554216867,\n",
       "    category  cate_size  class_acc\n",
       " 0         0        109   0.614679\n",
       " 1         1        223   0.802691)"
      ]
     },
     "execution_count": 31,
     "metadata": {},
     "output_type": "execute_result"
    }
   ],
   "source": [
    "# generic gaussian classifier\n",
    "t0 = time.time()\n",
    "Pw0 = Pw1 = 0.5\n",
    "y = []\n",
    "for i in range(nte):\n",
    "    \n",
    "    qdist = np.transpose(Xtest[i] - means0) @ np.linalg.inv(covs0) @ (Xtest[i] - means0)\n",
    "    g0 = -qdist/2 - 0.5 * np.log(np.linalg.det(covs0)) + np.log(Pw0)           # mahalanobis distance \n",
    "    \n",
    "    qdist = np.transpose(Xtest[i] - means1) @ np.linalg.inv(covs1) @ (Xtest[i] - means1)\n",
    "    g1 = -qdist/2 - 0.5 * np.log(np.linalg.det(covs1)) + np.log(Pw1)\n",
    "    \n",
    "    y.append(1) if g1 > g0 else y.append(0)\n",
    "\n",
    "t1 = time.time()\n",
    "acc_overall, acc0, acc1, runtime = model_evaluation(y, ytest, t1, t0)\n"
   ]
  },
  {
   "cell_type": "code",
   "execution_count": 28,
   "metadata": {},
   "outputs": [],
   "source": [
    "# plot 3x2 subplots of class-0 accuracy vs. ratio of prior probability "
   ]
  },
  {
   "cell_type": "code",
   "execution_count": 29,
   "metadata": {},
   "outputs": [],
   "source": [
    "Pw0 = np.linspace(0.1,0.9,10)"
   ]
  },
  {
   "cell_type": "code",
   "execution_count": 30,
   "metadata": {},
   "outputs": [
    {
     "data": {
      "image/png": "[encoded data removed]",
      "text/plain": [
       "<Figure size 432x288 with 1 Axes>"
      ]
     },
     "metadata": {
      "needs_background": "light"
     },
     "output_type": "display_data"
    }
   ],
   "source": [
    "# Minimum Euclidean distance\n",
    "Res = []  # save results\n",
    "for pw0 in Pw0:\n",
    "    \n",
    "    res = eculidean_class(covs0, covs1, nf, pw0, nte)\n",
    "    \n",
    "    Res.append(res)\n",
    "    \n",
    "Res_arry = np.array(Res)  # conver 2d list to 2d array\n",
    "                          # first col is prior prob of class 0\n",
    "                          # second col is the accuracy of class 0\n",
    "plt.plot(Res_arry[:,0]/(1 - Res_arry[:,0]), Res_arry[:,1], color = 'r', marker = 'D', label = 'Euclidean dist.')\n",
    "plt.xlabel('Ratio of $P(w_0)$ to $P(w_1)$')\n",
    "plt.ylabel('Classification accuracy of Class 0')\n",
    "plt.legend()\n",
    "plt.ylim([0,1])\n",
    "plt.xlim([0,10])\n",
    "plt.grid()\n",
    "plt.savefig(r'../Figures/pm_edist_2.jpg')"
   ]
  },
  {
   "cell_type": "code",
   "execution_count": 31,
   "metadata": {},
   "outputs": [
    {
     "data": {
      "image/png": "[encoded data removed]",
      "text/plain": [
       "<Figure size 432x288 with 1 Axes>"
      ]
     },
     "metadata": {
      "needs_background": "light"
     },
     "output_type": "display_data"
    }
   ],
   "source": [
    "#minimum mahalanobis distance\n",
    "Res = []  # save results\n",
    "for pw0 in Pw0:\n",
    "    \n",
    "    res = mahalabolis_class(covs0, covs1, nf, pw0, nte)\n",
    "    \n",
    "    Res.append(res)\n",
    "    \n",
    "Res_arry = np.array(Res)  # conver 2d list to 2d array\n",
    "                          # first col is prior prob of class 0\n",
    "                          # second col is the accuracy of class 0\n",
    "plt.plot(Res_arry[:,0]/(1 - Res_arry[:,0]), Res_arry[:,1], color = 'r', marker = 'D', label = 'Mahalanobis dist.')\n",
    "plt.xlabel('Ratio of $P(w_0)$ to $P(w_1)$')\n",
    "plt.ylabel('Classification accuracy of Class 0')\n",
    "plt.legend()\n",
    "plt.ylim([0,1])\n",
    "plt.xlim([0,10])\n",
    "plt.grid()\n",
    "plt.savefig(r'../Figures/pm_mdist_2.jpg')"
   ]
  },
  {
   "cell_type": "code",
   "execution_count": 32,
   "metadata": {},
   "outputs": [
    {
     "data": {
      "image/png": "[encoded data removed]",
      "text/plain": [
       "<Figure size 432x288 with 1 Axes>"
      ]
     },
     "metadata": {
      "needs_background": "light"
     },
     "output_type": "display_data"
    }
   ],
   "source": [
    "# generic form of Baysian decision rule\n",
    "Res = []  # save results\n",
    "for pw0 in Pw0:\n",
    "    \n",
    "    res = quadratic_class(covs0, covs1, nf, pw0, nte)\n",
    "    \n",
    "    Res.append(res)\n",
    "    \n",
    "Res_arry = np.array(Res)  # conver 2d list to 2d array\n",
    "                          # first col is prior prob of class 0\n",
    "                          # second col is the accuracy of class 0\n",
    "plt.plot(Res_arry[:,0]/(1 - Res_arry[:,0]), Res_arry[:,1], color = 'r', marker = 'D', label = 'Quardratic dist.')\n",
    "plt.xlabel('Ratio of $P(w_0)$ to $P(w_1)$')\n",
    "plt.ylabel('Classification accuracy of Class 0')\n",
    "plt.legend()\n",
    "plt.ylim([0,1])\n",
    "plt.xlim([0,10])\n",
    "plt.grid()\n",
    "plt.savefig(r'../Figures/pm_qdist_2.jpg')"
   ]
  },
  {
   "cell_type": "code",
   "execution_count": null,
   "metadata": {},
   "outputs": [],
   "source": []
  },
  {
   "cell_type": "markdown",
   "metadata": {},
   "source": [
    "### Bounus\n",
    "For the synthetic dataset, if single-modal Gaussian is not the best model for the pdf, revise the model and report the performance."
   ]
  },
  {
   "cell_type": "markdown",
   "metadata": {},
   "source": [
    "The distribution of points in training set indicates there are two clusters. Thus, herein, a Gaussian Mixture Model with two compoenents is considered. To find out the mean and standard deviation of two clusters, training set is manually separated by a vertical line x = -0.3. Denote that the points left to this boundary is component 1, points right to this boundary is component 2. \n"
   ]
  },
  {
   "cell_type": "code",
   "execution_count": 4,
   "metadata": {},
   "outputs": [
    {
     "ename": "URLError",
     "evalue": "<urlopen error [Errno 11001] getaddrinfo failed>",
     "output_type": "error",
     "traceback": [
      "\u001b[1;31m---------------------------------------------------------------------------\u001b[0m",
      "\u001b[1;31mgaierror\u001b[0m                                  Traceback (most recent call last)",
      "\u001b[1;32mc:\\users\\guyan\\appdata\\local\\programs\\python\\python38-32\\lib\\urllib\\request.py\u001b[0m in \u001b[0;36mdo_open\u001b[1;34m(self, http_class, req, **http_conn_args)\u001b[0m\n\u001b[0;32m   1318\u001b[0m             \u001b[1;32mtry\u001b[0m\u001b[1;33m:\u001b[0m\u001b[1;33m\u001b[0m\u001b[1;33m\u001b[0m\u001b[0m\n\u001b[1;32m-> 1319\u001b[1;33m                 h.request(req.get_method(), req.selector, req.data, headers,\n\u001b[0m\u001b[0;32m   1320\u001b[0m                           encode_chunked=req.has_header('Transfer-encoding'))\n",
      "\u001b[1;32mc:\\users\\guyan\\appdata\\local\\programs\\python\\python38-32\\lib\\http\\client.py\u001b[0m in \u001b[0;36mrequest\u001b[1;34m(self, method, url, body, headers, encode_chunked)\u001b[0m\n\u001b[0;32m   1229\u001b[0m         \u001b[1;34m\"\"\"Send a complete request to the server.\"\"\"\u001b[0m\u001b[1;33m\u001b[0m\u001b[1;33m\u001b[0m\u001b[0m\n\u001b[1;32m-> 1230\u001b[1;33m         \u001b[0mself\u001b[0m\u001b[1;33m.\u001b[0m\u001b[0m_send_request\u001b[0m\u001b[1;33m(\u001b[0m\u001b[0mmethod\u001b[0m\u001b[1;33m,\u001b[0m \u001b[0murl\u001b[0m\u001b[1;33m,\u001b[0m \u001b[0mbody\u001b[0m\u001b[1;33m,\u001b[0m \u001b[0mheaders\u001b[0m\u001b[1;33m,\u001b[0m \u001b[0mencode_chunked\u001b[0m\u001b[1;33m)\u001b[0m\u001b[1;33m\u001b[0m\u001b[1;33m\u001b[0m\u001b[0m\n\u001b[0m\u001b[0;32m   1231\u001b[0m \u001b[1;33m\u001b[0m\u001b[0m\n",
      "\u001b[1;32mc:\\users\\guyan\\appdata\\local\\programs\\python\\python38-32\\lib\\http\\client.py\u001b[0m in \u001b[0;36m_send_request\u001b[1;34m(self, method, url, body, headers, encode_chunked)\u001b[0m\n\u001b[0;32m   1275\u001b[0m             \u001b[0mbody\u001b[0m \u001b[1;33m=\u001b[0m \u001b[0m_encode\u001b[0m\u001b[1;33m(\u001b[0m\u001b[0mbody\u001b[0m\u001b[1;33m,\u001b[0m \u001b[1;34m'body'\u001b[0m\u001b[1;33m)\u001b[0m\u001b[1;33m\u001b[0m\u001b[1;33m\u001b[0m\u001b[0m\n\u001b[1;32m-> 1276\u001b[1;33m         \u001b[0mself\u001b[0m\u001b[1;33m.\u001b[0m\u001b[0mendheaders\u001b[0m\u001b[1;33m(\u001b[0m\u001b[0mbody\u001b[0m\u001b[1;33m,\u001b[0m \u001b[0mencode_chunked\u001b[0m\u001b[1;33m=\u001b[0m\u001b[0mencode_chunked\u001b[0m\u001b[1;33m)\u001b[0m\u001b[1;33m\u001b[0m\u001b[1;33m\u001b[0m\u001b[0m\n\u001b[0m\u001b[0;32m   1277\u001b[0m \u001b[1;33m\u001b[0m\u001b[0m\n",
      "\u001b[1;32mc:\\users\\guyan\\appdata\\local\\programs\\python\\python38-32\\lib\\http\\client.py\u001b[0m in \u001b[0;36mendheaders\u001b[1;34m(self, message_body, encode_chunked)\u001b[0m\n\u001b[0;32m   1224\u001b[0m             \u001b[1;32mraise\u001b[0m \u001b[0mCannotSendHeader\u001b[0m\u001b[1;33m(\u001b[0m\u001b[1;33m)\u001b[0m\u001b[1;33m\u001b[0m\u001b[1;33m\u001b[0m\u001b[0m\n\u001b[1;32m-> 1225\u001b[1;33m         \u001b[0mself\u001b[0m\u001b[1;33m.\u001b[0m\u001b[0m_send_output\u001b[0m\u001b[1;33m(\u001b[0m\u001b[0mmessage_body\u001b[0m\u001b[1;33m,\u001b[0m \u001b[0mencode_chunked\u001b[0m\u001b[1;33m=\u001b[0m\u001b[0mencode_chunked\u001b[0m\u001b[1;33m)\u001b[0m\u001b[1;33m\u001b[0m\u001b[1;33m\u001b[0m\u001b[0m\n\u001b[0m\u001b[0;32m   1226\u001b[0m \u001b[1;33m\u001b[0m\u001b[0m\n",
      "\u001b[1;32mc:\\users\\guyan\\appdata\\local\\programs\\python\\python38-32\\lib\\http\\client.py\u001b[0m in \u001b[0;36m_send_output\u001b[1;34m(self, message_body, encode_chunked)\u001b[0m\n\u001b[0;32m   1003\u001b[0m         \u001b[1;32mdel\u001b[0m \u001b[0mself\u001b[0m\u001b[1;33m.\u001b[0m\u001b[0m_buffer\u001b[0m\u001b[1;33m[\u001b[0m\u001b[1;33m:\u001b[0m\u001b[1;33m]\u001b[0m\u001b[1;33m\u001b[0m\u001b[1;33m\u001b[0m\u001b[0m\n\u001b[1;32m-> 1004\u001b[1;33m         \u001b[0mself\u001b[0m\u001b[1;33m.\u001b[0m\u001b[0msend\u001b[0m\u001b[1;33m(\u001b[0m\u001b[0mmsg\u001b[0m\u001b[1;33m)\u001b[0m\u001b[1;33m\u001b[0m\u001b[1;33m\u001b[0m\u001b[0m\n\u001b[0m\u001b[0;32m   1005\u001b[0m \u001b[1;33m\u001b[0m\u001b[0m\n",
      "\u001b[1;32mc:\\users\\guyan\\appdata\\local\\programs\\python\\python38-32\\lib\\http\\client.py\u001b[0m in \u001b[0;36msend\u001b[1;34m(self, data)\u001b[0m\n\u001b[0;32m    943\u001b[0m             \u001b[1;32mif\u001b[0m \u001b[0mself\u001b[0m\u001b[1;33m.\u001b[0m\u001b[0mauto_open\u001b[0m\u001b[1;33m:\u001b[0m\u001b[1;33m\u001b[0m\u001b[1;33m\u001b[0m\u001b[0m\n\u001b[1;32m--> 944\u001b[1;33m                 \u001b[0mself\u001b[0m\u001b[1;33m.\u001b[0m\u001b[0mconnect\u001b[0m\u001b[1;33m(\u001b[0m\u001b[1;33m)\u001b[0m\u001b[1;33m\u001b[0m\u001b[1;33m\u001b[0m\u001b[0m\n\u001b[0m\u001b[0;32m    945\u001b[0m             \u001b[1;32melse\u001b[0m\u001b[1;33m:\u001b[0m\u001b[1;33m\u001b[0m\u001b[1;33m\u001b[0m\u001b[0m\n",
      "\u001b[1;32mc:\\users\\guyan\\appdata\\local\\programs\\python\\python38-32\\lib\\http\\client.py\u001b[0m in \u001b[0;36mconnect\u001b[1;34m(self)\u001b[0m\n\u001b[0;32m    914\u001b[0m         \u001b[1;34m\"\"\"Connect to the host and port specified in __init__.\"\"\"\u001b[0m\u001b[1;33m\u001b[0m\u001b[1;33m\u001b[0m\u001b[0m\n\u001b[1;32m--> 915\u001b[1;33m         self.sock = self._create_connection(\n\u001b[0m\u001b[0;32m    916\u001b[0m             (self.host,self.port), self.timeout, self.source_address)\n",
      "\u001b[1;32mc:\\users\\guyan\\appdata\\local\\programs\\python\\python38-32\\lib\\socket.py\u001b[0m in \u001b[0;36mcreate_connection\u001b[1;34m(address, timeout, source_address)\u001b[0m\n\u001b[0;32m    786\u001b[0m     \u001b[0merr\u001b[0m \u001b[1;33m=\u001b[0m \u001b[1;32mNone\u001b[0m\u001b[1;33m\u001b[0m\u001b[1;33m\u001b[0m\u001b[0m\n\u001b[1;32m--> 787\u001b[1;33m     \u001b[1;32mfor\u001b[0m \u001b[0mres\u001b[0m \u001b[1;32min\u001b[0m \u001b[0mgetaddrinfo\u001b[0m\u001b[1;33m(\u001b[0m\u001b[0mhost\u001b[0m\u001b[1;33m,\u001b[0m \u001b[0mport\u001b[0m\u001b[1;33m,\u001b[0m \u001b[1;36m0\u001b[0m\u001b[1;33m,\u001b[0m \u001b[0mSOCK_STREAM\u001b[0m\u001b[1;33m)\u001b[0m\u001b[1;33m:\u001b[0m\u001b[1;33m\u001b[0m\u001b[1;33m\u001b[0m\u001b[0m\n\u001b[0m\u001b[0;32m    788\u001b[0m         \u001b[0maf\u001b[0m\u001b[1;33m,\u001b[0m \u001b[0msocktype\u001b[0m\u001b[1;33m,\u001b[0m \u001b[0mproto\u001b[0m\u001b[1;33m,\u001b[0m \u001b[0mcanonname\u001b[0m\u001b[1;33m,\u001b[0m \u001b[0msa\u001b[0m \u001b[1;33m=\u001b[0m \u001b[0mres\u001b[0m\u001b[1;33m\u001b[0m\u001b[1;33m\u001b[0m\u001b[0m\n",
      "\u001b[1;32mc:\\users\\guyan\\appdata\\local\\programs\\python\\python38-32\\lib\\socket.py\u001b[0m in \u001b[0;36mgetaddrinfo\u001b[1;34m(host, port, family, type, proto, flags)\u001b[0m\n\u001b[0;32m    917\u001b[0m     \u001b[0maddrlist\u001b[0m \u001b[1;33m=\u001b[0m \u001b[1;33m[\u001b[0m\u001b[1;33m]\u001b[0m\u001b[1;33m\u001b[0m\u001b[1;33m\u001b[0m\u001b[0m\n\u001b[1;32m--> 918\u001b[1;33m     \u001b[1;32mfor\u001b[0m \u001b[0mres\u001b[0m \u001b[1;32min\u001b[0m \u001b[0m_socket\u001b[0m\u001b[1;33m.\u001b[0m\u001b[0mgetaddrinfo\u001b[0m\u001b[1;33m(\u001b[0m\u001b[0mhost\u001b[0m\u001b[1;33m,\u001b[0m \u001b[0mport\u001b[0m\u001b[1;33m,\u001b[0m \u001b[0mfamily\u001b[0m\u001b[1;33m,\u001b[0m \u001b[0mtype\u001b[0m\u001b[1;33m,\u001b[0m \u001b[0mproto\u001b[0m\u001b[1;33m,\u001b[0m \u001b[0mflags\u001b[0m\u001b[1;33m)\u001b[0m\u001b[1;33m:\u001b[0m\u001b[1;33m\u001b[0m\u001b[1;33m\u001b[0m\u001b[0m\n\u001b[0m\u001b[0;32m    919\u001b[0m         \u001b[0maf\u001b[0m\u001b[1;33m,\u001b[0m \u001b[0msocktype\u001b[0m\u001b[1;33m,\u001b[0m \u001b[0mproto\u001b[0m\u001b[1;33m,\u001b[0m \u001b[0mcanonname\u001b[0m\u001b[1;33m,\u001b[0m \u001b[0msa\u001b[0m \u001b[1;33m=\u001b[0m \u001b[0mres\u001b[0m\u001b[1;33m\u001b[0m\u001b[1;33m\u001b[0m\u001b[0m\n",
      "\u001b[1;31mgaierror\u001b[0m: [Errno 11001] getaddrinfo failed",
      "\nDuring handling of the above exception, another exception occurred:\n",
      "\u001b[1;31mURLError\u001b[0m                                  Traceback (most recent call last)",
      "\u001b[1;32m<ipython-input-4-84d54df3fce7>\u001b[0m in \u001b[0;36m<module>\u001b[1;34m\u001b[0m\n\u001b[1;32m----> 1\u001b[1;33m \u001b[0mdf_tr\u001b[0m \u001b[1;33m=\u001b[0m \u001b[0mpd\u001b[0m\u001b[1;33m.\u001b[0m\u001b[0mread_csv\u001b[0m\u001b[1;33m(\u001b[0m\u001b[1;34m'http://www.stats.ox.ac.uk/pub/PRNN/synth.tr'\u001b[0m\u001b[1;33m,\u001b[0m \u001b[0mdelim_whitespace\u001b[0m \u001b[1;33m=\u001b[0m \u001b[1;32mTrue\u001b[0m\u001b[1;33m,\u001b[0m \u001b[0mheader\u001b[0m \u001b[1;33m=\u001b[0m \u001b[1;36m0\u001b[0m\u001b[1;33m)\u001b[0m\u001b[1;33m\u001b[0m\u001b[1;33m\u001b[0m\u001b[0m\n\u001b[0m\u001b[0;32m      2\u001b[0m \u001b[0mdf_te\u001b[0m \u001b[1;33m=\u001b[0m \u001b[0mpd\u001b[0m\u001b[1;33m.\u001b[0m\u001b[0mread_csv\u001b[0m\u001b[1;33m(\u001b[0m\u001b[1;34m'http://www.stats.ox.ac.uk/pub/PRNN/synth.te'\u001b[0m\u001b[1;33m,\u001b[0m \u001b[0mdelim_whitespace\u001b[0m \u001b[1;33m=\u001b[0m \u001b[1;32mTrue\u001b[0m\u001b[1;33m,\u001b[0m \u001b[0mheader\u001b[0m \u001b[1;33m=\u001b[0m \u001b[1;36m0\u001b[0m\u001b[1;33m)\u001b[0m\u001b[1;33m\u001b[0m\u001b[1;33m\u001b[0m\u001b[0m\n\u001b[0;32m      3\u001b[0m \u001b[1;33m\u001b[0m\u001b[0m\n\u001b[0;32m      4\u001b[0m \u001b[0mXtrain\u001b[0m \u001b[1;33m=\u001b[0m \u001b[0mdf_tr\u001b[0m\u001b[1;33m[\u001b[0m\u001b[1;33m[\u001b[0m\u001b[1;34m'xs'\u001b[0m\u001b[1;33m,\u001b[0m\u001b[1;34m'ys'\u001b[0m\u001b[1;33m]\u001b[0m\u001b[1;33m]\u001b[0m\u001b[1;33m.\u001b[0m\u001b[0mto_numpy\u001b[0m\u001b[1;33m(\u001b[0m\u001b[1;33m)\u001b[0m\u001b[1;33m\u001b[0m\u001b[1;33m\u001b[0m\u001b[0m\n\u001b[0;32m      5\u001b[0m \u001b[0mytrain\u001b[0m \u001b[1;33m=\u001b[0m \u001b[0mdf_tr\u001b[0m\u001b[1;33m[\u001b[0m\u001b[1;34m'yc'\u001b[0m\u001b[1;33m]\u001b[0m\u001b[1;33m.\u001b[0m\u001b[0mto_numpy\u001b[0m\u001b[1;33m(\u001b[0m\u001b[1;33m)\u001b[0m\u001b[1;33m.\u001b[0m\u001b[0mastype\u001b[0m\u001b[1;33m(\u001b[0m\u001b[0mint\u001b[0m\u001b[1;33m)\u001b[0m\u001b[1;33m\u001b[0m\u001b[1;33m\u001b[0m\u001b[0m\n",
      "\u001b[1;32mc:\\users\\guyan\\appdata\\local\\programs\\python\\python38-32\\lib\\site-packages\\pandas\\io\\parsers.py\u001b[0m in \u001b[0;36mparser_f\u001b[1;34m(filepath_or_buffer, sep, delimiter, header, names, index_col, usecols, squeeze, prefix, mangle_dupe_cols, dtype, engine, converters, true_values, false_values, skipinitialspace, skiprows, skipfooter, nrows, na_values, keep_default_na, na_filter, verbose, skip_blank_lines, parse_dates, infer_datetime_format, keep_date_col, date_parser, dayfirst, cache_dates, iterator, chunksize, compression, thousands, decimal, lineterminator, quotechar, quoting, doublequote, escapechar, comment, encoding, dialect, error_bad_lines, warn_bad_lines, delim_whitespace, low_memory, memory_map, float_precision)\u001b[0m\n\u001b[0;32m    674\u001b[0m         )\n\u001b[0;32m    675\u001b[0m \u001b[1;33m\u001b[0m\u001b[0m\n\u001b[1;32m--> 676\u001b[1;33m         \u001b[1;32mreturn\u001b[0m \u001b[0m_read\u001b[0m\u001b[1;33m(\u001b[0m\u001b[0mfilepath_or_buffer\u001b[0m\u001b[1;33m,\u001b[0m \u001b[0mkwds\u001b[0m\u001b[1;33m)\u001b[0m\u001b[1;33m\u001b[0m\u001b[1;33m\u001b[0m\u001b[0m\n\u001b[0m\u001b[0;32m    677\u001b[0m \u001b[1;33m\u001b[0m\u001b[0m\n\u001b[0;32m    678\u001b[0m     \u001b[0mparser_f\u001b[0m\u001b[1;33m.\u001b[0m\u001b[0m__name__\u001b[0m \u001b[1;33m=\u001b[0m \u001b[0mname\u001b[0m\u001b[1;33m\u001b[0m\u001b[1;33m\u001b[0m\u001b[0m\n",
      "\u001b[1;32mc:\\users\\guyan\\appdata\\local\\programs\\python\\python38-32\\lib\\site-packages\\pandas\\io\\parsers.py\u001b[0m in \u001b[0;36m_read\u001b[1;34m(filepath_or_buffer, kwds)\u001b[0m\n\u001b[0;32m    428\u001b[0m     \u001b[1;31m# though mypy handling of conditional imports is difficult.\u001b[0m\u001b[1;33m\u001b[0m\u001b[1;33m\u001b[0m\u001b[1;33m\u001b[0m\u001b[0m\n\u001b[0;32m    429\u001b[0m     \u001b[1;31m# See https://github.com/python/mypy/issues/1297\u001b[0m\u001b[1;33m\u001b[0m\u001b[1;33m\u001b[0m\u001b[1;33m\u001b[0m\u001b[0m\n\u001b[1;32m--> 430\u001b[1;33m     fp_or_buf, _, compression, should_close = get_filepath_or_buffer(\n\u001b[0m\u001b[0;32m    431\u001b[0m         \u001b[0mfilepath_or_buffer\u001b[0m\u001b[1;33m,\u001b[0m \u001b[0mencoding\u001b[0m\u001b[1;33m,\u001b[0m \u001b[0mcompression\u001b[0m\u001b[1;33m\u001b[0m\u001b[1;33m\u001b[0m\u001b[0m\n\u001b[0;32m    432\u001b[0m     )\n",
      "\u001b[1;32mc:\\users\\guyan\\appdata\\local\\programs\\python\\python38-32\\lib\\site-packages\\pandas\\io\\common.py\u001b[0m in \u001b[0;36mget_filepath_or_buffer\u001b[1;34m(filepath_or_buffer, encoding, compression, mode)\u001b[0m\n\u001b[0;32m    170\u001b[0m \u001b[1;33m\u001b[0m\u001b[0m\n\u001b[0;32m    171\u001b[0m     \u001b[1;32mif\u001b[0m \u001b[0misinstance\u001b[0m\u001b[1;33m(\u001b[0m\u001b[0mfilepath_or_buffer\u001b[0m\u001b[1;33m,\u001b[0m \u001b[0mstr\u001b[0m\u001b[1;33m)\u001b[0m \u001b[1;32mand\u001b[0m \u001b[0mis_url\u001b[0m\u001b[1;33m(\u001b[0m\u001b[0mfilepath_or_buffer\u001b[0m\u001b[1;33m)\u001b[0m\u001b[1;33m:\u001b[0m\u001b[1;33m\u001b[0m\u001b[1;33m\u001b[0m\u001b[0m\n\u001b[1;32m--> 172\u001b[1;33m         \u001b[0mreq\u001b[0m \u001b[1;33m=\u001b[0m \u001b[0murlopen\u001b[0m\u001b[1;33m(\u001b[0m\u001b[0mfilepath_or_buffer\u001b[0m\u001b[1;33m)\u001b[0m\u001b[1;33m\u001b[0m\u001b[1;33m\u001b[0m\u001b[0m\n\u001b[0m\u001b[0;32m    173\u001b[0m         \u001b[0mcontent_encoding\u001b[0m \u001b[1;33m=\u001b[0m \u001b[0mreq\u001b[0m\u001b[1;33m.\u001b[0m\u001b[0mheaders\u001b[0m\u001b[1;33m.\u001b[0m\u001b[0mget\u001b[0m\u001b[1;33m(\u001b[0m\u001b[1;34m\"Content-Encoding\"\u001b[0m\u001b[1;33m,\u001b[0m \u001b[1;32mNone\u001b[0m\u001b[1;33m)\u001b[0m\u001b[1;33m\u001b[0m\u001b[1;33m\u001b[0m\u001b[0m\n\u001b[0;32m    174\u001b[0m         \u001b[1;32mif\u001b[0m \u001b[0mcontent_encoding\u001b[0m \u001b[1;33m==\u001b[0m \u001b[1;34m\"gzip\"\u001b[0m\u001b[1;33m:\u001b[0m\u001b[1;33m\u001b[0m\u001b[1;33m\u001b[0m\u001b[0m\n",
      "\u001b[1;32mc:\\users\\guyan\\appdata\\local\\programs\\python\\python38-32\\lib\\site-packages\\pandas\\io\\common.py\u001b[0m in \u001b[0;36murlopen\u001b[1;34m(*args, **kwargs)\u001b[0m\n\u001b[0;32m    139\u001b[0m     \u001b[1;32mimport\u001b[0m \u001b[0murllib\u001b[0m\u001b[1;33m.\u001b[0m\u001b[0mrequest\u001b[0m\u001b[1;33m\u001b[0m\u001b[1;33m\u001b[0m\u001b[0m\n\u001b[0;32m    140\u001b[0m \u001b[1;33m\u001b[0m\u001b[0m\n\u001b[1;32m--> 141\u001b[1;33m     \u001b[1;32mreturn\u001b[0m \u001b[0murllib\u001b[0m\u001b[1;33m.\u001b[0m\u001b[0mrequest\u001b[0m\u001b[1;33m.\u001b[0m\u001b[0murlopen\u001b[0m\u001b[1;33m(\u001b[0m\u001b[1;33m*\u001b[0m\u001b[0margs\u001b[0m\u001b[1;33m,\u001b[0m \u001b[1;33m**\u001b[0m\u001b[0mkwargs\u001b[0m\u001b[1;33m)\u001b[0m\u001b[1;33m\u001b[0m\u001b[1;33m\u001b[0m\u001b[0m\n\u001b[0m\u001b[0;32m    142\u001b[0m \u001b[1;33m\u001b[0m\u001b[0m\n\u001b[0;32m    143\u001b[0m \u001b[1;33m\u001b[0m\u001b[0m\n",
      "\u001b[1;32mc:\\users\\guyan\\appdata\\local\\programs\\python\\python38-32\\lib\\urllib\\request.py\u001b[0m in \u001b[0;36murlopen\u001b[1;34m(url, data, timeout, cafile, capath, cadefault, context)\u001b[0m\n\u001b[0;32m    220\u001b[0m     \u001b[1;32melse\u001b[0m\u001b[1;33m:\u001b[0m\u001b[1;33m\u001b[0m\u001b[1;33m\u001b[0m\u001b[0m\n\u001b[0;32m    221\u001b[0m         \u001b[0mopener\u001b[0m \u001b[1;33m=\u001b[0m \u001b[0m_opener\u001b[0m\u001b[1;33m\u001b[0m\u001b[1;33m\u001b[0m\u001b[0m\n\u001b[1;32m--> 222\u001b[1;33m     \u001b[1;32mreturn\u001b[0m \u001b[0mopener\u001b[0m\u001b[1;33m.\u001b[0m\u001b[0mopen\u001b[0m\u001b[1;33m(\u001b[0m\u001b[0murl\u001b[0m\u001b[1;33m,\u001b[0m \u001b[0mdata\u001b[0m\u001b[1;33m,\u001b[0m \u001b[0mtimeout\u001b[0m\u001b[1;33m)\u001b[0m\u001b[1;33m\u001b[0m\u001b[1;33m\u001b[0m\u001b[0m\n\u001b[0m\u001b[0;32m    223\u001b[0m \u001b[1;33m\u001b[0m\u001b[0m\n\u001b[0;32m    224\u001b[0m \u001b[1;32mdef\u001b[0m \u001b[0minstall_opener\u001b[0m\u001b[1;33m(\u001b[0m\u001b[0mopener\u001b[0m\u001b[1;33m)\u001b[0m\u001b[1;33m:\u001b[0m\u001b[1;33m\u001b[0m\u001b[1;33m\u001b[0m\u001b[0m\n",
      "\u001b[1;32mc:\\users\\guyan\\appdata\\local\\programs\\python\\python38-32\\lib\\urllib\\request.py\u001b[0m in \u001b[0;36mopen\u001b[1;34m(self, fullurl, data, timeout)\u001b[0m\n\u001b[0;32m    523\u001b[0m \u001b[1;33m\u001b[0m\u001b[0m\n\u001b[0;32m    524\u001b[0m         \u001b[0msys\u001b[0m\u001b[1;33m.\u001b[0m\u001b[0maudit\u001b[0m\u001b[1;33m(\u001b[0m\u001b[1;34m'urllib.Request'\u001b[0m\u001b[1;33m,\u001b[0m \u001b[0mreq\u001b[0m\u001b[1;33m.\u001b[0m\u001b[0mfull_url\u001b[0m\u001b[1;33m,\u001b[0m \u001b[0mreq\u001b[0m\u001b[1;33m.\u001b[0m\u001b[0mdata\u001b[0m\u001b[1;33m,\u001b[0m \u001b[0mreq\u001b[0m\u001b[1;33m.\u001b[0m\u001b[0mheaders\u001b[0m\u001b[1;33m,\u001b[0m \u001b[0mreq\u001b[0m\u001b[1;33m.\u001b[0m\u001b[0mget_method\u001b[0m\u001b[1;33m(\u001b[0m\u001b[1;33m)\u001b[0m\u001b[1;33m)\u001b[0m\u001b[1;33m\u001b[0m\u001b[1;33m\u001b[0m\u001b[0m\n\u001b[1;32m--> 525\u001b[1;33m         \u001b[0mresponse\u001b[0m \u001b[1;33m=\u001b[0m \u001b[0mself\u001b[0m\u001b[1;33m.\u001b[0m\u001b[0m_open\u001b[0m\u001b[1;33m(\u001b[0m\u001b[0mreq\u001b[0m\u001b[1;33m,\u001b[0m \u001b[0mdata\u001b[0m\u001b[1;33m)\u001b[0m\u001b[1;33m\u001b[0m\u001b[1;33m\u001b[0m\u001b[0m\n\u001b[0m\u001b[0;32m    526\u001b[0m \u001b[1;33m\u001b[0m\u001b[0m\n\u001b[0;32m    527\u001b[0m         \u001b[1;31m# post-process response\u001b[0m\u001b[1;33m\u001b[0m\u001b[1;33m\u001b[0m\u001b[1;33m\u001b[0m\u001b[0m\n",
      "\u001b[1;32mc:\\users\\guyan\\appdata\\local\\programs\\python\\python38-32\\lib\\urllib\\request.py\u001b[0m in \u001b[0;36m_open\u001b[1;34m(self, req, data)\u001b[0m\n\u001b[0;32m    540\u001b[0m \u001b[1;33m\u001b[0m\u001b[0m\n\u001b[0;32m    541\u001b[0m         \u001b[0mprotocol\u001b[0m \u001b[1;33m=\u001b[0m \u001b[0mreq\u001b[0m\u001b[1;33m.\u001b[0m\u001b[0mtype\u001b[0m\u001b[1;33m\u001b[0m\u001b[1;33m\u001b[0m\u001b[0m\n\u001b[1;32m--> 542\u001b[1;33m         result = self._call_chain(self.handle_open, protocol, protocol +\n\u001b[0m\u001b[0;32m    543\u001b[0m                                   '_open', req)\n\u001b[0;32m    544\u001b[0m         \u001b[1;32mif\u001b[0m \u001b[0mresult\u001b[0m\u001b[1;33m:\u001b[0m\u001b[1;33m\u001b[0m\u001b[1;33m\u001b[0m\u001b[0m\n",
      "\u001b[1;32mc:\\users\\guyan\\appdata\\local\\programs\\python\\python38-32\\lib\\urllib\\request.py\u001b[0m in \u001b[0;36m_call_chain\u001b[1;34m(self, chain, kind, meth_name, *args)\u001b[0m\n\u001b[0;32m    500\u001b[0m         \u001b[1;32mfor\u001b[0m \u001b[0mhandler\u001b[0m \u001b[1;32min\u001b[0m \u001b[0mhandlers\u001b[0m\u001b[1;33m:\u001b[0m\u001b[1;33m\u001b[0m\u001b[1;33m\u001b[0m\u001b[0m\n\u001b[0;32m    501\u001b[0m             \u001b[0mfunc\u001b[0m \u001b[1;33m=\u001b[0m \u001b[0mgetattr\u001b[0m\u001b[1;33m(\u001b[0m\u001b[0mhandler\u001b[0m\u001b[1;33m,\u001b[0m \u001b[0mmeth_name\u001b[0m\u001b[1;33m)\u001b[0m\u001b[1;33m\u001b[0m\u001b[1;33m\u001b[0m\u001b[0m\n\u001b[1;32m--> 502\u001b[1;33m             \u001b[0mresult\u001b[0m \u001b[1;33m=\u001b[0m \u001b[0mfunc\u001b[0m\u001b[1;33m(\u001b[0m\u001b[1;33m*\u001b[0m\u001b[0margs\u001b[0m\u001b[1;33m)\u001b[0m\u001b[1;33m\u001b[0m\u001b[1;33m\u001b[0m\u001b[0m\n\u001b[0m\u001b[0;32m    503\u001b[0m             \u001b[1;32mif\u001b[0m \u001b[0mresult\u001b[0m \u001b[1;32mis\u001b[0m \u001b[1;32mnot\u001b[0m \u001b[1;32mNone\u001b[0m\u001b[1;33m:\u001b[0m\u001b[1;33m\u001b[0m\u001b[1;33m\u001b[0m\u001b[0m\n\u001b[0;32m    504\u001b[0m                 \u001b[1;32mreturn\u001b[0m \u001b[0mresult\u001b[0m\u001b[1;33m\u001b[0m\u001b[1;33m\u001b[0m\u001b[0m\n",
      "\u001b[1;32mc:\\users\\guyan\\appdata\\local\\programs\\python\\python38-32\\lib\\urllib\\request.py\u001b[0m in \u001b[0;36mhttp_open\u001b[1;34m(self, req)\u001b[0m\n\u001b[0;32m   1346\u001b[0m \u001b[1;33m\u001b[0m\u001b[0m\n\u001b[0;32m   1347\u001b[0m     \u001b[1;32mdef\u001b[0m \u001b[0mhttp_open\u001b[0m\u001b[1;33m(\u001b[0m\u001b[0mself\u001b[0m\u001b[1;33m,\u001b[0m \u001b[0mreq\u001b[0m\u001b[1;33m)\u001b[0m\u001b[1;33m:\u001b[0m\u001b[1;33m\u001b[0m\u001b[1;33m\u001b[0m\u001b[0m\n\u001b[1;32m-> 1348\u001b[1;33m         \u001b[1;32mreturn\u001b[0m \u001b[0mself\u001b[0m\u001b[1;33m.\u001b[0m\u001b[0mdo_open\u001b[0m\u001b[1;33m(\u001b[0m\u001b[0mhttp\u001b[0m\u001b[1;33m.\u001b[0m\u001b[0mclient\u001b[0m\u001b[1;33m.\u001b[0m\u001b[0mHTTPConnection\u001b[0m\u001b[1;33m,\u001b[0m \u001b[0mreq\u001b[0m\u001b[1;33m)\u001b[0m\u001b[1;33m\u001b[0m\u001b[1;33m\u001b[0m\u001b[0m\n\u001b[0m\u001b[0;32m   1349\u001b[0m \u001b[1;33m\u001b[0m\u001b[0m\n\u001b[0;32m   1350\u001b[0m     \u001b[0mhttp_request\u001b[0m \u001b[1;33m=\u001b[0m \u001b[0mAbstractHTTPHandler\u001b[0m\u001b[1;33m.\u001b[0m\u001b[0mdo_request_\u001b[0m\u001b[1;33m\u001b[0m\u001b[1;33m\u001b[0m\u001b[0m\n",
      "\u001b[1;32mc:\\users\\guyan\\appdata\\local\\programs\\python\\python38-32\\lib\\urllib\\request.py\u001b[0m in \u001b[0;36mdo_open\u001b[1;34m(self, http_class, req, **http_conn_args)\u001b[0m\n\u001b[0;32m   1320\u001b[0m                           encode_chunked=req.has_header('Transfer-encoding'))\n\u001b[0;32m   1321\u001b[0m             \u001b[1;32mexcept\u001b[0m \u001b[0mOSError\u001b[0m \u001b[1;32mas\u001b[0m \u001b[0merr\u001b[0m\u001b[1;33m:\u001b[0m \u001b[1;31m# timeout error\u001b[0m\u001b[1;33m\u001b[0m\u001b[1;33m\u001b[0m\u001b[0m\n\u001b[1;32m-> 1322\u001b[1;33m                 \u001b[1;32mraise\u001b[0m \u001b[0mURLError\u001b[0m\u001b[1;33m(\u001b[0m\u001b[0merr\u001b[0m\u001b[1;33m)\u001b[0m\u001b[1;33m\u001b[0m\u001b[1;33m\u001b[0m\u001b[0m\n\u001b[0m\u001b[0;32m   1323\u001b[0m             \u001b[0mr\u001b[0m \u001b[1;33m=\u001b[0m \u001b[0mh\u001b[0m\u001b[1;33m.\u001b[0m\u001b[0mgetresponse\u001b[0m\u001b[1;33m(\u001b[0m\u001b[1;33m)\u001b[0m\u001b[1;33m\u001b[0m\u001b[1;33m\u001b[0m\u001b[0m\n\u001b[0;32m   1324\u001b[0m         \u001b[1;32mexcept\u001b[0m\u001b[1;33m:\u001b[0m\u001b[1;33m\u001b[0m\u001b[1;33m\u001b[0m\u001b[0m\n",
      "\u001b[1;31mURLError\u001b[0m: <urlopen error [Errno 11001] getaddrinfo failed>"
     ]
    }
   ],
   "source": [
    "df_tr = pd.read_csv('http://www.stats.ox.ac.uk/pub/PRNN/synth.tr', delim_whitespace = True, header = 0)\n",
    "df_te = pd.read_csv('http://www.stats.ox.ac.uk/pub/PRNN/synth.te', delim_whitespace = True, header = 0)\n",
    "\n",
    "Xtrain = df_tr[['xs','ys']].to_numpy()\n",
    "ytrain = df_tr['yc'].to_numpy().astype(int)\n",
    "\n",
    "Xtest = df_te[['xs','ys']].to_numpy()\n",
    "ytest = df_te['yc'].to_numpy().astype(int)\n",
    "\n",
    "nte, nf = Xtest.shape    # get the dimension of testing samples\n",
    "                         # nte is the number of testing samples\n",
    "                         # nf is the number of features/dimensions\n",
    "\n",
    "com1 = Xtrain[Xtrain[:,0] < -0.3,:]\n",
    "com2 = Xtrain[Xtrain[:,0] >= -0.3,:]\n",
    "com1_y = ytrain[Xtrain[:,0] <-0.3]\n",
    "com2_y = ytrain[Xtrain[:,0] >= -0.3]\n",
    "\n",
    "print(\"number of featues is: \",nf, \"number of testing samples is:\", nte, \"number of training samples is:\", Xtrain.shape[0])\n"
   ]
  },
  {
   "cell_type": "code",
   "execution_count": 34,
   "metadata": {},
   "outputs": [],
   "source": [
    "# get training samples for class 0\n",
    "covavg = (covs0 + covs1) / 2               # average of Sigmas\n",
    "varavg = np.sum(np.diagonal(covavg)) / nf  # average of vari"
   ]
  },
  {
   "cell_type": "code",
   "execution_count": 35,
   "metadata": {},
   "outputs": [],
   "source": [
    "def get_com_statis(com_x, com_y):\n",
    "    '''\n",
    "    compute the mean and variance for each component\n",
    "    '''\n",
    "    \n",
    "    arr = com_x[com_y == 0]\n",
    "    covs0 = np.cov(np.transpose(arr))\n",
    "    means0 = np.mean(arr, axis = 0)\n",
    "\n",
    "    arr = com_x[com_y == 1]\n",
    "    covs1 = np.cov(np.transpose(arr))\n",
    "    means1 = np.mean(arr, axis = 0)\n",
    "    \n",
    "    return covs0, means0, covs1, means1\n",
    "\n",
    "com1_0cov, com1_0mean, com1_1cov, com1_1mean = get_com_statis(com1, com1_y)\n",
    "com2_0cov, com2_0mean, com2_1cov, com2_1mean = get_com_statis(com2, com2_y)\n",
    "\n",
    "w1 = w2 = 0.5"
   ]
  },
  {
   "cell_type": "code",
   "execution_count": 36,
   "metadata": {},
   "outputs": [
    {
     "name": "stdout",
     "output_type": "stream",
     "text": [
      "Overall accuracy: 77.40% \n",
      " Classwise accuracy of class 0: 97.90% \n",
      " Classwise accuracy of class 1: 69.19% \n",
      " Test finished in 2.6591 seconds\n"
     ]
    }
   ],
   "source": [
    "# Euclidean distance \n",
    "t0 = time.time()\n",
    "Pw0 = Pw1 = 0.5\n",
    "covavg = (covs0 + covs1) / 2  \n",
    "varavg = np.sum(np.diagonal(covavg) / nf)   # average of variances\n",
    "y = []                     # save the classification label of testing samples\n",
    "\n",
    "part11 = w1*1/(sympy.sqrt((2*sympy.pi)**2 * varavg)).evalf()\n",
    "part12 = w2*1/(sympy.sqrt((2*sympy.pi)**2 * varavg)).evalf()\n",
    "\n",
    "part21 = w1*1/(sympy.sqrt((2*sympy.pi)**2 * varavg)).evalf()\n",
    "part22 = w2*1/(sympy.sqrt((2*sympy.pi)**2 * varavg)).evalf()\n",
    "\n",
    "for i in range(nte):\n",
    "    \n",
    "    edist21 = np.dot(Xtest[i] - com1_0mean, Xtest[i] - com1_0mean)\n",
    "    edist22 = np.dot(Xtest[i] - com2_0mean, Xtest[i] - com2_0mean)\n",
    "    g0 =  sympy.log(part11 * sympy.exp(- edist21 / (2 * varavg)) + \\\n",
    "          part12 * sympy.exp(- edist22 / (2 * varavg)) ) + np.log(Pw0)\n",
    "\n",
    "    \n",
    "    edist21 = np.dot(Xtest[i] - com1_1mean, Xtest[i] - com1_1mean)\n",
    "    edist22 = np.dot(Xtest[i] - com2_1mean, Xtest[i] - com2_1mean)\n",
    "    g1 =  sympy.log(part21 * sympy.exp(- edist21 / (2 * varavg)) + \\\n",
    "          part22 * sympy.exp(- edist22 / (2 * varavg)) ) + np.log(Pw1)\n",
    "    \n",
    "    y.append(1) if g1 > g0 else y.append(0)\n",
    "\n",
    "t1 = time.time()\n",
    "\n",
    "acc_overall, acc0, acc1, runtime = model_evaluation(y, ytest, t1, t0)"
   ]
  },
  {
   "cell_type": "code",
   "execution_count": 37,
   "metadata": {},
   "outputs": [
    {
     "name": "stdout",
     "output_type": "stream",
     "text": [
      "Overall accuracy: 91.40% \n",
      " Classwise accuracy of class 0: 92.42% \n",
      " Classwise accuracy of class 1: 90.43% \n",
      " Test finished in 2.9527 seconds\n"
     ]
    }
   ],
   "source": [
    "# mahalanobis distance \n",
    "t0 = time.time()\n",
    "Pw0 = Pw1 = 0.5\n",
    "covavg = (covs0 + covs1) / 2  \n",
    "# varavg = np.sum(np.diagonal(covavg) / nf)   # average of variances\n",
    "cov0avg = (com1_0cov + com2_0cov)/2 \n",
    "cov1avg = (com1_1cov + com2_1cov)/2\n",
    "\n",
    "part11 = w1*1/(sympy.sqrt((2*sympy.pi)**2 * np.linalg.det(cov0avg))).evalf()\n",
    "part12 = w2*1/(sympy.sqrt((2*sympy.pi)**2 * np.linalg.det(cov1avg))).evalf()\n",
    "\n",
    "part21 = w1*1/(sympy.sqrt((2*sympy.pi)**2 * np.linalg.det(cov0avg))).evalf()\n",
    "part22 = w2*1/(sympy.sqrt((2*sympy.pi)**2 * np.linalg.det(cov1avg))).evalf()\n",
    "\n",
    "y = []                     # save the classification label of testing samples\n",
    "\n",
    "for i in range(nte):\n",
    "    \n",
    "    \n",
    "    mdist21 = np.transpose(Xtest[i] - com1_0mean) @ np.linalg.inv(cov0avg) @ (Xtest[i] - com1_0mean)\n",
    "    mdist22 = np.transpose(Xtest[i] - com2_0mean) @ np.linalg.inv(cov0avg) @ (Xtest[i] - com2_0mean)\n",
    "    \n",
    "    g0 =   sympy.log(part11 * sympy.exp(- mdist21 / 2)  + \\\n",
    "          part12 * sympy.exp(- mdist22 / 2))  + np.log(Pw0) \n",
    "\n",
    "    \n",
    "    mdist21 = np.transpose(Xtest[i] - com1_1mean) @ np.linalg.inv(cov1avg) @ (Xtest[i] - com1_1mean)\n",
    "    mdist22 = np.transpose(Xtest[i] - com2_1mean) @ np.linalg.inv(cov1avg) @ (Xtest[i] - com2_1mean)\n",
    "    \n",
    "    g1 =  sympy.log(part21 * sympy.exp(- mdist21 / 2)  + \\\n",
    "          part22 * sympy.exp(- mdist22 / 2))  + np.log(Pw1) \n",
    "    \n",
    "    y.append(1) if g1 > g0 else y.append(0)\n",
    "\n",
    "t1 = time.time()\n",
    "\n",
    "acc_overall, acc0, acc1, runtime = model_evaluation(y, ytest, t1, t0)"
   ]
  },
  {
   "cell_type": "code",
   "execution_count": 38,
   "metadata": {},
   "outputs": [
    {
     "name": "stdout",
     "output_type": "stream",
     "text": [
      "Overall accuracy: 91.30% \n",
      " Classwise accuracy of class 0: 89.18% \n",
      " Classwise accuracy of class 1: 93.66% \n",
      " Test finished in 2.9560 seconds\n"
     ]
    }
   ],
   "source": [
    "#quardratic \n",
    "\n",
    "t0 = time.time()\n",
    "Pw0 = Pw1 = 0.5\n",
    "y = []\n",
    "\n",
    "part11 = w1*1/(sympy.sqrt((2*sympy.pi)**2 * np.linalg.det(com1_0cov))).evalf()\n",
    "part12 = w2*1/(sympy.sqrt((2*sympy.pi)**2 * np.linalg.det(com2_0cov))).evalf()\n",
    "\n",
    "part21 = w1*1/(sympy.sqrt((2*sympy.pi)**2 * np.linalg.det(com1_1cov))).evalf()\n",
    "part22 = w2*1/(sympy.sqrt((2*sympy.pi)**2 * np.linalg.det(com2_1cov))).evalf()\n",
    "\n",
    "for i in range(nte):\n",
    "    \n",
    "    qdist21 = np.transpose(Xtest[i] - com1_0mean) @ np.linalg.inv(com1_0cov) @ (Xtest[i] - com1_0mean)\n",
    "    qdist22 = np.transpose(Xtest[i] - com2_0mean) @ np.linalg.inv(com2_0cov) @ (Xtest[i] - com2_0mean)\n",
    "\n",
    "    \n",
    "    g0 =  sympy.log(part11 * sympy.exp(- qdist21/2) + \\\n",
    "          part12 * sympy.exp(- qdist22/2)) + np.log(Pw0)           # mahalanobis distance \n",
    "    \n",
    "    qdist21 = np.transpose(Xtest[i] - com1_1mean) @ np.linalg.inv(com1_1cov) @ (Xtest[i] - com1_1mean)\n",
    "    qdist22 = np.transpose(Xtest[i] - com2_1mean) @ np.linalg.inv(com2_1cov) @ (Xtest[i] - com2_1mean)    \n",
    "    \n",
    "    g1 =  sympy.log(part21 * sympy.exp(- qdist21/2) + \\\n",
    "          part22 * sympy.exp(- qdist22/2)) + np.log(Pw1)           # mahalanobis distance\n",
    "    \n",
    "    y.append(1) if g1 > g0 else y.append(0)\n",
    "\n",
    "t1 = time.time()\n",
    "acc_overall, acc0, acc1, runtime = model_evaluation(y, ytest, t1, t0)"
   ]
  },
  {
   "cell_type": "markdown",
   "metadata": {},
   "source": [
    "## plot barchart for comparison"
   ]
  },
  {
   "cell_type": "code",
   "execution_count": 39,
   "metadata": {},
   "outputs": [
    {
     "data": {
      "image/png": "[encoded data removed]",
      "text/plain": [
       "<Figure size 1080x360 with 3 Axes>"
      ]
     },
     "metadata": {
      "needs_background": "light"
     },
     "output_type": "display_data"
    }
   ],
   "source": [
    "res_single = [[0.7130, 0.7281, 0.6998],\n",
    "              [0.8920, 0.8858, 0.8984],\n",
    "              [0.8980, 0.8902, 0.9061]]\n",
    "res_mixture = [[0.9010, 0.9034,0.8986],\n",
    "               [0.9140, 0.9242, 0.9043],\n",
    "               [0.9130, 0.8918, 0.9366]]\n",
    "labels = ['Overall acc.','Class 0 acc.','Class 1 acc.']\n",
    "\n",
    "x = np.arange(len(labels))  # the label locations\n",
    "width = 0.35  # the width of the bars\n",
    "\n",
    "fig, ax = plt.subplots(1,3, figsize = (15,5))\n",
    "rects1 = ax[0].bar(x - width/2, res_single[0], width, label='Single-Modal')\n",
    "rects2 = ax[0].bar(x + width/2, res_mixture[0], width, label='Mixture-Modal')\n",
    "ax[0].set_ylim([0,1])\n",
    "ax[0].set_ylabel('Accuracy')\n",
    "ax[0].set_xticks(x)\n",
    "ax[0].set_xticklabels(labels)\n",
    "ax[0].legend()\n",
    "ax[0].set_xlabel('Minimum Euclidean Distance')\n",
    "\n",
    "rects1 = ax[1].bar(x - width/2, res_single[1], width, label='Single-Modal')\n",
    "rects2 = ax[1].bar(x + width/2, res_mixture[1], width, label='Mixture-Modal')\n",
    "ax[1].set_ylim([0,1])\n",
    "ax[1].set_ylabel('Accuracy')\n",
    "ax[1].set_xticks(x)\n",
    "ax[1].set_xticklabels(labels)\n",
    "ax[1].legend()\n",
    "ax[1].set_xlabel('Minimum Mahalanobis Distance')\n",
    "\n",
    "rects1 = ax[2].bar(x - width/2, res_single[2], width, label='Single-Modal')\n",
    "rects2 = ax[2].bar(x + width/2, res_mixture[2], width, label='Mixture-Modal')\n",
    "ax[2].set_ylim([0,1])\n",
    "ax[2].set_ylabel('Accuracy')\n",
    "ax[2].set_xticks(x)\n",
    "ax[2].set_xticklabels(labels)\n",
    "ax[2].legend()\n",
    "ax[2].set_xlabel('Generic Gaussian')\n",
    "plt.tight_layout()\n",
    "plt.savefig('../Figures/PerformanceComparison.jpg')"
   ]
  },
  {
   "cell_type": "code",
   "execution_count": null,
   "metadata": {},
   "outputs": [],
   "source": []
  }
 ],
 "metadata": {
  "kernelspec": {
   "display_name": "Python 3",
   "language": "python",
   "name": "python3"
  },
  "language_info": {
   "codemirror_mode": {
    "name": "ipython",
    "version": 3
   },
   "file_extension": ".py",
   "mimetype": "text/x-python",
   "name": "python",
   "nbconvert_exporter": "python",
   "pygments_lexer": "ipython3",
   "version": "3.8.2"
  }
 },
 "nbformat": 4,
 "nbformat_minor": 4
}
