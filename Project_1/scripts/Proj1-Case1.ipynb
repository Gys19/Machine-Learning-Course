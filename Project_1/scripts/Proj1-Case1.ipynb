{
 "cells": [
  {
   "cell_type": "markdown",
   "metadata": {},
   "source": [
    "### Sample code for COSC522 Project 1, Case 1\n",
    "\n",
    "This code is not very reusable and cannot really generalize to datasets with more than two classes. Nonetheless, this code would give those of you who are not very familiar with Python a jumpstart on how MPP works in its simplest form. I suggest you study the following code line-by-line.\n",
    "\n",
    "After you get familiar with the flow, I urge you, however, to discard this notebook and start using the modularized coding structure to be demonstrated in the next code snippet (Proj1-Snippet). "
   ]
  },
  {
   "cell_type": "code",
   "execution_count": 3,
   "metadata": {},
   "outputs": [
    {
     "name": "stdout",
     "output_type": "stream",
     "text": [
      "The overall accuracy is: 0.713, finished in 0.020002126693725586 seconds\n"
     ]
    }
   ],
   "source": [
    "import numpy as np  \n",
    "import time\n",
    "\n",
    "# read in datasets\n",
    "Tr = np.genfromtxt('python/datasets/synth.tr')\n",
    "Xtrain = Tr[:, :-1]\n",
    "ytrain = Tr[:, -1].astype(int)\n",
    "\n",
    "Te = np.genfromtxt('python/datasets/synth.te')\n",
    "Xtest = Te[:, :-1]\n",
    "ytest = Te[:, -1].astype(int)\n",
    "nte, nf = Xtest.shape       # get the dimension of testing samples\n",
    "                            # nte is the number of testing samples\n",
    "                            # nf is the number of features/dimensions\n",
    "\n",
    "Pw0 = Pw1 = 0.5\n",
    "\n",
    "# training process -- derive the model\n",
    "# also measure the runtime including both training and testing time\n",
    "\n",
    "arr = Xtrain[ytrain == 0]       # get training samples for class 0\n",
    "covs0 = np.cov(np.transpose(arr))    # calculate Sigma\n",
    "means0 = np.mean(arr, axis=0)        # mean along rows\n",
    "\n",
    "arr = Xtrain[ytrain == 1]       # get training samples for class 1\n",
    "covs1 = np.cov(np.transpose(arr))    # calculate Sigma\n",
    "means1 = np.mean(arr, axis=0)        # mean along rows\n",
    "\n",
    "covavg = (covs0 + covs1) / 2               # average of Sigmas\n",
    "varavg = np.sum(np.diagonal(covavg)) / nf  # average of variances\n",
    "    \n",
    "# testing process -- predict\n",
    "t0 = time.time()           # start time\n",
    "\n",
    "y = []                # save the classification label of testing samples\n",
    "for i in range(nte):\n",
    "    edist2 = np.dot(Xtest[i]-means0, Xtest[i]-means0)\n",
    "    g0 = -edist2 / (2 * varavg) + np.log(Pw0)\n",
    "    \n",
    "    edist2 = np.dot(Xtest[i]-means1, Xtest[i]-means1)\n",
    "    g1 = -edist2 / (2 * varavg) + np.log(Pw1)\n",
    "\n",
    "    if g0 >= g1:\n",
    "        y.append(0)\n",
    "    else:\n",
    "        y.append(1)\n",
    "\n",
    "t1 = time.time()           # ending time\n",
    "\n",
    "# calculate overall classification accuracy\n",
    "acc = np.count_nonzero(y == ytest) / len(y)\n",
    "\n",
    "print(f'The overall accuracy is: {acc}, test finished in {t1-t0} seconds')\n",
    "        "
   ]
  }
 ],
 "metadata": {
  "kernelspec": {
   "display_name": "Python 3",
   "language": "python",
   "name": "python3"
  },
  "language_info": {
   "codemirror_mode": {
    "name": "ipython",
    "version": 3
   },
   "file_extension": ".py",
   "mimetype": "text/x-python",
   "name": "python",
   "nbconvert_exporter": "python",
   "pygments_lexer": "ipython3",
   "version": "3.8.2"
  }
 },
 "nbformat": 4,
 "nbformat_minor": 4
}
