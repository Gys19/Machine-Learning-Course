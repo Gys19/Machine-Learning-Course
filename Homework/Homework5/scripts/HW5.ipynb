{
 "cells": [
  {
   "cell_type": "code",
   "execution_count": 28,
   "metadata": {},
   "outputs": [],
   "source": [
    "import numpy as np\n",
    "import matplotlib.pyplot as plt\n",
    "import pandas as pd"
   ]
  },
  {
   "cell_type": "code",
   "execution_count": 2,
   "metadata": {},
   "outputs": [],
   "source": [
    "def SLP(X, T):\n",
    "    \n",
    "    '''\n",
    "    one perception\n",
    "    Args   X train data\n",
    "           T target value (label)\n",
    "    '''\n",
    "    ntr, nfe = X.shape  # sample and feature\n",
    "    np.random.rand(522)\n",
    "    w = np.random.rand(nfe+1)  # plus one bias\n",
    "    # real output\n",
    "    Z = np.empty(ntr)\n",
    "    error = float('inf')\n",
    "    iteration = 1\n",
    "    maxiter = 100\n",
    "    while (error > 0) & (iteration <= maxiter):\n",
    "\n",
    "        # stop at iteration 10\n",
    "        for i in range(ntr):\n",
    "\n",
    "            # edit on 11/7/2021\n",
    "            # edit by Yangsong\n",
    "            Z[i] = 1 if w[:nfe] @ X[i,:].T >w[nfe] else -1\n",
    "            \n",
    "            w[:nfe] += (T[i] - Z[i]) * X[i, :] \n",
    "            w[nfe]  -= T[i] - Z[i]\n",
    "\n",
    "        error = abs(Z-T).sum()\n",
    "        print('w is {}'.format(w))\n",
    "        print(\"iteration: {}, inputs: {}, target: {}, perceptron output: {}\".format(iteration, X, T, Z))\n",
    "        iteration += 1\n",
    "    \n",
    "    return w"
   ]
  },
  {
   "cell_type": "code",
   "execution_count": 20,
   "metadata": {},
   "outputs": [],
   "source": [
    "def SVM_predict(X, w):\n",
    "    \n",
    "    ntr, nfe = X.shape  # sample and feature\n",
    "    np.random.rand(522)\n",
    "#     w = np.random.rand(nfe+1)  # plus one bias\n",
    "    # real output\n",
    "    Z = np.empty(ntr)\n",
    "    for i in range(ntr):\n",
    "        Z[i] = 1 if w[:nfe] @ X[i,:].T >  w[nfe] else -1\n",
    "\n",
    "    return Z"
   ]
  },
  {
   "cell_type": "code",
   "execution_count": 55,
   "metadata": {},
   "outputs": [],
   "source": [
    "# XOR Gate\n",
    "x = np.array([[-1, -1], [-1, 1], [1, -1], [1, 1]])\n",
    "y = np.array([-1, 1, 1, -1])                 # dont vectorize y for test labels"
   ]
  },
  {
   "cell_type": "markdown",
   "metadata": {},
   "source": [
    "$$\\phi(x)= <x_1^2, x_2^2, \\sqrt{2}x_1x_2,\\sqrt{2c}x_1, \\sqrt{2c}x_2,c>$$"
   ]
  },
  {
   "cell_type": "code",
   "execution_count": 39,
   "metadata": {},
   "outputs": [],
   "source": [
    "def transformation(x, c):\n",
    "    # if c = 0\n",
    "#     c = 0\n",
    "\n",
    "    h_x = []\n",
    "\n",
    "    for ix in x:\n",
    "\n",
    "        x1 = ix[0]\n",
    "        x2 = ix[1]\n",
    "        h_x.append([x1**2, x2**2, np.sqrt(2)*x1*x2, np.sqrt(2*c)*x1, np.sqrt(2*c)*x2, c])\n",
    "\n",
    "    h_x = np.array(h_x)\n",
    "    \n",
    "    return h_x"
   ]
  },
  {
   "cell_type": "code",
   "execution_count": 63,
   "metadata": {},
   "outputs": [
    {
     "name": "stdout",
     "output_type": "stream",
     "text": [
      "w is [ 0.53281187  0.38087435 -5.38346478  0.28446405 -4.68633279  0.4725514\n",
      "  0.23012303]\n",
      "iteration: 1, inputs: [[ 1.          1.          1.41421356 -1.41421356 -1.41421356  1.        ]\n",
      " [ 1.          1.         -1.41421356 -1.41421356  1.41421356  1.        ]\n",
      " [ 1.          1.         -1.41421356  1.41421356 -1.41421356  1.        ]\n",
      " [ 1.          1.          1.41421356  1.41421356  1.41421356  1.        ]], target: [-1  1  1 -1], perceptron output: [-1.  1. -1.  1.]\n",
      "w is [ 0.53281187  0.38087435 -5.38346478  0.28446405 -4.68633279  0.4725514\n",
      "  0.23012303]\n",
      "iteration: 2, inputs: [[ 1.          1.          1.41421356 -1.41421356 -1.41421356  1.        ]\n",
      " [ 1.          1.         -1.41421356 -1.41421356  1.41421356  1.        ]\n",
      " [ 1.          1.         -1.41421356  1.41421356 -1.41421356  1.        ]\n",
      " [ 1.          1.          1.41421356  1.41421356  1.41421356  1.        ]], target: [-1  1  1 -1], perceptron output: [-1.  1.  1. -1.]\n"
     ]
    }
   ],
   "source": [
    "h_x = transformation(x, c = 1)\n",
    "w = SLP(h_x, y)"
   ]
  },
  {
   "cell_type": "code",
   "execution_count": 61,
   "metadata": {},
   "outputs": [
    {
     "data": {
      "text/plain": [
       "Text(0.5, 1.0, 'Projection of Decision Boundary of perceptron (c = 1)')"
      ]
     },
     "execution_count": 61,
     "metadata": {},
     "output_type": "execute_result"
    }
   ],
   "source": [
    "%matplotlib qt\n",
    "x1 = np.arange(-1.5,1.5,0.01)\n",
    "x2 = np.arange(-1.5,1.5,0.01)\n",
    "xx1, xx2 = np.meshgrid(x1,x2)\n",
    "x_test = [[x1, x2] for x1, x2 in zip(xx1.flatten(),xx2.flatten())]\n",
    "x_test = np.array(x_test)\n",
    "x_trans = transformation(x_test, c = 1)\n",
    "\n",
    "y_model = SVM_predict(x_trans, w)\n",
    "df = pd.DataFrame(data = {'x1':x_test[:,0], 'x2':x_test[:,1], 'y_model': y_model})\n",
    "fig, ax = plt.subplots()\n",
    "ax.scatter(df.x1, df.x2, c = df.y_model)\n",
    "ax.set_xlim([-1.5,1.5])\n",
    "ax.set_ylim([-1.5, 1.5])\n",
    "ax.scatter([-1, 1],[-1, 1], marker = '*', color = 'red')\n",
    "ax.scatter([-1, 1],[1,-1], marker = '*', color = 'green')\n",
    "ax.set_title('Projection of Decision Boundary of perceptron (c = 1)')"
   ]
  },
  {
   "cell_type": "markdown",
   "metadata": {},
   "source": [
    "descision boundary:\n",
    "$$y = 0.86x_1^2 + 0.5549x_2^2 + -5.2301\\sqrt{2}x_1x_2 + 0.2318\\sqrt{2c}x_1 + 0.7693\\sqrt{2c}x_2 + 0.2577c + 0.6391$$"
   ]
  },
  {
   "cell_type": "markdown",
   "metadata": {},
   "source": [
    "$$x_3 = \\sqrt{2}x_1x_2$$"
   ]
  },
  {
   "cell_type": "code",
   "execution_count": null,
   "metadata": {},
   "outputs": [],
   "source": []
  }
 ],
 "metadata": {
  "kernelspec": {
   "display_name": "Python 3",
   "language": "python",
   "name": "python3"
  },
  "language_info": {
   "codemirror_mode": {
    "name": "ipython",
    "version": 3
   },
   "file_extension": ".py",
   "mimetype": "text/x-python",
   "name": "python",
   "nbconvert_exporter": "python",
   "pygments_lexer": "ipython3",
   "version": "3.8.2"
  }
 },
 "nbformat": 4,
 "nbformat_minor": 4
}
